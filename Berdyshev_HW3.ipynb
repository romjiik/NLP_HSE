{
  "metadata": {
    "colab": {
      "provenance": [],
      "include_colab_link": true
    },
    "kernelspec": {
      "name": "python3",
      "display_name": "Python 3",
      "language": "python"
    },
    "language_info": {
      "name": "python",
      "version": "3.10.12",
      "mimetype": "text/x-python",
      "codemirror_mode": {
        "name": "ipython",
        "version": 3
      },
      "pygments_lexer": "ipython3",
      "nbconvert_exporter": "python",
      "file_extension": ".py"
    },
    "widgets": {
      "application/vnd.jupyter.widget-state+json": {
        "45d6d5328d554781880020710c442bff": {
          "model_module": "@jupyter-widgets/controls",
          "model_name": "HBoxModel",
          "model_module_version": "1.5.0",
          "state": {
            "_dom_classes": [],
            "_model_module": "@jupyter-widgets/controls",
            "_model_module_version": "1.5.0",
            "_model_name": "HBoxModel",
            "_view_count": null,
            "_view_module": "@jupyter-widgets/controls",
            "_view_module_version": "1.5.0",
            "_view_name": "HBoxView",
            "box_style": "",
            "children": [
              "IPY_MODEL_d1bd6dafd2e8485dab25bec4cbeeb150",
              "IPY_MODEL_6ffa55d8e0274259bc445df4dba3f993",
              "IPY_MODEL_2182f510a4374c74b18f9b2124a47d2d"
            ],
            "layout": "IPY_MODEL_6b4326a5943e4606900ab74b24d99aae"
          }
        },
        "d1bd6dafd2e8485dab25bec4cbeeb150": {
          "model_module": "@jupyter-widgets/controls",
          "model_name": "HTMLModel",
          "model_module_version": "1.5.0",
          "state": {
            "_dom_classes": [],
            "_model_module": "@jupyter-widgets/controls",
            "_model_module_version": "1.5.0",
            "_model_name": "HTMLModel",
            "_view_count": null,
            "_view_module": "@jupyter-widgets/controls",
            "_view_module_version": "1.5.0",
            "_view_name": "HTMLView",
            "description": "",
            "description_tooltip": null,
            "layout": "IPY_MODEL_c3418fdcf793458384acf73c3720255d",
            "placeholder": "​",
            "style": "IPY_MODEL_e07f9ad575aa4fd2a0590297a3ea8fdd",
            "value": "Downloading readme: 100%"
          }
        },
        "6ffa55d8e0274259bc445df4dba3f993": {
          "model_module": "@jupyter-widgets/controls",
          "model_name": "FloatProgressModel",
          "model_module_version": "1.5.0",
          "state": {
            "_dom_classes": [],
            "_model_module": "@jupyter-widgets/controls",
            "_model_module_version": "1.5.0",
            "_model_name": "FloatProgressModel",
            "_view_count": null,
            "_view_module": "@jupyter-widgets/controls",
            "_view_module_version": "1.5.0",
            "_view_name": "ProgressView",
            "bar_style": "success",
            "description": "",
            "description_tooltip": null,
            "layout": "IPY_MODEL_2e288d3224e844a9ac0e7944125972e0",
            "max": 507,
            "min": 0,
            "orientation": "horizontal",
            "style": "IPY_MODEL_eb9b0aa13ba64bcc983a89ed7b5e8302",
            "value": 507
          }
        },
        "2182f510a4374c74b18f9b2124a47d2d": {
          "model_module": "@jupyter-widgets/controls",
          "model_name": "HTMLModel",
          "model_module_version": "1.5.0",
          "state": {
            "_dom_classes": [],
            "_model_module": "@jupyter-widgets/controls",
            "_model_module_version": "1.5.0",
            "_model_name": "HTMLModel",
            "_view_count": null,
            "_view_module": "@jupyter-widgets/controls",
            "_view_module_version": "1.5.0",
            "_view_name": "HTMLView",
            "description": "",
            "description_tooltip": null,
            "layout": "IPY_MODEL_98aa519904ba43dc929a0259f5daac2d",
            "placeholder": "​",
            "style": "IPY_MODEL_4f48a02807b543bdb28d9fd1c7a69b68",
            "value": " 507/507 [00:00&lt;00:00, 28.1kB/s]"
          }
        },
        "6b4326a5943e4606900ab74b24d99aae": {
          "model_module": "@jupyter-widgets/base",
          "model_name": "LayoutModel",
          "model_module_version": "1.2.0",
          "state": {
            "_model_module": "@jupyter-widgets/base",
            "_model_module_version": "1.2.0",
            "_model_name": "LayoutModel",
            "_view_count": null,
            "_view_module": "@jupyter-widgets/base",
            "_view_module_version": "1.2.0",
            "_view_name": "LayoutView",
            "align_content": null,
            "align_items": null,
            "align_self": null,
            "border": null,
            "bottom": null,
            "display": null,
            "flex": null,
            "flex_flow": null,
            "grid_area": null,
            "grid_auto_columns": null,
            "grid_auto_flow": null,
            "grid_auto_rows": null,
            "grid_column": null,
            "grid_gap": null,
            "grid_row": null,
            "grid_template_areas": null,
            "grid_template_columns": null,
            "grid_template_rows": null,
            "height": null,
            "justify_content": null,
            "justify_items": null,
            "left": null,
            "margin": null,
            "max_height": null,
            "max_width": null,
            "min_height": null,
            "min_width": null,
            "object_fit": null,
            "object_position": null,
            "order": null,
            "overflow": null,
            "overflow_x": null,
            "overflow_y": null,
            "padding": null,
            "right": null,
            "top": null,
            "visibility": null,
            "width": null
          }
        },
        "c3418fdcf793458384acf73c3720255d": {
          "model_module": "@jupyter-widgets/base",
          "model_name": "LayoutModel",
          "model_module_version": "1.2.0",
          "state": {
            "_model_module": "@jupyter-widgets/base",
            "_model_module_version": "1.2.0",
            "_model_name": "LayoutModel",
            "_view_count": null,
            "_view_module": "@jupyter-widgets/base",
            "_view_module_version": "1.2.0",
            "_view_name": "LayoutView",
            "align_content": null,
            "align_items": null,
            "align_self": null,
            "border": null,
            "bottom": null,
            "display": null,
            "flex": null,
            "flex_flow": null,
            "grid_area": null,
            "grid_auto_columns": null,
            "grid_auto_flow": null,
            "grid_auto_rows": null,
            "grid_column": null,
            "grid_gap": null,
            "grid_row": null,
            "grid_template_areas": null,
            "grid_template_columns": null,
            "grid_template_rows": null,
            "height": null,
            "justify_content": null,
            "justify_items": null,
            "left": null,
            "margin": null,
            "max_height": null,
            "max_width": null,
            "min_height": null,
            "min_width": null,
            "object_fit": null,
            "object_position": null,
            "order": null,
            "overflow": null,
            "overflow_x": null,
            "overflow_y": null,
            "padding": null,
            "right": null,
            "top": null,
            "visibility": null,
            "width": null
          }
        },
        "e07f9ad575aa4fd2a0590297a3ea8fdd": {
          "model_module": "@jupyter-widgets/controls",
          "model_name": "DescriptionStyleModel",
          "model_module_version": "1.5.0",
          "state": {
            "_model_module": "@jupyter-widgets/controls",
            "_model_module_version": "1.5.0",
            "_model_name": "DescriptionStyleModel",
            "_view_count": null,
            "_view_module": "@jupyter-widgets/base",
            "_view_module_version": "1.2.0",
            "_view_name": "StyleView",
            "description_width": ""
          }
        },
        "2e288d3224e844a9ac0e7944125972e0": {
          "model_module": "@jupyter-widgets/base",
          "model_name": "LayoutModel",
          "model_module_version": "1.2.0",
          "state": {
            "_model_module": "@jupyter-widgets/base",
            "_model_module_version": "1.2.0",
            "_model_name": "LayoutModel",
            "_view_count": null,
            "_view_module": "@jupyter-widgets/base",
            "_view_module_version": "1.2.0",
            "_view_name": "LayoutView",
            "align_content": null,
            "align_items": null,
            "align_self": null,
            "border": null,
            "bottom": null,
            "display": null,
            "flex": null,
            "flex_flow": null,
            "grid_area": null,
            "grid_auto_columns": null,
            "grid_auto_flow": null,
            "grid_auto_rows": null,
            "grid_column": null,
            "grid_gap": null,
            "grid_row": null,
            "grid_template_areas": null,
            "grid_template_columns": null,
            "grid_template_rows": null,
            "height": null,
            "justify_content": null,
            "justify_items": null,
            "left": null,
            "margin": null,
            "max_height": null,
            "max_width": null,
            "min_height": null,
            "min_width": null,
            "object_fit": null,
            "object_position": null,
            "order": null,
            "overflow": null,
            "overflow_x": null,
            "overflow_y": null,
            "padding": null,
            "right": null,
            "top": null,
            "visibility": null,
            "width": null
          }
        },
        "eb9b0aa13ba64bcc983a89ed7b5e8302": {
          "model_module": "@jupyter-widgets/controls",
          "model_name": "ProgressStyleModel",
          "model_module_version": "1.5.0",
          "state": {
            "_model_module": "@jupyter-widgets/controls",
            "_model_module_version": "1.5.0",
            "_model_name": "ProgressStyleModel",
            "_view_count": null,
            "_view_module": "@jupyter-widgets/base",
            "_view_module_version": "1.2.0",
            "_view_name": "StyleView",
            "bar_color": null,
            "description_width": ""
          }
        },
        "98aa519904ba43dc929a0259f5daac2d": {
          "model_module": "@jupyter-widgets/base",
          "model_name": "LayoutModel",
          "model_module_version": "1.2.0",
          "state": {
            "_model_module": "@jupyter-widgets/base",
            "_model_module_version": "1.2.0",
            "_model_name": "LayoutModel",
            "_view_count": null,
            "_view_module": "@jupyter-widgets/base",
            "_view_module_version": "1.2.0",
            "_view_name": "LayoutView",
            "align_content": null,
            "align_items": null,
            "align_self": null,
            "border": null,
            "bottom": null,
            "display": null,
            "flex": null,
            "flex_flow": null,
            "grid_area": null,
            "grid_auto_columns": null,
            "grid_auto_flow": null,
            "grid_auto_rows": null,
            "grid_column": null,
            "grid_gap": null,
            "grid_row": null,
            "grid_template_areas": null,
            "grid_template_columns": null,
            "grid_template_rows": null,
            "height": null,
            "justify_content": null,
            "justify_items": null,
            "left": null,
            "margin": null,
            "max_height": null,
            "max_width": null,
            "min_height": null,
            "min_width": null,
            "object_fit": null,
            "object_position": null,
            "order": null,
            "overflow": null,
            "overflow_x": null,
            "overflow_y": null,
            "padding": null,
            "right": null,
            "top": null,
            "visibility": null,
            "width": null
          }
        },
        "4f48a02807b543bdb28d9fd1c7a69b68": {
          "model_module": "@jupyter-widgets/controls",
          "model_name": "DescriptionStyleModel",
          "model_module_version": "1.5.0",
          "state": {
            "_model_module": "@jupyter-widgets/controls",
            "_model_module_version": "1.5.0",
            "_model_name": "DescriptionStyleModel",
            "_view_count": null,
            "_view_module": "@jupyter-widgets/base",
            "_view_module_version": "1.2.0",
            "_view_name": "StyleView",
            "description_width": ""
          }
        },
        "617fd8f3eca34a2aa7b4adb41205cd16": {
          "model_module": "@jupyter-widgets/controls",
          "model_name": "HBoxModel",
          "model_module_version": "1.5.0",
          "state": {
            "_dom_classes": [],
            "_model_module": "@jupyter-widgets/controls",
            "_model_module_version": "1.5.0",
            "_model_name": "HBoxModel",
            "_view_count": null,
            "_view_module": "@jupyter-widgets/controls",
            "_view_module_version": "1.5.0",
            "_view_name": "HBoxView",
            "box_style": "",
            "children": [
              "IPY_MODEL_73757887ddf849efbd354426f6ec5332",
              "IPY_MODEL_fcc1fdf08ae641368b379675ec21ff41",
              "IPY_MODEL_7b37478fc7454e05ae5eb96ca320164b"
            ],
            "layout": "IPY_MODEL_cd9a16a389ca41c7a5b59fa34dd91d9e"
          }
        },
        "73757887ddf849efbd354426f6ec5332": {
          "model_module": "@jupyter-widgets/controls",
          "model_name": "HTMLModel",
          "model_module_version": "1.5.0",
          "state": {
            "_dom_classes": [],
            "_model_module": "@jupyter-widgets/controls",
            "_model_module_version": "1.5.0",
            "_model_name": "HTMLModel",
            "_view_count": null,
            "_view_module": "@jupyter-widgets/controls",
            "_view_module_version": "1.5.0",
            "_view_name": "HTMLView",
            "description": "",
            "description_tooltip": null,
            "layout": "IPY_MODEL_f43da2beffe4497597cf53b39af30b1e",
            "placeholder": "​",
            "style": "IPY_MODEL_e703298b22474145a3219372dd371a63",
            "value": "Downloading data files: 100%"
          }
        },
        "fcc1fdf08ae641368b379675ec21ff41": {
          "model_module": "@jupyter-widgets/controls",
          "model_name": "FloatProgressModel",
          "model_module_version": "1.5.0",
          "state": {
            "_dom_classes": [],
            "_model_module": "@jupyter-widgets/controls",
            "_model_module_version": "1.5.0",
            "_model_name": "FloatProgressModel",
            "_view_count": null,
            "_view_module": "@jupyter-widgets/controls",
            "_view_module_version": "1.5.0",
            "_view_name": "ProgressView",
            "bar_style": "success",
            "description": "",
            "description_tooltip": null,
            "layout": "IPY_MODEL_d419c5b8f25d4aa5b0286ad481f4630b",
            "max": 2,
            "min": 0,
            "orientation": "horizontal",
            "style": "IPY_MODEL_148dcc1bc4b643baafad5ab1e3ed309a",
            "value": 2
          }
        },
        "7b37478fc7454e05ae5eb96ca320164b": {
          "model_module": "@jupyter-widgets/controls",
          "model_name": "HTMLModel",
          "model_module_version": "1.5.0",
          "state": {
            "_dom_classes": [],
            "_model_module": "@jupyter-widgets/controls",
            "_model_module_version": "1.5.0",
            "_model_name": "HTMLModel",
            "_view_count": null,
            "_view_module": "@jupyter-widgets/controls",
            "_view_module_version": "1.5.0",
            "_view_name": "HTMLView",
            "description": "",
            "description_tooltip": null,
            "layout": "IPY_MODEL_3ea8bb9f3af34b959732a0472f9de8eb",
            "placeholder": "​",
            "style": "IPY_MODEL_292861473a6c4911b1b72be8656a1478",
            "value": " 2/2 [01:27&lt;00:00, 36.56s/it]"
          }
        },
        "cd9a16a389ca41c7a5b59fa34dd91d9e": {
          "model_module": "@jupyter-widgets/base",
          "model_name": "LayoutModel",
          "model_module_version": "1.2.0",
          "state": {
            "_model_module": "@jupyter-widgets/base",
            "_model_module_version": "1.2.0",
            "_model_name": "LayoutModel",
            "_view_count": null,
            "_view_module": "@jupyter-widgets/base",
            "_view_module_version": "1.2.0",
            "_view_name": "LayoutView",
            "align_content": null,
            "align_items": null,
            "align_self": null,
            "border": null,
            "bottom": null,
            "display": null,
            "flex": null,
            "flex_flow": null,
            "grid_area": null,
            "grid_auto_columns": null,
            "grid_auto_flow": null,
            "grid_auto_rows": null,
            "grid_column": null,
            "grid_gap": null,
            "grid_row": null,
            "grid_template_areas": null,
            "grid_template_columns": null,
            "grid_template_rows": null,
            "height": null,
            "justify_content": null,
            "justify_items": null,
            "left": null,
            "margin": null,
            "max_height": null,
            "max_width": null,
            "min_height": null,
            "min_width": null,
            "object_fit": null,
            "object_position": null,
            "order": null,
            "overflow": null,
            "overflow_x": null,
            "overflow_y": null,
            "padding": null,
            "right": null,
            "top": null,
            "visibility": null,
            "width": null
          }
        },
        "f43da2beffe4497597cf53b39af30b1e": {
          "model_module": "@jupyter-widgets/base",
          "model_name": "LayoutModel",
          "model_module_version": "1.2.0",
          "state": {
            "_model_module": "@jupyter-widgets/base",
            "_model_module_version": "1.2.0",
            "_model_name": "LayoutModel",
            "_view_count": null,
            "_view_module": "@jupyter-widgets/base",
            "_view_module_version": "1.2.0",
            "_view_name": "LayoutView",
            "align_content": null,
            "align_items": null,
            "align_self": null,
            "border": null,
            "bottom": null,
            "display": null,
            "flex": null,
            "flex_flow": null,
            "grid_area": null,
            "grid_auto_columns": null,
            "grid_auto_flow": null,
            "grid_auto_rows": null,
            "grid_column": null,
            "grid_gap": null,
            "grid_row": null,
            "grid_template_areas": null,
            "grid_template_columns": null,
            "grid_template_rows": null,
            "height": null,
            "justify_content": null,
            "justify_items": null,
            "left": null,
            "margin": null,
            "max_height": null,
            "max_width": null,
            "min_height": null,
            "min_width": null,
            "object_fit": null,
            "object_position": null,
            "order": null,
            "overflow": null,
            "overflow_x": null,
            "overflow_y": null,
            "padding": null,
            "right": null,
            "top": null,
            "visibility": null,
            "width": null
          }
        },
        "e703298b22474145a3219372dd371a63": {
          "model_module": "@jupyter-widgets/controls",
          "model_name": "DescriptionStyleModel",
          "model_module_version": "1.5.0",
          "state": {
            "_model_module": "@jupyter-widgets/controls",
            "_model_module_version": "1.5.0",
            "_model_name": "DescriptionStyleModel",
            "_view_count": null,
            "_view_module": "@jupyter-widgets/base",
            "_view_module_version": "1.2.0",
            "_view_name": "StyleView",
            "description_width": ""
          }
        },
        "d419c5b8f25d4aa5b0286ad481f4630b": {
          "model_module": "@jupyter-widgets/base",
          "model_name": "LayoutModel",
          "model_module_version": "1.2.0",
          "state": {
            "_model_module": "@jupyter-widgets/base",
            "_model_module_version": "1.2.0",
            "_model_name": "LayoutModel",
            "_view_count": null,
            "_view_module": "@jupyter-widgets/base",
            "_view_module_version": "1.2.0",
            "_view_name": "LayoutView",
            "align_content": null,
            "align_items": null,
            "align_self": null,
            "border": null,
            "bottom": null,
            "display": null,
            "flex": null,
            "flex_flow": null,
            "grid_area": null,
            "grid_auto_columns": null,
            "grid_auto_flow": null,
            "grid_auto_rows": null,
            "grid_column": null,
            "grid_gap": null,
            "grid_row": null,
            "grid_template_areas": null,
            "grid_template_columns": null,
            "grid_template_rows": null,
            "height": null,
            "justify_content": null,
            "justify_items": null,
            "left": null,
            "margin": null,
            "max_height": null,
            "max_width": null,
            "min_height": null,
            "min_width": null,
            "object_fit": null,
            "object_position": null,
            "order": null,
            "overflow": null,
            "overflow_x": null,
            "overflow_y": null,
            "padding": null,
            "right": null,
            "top": null,
            "visibility": null,
            "width": null
          }
        },
        "148dcc1bc4b643baafad5ab1e3ed309a": {
          "model_module": "@jupyter-widgets/controls",
          "model_name": "ProgressStyleModel",
          "model_module_version": "1.5.0",
          "state": {
            "_model_module": "@jupyter-widgets/controls",
            "_model_module_version": "1.5.0",
            "_model_name": "ProgressStyleModel",
            "_view_count": null,
            "_view_module": "@jupyter-widgets/base",
            "_view_module_version": "1.2.0",
            "_view_name": "StyleView",
            "bar_color": null,
            "description_width": ""
          }
        },
        "3ea8bb9f3af34b959732a0472f9de8eb": {
          "model_module": "@jupyter-widgets/base",
          "model_name": "LayoutModel",
          "model_module_version": "1.2.0",
          "state": {
            "_model_module": "@jupyter-widgets/base",
            "_model_module_version": "1.2.0",
            "_model_name": "LayoutModel",
            "_view_count": null,
            "_view_module": "@jupyter-widgets/base",
            "_view_module_version": "1.2.0",
            "_view_name": "LayoutView",
            "align_content": null,
            "align_items": null,
            "align_self": null,
            "border": null,
            "bottom": null,
            "display": null,
            "flex": null,
            "flex_flow": null,
            "grid_area": null,
            "grid_auto_columns": null,
            "grid_auto_flow": null,
            "grid_auto_rows": null,
            "grid_column": null,
            "grid_gap": null,
            "grid_row": null,
            "grid_template_areas": null,
            "grid_template_columns": null,
            "grid_template_rows": null,
            "height": null,
            "justify_content": null,
            "justify_items": null,
            "left": null,
            "margin": null,
            "max_height": null,
            "max_width": null,
            "min_height": null,
            "min_width": null,
            "object_fit": null,
            "object_position": null,
            "order": null,
            "overflow": null,
            "overflow_x": null,
            "overflow_y": null,
            "padding": null,
            "right": null,
            "top": null,
            "visibility": null,
            "width": null
          }
        },
        "292861473a6c4911b1b72be8656a1478": {
          "model_module": "@jupyter-widgets/controls",
          "model_name": "DescriptionStyleModel",
          "model_module_version": "1.5.0",
          "state": {
            "_model_module": "@jupyter-widgets/controls",
            "_model_module_version": "1.5.0",
            "_model_name": "DescriptionStyleModel",
            "_view_count": null,
            "_view_module": "@jupyter-widgets/base",
            "_view_module_version": "1.2.0",
            "_view_name": "StyleView",
            "description_width": ""
          }
        },
        "2614044957aa420da449cb11d1b6e194": {
          "model_module": "@jupyter-widgets/controls",
          "model_name": "HBoxModel",
          "model_module_version": "1.5.0",
          "state": {
            "_dom_classes": [],
            "_model_module": "@jupyter-widgets/controls",
            "_model_module_version": "1.5.0",
            "_model_name": "HBoxModel",
            "_view_count": null,
            "_view_module": "@jupyter-widgets/controls",
            "_view_module_version": "1.5.0",
            "_view_name": "HBoxView",
            "box_style": "",
            "children": [
              "IPY_MODEL_c0bab04ec82f4ead98bfd776d009f373",
              "IPY_MODEL_748799f45a1b437496e7d42365d5df24",
              "IPY_MODEL_8ea48f944a5d4e9e8e54a9221c2c7972"
            ],
            "layout": "IPY_MODEL_b9b5f277e7c647faa12b17f408d8ded2"
          }
        },
        "c0bab04ec82f4ead98bfd776d009f373": {
          "model_module": "@jupyter-widgets/controls",
          "model_name": "HTMLModel",
          "model_module_version": "1.5.0",
          "state": {
            "_dom_classes": [],
            "_model_module": "@jupyter-widgets/controls",
            "_model_module_version": "1.5.0",
            "_model_name": "HTMLModel",
            "_view_count": null,
            "_view_module": "@jupyter-widgets/controls",
            "_view_module_version": "1.5.0",
            "_view_name": "HTMLView",
            "description": "",
            "description_tooltip": null,
            "layout": "IPY_MODEL_2c9d8012f8cc46a7b05cd79aed66af67",
            "placeholder": "​",
            "style": "IPY_MODEL_fb5e100cdacf45c8a610832ca2b55a0d",
            "value": "Downloading data: 100%"
          }
        },
        "748799f45a1b437496e7d42365d5df24": {
          "model_module": "@jupyter-widgets/controls",
          "model_name": "FloatProgressModel",
          "model_module_version": "1.5.0",
          "state": {
            "_dom_classes": [],
            "_model_module": "@jupyter-widgets/controls",
            "_model_module_version": "1.5.0",
            "_model_name": "FloatProgressModel",
            "_view_count": null,
            "_view_module": "@jupyter-widgets/controls",
            "_view_module_version": "1.5.0",
            "_view_name": "ProgressView",
            "bar_style": "success",
            "description": "",
            "description_tooltip": null,
            "layout": "IPY_MODEL_d01c6c32bf6e4fe1aa3b64baff362520",
            "max": 617079009,
            "min": 0,
            "orientation": "horizontal",
            "style": "IPY_MODEL_85c006b022c14379a35b7ea3218be0a7",
            "value": 617079009
          }
        },
        "8ea48f944a5d4e9e8e54a9221c2c7972": {
          "model_module": "@jupyter-widgets/controls",
          "model_name": "HTMLModel",
          "model_module_version": "1.5.0",
          "state": {
            "_dom_classes": [],
            "_model_module": "@jupyter-widgets/controls",
            "_model_module_version": "1.5.0",
            "_model_name": "HTMLModel",
            "_view_count": null,
            "_view_module": "@jupyter-widgets/controls",
            "_view_module_version": "1.5.0",
            "_view_name": "HTMLView",
            "description": "",
            "description_tooltip": null,
            "layout": "IPY_MODEL_bb00b20b07724cfe8173be5103275908",
            "placeholder": "​",
            "style": "IPY_MODEL_1d9b89d82ee64115ac5d009ddb4ece07",
            "value": " 617M/617M [01:25&lt;00:00, 8.06MB/s]"
          }
        },
        "b9b5f277e7c647faa12b17f408d8ded2": {
          "model_module": "@jupyter-widgets/base",
          "model_name": "LayoutModel",
          "model_module_version": "1.2.0",
          "state": {
            "_model_module": "@jupyter-widgets/base",
            "_model_module_version": "1.2.0",
            "_model_name": "LayoutModel",
            "_view_count": null,
            "_view_module": "@jupyter-widgets/base",
            "_view_module_version": "1.2.0",
            "_view_name": "LayoutView",
            "align_content": null,
            "align_items": null,
            "align_self": null,
            "border": null,
            "bottom": null,
            "display": null,
            "flex": null,
            "flex_flow": null,
            "grid_area": null,
            "grid_auto_columns": null,
            "grid_auto_flow": null,
            "grid_auto_rows": null,
            "grid_column": null,
            "grid_gap": null,
            "grid_row": null,
            "grid_template_areas": null,
            "grid_template_columns": null,
            "grid_template_rows": null,
            "height": null,
            "justify_content": null,
            "justify_items": null,
            "left": null,
            "margin": null,
            "max_height": null,
            "max_width": null,
            "min_height": null,
            "min_width": null,
            "object_fit": null,
            "object_position": null,
            "order": null,
            "overflow": null,
            "overflow_x": null,
            "overflow_y": null,
            "padding": null,
            "right": null,
            "top": null,
            "visibility": null,
            "width": null
          }
        },
        "2c9d8012f8cc46a7b05cd79aed66af67": {
          "model_module": "@jupyter-widgets/base",
          "model_name": "LayoutModel",
          "model_module_version": "1.2.0",
          "state": {
            "_model_module": "@jupyter-widgets/base",
            "_model_module_version": "1.2.0",
            "_model_name": "LayoutModel",
            "_view_count": null,
            "_view_module": "@jupyter-widgets/base",
            "_view_module_version": "1.2.0",
            "_view_name": "LayoutView",
            "align_content": null,
            "align_items": null,
            "align_self": null,
            "border": null,
            "bottom": null,
            "display": null,
            "flex": null,
            "flex_flow": null,
            "grid_area": null,
            "grid_auto_columns": null,
            "grid_auto_flow": null,
            "grid_auto_rows": null,
            "grid_column": null,
            "grid_gap": null,
            "grid_row": null,
            "grid_template_areas": null,
            "grid_template_columns": null,
            "grid_template_rows": null,
            "height": null,
            "justify_content": null,
            "justify_items": null,
            "left": null,
            "margin": null,
            "max_height": null,
            "max_width": null,
            "min_height": null,
            "min_width": null,
            "object_fit": null,
            "object_position": null,
            "order": null,
            "overflow": null,
            "overflow_x": null,
            "overflow_y": null,
            "padding": null,
            "right": null,
            "top": null,
            "visibility": null,
            "width": null
          }
        },
        "fb5e100cdacf45c8a610832ca2b55a0d": {
          "model_module": "@jupyter-widgets/controls",
          "model_name": "DescriptionStyleModel",
          "model_module_version": "1.5.0",
          "state": {
            "_model_module": "@jupyter-widgets/controls",
            "_model_module_version": "1.5.0",
            "_model_name": "DescriptionStyleModel",
            "_view_count": null,
            "_view_module": "@jupyter-widgets/base",
            "_view_module_version": "1.2.0",
            "_view_name": "StyleView",
            "description_width": ""
          }
        },
        "d01c6c32bf6e4fe1aa3b64baff362520": {
          "model_module": "@jupyter-widgets/base",
          "model_name": "LayoutModel",
          "model_module_version": "1.2.0",
          "state": {
            "_model_module": "@jupyter-widgets/base",
            "_model_module_version": "1.2.0",
            "_model_name": "LayoutModel",
            "_view_count": null,
            "_view_module": "@jupyter-widgets/base",
            "_view_module_version": "1.2.0",
            "_view_name": "LayoutView",
            "align_content": null,
            "align_items": null,
            "align_self": null,
            "border": null,
            "bottom": null,
            "display": null,
            "flex": null,
            "flex_flow": null,
            "grid_area": null,
            "grid_auto_columns": null,
            "grid_auto_flow": null,
            "grid_auto_rows": null,
            "grid_column": null,
            "grid_gap": null,
            "grid_row": null,
            "grid_template_areas": null,
            "grid_template_columns": null,
            "grid_template_rows": null,
            "height": null,
            "justify_content": null,
            "justify_items": null,
            "left": null,
            "margin": null,
            "max_height": null,
            "max_width": null,
            "min_height": null,
            "min_width": null,
            "object_fit": null,
            "object_position": null,
            "order": null,
            "overflow": null,
            "overflow_x": null,
            "overflow_y": null,
            "padding": null,
            "right": null,
            "top": null,
            "visibility": null,
            "width": null
          }
        },
        "85c006b022c14379a35b7ea3218be0a7": {
          "model_module": "@jupyter-widgets/controls",
          "model_name": "ProgressStyleModel",
          "model_module_version": "1.5.0",
          "state": {
            "_model_module": "@jupyter-widgets/controls",
            "_model_module_version": "1.5.0",
            "_model_name": "ProgressStyleModel",
            "_view_count": null,
            "_view_module": "@jupyter-widgets/base",
            "_view_module_version": "1.2.0",
            "_view_name": "StyleView",
            "bar_color": null,
            "description_width": ""
          }
        },
        "bb00b20b07724cfe8173be5103275908": {
          "model_module": "@jupyter-widgets/base",
          "model_name": "LayoutModel",
          "model_module_version": "1.2.0",
          "state": {
            "_model_module": "@jupyter-widgets/base",
            "_model_module_version": "1.2.0",
            "_model_name": "LayoutModel",
            "_view_count": null,
            "_view_module": "@jupyter-widgets/base",
            "_view_module_version": "1.2.0",
            "_view_name": "LayoutView",
            "align_content": null,
            "align_items": null,
            "align_self": null,
            "border": null,
            "bottom": null,
            "display": null,
            "flex": null,
            "flex_flow": null,
            "grid_area": null,
            "grid_auto_columns": null,
            "grid_auto_flow": null,
            "grid_auto_rows": null,
            "grid_column": null,
            "grid_gap": null,
            "grid_row": null,
            "grid_template_areas": null,
            "grid_template_columns": null,
            "grid_template_rows": null,
            "height": null,
            "justify_content": null,
            "justify_items": null,
            "left": null,
            "margin": null,
            "max_height": null,
            "max_width": null,
            "min_height": null,
            "min_width": null,
            "object_fit": null,
            "object_position": null,
            "order": null,
            "overflow": null,
            "overflow_x": null,
            "overflow_y": null,
            "padding": null,
            "right": null,
            "top": null,
            "visibility": null,
            "width": null
          }
        },
        "1d9b89d82ee64115ac5d009ddb4ece07": {
          "model_module": "@jupyter-widgets/controls",
          "model_name": "DescriptionStyleModel",
          "model_module_version": "1.5.0",
          "state": {
            "_model_module": "@jupyter-widgets/controls",
            "_model_module_version": "1.5.0",
            "_model_name": "DescriptionStyleModel",
            "_view_count": null,
            "_view_module": "@jupyter-widgets/base",
            "_view_module_version": "1.2.0",
            "_view_name": "StyleView",
            "description_width": ""
          }
        },
        "8e7efc3cb94f4c0587d4320e8681658a": {
          "model_module": "@jupyter-widgets/controls",
          "model_name": "HBoxModel",
          "model_module_version": "1.5.0",
          "state": {
            "_dom_classes": [],
            "_model_module": "@jupyter-widgets/controls",
            "_model_module_version": "1.5.0",
            "_model_name": "HBoxModel",
            "_view_count": null,
            "_view_module": "@jupyter-widgets/controls",
            "_view_module_version": "1.5.0",
            "_view_name": "HBoxView",
            "box_style": "",
            "children": [
              "IPY_MODEL_4c4dde34eddd48bd9a4b35decdee2975",
              "IPY_MODEL_115905d1bafc48a4af8b066f86ccd3fd",
              "IPY_MODEL_de57d5391302488fb6ee761438b40972"
            ],
            "layout": "IPY_MODEL_6e3cf0937768495fa2402347fd6b523a"
          }
        },
        "4c4dde34eddd48bd9a4b35decdee2975": {
          "model_module": "@jupyter-widgets/controls",
          "model_name": "HTMLModel",
          "model_module_version": "1.5.0",
          "state": {
            "_dom_classes": [],
            "_model_module": "@jupyter-widgets/controls",
            "_model_module_version": "1.5.0",
            "_model_name": "HTMLModel",
            "_view_count": null,
            "_view_module": "@jupyter-widgets/controls",
            "_view_module_version": "1.5.0",
            "_view_name": "HTMLView",
            "description": "",
            "description_tooltip": null,
            "layout": "IPY_MODEL_9cde7a1c87114746bd3a7e87884eb5a5",
            "placeholder": "​",
            "style": "IPY_MODEL_f5653772fa384cc8b4feb33e9af4e23a",
            "value": "Downloading data: 100%"
          }
        },
        "115905d1bafc48a4af8b066f86ccd3fd": {
          "model_module": "@jupyter-widgets/controls",
          "model_name": "FloatProgressModel",
          "model_module_version": "1.5.0",
          "state": {
            "_dom_classes": [],
            "_model_module": "@jupyter-widgets/controls",
            "_model_module_version": "1.5.0",
            "_model_name": "FloatProgressModel",
            "_view_count": null,
            "_view_module": "@jupyter-widgets/controls",
            "_view_module_version": "1.5.0",
            "_view_name": "ProgressView",
            "bar_style": "success",
            "description": "",
            "description_tooltip": null,
            "layout": "IPY_MODEL_46dec4ff5d38482cacebbe607eb671d6",
            "max": 17546214,
            "min": 0,
            "orientation": "horizontal",
            "style": "IPY_MODEL_014a9c8c804b4b1391a0c47750b8222e",
            "value": 17546214
          }
        },
        "de57d5391302488fb6ee761438b40972": {
          "model_module": "@jupyter-widgets/controls",
          "model_name": "HTMLModel",
          "model_module_version": "1.5.0",
          "state": {
            "_dom_classes": [],
            "_model_module": "@jupyter-widgets/controls",
            "_model_module_version": "1.5.0",
            "_model_name": "HTMLModel",
            "_view_count": null,
            "_view_module": "@jupyter-widgets/controls",
            "_view_module_version": "1.5.0",
            "_view_name": "HTMLView",
            "description": "",
            "description_tooltip": null,
            "layout": "IPY_MODEL_f8e711e3d939464ba584180924d129d5",
            "placeholder": "​",
            "style": "IPY_MODEL_52287babfa2843d4945642633e0dc4e4",
            "value": " 17.5M/17.5M [00:02&lt;00:00, 5.69MB/s]"
          }
        },
        "6e3cf0937768495fa2402347fd6b523a": {
          "model_module": "@jupyter-widgets/base",
          "model_name": "LayoutModel",
          "model_module_version": "1.2.0",
          "state": {
            "_model_module": "@jupyter-widgets/base",
            "_model_module_version": "1.2.0",
            "_model_name": "LayoutModel",
            "_view_count": null,
            "_view_module": "@jupyter-widgets/base",
            "_view_module_version": "1.2.0",
            "_view_name": "LayoutView",
            "align_content": null,
            "align_items": null,
            "align_self": null,
            "border": null,
            "bottom": null,
            "display": null,
            "flex": null,
            "flex_flow": null,
            "grid_area": null,
            "grid_auto_columns": null,
            "grid_auto_flow": null,
            "grid_auto_rows": null,
            "grid_column": null,
            "grid_gap": null,
            "grid_row": null,
            "grid_template_areas": null,
            "grid_template_columns": null,
            "grid_template_rows": null,
            "height": null,
            "justify_content": null,
            "justify_items": null,
            "left": null,
            "margin": null,
            "max_height": null,
            "max_width": null,
            "min_height": null,
            "min_width": null,
            "object_fit": null,
            "object_position": null,
            "order": null,
            "overflow": null,
            "overflow_x": null,
            "overflow_y": null,
            "padding": null,
            "right": null,
            "top": null,
            "visibility": null,
            "width": null
          }
        },
        "9cde7a1c87114746bd3a7e87884eb5a5": {
          "model_module": "@jupyter-widgets/base",
          "model_name": "LayoutModel",
          "model_module_version": "1.2.0",
          "state": {
            "_model_module": "@jupyter-widgets/base",
            "_model_module_version": "1.2.0",
            "_model_name": "LayoutModel",
            "_view_count": null,
            "_view_module": "@jupyter-widgets/base",
            "_view_module_version": "1.2.0",
            "_view_name": "LayoutView",
            "align_content": null,
            "align_items": null,
            "align_self": null,
            "border": null,
            "bottom": null,
            "display": null,
            "flex": null,
            "flex_flow": null,
            "grid_area": null,
            "grid_auto_columns": null,
            "grid_auto_flow": null,
            "grid_auto_rows": null,
            "grid_column": null,
            "grid_gap": null,
            "grid_row": null,
            "grid_template_areas": null,
            "grid_template_columns": null,
            "grid_template_rows": null,
            "height": null,
            "justify_content": null,
            "justify_items": null,
            "left": null,
            "margin": null,
            "max_height": null,
            "max_width": null,
            "min_height": null,
            "min_width": null,
            "object_fit": null,
            "object_position": null,
            "order": null,
            "overflow": null,
            "overflow_x": null,
            "overflow_y": null,
            "padding": null,
            "right": null,
            "top": null,
            "visibility": null,
            "width": null
          }
        },
        "f5653772fa384cc8b4feb33e9af4e23a": {
          "model_module": "@jupyter-widgets/controls",
          "model_name": "DescriptionStyleModel",
          "model_module_version": "1.5.0",
          "state": {
            "_model_module": "@jupyter-widgets/controls",
            "_model_module_version": "1.5.0",
            "_model_name": "DescriptionStyleModel",
            "_view_count": null,
            "_view_module": "@jupyter-widgets/base",
            "_view_module_version": "1.2.0",
            "_view_name": "StyleView",
            "description_width": ""
          }
        },
        "46dec4ff5d38482cacebbe607eb671d6": {
          "model_module": "@jupyter-widgets/base",
          "model_name": "LayoutModel",
          "model_module_version": "1.2.0",
          "state": {
            "_model_module": "@jupyter-widgets/base",
            "_model_module_version": "1.2.0",
            "_model_name": "LayoutModel",
            "_view_count": null,
            "_view_module": "@jupyter-widgets/base",
            "_view_module_version": "1.2.0",
            "_view_name": "LayoutView",
            "align_content": null,
            "align_items": null,
            "align_self": null,
            "border": null,
            "bottom": null,
            "display": null,
            "flex": null,
            "flex_flow": null,
            "grid_area": null,
            "grid_auto_columns": null,
            "grid_auto_flow": null,
            "grid_auto_rows": null,
            "grid_column": null,
            "grid_gap": null,
            "grid_row": null,
            "grid_template_areas": null,
            "grid_template_columns": null,
            "grid_template_rows": null,
            "height": null,
            "justify_content": null,
            "justify_items": null,
            "left": null,
            "margin": null,
            "max_height": null,
            "max_width": null,
            "min_height": null,
            "min_width": null,
            "object_fit": null,
            "object_position": null,
            "order": null,
            "overflow": null,
            "overflow_x": null,
            "overflow_y": null,
            "padding": null,
            "right": null,
            "top": null,
            "visibility": null,
            "width": null
          }
        },
        "014a9c8c804b4b1391a0c47750b8222e": {
          "model_module": "@jupyter-widgets/controls",
          "model_name": "ProgressStyleModel",
          "model_module_version": "1.5.0",
          "state": {
            "_model_module": "@jupyter-widgets/controls",
            "_model_module_version": "1.5.0",
            "_model_name": "ProgressStyleModel",
            "_view_count": null,
            "_view_module": "@jupyter-widgets/base",
            "_view_module_version": "1.2.0",
            "_view_name": "StyleView",
            "bar_color": null,
            "description_width": ""
          }
        },
        "f8e711e3d939464ba584180924d129d5": {
          "model_module": "@jupyter-widgets/base",
          "model_name": "LayoutModel",
          "model_module_version": "1.2.0",
          "state": {
            "_model_module": "@jupyter-widgets/base",
            "_model_module_version": "1.2.0",
            "_model_name": "LayoutModel",
            "_view_count": null,
            "_view_module": "@jupyter-widgets/base",
            "_view_module_version": "1.2.0",
            "_view_name": "LayoutView",
            "align_content": null,
            "align_items": null,
            "align_self": null,
            "border": null,
            "bottom": null,
            "display": null,
            "flex": null,
            "flex_flow": null,
            "grid_area": null,
            "grid_auto_columns": null,
            "grid_auto_flow": null,
            "grid_auto_rows": null,
            "grid_column": null,
            "grid_gap": null,
            "grid_row": null,
            "grid_template_areas": null,
            "grid_template_columns": null,
            "grid_template_rows": null,
            "height": null,
            "justify_content": null,
            "justify_items": null,
            "left": null,
            "margin": null,
            "max_height": null,
            "max_width": null,
            "min_height": null,
            "min_width": null,
            "object_fit": null,
            "object_position": null,
            "order": null,
            "overflow": null,
            "overflow_x": null,
            "overflow_y": null,
            "padding": null,
            "right": null,
            "top": null,
            "visibility": null,
            "width": null
          }
        },
        "52287babfa2843d4945642633e0dc4e4": {
          "model_module": "@jupyter-widgets/controls",
          "model_name": "DescriptionStyleModel",
          "model_module_version": "1.5.0",
          "state": {
            "_model_module": "@jupyter-widgets/controls",
            "_model_module_version": "1.5.0",
            "_model_name": "DescriptionStyleModel",
            "_view_count": null,
            "_view_module": "@jupyter-widgets/base",
            "_view_module_version": "1.2.0",
            "_view_name": "StyleView",
            "description_width": ""
          }
        },
        "d8f1b65bdb984c5e9dc1c7e1ed3b3297": {
          "model_module": "@jupyter-widgets/controls",
          "model_name": "HBoxModel",
          "model_module_version": "1.5.0",
          "state": {
            "_dom_classes": [],
            "_model_module": "@jupyter-widgets/controls",
            "_model_module_version": "1.5.0",
            "_model_name": "HBoxModel",
            "_view_count": null,
            "_view_module": "@jupyter-widgets/controls",
            "_view_module_version": "1.5.0",
            "_view_name": "HBoxView",
            "box_style": "",
            "children": [
              "IPY_MODEL_86b43ef20a0248d3bdcdab58534b928f",
              "IPY_MODEL_96d9216b10894f23ad519a9223261018",
              "IPY_MODEL_982ed81ffd8a4f78b7dc707d52897399"
            ],
            "layout": "IPY_MODEL_e7d20b1bb8f74d08ae6241abd2280874"
          }
        },
        "86b43ef20a0248d3bdcdab58534b928f": {
          "model_module": "@jupyter-widgets/controls",
          "model_name": "HTMLModel",
          "model_module_version": "1.5.0",
          "state": {
            "_dom_classes": [],
            "_model_module": "@jupyter-widgets/controls",
            "_model_module_version": "1.5.0",
            "_model_name": "HTMLModel",
            "_view_count": null,
            "_view_module": "@jupyter-widgets/controls",
            "_view_module_version": "1.5.0",
            "_view_name": "HTMLView",
            "description": "",
            "description_tooltip": null,
            "layout": "IPY_MODEL_986e7f74212d403591c3d6b02584cb7d",
            "placeholder": "​",
            "style": "IPY_MODEL_eae19bb956d248e68c1afa6002c1366f",
            "value": "Extracting data files: 100%"
          }
        },
        "96d9216b10894f23ad519a9223261018": {
          "model_module": "@jupyter-widgets/controls",
          "model_name": "FloatProgressModel",
          "model_module_version": "1.5.0",
          "state": {
            "_dom_classes": [],
            "_model_module": "@jupyter-widgets/controls",
            "_model_module_version": "1.5.0",
            "_model_name": "FloatProgressModel",
            "_view_count": null,
            "_view_module": "@jupyter-widgets/controls",
            "_view_module_version": "1.5.0",
            "_view_name": "ProgressView",
            "bar_style": "success",
            "description": "",
            "description_tooltip": null,
            "layout": "IPY_MODEL_986f97479a3d471cb7b865814dc70e8a",
            "max": 2,
            "min": 0,
            "orientation": "horizontal",
            "style": "IPY_MODEL_c182604d9a9e4deaa572171dbc99f889",
            "value": 2
          }
        },
        "982ed81ffd8a4f78b7dc707d52897399": {
          "model_module": "@jupyter-widgets/controls",
          "model_name": "HTMLModel",
          "model_module_version": "1.5.0",
          "state": {
            "_dom_classes": [],
            "_model_module": "@jupyter-widgets/controls",
            "_model_module_version": "1.5.0",
            "_model_name": "HTMLModel",
            "_view_count": null,
            "_view_module": "@jupyter-widgets/controls",
            "_view_module_version": "1.5.0",
            "_view_name": "HTMLView",
            "description": "",
            "description_tooltip": null,
            "layout": "IPY_MODEL_2c19dbd9856c46a1b90227a9695c6dd6",
            "placeholder": "​",
            "style": "IPY_MODEL_50fac0149bcf453085cecca2e86048f0",
            "value": " 2/2 [00:00&lt;00:00, 58.55it/s]"
          }
        },
        "e7d20b1bb8f74d08ae6241abd2280874": {
          "model_module": "@jupyter-widgets/base",
          "model_name": "LayoutModel",
          "model_module_version": "1.2.0",
          "state": {
            "_model_module": "@jupyter-widgets/base",
            "_model_module_version": "1.2.0",
            "_model_name": "LayoutModel",
            "_view_count": null,
            "_view_module": "@jupyter-widgets/base",
            "_view_module_version": "1.2.0",
            "_view_name": "LayoutView",
            "align_content": null,
            "align_items": null,
            "align_self": null,
            "border": null,
            "bottom": null,
            "display": null,
            "flex": null,
            "flex_flow": null,
            "grid_area": null,
            "grid_auto_columns": null,
            "grid_auto_flow": null,
            "grid_auto_rows": null,
            "grid_column": null,
            "grid_gap": null,
            "grid_row": null,
            "grid_template_areas": null,
            "grid_template_columns": null,
            "grid_template_rows": null,
            "height": null,
            "justify_content": null,
            "justify_items": null,
            "left": null,
            "margin": null,
            "max_height": null,
            "max_width": null,
            "min_height": null,
            "min_width": null,
            "object_fit": null,
            "object_position": null,
            "order": null,
            "overflow": null,
            "overflow_x": null,
            "overflow_y": null,
            "padding": null,
            "right": null,
            "top": null,
            "visibility": null,
            "width": null
          }
        },
        "986e7f74212d403591c3d6b02584cb7d": {
          "model_module": "@jupyter-widgets/base",
          "model_name": "LayoutModel",
          "model_module_version": "1.2.0",
          "state": {
            "_model_module": "@jupyter-widgets/base",
            "_model_module_version": "1.2.0",
            "_model_name": "LayoutModel",
            "_view_count": null,
            "_view_module": "@jupyter-widgets/base",
            "_view_module_version": "1.2.0",
            "_view_name": "LayoutView",
            "align_content": null,
            "align_items": null,
            "align_self": null,
            "border": null,
            "bottom": null,
            "display": null,
            "flex": null,
            "flex_flow": null,
            "grid_area": null,
            "grid_auto_columns": null,
            "grid_auto_flow": null,
            "grid_auto_rows": null,
            "grid_column": null,
            "grid_gap": null,
            "grid_row": null,
            "grid_template_areas": null,
            "grid_template_columns": null,
            "grid_template_rows": null,
            "height": null,
            "justify_content": null,
            "justify_items": null,
            "left": null,
            "margin": null,
            "max_height": null,
            "max_width": null,
            "min_height": null,
            "min_width": null,
            "object_fit": null,
            "object_position": null,
            "order": null,
            "overflow": null,
            "overflow_x": null,
            "overflow_y": null,
            "padding": null,
            "right": null,
            "top": null,
            "visibility": null,
            "width": null
          }
        },
        "eae19bb956d248e68c1afa6002c1366f": {
          "model_module": "@jupyter-widgets/controls",
          "model_name": "DescriptionStyleModel",
          "model_module_version": "1.5.0",
          "state": {
            "_model_module": "@jupyter-widgets/controls",
            "_model_module_version": "1.5.0",
            "_model_name": "DescriptionStyleModel",
            "_view_count": null,
            "_view_module": "@jupyter-widgets/base",
            "_view_module_version": "1.2.0",
            "_view_name": "StyleView",
            "description_width": ""
          }
        },
        "986f97479a3d471cb7b865814dc70e8a": {
          "model_module": "@jupyter-widgets/base",
          "model_name": "LayoutModel",
          "model_module_version": "1.2.0",
          "state": {
            "_model_module": "@jupyter-widgets/base",
            "_model_module_version": "1.2.0",
            "_model_name": "LayoutModel",
            "_view_count": null,
            "_view_module": "@jupyter-widgets/base",
            "_view_module_version": "1.2.0",
            "_view_name": "LayoutView",
            "align_content": null,
            "align_items": null,
            "align_self": null,
            "border": null,
            "bottom": null,
            "display": null,
            "flex": null,
            "flex_flow": null,
            "grid_area": null,
            "grid_auto_columns": null,
            "grid_auto_flow": null,
            "grid_auto_rows": null,
            "grid_column": null,
            "grid_gap": null,
            "grid_row": null,
            "grid_template_areas": null,
            "grid_template_columns": null,
            "grid_template_rows": null,
            "height": null,
            "justify_content": null,
            "justify_items": null,
            "left": null,
            "margin": null,
            "max_height": null,
            "max_width": null,
            "min_height": null,
            "min_width": null,
            "object_fit": null,
            "object_position": null,
            "order": null,
            "overflow": null,
            "overflow_x": null,
            "overflow_y": null,
            "padding": null,
            "right": null,
            "top": null,
            "visibility": null,
            "width": null
          }
        },
        "c182604d9a9e4deaa572171dbc99f889": {
          "model_module": "@jupyter-widgets/controls",
          "model_name": "ProgressStyleModel",
          "model_module_version": "1.5.0",
          "state": {
            "_model_module": "@jupyter-widgets/controls",
            "_model_module_version": "1.5.0",
            "_model_name": "ProgressStyleModel",
            "_view_count": null,
            "_view_module": "@jupyter-widgets/base",
            "_view_module_version": "1.2.0",
            "_view_name": "StyleView",
            "bar_color": null,
            "description_width": ""
          }
        },
        "2c19dbd9856c46a1b90227a9695c6dd6": {
          "model_module": "@jupyter-widgets/base",
          "model_name": "LayoutModel",
          "model_module_version": "1.2.0",
          "state": {
            "_model_module": "@jupyter-widgets/base",
            "_model_module_version": "1.2.0",
            "_model_name": "LayoutModel",
            "_view_count": null,
            "_view_module": "@jupyter-widgets/base",
            "_view_module_version": "1.2.0",
            "_view_name": "LayoutView",
            "align_content": null,
            "align_items": null,
            "align_self": null,
            "border": null,
            "bottom": null,
            "display": null,
            "flex": null,
            "flex_flow": null,
            "grid_area": null,
            "grid_auto_columns": null,
            "grid_auto_flow": null,
            "grid_auto_rows": null,
            "grid_column": null,
            "grid_gap": null,
            "grid_row": null,
            "grid_template_areas": null,
            "grid_template_columns": null,
            "grid_template_rows": null,
            "height": null,
            "justify_content": null,
            "justify_items": null,
            "left": null,
            "margin": null,
            "max_height": null,
            "max_width": null,
            "min_height": null,
            "min_width": null,
            "object_fit": null,
            "object_position": null,
            "order": null,
            "overflow": null,
            "overflow_x": null,
            "overflow_y": null,
            "padding": null,
            "right": null,
            "top": null,
            "visibility": null,
            "width": null
          }
        },
        "50fac0149bcf453085cecca2e86048f0": {
          "model_module": "@jupyter-widgets/controls",
          "model_name": "DescriptionStyleModel",
          "model_module_version": "1.5.0",
          "state": {
            "_model_module": "@jupyter-widgets/controls",
            "_model_module_version": "1.5.0",
            "_model_name": "DescriptionStyleModel",
            "_view_count": null,
            "_view_module": "@jupyter-widgets/base",
            "_view_module_version": "1.2.0",
            "_view_name": "StyleView",
            "description_width": ""
          }
        },
        "01207ee6700d4a98af2015b633289205": {
          "model_module": "@jupyter-widgets/controls",
          "model_name": "HBoxModel",
          "model_module_version": "1.5.0",
          "state": {
            "_dom_classes": [],
            "_model_module": "@jupyter-widgets/controls",
            "_model_module_version": "1.5.0",
            "_model_name": "HBoxModel",
            "_view_count": null,
            "_view_module": "@jupyter-widgets/controls",
            "_view_module_version": "1.5.0",
            "_view_name": "HBoxView",
            "box_style": "",
            "children": [
              "IPY_MODEL_c5e4aed7fd6f4d29940ece00a80b7fde",
              "IPY_MODEL_ea53ac6afa7d47329cebfccda2545004",
              "IPY_MODEL_fb234af40d6d44b482b9a02470fdfb51"
            ],
            "layout": "IPY_MODEL_39e6614e4b1a40f6aaf841bdcf16ff88"
          }
        },
        "c5e4aed7fd6f4d29940ece00a80b7fde": {
          "model_module": "@jupyter-widgets/controls",
          "model_name": "HTMLModel",
          "model_module_version": "1.5.0",
          "state": {
            "_dom_classes": [],
            "_model_module": "@jupyter-widgets/controls",
            "_model_module_version": "1.5.0",
            "_model_name": "HTMLModel",
            "_view_count": null,
            "_view_module": "@jupyter-widgets/controls",
            "_view_module_version": "1.5.0",
            "_view_name": "HTMLView",
            "description": "",
            "description_tooltip": null,
            "layout": "IPY_MODEL_3a1a77fe0bbf48acbfac565231b05f1d",
            "placeholder": "​",
            "style": "IPY_MODEL_e95a1ff5fb1647dfb5ffbafdb025e2b6",
            "value": "Generating train split: "
          }
        },
        "ea53ac6afa7d47329cebfccda2545004": {
          "model_module": "@jupyter-widgets/controls",
          "model_name": "FloatProgressModel",
          "model_module_version": "1.5.0",
          "state": {
            "_dom_classes": [],
            "_model_module": "@jupyter-widgets/controls",
            "_model_module_version": "1.5.0",
            "_model_name": "FloatProgressModel",
            "_view_count": null,
            "_view_module": "@jupyter-widgets/controls",
            "_view_module_version": "1.5.0",
            "_view_name": "ProgressView",
            "bar_style": "success",
            "description": "",
            "description_tooltip": null,
            "layout": "IPY_MODEL_3e900f8909fe419ca7bd7cb89fdb5198",
            "max": 1,
            "min": 0,
            "orientation": "horizontal",
            "style": "IPY_MODEL_d1a6356a096f46218965eac2249113a4",
            "value": 1
          }
        },
        "fb234af40d6d44b482b9a02470fdfb51": {
          "model_module": "@jupyter-widgets/controls",
          "model_name": "HTMLModel",
          "model_module_version": "1.5.0",
          "state": {
            "_dom_classes": [],
            "_model_module": "@jupyter-widgets/controls",
            "_model_module_version": "1.5.0",
            "_model_name": "HTMLModel",
            "_view_count": null,
            "_view_module": "@jupyter-widgets/controls",
            "_view_module_version": "1.5.0",
            "_view_name": "HTMLView",
            "description": "",
            "description_tooltip": null,
            "layout": "IPY_MODEL_354be554f93b4ba094169d147f05fb66",
            "placeholder": "​",
            "style": "IPY_MODEL_cc493862bab44e7d95af96effd2308b9",
            "value": " 1754874/0 [00:06&lt;00:00, 199573.92 examples/s]"
          }
        },
        "39e6614e4b1a40f6aaf841bdcf16ff88": {
          "model_module": "@jupyter-widgets/base",
          "model_name": "LayoutModel",
          "model_module_version": "1.2.0",
          "state": {
            "_model_module": "@jupyter-widgets/base",
            "_model_module_version": "1.2.0",
            "_model_name": "LayoutModel",
            "_view_count": null,
            "_view_module": "@jupyter-widgets/base",
            "_view_module_version": "1.2.0",
            "_view_name": "LayoutView",
            "align_content": null,
            "align_items": null,
            "align_self": null,
            "border": null,
            "bottom": null,
            "display": null,
            "flex": null,
            "flex_flow": null,
            "grid_area": null,
            "grid_auto_columns": null,
            "grid_auto_flow": null,
            "grid_auto_rows": null,
            "grid_column": null,
            "grid_gap": null,
            "grid_row": null,
            "grid_template_areas": null,
            "grid_template_columns": null,
            "grid_template_rows": null,
            "height": null,
            "justify_content": null,
            "justify_items": null,
            "left": null,
            "margin": null,
            "max_height": null,
            "max_width": null,
            "min_height": null,
            "min_width": null,
            "object_fit": null,
            "object_position": null,
            "order": null,
            "overflow": null,
            "overflow_x": null,
            "overflow_y": null,
            "padding": null,
            "right": null,
            "top": null,
            "visibility": null,
            "width": null
          }
        },
        "3a1a77fe0bbf48acbfac565231b05f1d": {
          "model_module": "@jupyter-widgets/base",
          "model_name": "LayoutModel",
          "model_module_version": "1.2.0",
          "state": {
            "_model_module": "@jupyter-widgets/base",
            "_model_module_version": "1.2.0",
            "_model_name": "LayoutModel",
            "_view_count": null,
            "_view_module": "@jupyter-widgets/base",
            "_view_module_version": "1.2.0",
            "_view_name": "LayoutView",
            "align_content": null,
            "align_items": null,
            "align_self": null,
            "border": null,
            "bottom": null,
            "display": null,
            "flex": null,
            "flex_flow": null,
            "grid_area": null,
            "grid_auto_columns": null,
            "grid_auto_flow": null,
            "grid_auto_rows": null,
            "grid_column": null,
            "grid_gap": null,
            "grid_row": null,
            "grid_template_areas": null,
            "grid_template_columns": null,
            "grid_template_rows": null,
            "height": null,
            "justify_content": null,
            "justify_items": null,
            "left": null,
            "margin": null,
            "max_height": null,
            "max_width": null,
            "min_height": null,
            "min_width": null,
            "object_fit": null,
            "object_position": null,
            "order": null,
            "overflow": null,
            "overflow_x": null,
            "overflow_y": null,
            "padding": null,
            "right": null,
            "top": null,
            "visibility": null,
            "width": null
          }
        },
        "e95a1ff5fb1647dfb5ffbafdb025e2b6": {
          "model_module": "@jupyter-widgets/controls",
          "model_name": "DescriptionStyleModel",
          "model_module_version": "1.5.0",
          "state": {
            "_model_module": "@jupyter-widgets/controls",
            "_model_module_version": "1.5.0",
            "_model_name": "DescriptionStyleModel",
            "_view_count": null,
            "_view_module": "@jupyter-widgets/base",
            "_view_module_version": "1.2.0",
            "_view_name": "StyleView",
            "description_width": ""
          }
        },
        "3e900f8909fe419ca7bd7cb89fdb5198": {
          "model_module": "@jupyter-widgets/base",
          "model_name": "LayoutModel",
          "model_module_version": "1.2.0",
          "state": {
            "_model_module": "@jupyter-widgets/base",
            "_model_module_version": "1.2.0",
            "_model_name": "LayoutModel",
            "_view_count": null,
            "_view_module": "@jupyter-widgets/base",
            "_view_module_version": "1.2.0",
            "_view_name": "LayoutView",
            "align_content": null,
            "align_items": null,
            "align_self": null,
            "border": null,
            "bottom": null,
            "display": null,
            "flex": null,
            "flex_flow": null,
            "grid_area": null,
            "grid_auto_columns": null,
            "grid_auto_flow": null,
            "grid_auto_rows": null,
            "grid_column": null,
            "grid_gap": null,
            "grid_row": null,
            "grid_template_areas": null,
            "grid_template_columns": null,
            "grid_template_rows": null,
            "height": null,
            "justify_content": null,
            "justify_items": null,
            "left": null,
            "margin": null,
            "max_height": null,
            "max_width": null,
            "min_height": null,
            "min_width": null,
            "object_fit": null,
            "object_position": null,
            "order": null,
            "overflow": null,
            "overflow_x": null,
            "overflow_y": null,
            "padding": null,
            "right": null,
            "top": null,
            "visibility": null,
            "width": "20px"
          }
        },
        "d1a6356a096f46218965eac2249113a4": {
          "model_module": "@jupyter-widgets/controls",
          "model_name": "ProgressStyleModel",
          "model_module_version": "1.5.0",
          "state": {
            "_model_module": "@jupyter-widgets/controls",
            "_model_module_version": "1.5.0",
            "_model_name": "ProgressStyleModel",
            "_view_count": null,
            "_view_module": "@jupyter-widgets/base",
            "_view_module_version": "1.2.0",
            "_view_name": "StyleView",
            "bar_color": null,
            "description_width": ""
          }
        },
        "354be554f93b4ba094169d147f05fb66": {
          "model_module": "@jupyter-widgets/base",
          "model_name": "LayoutModel",
          "model_module_version": "1.2.0",
          "state": {
            "_model_module": "@jupyter-widgets/base",
            "_model_module_version": "1.2.0",
            "_model_name": "LayoutModel",
            "_view_count": null,
            "_view_module": "@jupyter-widgets/base",
            "_view_module_version": "1.2.0",
            "_view_name": "LayoutView",
            "align_content": null,
            "align_items": null,
            "align_self": null,
            "border": null,
            "bottom": null,
            "display": null,
            "flex": null,
            "flex_flow": null,
            "grid_area": null,
            "grid_auto_columns": null,
            "grid_auto_flow": null,
            "grid_auto_rows": null,
            "grid_column": null,
            "grid_gap": null,
            "grid_row": null,
            "grid_template_areas": null,
            "grid_template_columns": null,
            "grid_template_rows": null,
            "height": null,
            "justify_content": null,
            "justify_items": null,
            "left": null,
            "margin": null,
            "max_height": null,
            "max_width": null,
            "min_height": null,
            "min_width": null,
            "object_fit": null,
            "object_position": null,
            "order": null,
            "overflow": null,
            "overflow_x": null,
            "overflow_y": null,
            "padding": null,
            "right": null,
            "top": null,
            "visibility": null,
            "width": null
          }
        },
        "cc493862bab44e7d95af96effd2308b9": {
          "model_module": "@jupyter-widgets/controls",
          "model_name": "DescriptionStyleModel",
          "model_module_version": "1.5.0",
          "state": {
            "_model_module": "@jupyter-widgets/controls",
            "_model_module_version": "1.5.0",
            "_model_name": "DescriptionStyleModel",
            "_view_count": null,
            "_view_module": "@jupyter-widgets/base",
            "_view_module_version": "1.2.0",
            "_view_name": "StyleView",
            "description_width": ""
          }
        },
        "ef2ca5fe40984815bcd9b73d09f31d2e": {
          "model_module": "@jupyter-widgets/controls",
          "model_name": "HBoxModel",
          "model_module_version": "1.5.0",
          "state": {
            "_dom_classes": [],
            "_model_module": "@jupyter-widgets/controls",
            "_model_module_version": "1.5.0",
            "_model_name": "HBoxModel",
            "_view_count": null,
            "_view_module": "@jupyter-widgets/controls",
            "_view_module_version": "1.5.0",
            "_view_name": "HBoxView",
            "box_style": "",
            "children": [
              "IPY_MODEL_3e2c3427b94949058ccdbc71575c00b4",
              "IPY_MODEL_626bb942400844c5b826ee38d549aa3e",
              "IPY_MODEL_4e0c677eee3549e084c8d3fceeb8b784"
            ],
            "layout": "IPY_MODEL_da415a072d2240ddb7255dc457afdde9"
          }
        },
        "3e2c3427b94949058ccdbc71575c00b4": {
          "model_module": "@jupyter-widgets/controls",
          "model_name": "HTMLModel",
          "model_module_version": "1.5.0",
          "state": {
            "_dom_classes": [],
            "_model_module": "@jupyter-widgets/controls",
            "_model_module_version": "1.5.0",
            "_model_name": "HTMLModel",
            "_view_count": null,
            "_view_module": "@jupyter-widgets/controls",
            "_view_module_version": "1.5.0",
            "_view_name": "HTMLView",
            "description": "",
            "description_tooltip": null,
            "layout": "IPY_MODEL_bb1e6beddb7442a59382ebd7cbc35ae2",
            "placeholder": "​",
            "style": "IPY_MODEL_868f1690ca5e407997f35e2c41161af4",
            "value": "Generating test split: "
          }
        },
        "626bb942400844c5b826ee38d549aa3e": {
          "model_module": "@jupyter-widgets/controls",
          "model_name": "FloatProgressModel",
          "model_module_version": "1.5.0",
          "state": {
            "_dom_classes": [],
            "_model_module": "@jupyter-widgets/controls",
            "_model_module_version": "1.5.0",
            "_model_name": "FloatProgressModel",
            "_view_count": null,
            "_view_module": "@jupyter-widgets/controls",
            "_view_module_version": "1.5.0",
            "_view_name": "ProgressView",
            "bar_style": "success",
            "description": "",
            "description_tooltip": null,
            "layout": "IPY_MODEL_f7fe2146ecea4c0ab87bc238103f82bf",
            "max": 1,
            "min": 0,
            "orientation": "horizontal",
            "style": "IPY_MODEL_92ccd6d2db7a4f1b99a04a3f225c643c",
            "value": 1
          }
        },
        "4e0c677eee3549e084c8d3fceeb8b784": {
          "model_module": "@jupyter-widgets/controls",
          "model_name": "HTMLModel",
          "model_module_version": "1.5.0",
          "state": {
            "_dom_classes": [],
            "_model_module": "@jupyter-widgets/controls",
            "_model_module_version": "1.5.0",
            "_model_name": "HTMLModel",
            "_view_count": null,
            "_view_module": "@jupyter-widgets/controls",
            "_view_module_version": "1.5.0",
            "_view_name": "HTMLView",
            "description": "",
            "description_tooltip": null,
            "layout": "IPY_MODEL_af186315935441d0a329763cb1b81a6e",
            "placeholder": "​",
            "style": "IPY_MODEL_9731da0fdaf44f16801fca715e612043",
            "value": " 50000/0 [00:00&lt;00:00, 240833.98 examples/s]"
          }
        },
        "da415a072d2240ddb7255dc457afdde9": {
          "model_module": "@jupyter-widgets/base",
          "model_name": "LayoutModel",
          "model_module_version": "1.2.0",
          "state": {
            "_model_module": "@jupyter-widgets/base",
            "_model_module_version": "1.2.0",
            "_model_name": "LayoutModel",
            "_view_count": null,
            "_view_module": "@jupyter-widgets/base",
            "_view_module_version": "1.2.0",
            "_view_name": "LayoutView",
            "align_content": null,
            "align_items": null,
            "align_self": null,
            "border": null,
            "bottom": null,
            "display": null,
            "flex": null,
            "flex_flow": null,
            "grid_area": null,
            "grid_auto_columns": null,
            "grid_auto_flow": null,
            "grid_auto_rows": null,
            "grid_column": null,
            "grid_gap": null,
            "grid_row": null,
            "grid_template_areas": null,
            "grid_template_columns": null,
            "grid_template_rows": null,
            "height": null,
            "justify_content": null,
            "justify_items": null,
            "left": null,
            "margin": null,
            "max_height": null,
            "max_width": null,
            "min_height": null,
            "min_width": null,
            "object_fit": null,
            "object_position": null,
            "order": null,
            "overflow": null,
            "overflow_x": null,
            "overflow_y": null,
            "padding": null,
            "right": null,
            "top": null,
            "visibility": null,
            "width": null
          }
        },
        "bb1e6beddb7442a59382ebd7cbc35ae2": {
          "model_module": "@jupyter-widgets/base",
          "model_name": "LayoutModel",
          "model_module_version": "1.2.0",
          "state": {
            "_model_module": "@jupyter-widgets/base",
            "_model_module_version": "1.2.0",
            "_model_name": "LayoutModel",
            "_view_count": null,
            "_view_module": "@jupyter-widgets/base",
            "_view_module_version": "1.2.0",
            "_view_name": "LayoutView",
            "align_content": null,
            "align_items": null,
            "align_self": null,
            "border": null,
            "bottom": null,
            "display": null,
            "flex": null,
            "flex_flow": null,
            "grid_area": null,
            "grid_auto_columns": null,
            "grid_auto_flow": null,
            "grid_auto_rows": null,
            "grid_column": null,
            "grid_gap": null,
            "grid_row": null,
            "grid_template_areas": null,
            "grid_template_columns": null,
            "grid_template_rows": null,
            "height": null,
            "justify_content": null,
            "justify_items": null,
            "left": null,
            "margin": null,
            "max_height": null,
            "max_width": null,
            "min_height": null,
            "min_width": null,
            "object_fit": null,
            "object_position": null,
            "order": null,
            "overflow": null,
            "overflow_x": null,
            "overflow_y": null,
            "padding": null,
            "right": null,
            "top": null,
            "visibility": null,
            "width": null
          }
        },
        "868f1690ca5e407997f35e2c41161af4": {
          "model_module": "@jupyter-widgets/controls",
          "model_name": "DescriptionStyleModel",
          "model_module_version": "1.5.0",
          "state": {
            "_model_module": "@jupyter-widgets/controls",
            "_model_module_version": "1.5.0",
            "_model_name": "DescriptionStyleModel",
            "_view_count": null,
            "_view_module": "@jupyter-widgets/base",
            "_view_module_version": "1.2.0",
            "_view_name": "StyleView",
            "description_width": ""
          }
        },
        "f7fe2146ecea4c0ab87bc238103f82bf": {
          "model_module": "@jupyter-widgets/base",
          "model_name": "LayoutModel",
          "model_module_version": "1.2.0",
          "state": {
            "_model_module": "@jupyter-widgets/base",
            "_model_module_version": "1.2.0",
            "_model_name": "LayoutModel",
            "_view_count": null,
            "_view_module": "@jupyter-widgets/base",
            "_view_module_version": "1.2.0",
            "_view_name": "LayoutView",
            "align_content": null,
            "align_items": null,
            "align_self": null,
            "border": null,
            "bottom": null,
            "display": null,
            "flex": null,
            "flex_flow": null,
            "grid_area": null,
            "grid_auto_columns": null,
            "grid_auto_flow": null,
            "grid_auto_rows": null,
            "grid_column": null,
            "grid_gap": null,
            "grid_row": null,
            "grid_template_areas": null,
            "grid_template_columns": null,
            "grid_template_rows": null,
            "height": null,
            "justify_content": null,
            "justify_items": null,
            "left": null,
            "margin": null,
            "max_height": null,
            "max_width": null,
            "min_height": null,
            "min_width": null,
            "object_fit": null,
            "object_position": null,
            "order": null,
            "overflow": null,
            "overflow_x": null,
            "overflow_y": null,
            "padding": null,
            "right": null,
            "top": null,
            "visibility": null,
            "width": "20px"
          }
        },
        "92ccd6d2db7a4f1b99a04a3f225c643c": {
          "model_module": "@jupyter-widgets/controls",
          "model_name": "ProgressStyleModel",
          "model_module_version": "1.5.0",
          "state": {
            "_model_module": "@jupyter-widgets/controls",
            "_model_module_version": "1.5.0",
            "_model_name": "ProgressStyleModel",
            "_view_count": null,
            "_view_module": "@jupyter-widgets/base",
            "_view_module_version": "1.2.0",
            "_view_name": "StyleView",
            "bar_color": null,
            "description_width": ""
          }
        },
        "af186315935441d0a329763cb1b81a6e": {
          "model_module": "@jupyter-widgets/base",
          "model_name": "LayoutModel",
          "model_module_version": "1.2.0",
          "state": {
            "_model_module": "@jupyter-widgets/base",
            "_model_module_version": "1.2.0",
            "_model_name": "LayoutModel",
            "_view_count": null,
            "_view_module": "@jupyter-widgets/base",
            "_view_module_version": "1.2.0",
            "_view_name": "LayoutView",
            "align_content": null,
            "align_items": null,
            "align_self": null,
            "border": null,
            "bottom": null,
            "display": null,
            "flex": null,
            "flex_flow": null,
            "grid_area": null,
            "grid_auto_columns": null,
            "grid_auto_flow": null,
            "grid_auto_rows": null,
            "grid_column": null,
            "grid_gap": null,
            "grid_row": null,
            "grid_template_areas": null,
            "grid_template_columns": null,
            "grid_template_rows": null,
            "height": null,
            "justify_content": null,
            "justify_items": null,
            "left": null,
            "margin": null,
            "max_height": null,
            "max_width": null,
            "min_height": null,
            "min_width": null,
            "object_fit": null,
            "object_position": null,
            "order": null,
            "overflow": null,
            "overflow_x": null,
            "overflow_y": null,
            "padding": null,
            "right": null,
            "top": null,
            "visibility": null,
            "width": null
          }
        },
        "9731da0fdaf44f16801fca715e612043": {
          "model_module": "@jupyter-widgets/controls",
          "model_name": "DescriptionStyleModel",
          "model_module_version": "1.5.0",
          "state": {
            "_model_module": "@jupyter-widgets/controls",
            "_model_module_version": "1.5.0",
            "_model_name": "DescriptionStyleModel",
            "_view_count": null,
            "_view_module": "@jupyter-widgets/base",
            "_view_module_version": "1.2.0",
            "_view_name": "StyleView",
            "description_width": ""
          }
        }
      }
    },
    "kaggle": {
      "accelerator": "nvidiaTeslaT4",
      "dataSources": [],
      "dockerImageVersionId": 30588,
      "isInternetEnabled": true,
      "language": "python",
      "sourceType": "notebook",
      "isGpuEnabled": true
    }
  },
  "nbformat_minor": 0,
  "nbformat": 4,
  "cells": [
    {
      "cell_type": "markdown",
      "metadata": {
        "id": "view-in-github",
        "colab_type": "text"
      },
      "source": [
        "<a href=\"https://colab.research.google.com/github/romjiik/NLP_HSE/blob/main/Berdyshev_HW3.ipynb\" target=\"_parent\"><img src=\"https://colab.research.google.com/assets/colab-badge.svg\" alt=\"Open In Colab\"/></a>"
      ]
    },
    {
      "cell_type": "markdown",
      "source": [
        "### Part 1: prompt engineering (4 points total)\n",
        "\n",
        "In the assignment, we'll use public APIs that host the 100B+ models for inference. Your task is to prompt-engineer the model into solving a few tasks for you.\n",
        "\n",
        "\n",
        "__Which API?__ You are free to use any publicly available API for general LM -- as long as it's __not a chat assistant__. So, gpt 3.5 is fine, but chatGPT is not. Here's a few options:\n",
        "\n",
        "- BLOOM API - [bigscience/bloom](https://huggingface.co/bigscience/bloom) (on the right; recommended)\n",
        "- OpenAI API (via VPN) - [openai.com/api](https://openai.com/api/)\n",
        "- AI21 Jurrasic API - [ai21.com](https://www.ai21.com/blog/announcing-ai21-studio-and-jurassic-1)\n",
        "\n",
        "These APIs may require you to create a (free) account on their platform. Please note that some APIs also have paid subscriptions. __You do not need to pay them__, this assignment was designed to be solved using free-tier subscriptions. If no APIs work for you, you can also solve these tasks with the 6.7B model that you will find later in this notebook - but this will make the tasks somewhat harder.\n",
        "\n",
        "__Quests:__ you will need to solve 4 problems. For each one, please attach a short __description__ of your solution and a __screenshot__ from the API you use. _[If you use python APIs, show your python code with outputs]_\n",
        "\n",
        "__Example:__ Tony is talking to Darth Vader ([BLOOM API](https://huggingface.co/bigscience/bloom)). Black text is written manually, blue text is generated.\n",
        "<hr>\n",
        "\n",
        "![img](https://i.imgur.com/a1QhKF7.png)\n",
        "<hr>\n",
        "\n",
        "__It is fine to roll back a few times,__ e.g. in the example above, the model first generated Vader lines twice in a row, and we rolled that back. However, if you need more than 1-2 rollbacks per session, you should probably try a different prompt."
      ],
      "metadata": {
        "id": "1jYrxHF8Kgzl"
      }
    },
    {
      "cell_type": "markdown",
      "source": [
        "__Task 1 (1 pt):__ arange a conversation between any two of the following:\n",
        "\n",
        "- a celebrity or politician of your choice\n",
        "- any fictional character (except Darth Vader)\n",
        "- yourself\n",
        "\n",
        "Compare two setups: a) you prompt with character names only b) you supply additional information (see example)."
      ],
      "metadata": {
        "id": "CHIvIFjsKgzm"
      }
    },
    {
      "cell_type": "markdown",
      "source": [
        "Setup a)  \n",
        "Из предложенных вариантов я выбрал AI21. Я использовал такой промпт:\n",
        "\n",
        "Write a dialogue between Shawn White and Sportacus  \n",
        "\n",
        "Ответ модели:\n",
        "Shawn: Hey Sportacus, how's it going?\n",
        "\n",
        "Sportacus: Great, Shawn! How about you?\n",
        "\n",
        "Shawn: I'm good, thanks. So, I hear you're a fan of extreme sports. What's your favorite?\n",
        "\n",
        "Sportacus: Snowboarding, definitely. I love the feeling of flying down the mountain and catching big air. What about you?\n",
        "\n",
        "Shawn: I'm more of a skateboarder myself. I love the feeling of cruising around the city and pulling off some sick tricks.\n",
        "\n",
        "Sportacus: That's awesome! We should definitely go snowboarding together sometime.\n",
        "\n",
        "Shawn: Definitely! I'd love to hit the slopes with you.\n",
        "\n",
        "Sportacus: Great! I'll bring the snowboards, you bring the skateboard, and we can shred some powder.\n",
        "\n",
        "Shawn: Sounds like a plan! Let's do it!"
      ],
      "metadata": {
        "id": "60aKvmE10Q0o"
      }
    },
    {
      "cell_type": "markdown",
      "source": [
        "[Скриншот](https://drive.google.com/file/d/1huQMA_thdsMxO27TEXERLBD_cAh07THc/view?usp=drive_link)"
      ],
      "metadata": {
        "id": "mh5G9Tpk2C2d"
      }
    },
    {
      "cell_type": "markdown",
      "source": [
        "Диалог получился хороший и без дополнительной информации модель смогла понять, о ком идет речь"
      ],
      "metadata": {
        "id": "CnH0Y_Rb4TjP"
      }
    },
    {
      "cell_type": "markdown",
      "source": [
        "Setup b)\n",
        "\n",
        "В данном случае я использовал такой промпт\n",
        "\n",
        "Write a dialogue between Shawn White and Sportacus. Shawn White is an American former professional snowboarder and skateboarder. Sportacus is a fictional character from the Icelandic children's television show LazyTown, created and portrayed by Magnús Scheving.\n",
        "\n",
        "Ответ модели:\n",
        "\n",
        "Shawn White: Hey Sportacus, what's up?\n",
        "\n",
        "Sportacus: Hey Shawn, how are you?\n",
        "\n",
        "Shawn: I'm good, thanks. So what's new in the world of LazyTown?\n",
        "\n",
        "Sportacus: Well, we're currently in the middle of a big fitness challenge. Everyone is competing to see who can be the most fit and healthiest.\n",
        "\n",
        "Shawn: That sounds awesome. I'm always up for a challenge. How can I help?\n",
        "\n",
        "Sportacus: Well, you could definitely give the kids some tips on training and staying healthy. And they could use some inspiration from someone like you, who has accomplished so much in snowboarding and skateboarding.\n",
        "\n",
        "Shawn: I'd be happy to do that. I love inspiring kids to stay active and eat healthy. Let's get started!\n",
        "\n",
        "Получилось тоже хорошо. Модель поняла, что LazyTown это вымышленный город и чем занимается Спортакус\n",
        "\n",
        "[Скриншот](https://drive.google.com/file/d/1VHLdlbGlS5AEQjMP8Y0vp8HrKV1XS3hs/view?usp=drive_link)"
      ],
      "metadata": {
        "id": "i6nVrK7W3gJu"
      }
    },
    {
      "cell_type": "markdown",
      "source": [
        "__Please choose task 2a or 2b (1pt)__ depending on your model (you can do both, but you will be awarded points for one of these two tasks).\n",
        "\n",
        "__Task 2a: (for BLOOM or other multilingual model)__ zero-shot translation. Take the first verse of [Edgar Allan Poe's \"Raven\"](https://www.poetryfoundation.org/poems/48860/the-raven) and __translate it into French.__ (You are free to use any other text of at least the same size)\n",
        "\n",
        "Original text: ```\n",
        "Once upon a midnight dreary, while I pondered, weak and weary,\n",
        "Over many a quaint and curious volume of forgotten lore—\n",
        "    While I nodded, nearly napping, suddenly there came a tapping,\n",
        "As of some one gently rapping, rapping at my chamber door.\n",
        "“’Tis some visitor,” I muttered, “tapping at my chamber door—\n",
        "            Only this and nothing more.”\n",
        "```\n",
        "\n",
        "Verify your translation by converting french back into english using a public machine translation service.\n",
        "\n",
        "__Task 2b: (non-BLOOM):__ toxicity classification for [SetFit/toxic_conversations](https://huggingface.co/datasets/SetFit/toxic_conversations). Make the model solve binary classification (toxic vs not toxic) in the few shot mode. For few-shot examples, use 2-3 toxic and 2-3 non-toxic non-toxic examples. Measure accuracy on at least 25 samples. You may need to try several different prompts before you find the one that works."
      ],
      "metadata": {
        "id": "Z6Bc13ueKgzn"
      }
    },
    {
      "cell_type": "markdown",
      "source": [
        "Для этого задания воспользуюсь python API, чтобы вручную не писать 25 примеров"
      ],
      "metadata": {
        "id": "LHgdIXGTdlPq"
      }
    },
    {
      "cell_type": "code",
      "source": [
        "!pip install -qq datasets ai21"
      ],
      "metadata": {
        "id": "GygPXoyKKgzo",
        "colab": {
          "base_uri": "https://localhost:8080/"
        },
        "outputId": "691467d0-606e-4bbb-f498-cbdfb92ee7d7"
      },
      "execution_count": null,
      "outputs": [
        {
          "output_type": "stream",
          "name": "stdout",
          "text": "\u001b[2K     \u001b[90m━━━━━━━━━━━━━━━━━━━━━━━━━━━━━━━━━━━━━━━━\u001b[0m \u001b[32m521.2/521.2 kB\u001b[0m \u001b[31m10.2 MB/s\u001b[0m eta \u001b[36m0:00:00\u001b[0m\n\n\u001b[?25h  Preparing metadata (setup.py) ... \u001b[?25l\u001b[?25hdone\n\n\u001b[2K     \u001b[90m━━━━━━━━━━━━━━━━━━━━━━━━━━━━━━━━━━━━━━━━\u001b[0m \u001b[32m115.3/115.3 kB\u001b[0m \u001b[31m18.2 MB/s\u001b[0m eta \u001b[36m0:00:00\u001b[0m\n\n\u001b[2K     \u001b[90m━━━━━━━━━━━━━━━━━━━━━━━━━━━━━━━━━━━━━━━━\u001b[0m \u001b[32m134.8/134.8 kB\u001b[0m \u001b[31m19.4 MB/s\u001b[0m eta \u001b[36m0:00:00\u001b[0m\n\n\u001b[?25h  Building wheel for ai21 (setup.py) ... \u001b[?25l\u001b[?25hdone\n"
        }
      ]
    },
    {
      "cell_type": "code",
      "source": [
        "from datasets import load_dataset\n",
        "import ai21\n",
        "import random\n",
        "import pandas as pd"
      ],
      "metadata": {
        "id": "1qBaKuw885Up"
      },
      "execution_count": null,
      "outputs": []
    },
    {
      "cell_type": "code",
      "source": [
        "data = load_dataset(\"SetFit/toxic_conversations\")"
      ],
      "metadata": {
        "colab": {
          "base_uri": "https://localhost:8080/",
          "height": 298,
          "referenced_widgets": [
            "45d6d5328d554781880020710c442bff",
            "d1bd6dafd2e8485dab25bec4cbeeb150",
            "6ffa55d8e0274259bc445df4dba3f993",
            "2182f510a4374c74b18f9b2124a47d2d",
            "6b4326a5943e4606900ab74b24d99aae",
            "c3418fdcf793458384acf73c3720255d",
            "e07f9ad575aa4fd2a0590297a3ea8fdd",
            "2e288d3224e844a9ac0e7944125972e0",
            "eb9b0aa13ba64bcc983a89ed7b5e8302",
            "98aa519904ba43dc929a0259f5daac2d",
            "4f48a02807b543bdb28d9fd1c7a69b68",
            "617fd8f3eca34a2aa7b4adb41205cd16",
            "73757887ddf849efbd354426f6ec5332",
            "fcc1fdf08ae641368b379675ec21ff41",
            "7b37478fc7454e05ae5eb96ca320164b",
            "cd9a16a389ca41c7a5b59fa34dd91d9e",
            "f43da2beffe4497597cf53b39af30b1e",
            "e703298b22474145a3219372dd371a63",
            "d419c5b8f25d4aa5b0286ad481f4630b",
            "148dcc1bc4b643baafad5ab1e3ed309a",
            "3ea8bb9f3af34b959732a0472f9de8eb",
            "292861473a6c4911b1b72be8656a1478",
            "2614044957aa420da449cb11d1b6e194",
            "c0bab04ec82f4ead98bfd776d009f373",
            "748799f45a1b437496e7d42365d5df24",
            "8ea48f944a5d4e9e8e54a9221c2c7972",
            "b9b5f277e7c647faa12b17f408d8ded2",
            "2c9d8012f8cc46a7b05cd79aed66af67",
            "fb5e100cdacf45c8a610832ca2b55a0d",
            "d01c6c32bf6e4fe1aa3b64baff362520",
            "85c006b022c14379a35b7ea3218be0a7",
            "bb00b20b07724cfe8173be5103275908",
            "1d9b89d82ee64115ac5d009ddb4ece07",
            "8e7efc3cb94f4c0587d4320e8681658a",
            "4c4dde34eddd48bd9a4b35decdee2975",
            "115905d1bafc48a4af8b066f86ccd3fd",
            "de57d5391302488fb6ee761438b40972",
            "6e3cf0937768495fa2402347fd6b523a",
            "9cde7a1c87114746bd3a7e87884eb5a5",
            "f5653772fa384cc8b4feb33e9af4e23a",
            "46dec4ff5d38482cacebbe607eb671d6",
            "014a9c8c804b4b1391a0c47750b8222e",
            "f8e711e3d939464ba584180924d129d5",
            "52287babfa2843d4945642633e0dc4e4",
            "d8f1b65bdb984c5e9dc1c7e1ed3b3297",
            "86b43ef20a0248d3bdcdab58534b928f",
            "96d9216b10894f23ad519a9223261018",
            "982ed81ffd8a4f78b7dc707d52897399",
            "e7d20b1bb8f74d08ae6241abd2280874",
            "986e7f74212d403591c3d6b02584cb7d",
            "eae19bb956d248e68c1afa6002c1366f",
            "986f97479a3d471cb7b865814dc70e8a",
            "c182604d9a9e4deaa572171dbc99f889",
            "2c19dbd9856c46a1b90227a9695c6dd6",
            "50fac0149bcf453085cecca2e86048f0",
            "01207ee6700d4a98af2015b633289205",
            "c5e4aed7fd6f4d29940ece00a80b7fde",
            "ea53ac6afa7d47329cebfccda2545004",
            "fb234af40d6d44b482b9a02470fdfb51",
            "39e6614e4b1a40f6aaf841bdcf16ff88",
            "3a1a77fe0bbf48acbfac565231b05f1d",
            "e95a1ff5fb1647dfb5ffbafdb025e2b6",
            "3e900f8909fe419ca7bd7cb89fdb5198",
            "d1a6356a096f46218965eac2249113a4",
            "354be554f93b4ba094169d147f05fb66",
            "cc493862bab44e7d95af96effd2308b9",
            "ef2ca5fe40984815bcd9b73d09f31d2e",
            "3e2c3427b94949058ccdbc71575c00b4",
            "626bb942400844c5b826ee38d549aa3e",
            "4e0c677eee3549e084c8d3fceeb8b784",
            "da415a072d2240ddb7255dc457afdde9",
            "bb1e6beddb7442a59382ebd7cbc35ae2",
            "868f1690ca5e407997f35e2c41161af4",
            "f7fe2146ecea4c0ab87bc238103f82bf",
            "92ccd6d2db7a4f1b99a04a3f225c643c",
            "af186315935441d0a329763cb1b81a6e",
            "9731da0fdaf44f16801fca715e612043"
          ]
        },
        "id": "_jt6qVaq7ibw",
        "outputId": "59ba390d-a955-4974-a071-e6e6e892f2ef"
      },
      "execution_count": null,
      "outputs": [
        {
          "output_type": "display_data",
          "data": {
            "text/plain": [
              "Downloading readme:   0%|          | 0.00/507 [00:00<?, ?B/s]"
            ],
            "application/vnd.jupyter.widget-view+json": {
              "version_major": 2,
              "version_minor": 0,
              "model_id": "45d6d5328d554781880020710c442bff"
            }
          },
          "metadata": {}
        },
        {
          "output_type": "stream",
          "name": "stderr",
          "text": "/usr/local/lib/python3.10/dist-packages/huggingface_hub/repocard.py:105: UserWarning: Repo card metadata block was not found. Setting CardData to empty.\n\n  warnings.warn(\"Repo card metadata block was not found. Setting CardData to empty.\")\n"
        },
        {
          "output_type": "display_data",
          "data": {
            "text/plain": [
              "Downloading data files:   0%|          | 0/2 [00:00<?, ?it/s]"
            ],
            "application/vnd.jupyter.widget-view+json": {
              "version_major": 2,
              "version_minor": 0,
              "model_id": "617fd8f3eca34a2aa7b4adb41205cd16"
            }
          },
          "metadata": {}
        },
        {
          "output_type": "display_data",
          "data": {
            "text/plain": [
              "Downloading data:   0%|          | 0.00/617M [00:00<?, ?B/s]"
            ],
            "application/vnd.jupyter.widget-view+json": {
              "version_major": 2,
              "version_minor": 0,
              "model_id": "2614044957aa420da449cb11d1b6e194"
            }
          },
          "metadata": {}
        },
        {
          "output_type": "display_data",
          "data": {
            "text/plain": [
              "Downloading data:   0%|          | 0.00/17.5M [00:00<?, ?B/s]"
            ],
            "application/vnd.jupyter.widget-view+json": {
              "version_major": 2,
              "version_minor": 0,
              "model_id": "8e7efc3cb94f4c0587d4320e8681658a"
            }
          },
          "metadata": {}
        },
        {
          "output_type": "display_data",
          "data": {
            "text/plain": [
              "Extracting data files:   0%|          | 0/2 [00:00<?, ?it/s]"
            ],
            "application/vnd.jupyter.widget-view+json": {
              "version_major": 2,
              "version_minor": 0,
              "model_id": "d8f1b65bdb984c5e9dc1c7e1ed3b3297"
            }
          },
          "metadata": {}
        },
        {
          "output_type": "display_data",
          "data": {
            "text/plain": [
              "Generating train split: 0 examples [00:00, ? examples/s]"
            ],
            "application/vnd.jupyter.widget-view+json": {
              "version_major": 2,
              "version_minor": 0,
              "model_id": "01207ee6700d4a98af2015b633289205"
            }
          },
          "metadata": {}
        },
        {
          "output_type": "display_data",
          "data": {
            "text/plain": [
              "Generating test split: 0 examples [00:00, ? examples/s]"
            ],
            "application/vnd.jupyter.widget-view+json": {
              "version_major": 2,
              "version_minor": 0,
              "model_id": "ef2ca5fe40984815bcd9b73d09f31d2e"
            }
          },
          "metadata": {}
        }
      ]
    },
    {
      "cell_type": "code",
      "source": [
        "ai21.api_key = '5ja2hgq51shgcjnJ1WoiETeCduXE470T'\n",
        "\n",
        "def sent_prompt(input):\n",
        "    out = ai21.Completion.execute(\n",
        "    model=\"j2-ultra\",\n",
        "    prompt=input,\n",
        "    numResults=1,\n",
        "    maxTokens=200,\n",
        "    temperature=0.7,\n",
        "    topKReturn=0,\n",
        "    topP=1,\n",
        "    presencePenalty={\n",
        "        \"scale\": 1,\n",
        "        \"applyToNumbers\": True,\n",
        "        \"applyToPunctuations\": True,\n",
        "        \"applyToStopwords\": True,\n",
        "        \"applyToWhitespaces\": True,\n",
        "        \"applyToEmojis\": True\n",
        "    },\n",
        "    countPenalty={\n",
        "        \"scale\": 1,\n",
        "        \"applyToNumbers\": True,\n",
        "        \"applyToPunctuations\": True,\n",
        "        \"applyToStopwords\": True,\n",
        "        \"applyToWhitespaces\": True,\n",
        "        \"applyToEmojis\": True\n",
        "    },\n",
        "    frequencyPenalty={\n",
        "        \"scale\": 1,\n",
        "        \"applyToNumbers\": True,\n",
        "        \"applyToPunctuations\": True,\n",
        "        \"applyToStopwords\": True,\n",
        "        \"applyToWhitespaces\": True,\n",
        "        \"applyToEmojis\": True\n",
        "    },\n",
        "    stopSequences=[]\n",
        "    )\n",
        "    return out.completions[0]['data']['text']"
      ],
      "metadata": {
        "id": "rNOY8qvo8uRG"
      },
      "execution_count": null,
      "outputs": []
    },
    {
      "cell_type": "code",
      "source": [
        "def generate_prompt(dataset, text_number, with_label=True):\n",
        "    if with_label:\n",
        "        return f\"\"\"\n",
        "===\\n\n",
        "Classify the following text into one of the following topics:\\n\n",
        "1. toxic\\n\n",
        "2. no toxic\\n\n",
        "Text:\\n\n",
        "{dataset['text'][int(text_number)]}\\n\n",
        "The topic of this text is:\\n\n",
        "{dataset['label_text'][int(text_number)]}\"\"\"\n",
        "    else:\n",
        "        return f\"\"\"\n",
        "===\n",
        "Classify the following text into one of the following topics:\\n\n",
        "1. toxic\\n\n",
        "2. no toxic\\n\n",
        "Text:\\n\n",
        "{dataset['text'][int(text_number)]}\\n\n",
        "The topic of this text is:\"\"\""
      ],
      "metadata": {
        "id": "SNMKzGxkFGyN"
      },
      "execution_count": null,
      "outputs": []
    },
    {
      "cell_type": "code",
      "source": [
        "dataset = pd.DataFrame(data['test'])\n",
        "\n",
        "text_number = 0\n",
        "right_response = 0\n",
        "\n",
        "for i in range(25):\n",
        "    prompt = ''\n",
        "    toxic_counter = 0\n",
        "    not_toxic_counter = 0\n",
        "    while toxic_counter != 1 or not_toxic_counter != 1:\n",
        "        if dataset['label_text'][text_number] == 'toxic' and toxic_counter < 1:\n",
        "            toxic_counter += 1\n",
        "            prompt += generate_prompt(dataset, text_number)\n",
        "        elif dataset['label_text'][text_number] == 'not toxic' and not_toxic_counter < 1:\n",
        "            not_toxic_counter += 1\n",
        "            prompt += generate_prompt(dataset, text_number)\n",
        "        text_number += 1\n",
        "    prompt += generate_prompt(dataset, text_number, with_label=False)\n",
        "    response = sent_prompt(prompt)\n",
        "    if response.lower() == dataset['label_text'][text_number]:\n",
        "        right_response += 1\n",
        "    print(f\"Ответ модели на промпте {i + 1} = {response.lower()} | Истинный ответ = {dataset['label_text'][text_number]}\")\n",
        "\n",
        "print(f\"Accuracy = {right_response / 25}\")"
      ],
      "metadata": {
        "colab": {
          "base_uri": "https://localhost:8080/"
        },
        "id": "0vcoD-ES76rW",
        "outputId": "25f014b4-6670-4e54-f0fe-48aa1069f557"
      },
      "execution_count": null,
      "outputs": [
        {
          "output_type": "stream",
          "name": "stdout",
          "text": "Ответ модели на промпте 1 = toxic | Истинный ответ = not toxic\n\nОтвет модели на промпте 2 =  | Истинный ответ = toxic\n\nОтвет модели на промпте 3 =  | Истинный ответ = not toxic\n\nОтвет модели на промпте 4 = no toxic | Истинный ответ = not toxic\n\nОтвет модели на промпте 5 = not toxic | Истинный ответ = not toxic\n\nОтвет модели на промпте 6 =  | Истинный ответ = not toxic\n\nОтвет модели на промпте 7 =  | Истинный ответ = not toxic\n\nОтвет модели на промпте 8 = no toxic | Истинный ответ = not toxic\n\nОтвет модели на промпте 9 =  | Истинный ответ = not toxic\n\nОтвет модели на промпте 10 =  | Истинный ответ = not toxic\n\nОтвет модели на промпте 11 = toxic | Истинный ответ = not toxic\n\nОтвет модели на промпте 12 =  | Истинный ответ = toxic\n\nОтвет модели на промпте 13 =  | Истинный ответ = not toxic\n\nОтвет модели на промпте 14 = no toxic | Истинный ответ = not toxic\n\nОтвет модели на промпте 15 =  no toxic | Истинный ответ = not toxic\n\nОтвет модели на промпте 16 = toxic | Истинный ответ = not toxic\n\nОтвет модели на промпте 17 =  | Истинный ответ = not toxic\n\nОтвет модели на промпте 18 =  | Истинный ответ = not toxic\n\nОтвет модели на промпте 19 =  | Истинный ответ = not toxic\n\nОтвет модели на промпте 20 =  | Истинный ответ = not toxic\n\nОтвет модели на промпте 21 =  | Истинный ответ = toxic\n\nОтвет модели на промпте 22 =  | Истинный ответ = not toxic\n\nОтвет модели на промпте 23 =  | Истинный ответ = not toxic\n\nОтвет модели на промпте 24 =  | Истинный ответ = not toxic\n\nОтвет модели на промпте 25 =  | Истинный ответ = toxic\n\nAccuracy = 0.04\n"
        }
      ]
    },
    {
      "cell_type": "markdown",
      "source": [
        "По большей части модель почему-то выдает пустые значения. Иногда она по сути пишет ответ правильно по смыслу \"no toxic\", но это не совпадает посимвольно"
      ],
      "metadata": {
        "id": "_N3JF_hZab3z"
      }
    },
    {
      "cell_type": "markdown",
      "source": [
        "\n",
        "__Task 3 (1pt):__ create a prompt and few-shot examples tha make the model __change the gender pronouns__ of the main actor in a given sentence in any direction of your choice. E.g. the doctor took off _his_ mask <-> the doctor took of _her_ mask.\n"
      ],
      "metadata": {
        "id": "iaYweoPsKgzo"
      }
    },
    {
      "cell_type": "markdown",
      "source": [
        "Я подал в модель такой промпт\n",
        "\n",
        "Сhange the gender pronouns of the main actor in a given sentence:\n",
        "- Original sentence: \"She received an invitation to the award for her achievements.\"\n",
        "- Desired sentence after the change: \"He received an invitation to the award for his achievements.\"\n",
        "\n",
        "==  \n",
        "Сhange the gender pronouns of the main actor in a given sentence:\n",
        "- Original sentence: \"He opened his heart and shared secrets.\"\n",
        "- Desired sentence after the change: \"She opened her heart and shared secrets.\"\n",
        "\n",
        "==  \n",
        "Сhange the gender pronouns of the main actor in a given sentence:\n",
        "- Original sentence: \"She has always been strong and independent.\"\n",
        "- Desired sentence after the change: \"He has always been strong and independent.\"\n",
        "\n",
        "==  \n",
        "Сhange the gender pronouns of the main actor in a given sentence:\n",
        "- Original sentence: \"She ran a marathon, displaying exceptional abilities.\"\n",
        "- Desired sentence after the change:\n",
        "\n",
        "Ответ модели: He ran a marathon, displaying exceptional abilities.\n",
        "\n",
        "\n",
        "[Скриншот](https://drive.google.com/file/d/1dlwkyrZfU67eoOeH-S1358epqbsUhHb1/view?usp=drive_link)\n",
        "\n",
        "Модель справилась на ура"
      ],
      "metadata": {
        "id": "gTmNKwmGcpxf"
      }
    },
    {
      "cell_type": "markdown",
      "source": [
        "__Task 4 (1pt):__ write a prompt and supply examples such that the model would __convert imperial units to metric units__ (miles -> kilometers; mph -> kph). More specifically, the model should rewrite a given sentence and replace all imperial units with their metric equivalents. After it works with basic distances and speed, try to find complicated examples where it does *not* work.\n",
        "\n",
        "Please note that 1 mile is not equal to 1 km :)"
      ],
      "metadata": {
        "id": "bbNrRmgMKgzq"
      }
    },
    {
      "cell_type": "markdown",
      "source": [
        "Я написал такой промпт\n",
        "\n",
        "Convert all imperial units to metric units in the given sentence by replacing them with their metric equivalents.\n",
        "- Original sentence: \"He drove at 60 mph on the highway.\"\n",
        "- Desired sentence: \"He drove at 96.56 kph on the highway.\"\n",
        "\n",
        "==  \n",
        "Convert all imperial units to metric units in the given sentence by replacing them with their metric equivalents.\n",
        "- Original sentence: \"The distance from London to Manchester is 200 miles.\"\n",
        "- Desired sentence: \"The distance from London to Manchester is 321.87 kilometers.\"\n",
        "\n",
        "==  \n",
        "Convert all imperial units to metric units in the given sentence by replacing them with their metric equivalents.\n",
        "- Original sentence: \"The marathon is a 26.2-mile race.\"\n",
        "- Desired sentence: \"The marathon is a 42.16-kilometer race.\"\n",
        "\n",
        "==  \n",
        "Convert all imperial units to metric units in the given sentence by replacing them with their metric equivalents.\n",
        "- Original sentence: \"He drove for 150 miles before reaching his destination.\"\n",
        "- Desired sentence:\n",
        "\n",
        "\n",
        "Ответ модели:\n",
        "==  \n",
        "Convert all imperial units to metric units in the given sentence by replacing them with their metric equivalents.\n",
        "- Original sentence: \"The gas tank holds 12 gallons of gas.\"\n",
        "- Desired sentence: \"The gas tank holds 45.42 liters of gas.\"\n",
        "\n",
        "[Скриншот](https://drive.google.com/file/d/1f-dcbK2hwZ9KeR_64b7xr_zGasZDRfpG/view?usp=drive_link)\n",
        "\n",
        "Модель сделала не то, что я ожидал - она сгенерила свой промпт при этом правильно перевела единицы измерения"
      ],
      "metadata": {
        "id": "UrouzHiRhhx5"
      }
    },
    {
      "cell_type": "markdown",
      "source": [
        "В качестве более сложного примера я подал промпт без few-shot примеров и с конвертацией двух единиц измерения:  \n",
        "Convert all imperial units to metric units in the given sentence by replacing them with their metric equivalents.\n",
        "- Original sentence: \"The car's fuel efficiency is 25 miles per gallon.\"\n",
        "- Prompted sentence:\n",
        "\n",
        "Ответ модели:  \n",
        "The car's fuel efficiency is 25 miles per gallon.  \n",
        "\n",
        "\n",
        "[Скриншот](https://drive.google.com/file/d/1pF6LGvBU03241m6cwmx7hkvCdR-R69d_/view?usp=drive_link)\n",
        "\n",
        "В этом случае модель не поняла, что нужно делать и просто переписала исходное предложение"
      ],
      "metadata": {
        "id": "U5s-rk-7ijWg"
      }
    },
    {
      "cell_type": "markdown",
      "source": [
        "### Part 2: local inference\n",
        "\n",
        "Now, let's try and load the strongest model that can fit a typical Colab GPU (T4 with 16 GB as of spring 2023).\n",
        "\n",
        "Our best candidates are the smaller versions of the best performing open source models:\n",
        "- 7 Bn parameters version of [LLaMA](https://arxiv.org/pdf/2302.13971.pdf) - best for spring 2023, released by Facebook\n",
        "- 7 Bn parameters version of [Falcon](https://falconllm.tii.ae) - close competitor to Llama, released in May 2023 by [Technology Innovation Institute of UAE](https://www.tii.ae).\n",
        "- 6.7 Bn parameters version of [OPT](https://arxiv.org/abs/2205.01068) - top choice in this nomination in 2022, released by Facebook.\n",
        "\n",
        "Beware: while these models are smaller than the ones in API, they're still over 60x larger than the BERT we played with last time. The code below will *just barely* fit into memory, so make sure you don't have anything else loaded. Sometimes you may need to restart runtime for the code to work.\n",
        "\n",
        "It's a good time to restart your kernel and switch to GPU! (Runtime -> Change runtime type)\n",
        "<center><img src=\"https://i.imgur.com/OOfDYzJ.png\" width=240px></center>"
      ],
      "metadata": {
        "id": "ZKw-mjuRKgzs"
      }
    },
    {
      "cell_type": "code",
      "source": [
        "%pip install -qq bitsandbytes==0.41.1 transformers==4.34.1 accelerate==0.24.0 sentencepiece==0.1.99 optimum==1.13.2 auto-gptq==0.4.2\n",
        "import torch\n",
        "import torch.nn as nn\n",
        "import torch.nn.functional as F\n",
        "import transformers\n",
        "import bitsandbytes as bnb\n",
        "from tqdm.auto import tqdm, trange\n",
        "assert torch.cuda.is_available(), \"you need cuda for this part\"\n",
        "device = torch.device('cuda' if torch.cuda.is_available() else 'cpu')"
      ],
      "metadata": {
        "id": "7xeRF_hSKgzs",
        "colab": {
          "base_uri": "https://localhost:8080/",
          "height": 433
        },
        "outputId": "ac605abf-0546-4fbc-b798-4af4be46621c",
        "execution": {
          "iopub.status.busy": "2023-12-03T11:48:36.559052Z",
          "iopub.execute_input": "2023-12-03T11:48:36.559326Z",
          "iopub.status.idle": "2023-12-03T11:49:29.758106Z",
          "shell.execute_reply.started": "2023-12-03T11:48:36.559301Z",
          "shell.execute_reply": "2023-12-03T11:49:29.756938Z"
        },
        "trusted": true
      },
      "execution_count": null,
      "outputs": [
        {
          "name": "stdout",
          "text": "Note: you may need to restart the kernel to use updated packages.\n",
          "output_type": "stream"
        },
        {
          "name": "stderr",
          "text": "/opt/conda/lib/python3.10/site-packages/scipy/__init__.py:146: UserWarning: A NumPy version >=1.16.5 and <1.23.0 is required for this version of SciPy (detected version 1.24.3\n  warnings.warn(f\"A NumPy version >={np_minversion} and <{np_maxversion}\"\n",
          "output_type": "stream"
        }
      ]
    },
    {
      "cell_type": "code",
      "source": [
        "# model_name = 'TheBloke/Llama-2-7B-Chat-GPTQ'\n",
        "model_name = \"tiiuae/falcon-7b\"\n",
        "\n",
        "# loading Llama tokenizer ...\n",
        "tokenizer = transformers.AutoTokenizer.from_pretrained(model_name, device_map=device)\n",
        "tokenizer.pad_token_id = tokenizer.eos_token_id\n",
        "\n",
        "# ... and the model itself\n",
        "model = transformers.AutoModelForCausalLM.from_pretrained(\n",
        "    model_name,\n",
        "    device_map='auto',\n",
        "    torch_dtype=torch.float16,\n",
        "    low_cpu_mem_usage=True,\n",
        "    offload_state_dict=True\n",
        ")"
      ],
      "metadata": {
        "execution": {
          "iopub.status.busy": "2023-12-03T11:49:29.760177Z",
          "iopub.execute_input": "2023-12-03T11:49:29.760712Z",
          "iopub.status.idle": "2023-12-03T11:51:43.723956Z",
          "shell.execute_reply.started": "2023-12-03T11:49:29.760675Z",
          "shell.execute_reply": "2023-12-03T11:51:43.722990Z"
        },
        "trusted": true,
        "id": "2RKL98ZcF2_-",
        "outputId": "5442a30d-6377-423c-ef02-0a951cbdd3dd",
        "colab": {
          "referenced_widgets": [
            "d5a6a3a3817a4fc9a3c31170ab68df81",
            "7c6309b5cc624b40b81f3563147cbd22",
            "68616c3de9174dce9f43b3fbc5fd6fb3",
            "0180c0aeee0040b8bf064d2a801d10aa",
            "161ebd75c6da473ca98847bc6cf57ca8",
            "e131782e7d084bc4a6391f2daa15cbf3",
            "11fab003a4444eb694916c84f3bf5a3f",
            "84379970041e4822bc83cfe55c3f80c4",
            "37bd0e5b82b04c928c16ee9747605b7c",
            "9905134760a94358bb5f37b3dbb2007f"
          ]
        }
      },
      "execution_count": null,
      "outputs": [
        {
          "output_type": "display_data",
          "data": {
            "text/plain": "Downloading tokenizer_config.json:   0%|          | 0.00/287 [00:00<?, ?B/s]",
            "application/vnd.jupyter.widget-view+json": {
              "version_major": 2,
              "version_minor": 0,
              "model_id": "d5a6a3a3817a4fc9a3c31170ab68df81"
            }
          },
          "metadata": {}
        },
        {
          "output_type": "display_data",
          "data": {
            "text/plain": "Downloading tokenizer.json:   0%|          | 0.00/2.73M [00:00<?, ?B/s]",
            "application/vnd.jupyter.widget-view+json": {
              "version_major": 2,
              "version_minor": 0,
              "model_id": "7c6309b5cc624b40b81f3563147cbd22"
            }
          },
          "metadata": {}
        },
        {
          "output_type": "display_data",
          "data": {
            "text/plain": "Downloading (…)cial_tokens_map.json:   0%|          | 0.00/281 [00:00<?, ?B/s]",
            "application/vnd.jupyter.widget-view+json": {
              "version_major": 2,
              "version_minor": 0,
              "model_id": "68616c3de9174dce9f43b3fbc5fd6fb3"
            }
          },
          "metadata": {}
        },
        {
          "output_type": "display_data",
          "data": {
            "text/plain": "Downloading config.json:   0%|          | 0.00/1.05k [00:00<?, ?B/s]",
            "application/vnd.jupyter.widget-view+json": {
              "version_major": 2,
              "version_minor": 0,
              "model_id": "0180c0aeee0040b8bf064d2a801d10aa"
            }
          },
          "metadata": {}
        },
        {
          "output_type": "display_data",
          "data": {
            "text/plain": "Downloading (…)model.bin.index.json:   0%|          | 0.00/16.9k [00:00<?, ?B/s]",
            "application/vnd.jupyter.widget-view+json": {
              "version_major": 2,
              "version_minor": 0,
              "model_id": "161ebd75c6da473ca98847bc6cf57ca8"
            }
          },
          "metadata": {}
        },
        {
          "output_type": "display_data",
          "data": {
            "text/plain": "Downloading shards:   0%|          | 0/2 [00:00<?, ?it/s]",
            "application/vnd.jupyter.widget-view+json": {
              "version_major": 2,
              "version_minor": 0,
              "model_id": "e131782e7d084bc4a6391f2daa15cbf3"
            }
          },
          "metadata": {}
        },
        {
          "output_type": "display_data",
          "data": {
            "text/plain": "Downloading (…)l-00001-of-00002.bin:   0%|          | 0.00/9.95G [00:00<?, ?B/s]",
            "application/vnd.jupyter.widget-view+json": {
              "version_major": 2,
              "version_minor": 0,
              "model_id": "11fab003a4444eb694916c84f3bf5a3f"
            }
          },
          "metadata": {}
        },
        {
          "output_type": "display_data",
          "data": {
            "text/plain": "Downloading (…)l-00002-of-00002.bin:   0%|          | 0.00/4.48G [00:00<?, ?B/s]",
            "application/vnd.jupyter.widget-view+json": {
              "version_major": 2,
              "version_minor": 0,
              "model_id": "84379970041e4822bc83cfe55c3f80c4"
            }
          },
          "metadata": {}
        },
        {
          "output_type": "display_data",
          "data": {
            "text/plain": "Loading checkpoint shards:   0%|          | 0/2 [00:00<?, ?it/s]",
            "application/vnd.jupyter.widget-view+json": {
              "version_major": 2,
              "version_minor": 0,
              "model_id": "37bd0e5b82b04c928c16ee9747605b7c"
            }
          },
          "metadata": {}
        },
        {
          "output_type": "display_data",
          "data": {
            "text/plain": "Downloading generation_config.json:   0%|          | 0.00/117 [00:00<?, ?B/s]",
            "application/vnd.jupyter.widget-view+json": {
              "version_major": 2,
              "version_minor": 0,
              "model_id": "9905134760a94358bb5f37b3dbb2007f"
            }
          },
          "metadata": {}
        }
      ]
    },
    {
      "cell_type": "markdown",
      "source": [
        "## Text generation\n",
        "\n",
        "**Comparison of strategies for language model text generation:**\n",
        "\n",
        "| Strategy | Description | Pros & Cons |\n",
        "| --- | --- | --- |\n",
        "| Greedy Search | Chooses the word with the highest probability as the next word in the sequence. | **Pros:** Simple and fast. <br> **Cons:** Can lead to repetitive and incoherent text. |\n",
        "| Sampling with Temperature | Introduces randomness in the word selection. A higher temperature leads to more randomness. | **Pros:** Allows exploration and diverse output. <br> **Cons:** Higher temperatures can lead to nonsensical outputs. |\n",
        "| Nucleus Sampling (Top-p Sampling) | Selects the next word from a truncated vocabulary, the \"nucleus\" of words that have a cumulative probability exceeding a pre-specified threshold (p). | **Pros:** Balances diversity and quality. <br> **Cons:** Setting an optimal 'p' can be tricky. |\n",
        "| Beam Search | Explores multiple hypotheses (sequences of words) at each step, and keeps the 'k' most likely, where 'k' is the beam width. | **Pros:** Produces more reliable results than greedy search. <br> **Cons:** Can lack diversity and lead to generic responses. |\n",
        "| Top-k Sampling | Randomly selects the next word from the top 'k' words with the highest probabilities. | **Pros:** Introduces randomness, increasing output diversity. <br> **Cons:** Random selection can sometimes lead to less coherent outputs. |\n",
        "| Length Normalization | Prevents the model from favoring shorter sequences by dividing the log probabilities by the sequence length raised to some power. | **Pros:** Makes longer and potentially more informative sequences more likely. <br> **Cons:** Tuning the normalization factor can be difficult. |\n",
        "| Stochastic Beam Search | Introduces randomness into the selection process of the 'k' hypotheses in beam search. | **Pros:** Increases diversity in the generated text. <br> **Cons:** The trade-off between diversity and quality can be tricky to manage. |\n",
        "| Decoding with Minimum Bayes Risk (MBR) | Chooses the hypothesis (out of many) that minimizes expected loss under a loss function. | **Pros:** Optimizes the output according to a specific loss function. <br> **Cons:** Computationally more complex and requires a good loss function. |\n",
        "\n",
        "Documentation references:\n",
        "- [reference for `AutoModelForCausalLM.generate()`](https://huggingface.co/docs/transformers/v4.29.1/en/main_classes/text_generation#transformers.GenerationMixin.generate)\n",
        "- [reference for `AutoTokenizer.decode()`](https://huggingface.co/docs/transformers/main_classes/tokenizer#transformers.PreTrainedTokenizer.decode)\n",
        "- Huggingface [docs on generation strategies](https://huggingface.co/docs/transformers/generation_strategies)"
      ],
      "metadata": {
        "id": "5k2zCgAhG7l5"
      }
    },
    {
      "cell_type": "markdown",
      "source": [
        "### Generation with HuggingFace"
      ],
      "metadata": {
        "id": "GWm6KDSzMiAf"
      }
    },
    {
      "cell_type": "code",
      "source": [
        "prompt = 'The first discovered martian lifeform looks like'\n",
        "batch = tokenizer(prompt, return_tensors='pt', return_token_type_ids=False).to(device)\n",
        "print(\"Input batch (encoded):\", batch)\n",
        "\n",
        "output_tokens = model.generate(**batch, max_new_tokens=64, do_sample=True, temperature=0.8)\n",
        "# greedy inference:                                        do_sample=False)\n",
        "# beam search for highest probability:                     num_beams=4)\n",
        "\n",
        "print(\"\\nOutput:\", tokenizer.decode(output_tokens[0].cpu()))"
      ],
      "metadata": {
        "id": "gGfyeM-vdq5o",
        "tags": [],
        "colab": {
          "base_uri": "https://localhost:8080/"
        },
        "outputId": "3cbea3ae-8676-4628-c868-3a8a8d77a3d1",
        "execution": {
          "iopub.status.busy": "2023-12-02T20:06:57.571467Z",
          "iopub.execute_input": "2023-12-02T20:06:57.572353Z",
          "iopub.status.idle": "2023-12-02T20:07:03.656198Z",
          "shell.execute_reply.started": "2023-12-02T20:06:57.572320Z",
          "shell.execute_reply": "2023-12-02T20:07:03.655280Z"
        },
        "trusted": true
      },
      "execution_count": null,
      "outputs": [
        {
          "name": "stderr",
          "text": "Setting `pad_token_id` to `eos_token_id`:11 for open-end generation.\n",
          "output_type": "stream"
        },
        {
          "name": "stdout",
          "text": "Input batch (encoded): {'input_ids': tensor([[  487,   772,  6524, 13346,   715,  1063,   590,  2896,   606]],\n       device='cuda:0'), 'attention_mask': tensor([[1, 1, 1, 1, 1, 1, 1, 1, 1]], device='cuda:0')}\n\nOutput: The first discovered martian lifeform looks like a \"one-celled organism,\" according to NASA.\nThe \"suspicious\" organism, the first to be found on Mars, was discovered in a vein of salt water.\n\"This is the first discovery of possible life in a Martian environment,\" the agency said in a statement. \"\n",
          "output_type": "stream"
        }
      ]
    },
    {
      "cell_type": "markdown",
      "source": [
        "#### Low-level code for text generation"
      ],
      "metadata": {
        "id": "P17ehC1sKgzx"
      }
    },
    {
      "cell_type": "code",
      "source": [
        "prompt = \"Moscow is the capital of\"\n",
        "# prompt = \"Skippy, a young android, likes to dream about electric\"\n",
        "\n",
        "print(prompt, '\\n')\n",
        "\n",
        "voc = tokenizer.get_vocab()\n",
        "voc_rev = {v:k for k, v in voc.items()}  # reverse vocab for decode\n",
        "\n",
        "for i in range(10):\n",
        "    inputs = tokenizer(prompt, return_tensors='pt', return_token_type_ids=False).to(device)\n",
        "    logits = model.forward(**inputs).logits[0, -1, :]\n",
        "    probs = torch.nn.functional.softmax(logits, dim=-1)\n",
        "    next_token_id = torch.multinomial(probs.flatten(), num_samples=1)\n",
        "\n",
        "    next_token = tokenizer.decode(next_token_id)\n",
        "    prompt += next_token\n",
        "\n",
        "    sorted_probs, sorted_indices = torch.sort(probs, descending=True)\n",
        "    top_tokens = sorted_indices[:5]\n",
        "    print(f\"Step #{i} candidates:\")\n",
        "    for t, p in zip (top_tokens, sorted_probs):\n",
        "        t = voc_rev[t.item()]\n",
        "        print(f\"{t:<10}: {p:.4f} \")\n",
        "\n",
        "    print(f'\\nChosen token: {next_token}', end='\\n\\n', flush=True)"
      ],
      "metadata": {
        "id": "LZJvOMbmG7l8",
        "tags": [],
        "outputId": "1eb6363d-0270-4a90-adfa-7312134860cd",
        "colab": {
          "base_uri": "https://localhost:8080/"
        },
        "execution": {
          "iopub.status.busy": "2023-12-02T20:07:43.801905Z",
          "iopub.execute_input": "2023-12-02T20:07:43.802742Z",
          "iopub.status.idle": "2023-12-02T20:07:46.786987Z",
          "shell.execute_reply.started": "2023-12-02T20:07:43.802710Z",
          "shell.execute_reply": "2023-12-02T20:07:46.785770Z"
        },
        "trusted": true
      },
      "execution_count": null,
      "outputs": [
        {
          "name": "stdout",
          "text": "Moscow is the capital of \n\nStep #0 candidates:\nĠRussia   : 0.7266 \nĠthe      : 0.1871 \nĠRussian  : 0.0200 \nĠa        : 0.0054 \nĠboth     : 0.0052 \n\nChosen token:  the\n\nStep #1 candidates:\nĠRussian  : 0.7227 \nĠlargest  : 0.0496 \nĠcountry  : 0.0459 \nĠworld    : 0.0194 \nĠEuropean : 0.0108 \n\nChosen token:  Soviet\n\nStep #2 candidates:\nĠUnion    : 0.8193 \nĠSocialist: 0.0535 \nĠstate    : 0.0166 \nĠand      : 0.0075 \nĠRussia   : 0.0074 \n\nChosen token:  Union\n\nStep #3 candidates:\n.         : 0.3157 \nĠand      : 0.2927 \n,         : 0.2404 \nĠ         : 0.0335 \nĊ         : 0.0142 \n\nChosen token: ,\n\nStep #4 candidates:\nĠthe      : 0.2100 \nĠand      : 0.2052 \nĠRussia   : 0.0895 \nĠa        : 0.0705 \nĠwhich    : 0.0476 \n\nChosen token:  and\n\nStep #5 candidates:\nĠthe      : 0.2458 \nĠis       : 0.1403 \nĠit       : 0.0712 \nĠwas      : 0.0406 \nĠalso     : 0.0388 \n\nChosen token:  the\n\nStep #6 candidates:\nĠlargest  : 0.3525 \nĠsecond   : 0.0659 \nĠcapital  : 0.0493 \nĠmost     : 0.0453 \nĠcountry  : 0.0389 \n\nChosen token:  world\n\nStep #7 candidates:\n'         : 0.5210 \nâĢĻ       : 0.3157 \nĠcapital  : 0.0668 \n-         : 0.0120 \nĠcenter   : 0.0063 \n\nChosen token: '\n\nStep #8 candidates:\ns         : 0.9985 \nĠs        : 0.0002 \nĠlargest  : 0.0001 \nĠmost     : 0.0000 \nĠfirst    : 0.0000 \n\nChosen token: s\n\nStep #9 candidates:\nĠlargest  : 0.5830 \nĠsecond   : 0.0762 \nĠmost     : 0.0538 \nĠbiggest  : 0.0504 \nĠfirst    : 0.0306 \n\nChosen token:  only\n\n",
          "output_type": "stream"
        }
      ]
    },
    {
      "cell_type": "markdown",
      "source": [
        "**Task 5: write code for nucleus sampling generation (2 points)**:\n",
        "\n",
        "Use the `nucleus_sampling()` template below. Look at the detailed generation code above for inspiration. __Please do not use model.generate__.\n",
        "\n",
        "**Bonus task: write code for beam search (3 bonus points)**"
      ],
      "metadata": {
        "id": "a686Z2SQKgz0"
      }
    },
    {
      "cell_type": "code",
      "source": [
        "for i in range(10):\n",
        "    inputs = tokenizer(prompt, return_tensors='pt', return_token_type_ids=False).to(device)\n",
        "    logits = model.forward(**inputs).logits[0, -1, :]\n",
        "    probs = torch.nn.functional.softmax(logits, dim=-1)\n",
        "    next_token_id = torch.multinomial(probs.flatten(), num_samples=1)\n",
        "\n",
        "    next_token = tokenizer.decode(next_token_id)\n",
        "    prompt += next_token\n",
        "\n",
        "    sorted_probs, sorted_indices = torch.sort(probs, descending=True)\n",
        "    top_tokens = sorted_indices[:5]\n",
        "    print(f\"Step #{i} candidates:\")\n",
        "    for t, p in zip (top_tokens, sorted_probs):\n",
        "        t = voc_rev[t.item()]\n",
        "        print(f\"{t:<10}: {p:.4f} \")\n",
        "\n",
        "    print(f'\\nChosen token: {next_token}', end='\\n\\n', flush=True)"
      ],
      "metadata": {
        "id": "XYZMhOMdutZ1",
        "execution": {
          "iopub.status.busy": "2023-12-02T20:49:24.974367Z",
          "iopub.execute_input": "2023-12-02T20:49:24.974765Z",
          "iopub.status.idle": "2023-12-02T20:49:28.127290Z",
          "shell.execute_reply.started": "2023-12-02T20:49:24.974732Z",
          "shell.execute_reply": "2023-12-02T20:49:28.126356Z"
        },
        "trusted": true,
        "outputId": "c1ba4a64-e65f-4be0-8979-8f302e10cfa4"
      },
      "execution_count": null,
      "outputs": [
        {
          "name": "stdout",
          "text": "Step #0 candidates:\nĠbe       : 0.6987 \nĠstill    : 0.0781 \nĠalso     : 0.0312 \n'         : 0.0247 \nĠonly     : 0.0192 \n\nChosen token:  be\n\nStep #1 candidates:\nĠfound    : 0.2247 \nĠconsidered: 0.0803 \nĠvisited  : 0.0719 \nĠreached  : 0.0691 \nĠseen     : 0.0687 \n\nChosen token:  contrasted\n\nStep #2 candidates:\nĠwith     : 0.7915 \nĠto       : 0.1128 \nĠby       : 0.0184 \nĠagainst  : 0.0176 \nĠfrom     : 0.0075 \n\nChosen token:  with\n\nStep #3 candidates:\nĠthe      : 0.5308 \nĠits      : 0.1294 \nĠSt       : 0.0453 \nĠmodern   : 0.0274 \nĠthat     : 0.0257 \n\nChosen token:  the\n\nStep #4 candidates:\nĠmodern   : 0.1920 \nĠnew      : 0.0852 \nĠnewer    : 0.0569 \nĠmore     : 0.0336 \nĠNew      : 0.0318 \n\nChosen token:  modern\n\nStep #5 candidates:\nĠcity     : 0.2529 \nĠMoscow   : 0.0787 \n,         : 0.0591 \nĠcapital  : 0.0477 \nĠsuburbs  : 0.0392 \n\nChosen token:  Moscow\n\nStep #6 candidates:\n.         : 0.3623 \n,         : 0.1243 \nĠthat     : 0.0625 \nĠof       : 0.0522 \nĠwhich    : 0.0368 \n\nChosen token: ..\n\nStep #7 candidates:\nĊ         : 0.5723 \n<|endoftext|>: 0.1748 \nĠThe      : 0.0407 \n[         : 0.0228 \nĠIt       : 0.0207 \n\nChosen token: \n\n\nStep #8 candidates:\nM         : 0.1932 \nThe       : 0.1515 \nIn        : 0.0298 \nThere     : 0.0188 \nUnderstand: 0.0161 \n\nChosen token: List\n\nStep #9 candidates:\nĠof       : 0.9258 \nings      : 0.0125 \nĊ         : 0.0060 \nĠOf       : 0.0055 \n:         : 0.0042 \n\nChosen token:  of\n\n",
          "output_type": "stream"
        }
      ]
    },
    {
      "cell_type": "code",
      "source": [
        "from typing import Tuple, List\n",
        "def nucleus_sampling(model, tokenizer, prompt: str, threshold: float = 0.5) -> Tuple[str, List[str]]:\n",
        "    \"\"\"generates the next token from the nucleus of tokens with cumulative probability up to param:prob\"\"\"\n",
        "    cumulative_prob = 0\n",
        "    inputs = tokenizer(prompt, return_tensors='pt', return_token_type_ids=False).to(device)\n",
        "    logits = model.forward(**inputs).logits[0, -1, :]\n",
        "    probs = torch.nn.functional.softmax(logits, dim=-1)\n",
        "\n",
        "    sorted_probs, sorted_indices = torch.sort(probs, descending=True)\n",
        "\n",
        "    mask = torch.cumsum(sorted_probs, dim=-1) < threshold\n",
        "    samples = sorted_indices[:(mask.sum() + 1)]\n",
        "    possible_tokens = [tokenizer.decode(sample) for sample in samples]\n",
        "    new_probs = sorted_probs[:(mask.sum() + 1)] / sorted_probs[:(mask.sum() + 1)].sum()\n",
        "    sampled_token_pos = torch.multinomial(new_probs.flatten(), num_samples=1)\n",
        "    sampled_token = tokenizer.decode(samples[sampled_token_pos])\n",
        "\n",
        "    # sampled_token should be a string token that was generated\n",
        "    # possible_tokens should be a list of all tokens that have non-zero probability\n",
        "    return sampled_token, possible_tokens"
      ],
      "metadata": {
        "id": "3WIqDgfBKgz0",
        "execution": {
          "iopub.status.busy": "2023-12-03T19:06:25.202602Z",
          "iopub.execute_input": "2023-12-03T19:06:25.203016Z",
          "iopub.status.idle": "2023-12-03T19:06:25.212515Z",
          "shell.execute_reply.started": "2023-12-03T19:06:25.202985Z",
          "shell.execute_reply": "2023-12-03T19:06:25.211650Z"
        },
        "trusted": true
      },
      "execution_count": null,
      "outputs": []
    },
    {
      "cell_type": "code",
      "source": [
        "# Tests for nucleus sampling\n",
        "test_prompt = \"Elbrus is the highest\"\n",
        "next_token, possible_tokens = nucleus_sampling(model, tokenizer, test_prompt, threshold=0.9)\n",
        "print(test_prompt, next_token, possible_tokens)"
      ],
      "metadata": {
        "execution": {
          "iopub.status.busy": "2023-12-03T19:06:31.539949Z",
          "iopub.execute_input": "2023-12-03T19:06:31.540305Z",
          "iopub.status.idle": "2023-12-03T19:06:31.692395Z",
          "shell.execute_reply.started": "2023-12-03T19:06:31.540277Z",
          "shell.execute_reply": "2023-12-03T19:06:31.691502Z"
        },
        "trusted": true,
        "id": "INAcCWATF2__",
        "outputId": "ff5414a0-09fd-4f0b-81cd-215d53efc547"
      },
      "execution_count": null,
      "outputs": [
        {
          "name": "stdout",
          "text": "Elbrus is the highest  peak [' mountain', ' peak', ' and']\n",
          "output_type": "stream"
        }
      ]
    },
    {
      "cell_type": "code",
      "source": [
        "# Tests for nucleus sampling\n",
        "test_prompt = \"Elbrus is the highest\"\n",
        "next_token, possible_tokens = nucleus_sampling(model, tokenizer, test_prompt, threshold=0.95)\n",
        "print(test_prompt, next_token, possible_tokens)"
      ],
      "metadata": {
        "execution": {
          "iopub.status.busy": "2023-12-03T19:08:22.395811Z",
          "iopub.execute_input": "2023-12-03T19:08:22.396631Z",
          "iopub.status.idle": "2023-12-03T19:08:22.514952Z",
          "shell.execute_reply.started": "2023-12-03T19:08:22.396577Z",
          "shell.execute_reply": "2023-12-03T19:08:22.514036Z"
        },
        "trusted": true,
        "id": "YuVFi3YNF2__",
        "outputId": "3f301c28-0e73-4962-e930-a2ad95faf434"
      },
      "execution_count": null,
      "outputs": [
        {
          "name": "stdout",
          "text": "Elbrus is the highest  mountain [' mountain', ' peak', ' and', ' point', ' of', ' European']\n",
          "output_type": "stream"
        }
      ]
    },
    {
      "cell_type": "code",
      "source": [
        "test_prompt = \"Large language models can learn to\"\n",
        "next_token, possible_tokens = nucleus_sampling(model, tokenizer, test_prompt, threshold=0.4)\n",
        "print(test_prompt, next_token, possible_tokens)"
      ],
      "metadata": {
        "execution": {
          "iopub.status.busy": "2023-12-03T19:06:38.611560Z",
          "iopub.execute_input": "2023-12-03T19:06:38.612461Z",
          "iopub.status.idle": "2023-12-03T19:06:38.731223Z",
          "shell.execute_reply.started": "2023-12-03T19:06:38.612411Z",
          "shell.execute_reply": "2023-12-03T19:06:38.730304Z"
        },
        "trusted": true,
        "id": "BFqL2TXFF2__",
        "outputId": "68c38e77-9a7f-4840-dd96-b0e05b22e58e"
      },
      "execution_count": null,
      "outputs": [
        {
          "name": "stdout",
          "text": "Large language models can learn to  predict [' generate', ' predict', ' write', ' translate', ' produce', ' understand']\n",
          "output_type": "stream"
        }
      ]
    },
    {
      "cell_type": "code",
      "source": [
        "# Tests for nucleus sampling\n",
        "test_prompt = \"Elbrus is the highest\"\n",
        "next_token, possible_tokens = nucleus_sampling(model, tokenizer, test_prompt, threshold=0.9)\n",
        "print(test_prompt, next_token, possible_tokens)\n",
        "assert next_token in possible_tokens\n",
        "assert 3 <= len(possible_tokens) <= 3\n",
        "assert sorted(possible_tokens) == ['mountain', 'peak', 'point']\n",
        "\n",
        "test_prompt = \"Large language models can learn to\"\n",
        "next_token, possible_tokens = nucleus_sampling(model, tokenizer, test_prompt, threshold=0.4)\n",
        "print(test_prompt, next_token, possible_tokens)\n",
        "assert next_token in possible_tokens\n",
        "assert sorted(possible_tokens) == ['be', 'communicate', 'do', 'generate', 'perform', 'predict', 'speak', 'write']\n",
        "assert len(possible_tokens) == 8"
      ],
      "metadata": {
        "id": "LzPLQl-HKgz1",
        "execution": {
          "iopub.status.busy": "2023-12-03T19:06:45.452718Z",
          "iopub.execute_input": "2023-12-03T19:06:45.453425Z",
          "iopub.status.idle": "2023-12-03T19:06:45.611500Z",
          "shell.execute_reply.started": "2023-12-03T19:06:45.453393Z",
          "shell.execute_reply": "2023-12-03T19:06:45.610416Z"
        },
        "trusted": true,
        "outputId": "2e261ff5-1ce4-4f40-8cf1-55cf7bfb7d99"
      },
      "execution_count": null,
      "outputs": [
        {
          "name": "stdout",
          "text": "Elbrus is the highest  peak [' mountain', ' peak', ' and']\n",
          "output_type": "stream"
        },
        {
          "traceback": [
            "\u001b[0;31m---------------------------------------------------------------------------\u001b[0m",
            "\u001b[0;31mAssertionError\u001b[0m                            Traceback (most recent call last)",
            "Cell \u001b[0;32mIn[283], line 7\u001b[0m\n\u001b[1;32m      5\u001b[0m \u001b[38;5;28;01massert\u001b[39;00m next_token \u001b[38;5;129;01min\u001b[39;00m possible_tokens\n\u001b[1;32m      6\u001b[0m \u001b[38;5;28;01massert\u001b[39;00m \u001b[38;5;241m3\u001b[39m \u001b[38;5;241m<\u001b[39m\u001b[38;5;241m=\u001b[39m \u001b[38;5;28mlen\u001b[39m(possible_tokens) \u001b[38;5;241m<\u001b[39m\u001b[38;5;241m=\u001b[39m \u001b[38;5;241m3\u001b[39m\n\u001b[0;32m----> 7\u001b[0m \u001b[38;5;28;01massert\u001b[39;00m \u001b[38;5;28msorted\u001b[39m(possible_tokens) \u001b[38;5;241m==\u001b[39m [\u001b[38;5;124m'\u001b[39m\u001b[38;5;124mmountain\u001b[39m\u001b[38;5;124m'\u001b[39m, \u001b[38;5;124m'\u001b[39m\u001b[38;5;124mpeak\u001b[39m\u001b[38;5;124m'\u001b[39m, \u001b[38;5;124m'\u001b[39m\u001b[38;5;124mpoint\u001b[39m\u001b[38;5;124m'\u001b[39m]\n\u001b[1;32m      9\u001b[0m test_prompt \u001b[38;5;241m=\u001b[39m \u001b[38;5;124m\"\u001b[39m\u001b[38;5;124mLarge language models can learn to\u001b[39m\u001b[38;5;124m\"\u001b[39m\n\u001b[1;32m     10\u001b[0m next_token, possible_tokens \u001b[38;5;241m=\u001b[39m nucleus_sampling(model, tokenizer, test_prompt, threshold\u001b[38;5;241m=\u001b[39m\u001b[38;5;241m0.4\u001b[39m)\n",
            "\u001b[0;31mAssertionError\u001b[0m: "
          ],
          "ename": "AssertionError",
          "evalue": "",
          "output_type": "error"
        }
      ]
    },
    {
      "cell_type": "markdown",
      "source": [
        "Ассерты не предусмотрены под использование разных моделей. Поэтому выходят ошибки, хотя при этом модель генерит осмысленные вещи и какие-то слова совпадают, но не все. Так и должно быть для разных моделей, так как у них разный вокаб по размерам, разные синонимы и вероятноясти по ним могут распределяться по-разному"
      ],
      "metadata": {
        "id": "5taPV-RIF3AA"
      }
    },
    {
      "cell_type": "markdown",
      "source": [
        "### Part 3: Chain-of-thought prompting (4 points total)\n",
        "\n",
        "![img](https://github.com/kojima-takeshi188/zero_shot_cot/raw/main/img/image_stepbystep.png)\n",
        "\n",
        "---\n",
        "\n"
      ],
      "metadata": {
        "id": "5ZaQZhPXOPSG"
      }
    },
    {
      "cell_type": "code",
      "source": [
        "import json\n",
        "import random\n",
        "import locale; locale.getpreferredencoding = lambda: \"UTF-8\"\n",
        "!wget https://raw.githubusercontent.com/kojima-takeshi188/zero_shot_cot/2824685e25809779dbd36900a69825068e9f51ef/dataset/AQuA/test.json -O aqua.json\n",
        "data = list(map(json.loads, open(\"aqua.json\")))"
      ],
      "metadata": {
        "colab": {
          "base_uri": "https://localhost:8080/"
        },
        "id": "N2AmfelTn5en",
        "outputId": "fecfe17f-d07c-40d1-c74f-a99e6b86e392",
        "execution": {
          "iopub.status.busy": "2023-12-03T11:51:43.725714Z",
          "iopub.execute_input": "2023-12-03T11:51:43.726643Z",
          "iopub.status.idle": "2023-12-03T11:51:44.990632Z",
          "shell.execute_reply.started": "2023-12-03T11:51:43.726606Z",
          "shell.execute_reply": "2023-12-03T11:51:44.989097Z"
        },
        "trusted": true
      },
      "execution_count": null,
      "outputs": [
        {
          "name": "stdout",
          "text": "--2023-12-03 11:51:44--  https://raw.githubusercontent.com/kojima-takeshi188/zero_shot_cot/2824685e25809779dbd36900a69825068e9f51ef/dataset/AQuA/test.json\nResolving raw.githubusercontent.com (raw.githubusercontent.com)... 185.199.108.133, 185.199.109.133, 185.199.110.133, ...\nConnecting to raw.githubusercontent.com (raw.githubusercontent.com)|185.199.108.133|:443... connected.\nHTTP request sent, awaiting response... 200 OK\nLength: 130192 (127K) [text/plain]\nSaving to: ‘aqua.json’\n\naqua.json           100%[===================>] 127.14K  --.-KB/s    in 0.03s   \n\n2023-12-03 11:51:44 (4.83 MB/s) - ‘aqua.json’ saved [130192/130192]\n\n",
          "output_type": "stream"
        }
      ]
    },
    {
      "cell_type": "code",
      "source": [
        "print(\"Example:\")\n",
        "data[150]"
      ],
      "metadata": {
        "colab": {
          "base_uri": "https://localhost:8080/"
        },
        "id": "IATXmPfYw8s6",
        "outputId": "6820f54e-3045-4248-db3a-d531f2281d1c",
        "execution": {
          "iopub.status.busy": "2023-12-03T11:53:16.230027Z",
          "iopub.execute_input": "2023-12-03T11:53:16.230850Z",
          "iopub.status.idle": "2023-12-03T11:53:16.238917Z",
          "shell.execute_reply.started": "2023-12-03T11:53:16.230814Z",
          "shell.execute_reply": "2023-12-03T11:53:16.238041Z"
        },
        "trusted": true
      },
      "execution_count": null,
      "outputs": [
        {
          "name": "stdout",
          "text": "Example:\n",
          "output_type": "stream"
        },
        {
          "execution_count": 4,
          "output_type": "execute_result",
          "data": {
            "text/plain": "{'question': 'Janice bikes at 10 miles per hour, while Jennie bikes at 20. How long until they have collectively biked 1 mile?',\n 'options': ['A)1 minute',\n  'B)2 minutes',\n  'C)3 minutes',\n  'D)4 minutes',\n  'E)5 minutes'],\n 'rationale': \"Janice's speed = 1/6 miles per minute\\nJennie's speed = 1/3 miles per minute\\nJanice + Jennie's speed= (1/6 + 1/3) = 1/2 miles per minute\\nBoth together will finish the mile in 2 minutes\\ncorrect option is B\",\n 'correct': 'B'}"
          },
          "metadata": {}
        }
      ]
    },
    {
      "cell_type": "markdown",
      "source": [
        "### Naive solution\n",
        "\n",
        "Here, we prompt the model to choose an answer to the example above (`data[150]`) out of the options given above. We're using a format that mimics grade school solution textbook.\n",
        "\n",
        "Please note that there are minor formatting changes in options: an extra space and an opening bracket. Those may or may not be important :)"
      ],
      "metadata": {
        "id": "6UcOYQPW8sVq"
      }
    },
    {
      "cell_type": "code",
      "source": [
        "EXAMPLE_0SHOT = \"\"\"\n",
        "Question: Janice bikes at 10 miles per hour, while Jennie bikes at 20. How long until they have collectively biked 1 mile?\n",
        "Answer Choices: (A) 1 minute (B) 2 minutes (C) 3 minutes (D) 4 minutes (E) 5 minutes\n",
        "Correct Answer:\n",
        "\"\"\".strip()"
      ],
      "metadata": {
        "id": "KtkkdiJl3-UI",
        "execution": {
          "iopub.status.busy": "2023-12-03T12:00:58.159308Z",
          "iopub.execute_input": "2023-12-03T12:00:58.159728Z",
          "iopub.status.idle": "2023-12-03T12:00:58.164674Z",
          "shell.execute_reply.started": "2023-12-03T12:00:58.159697Z",
          "shell.execute_reply": "2023-12-03T12:00:58.163714Z"
        },
        "trusted": true
      },
      "execution_count": null,
      "outputs": []
    },
    {
      "cell_type": "code",
      "source": [
        "# solving an equation directly\n",
        "batch = tokenizer(EXAMPLE_0SHOT, return_tensors='pt', return_token_type_ids=False).to(device)\n",
        "torch.manual_seed(1337)\n",
        "output_tokens = model.generate(**batch, max_new_tokens=100, do_sample=True, top_p=0.9)\n",
        "print(\"[Prompt:]\\n\" + EXAMPLE_0SHOT)\n",
        "print(\"=\" * 80)\n",
        "print(\"[Generated:]\", tokenizer.decode(output_tokens[0][batch['input_ids'].shape[1]:].cpu()))"
      ],
      "metadata": {
        "colab": {
          "base_uri": "https://localhost:8080/"
        },
        "id": "hyQ_8tJc6nyv",
        "outputId": "4cf634aa-d4db-41a8-e97b-4c97a66ad819",
        "execution": {
          "iopub.status.busy": "2023-12-03T12:05:15.157803Z",
          "iopub.execute_input": "2023-12-03T12:05:15.158240Z",
          "iopub.status.idle": "2023-12-03T12:05:50.992175Z",
          "shell.execute_reply.started": "2023-12-03T12:05:15.158208Z",
          "shell.execute_reply": "2023-12-03T12:05:50.991233Z"
        },
        "trusted": true
      },
      "execution_count": null,
      "outputs": [
        {
          "name": "stderr",
          "text": "Setting `pad_token_id` to `eos_token_id`:11 for open-end generation.\nThe current implementation of Falcon calls `torch.scaled_dot_product_attention` directly, this will be deprecated in the future in favor of the `BetterTransformer` API. Please install the latest optimum library with `pip install -U optimum` and call `model.to_bettertransformer()` to benefit from `torch.scaled_dot_product_attention` and future performance optimizations.\n",
          "output_type": "stream"
        },
        {
          "name": "stdout",
          "text": "[Prompt:]\nQuestion: Janice bikes at 10 miles per hour, while Jennie bikes at 20. How long until they have collectively biked 1 mile?\nAnswer Choices: (A) 1 minute (B) 2 minutes (C) 3 minutes (D) 4 minutes (E) 5 minutes\nCorrect Answer:\n================================================================================\n[Generated:]  (A) 1 minute\nThis question measures a student’s knowledge of proportional relationships. A proportion is a situation that can be modeled as a fraction, ratio, or percentage. In this problem, Janice’s speed of 10 mph and Jennie’s speed of 20 mph are given. A proportion is used to connect the two speeds: 10/1 = 10/10, which we know as 1. Therefore, the total distance that Janice and Jenn\n",
          "output_type": "stream"
        }
      ]
    },
    {
      "cell_type": "markdown",
      "source": [
        "And here's how you can solve this with few-shot chain-of-thought prompting.\n",
        "\n",
        "You need to chang 3 things\n",
        "- use a new field called **Rationale**, that contains a step-by-step solution to the problem\n",
        "- add several few-shot examples of previously solved problems **with rationales**\n",
        "- change the final prompt so that the model has to generate rationale before answering"
      ],
      "metadata": {
        "id": "suSkiDk28I6C"
      }
    },
    {
      "cell_type": "code",
      "source": [
        "EXAMPLE_3SHOT_CHAIN_OF_THOUGHT = \"\"\"\n",
        "Question: The original retail price of an appliance was 60 percent more than its wholesale cost. If the appliance was actually sold for 20 percent less than the original retail price, then it was sold for what percent more than its wholesale cost?\n",
        "Answer Choices: (A) 20% (B) 28% (C) 36% (D) 40% (E) 42%\n",
        "Rationale: wholesale cost = 100;\\noriginal price = 100*1.6 = 160;\\nactual price = 160*0.8 = 128.\\nAnswer: B.\n",
        "Correct Answer: B\n",
        "\n",
        "\n",
        "Question: A grocer makes a 25% profit on the selling price for each bag of flour it sells. If he sells each bag for $100 and makes $3,000 in profit, how many bags did he sell?\n",
        "Answer Choices: (A) 12 (B) 16 (C) 24 (D) 30 (E) 40\n",
        "Rationale: Profit on one bag: 100*1.25= 125\\nNumber of bags sold = 3000/125 = 24\\nAnswer is C.\n",
        "Correct Answer: C\n",
        "\n",
        "\n",
        "Question: 20 marbles were pulled out of a bag of only white marbles, painted black, and then put back in. Then, another 20 marbles were pulled out, of which 1 was black, after which they were all returned to the bag. If the percentage of black marbles pulled out the second time represents their percentage in the bag, how many marbles in total Q does the bag currently hold?\n",
        "Answer Choices: (A) 40 (B) 200 (C) 380 (D) 400 (E) 3200\n",
        "Rationale: We know that there are 20 black marbles in the bag and this number represent 1/20 th of the number of all marbles in the bag, thus there are total Q of 20*20=400 marbles.\\nAnswer: D.\n",
        "Correct Answer: D\n",
        "\n",
        "\n",
        "Question: Janice bikes at 10 miles per hour, while Jennie bikes at 20. How long until they have collectively biked 1 mile?\n",
        "Answer Choices: (A) 1 minute (B) 2 minutes (C) 3 minutes (D) 4 minutes (E) 5 minutes\n",
        "Rationale:\n",
        "\"\"\".strip()"
      ],
      "metadata": {
        "id": "K0F1jYdRvoJW",
        "execution": {
          "iopub.status.busy": "2023-12-03T13:18:39.659417Z",
          "iopub.execute_input": "2023-12-03T13:18:39.659841Z",
          "iopub.status.idle": "2023-12-03T13:18:39.666138Z",
          "shell.execute_reply.started": "2023-12-03T13:18:39.659808Z",
          "shell.execute_reply": "2023-12-03T13:18:39.665017Z"
        },
        "trusted": true
      },
      "execution_count": null,
      "outputs": []
    },
    {
      "cell_type": "code",
      "source": [
        "batch = tokenizer(EXAMPLE_3SHOT_CHAIN_OF_THOUGHT, return_tensors='pt', return_token_type_ids=False).to(device)\n",
        "torch.manual_seed(1337)\n",
        "output_tokens = model.generate(**batch, max_new_tokens=100, do_sample=True, top_p=0.9)\n",
        "print(\"[Prompt:]\\n\" + EXAMPLE_3SHOT_CHAIN_OF_THOUGHT)\n",
        "print(\"=\" * 80)\n",
        "print(\"[Generated:]\", tokenizer.decode(output_tokens[0][batch['input_ids'].shape[1]:].cpu()))\n",
        "#### NOTE: scroll down for the final answer (below the ======= line)"
      ],
      "metadata": {
        "colab": {
          "base_uri": "https://localhost:8080/"
        },
        "id": "Tn8QoAYcRkHC",
        "outputId": "54ec824a-33c5-4554-b0e9-0e0a9c246994",
        "execution": {
          "iopub.status.busy": "2023-12-03T13:18:42.046983Z",
          "iopub.execute_input": "2023-12-03T13:18:42.047753Z",
          "iopub.status.idle": "2023-12-03T13:18:51.821879Z",
          "shell.execute_reply.started": "2023-12-03T13:18:42.047714Z",
          "shell.execute_reply": "2023-12-03T13:18:51.820919Z"
        },
        "trusted": true
      },
      "execution_count": null,
      "outputs": [
        {
          "name": "stderr",
          "text": "Setting `pad_token_id` to `eos_token_id`:11 for open-end generation.\n",
          "output_type": "stream"
        },
        {
          "name": "stdout",
          "text": "[Prompt:]\nQuestion: The original retail price of an appliance was 60 percent more than its wholesale cost. If the appliance was actually sold for 20 percent less than the original retail price, then it was sold for what percent more than its wholesale cost?\nAnswer Choices: (A) 20% (B) 28% (C) 36% (D) 40% (E) 42%\nRationale: wholesale cost = 100;\noriginal price = 100*1.6 = 160;\nactual price = 160*0.8 = 128.\nAnswer: B.\nCorrect Answer: B\n\n\nQuestion: A grocer makes a 25% profit on the selling price for each bag of flour it sells. If he sells each bag for $100 and makes $3,000 in profit, how many bags did he sell?\nAnswer Choices: (A) 12 (B) 16 (C) 24 (D) 30 (E) 40\nRationale: Profit on one bag: 100*1.25= 125\nNumber of bags sold = 3000/125 = 24\nAnswer is C.\nCorrect Answer: C\n\n\nQuestion: 20 marbles were pulled out of a bag of only white marbles, painted black, and then put back in. Then, another 20 marbles were pulled out, of which 1 was black, after which they were all returned to the bag. If the percentage of black marbles pulled out the second time represents their percentage in the bag, how many marbles in total Q does the bag currently hold?\nAnswer Choices: (A) 40 (B) 200 (C) 380 (D) 400 (E) 3200\nRationale: We know that there are 20 black marbles in the bag and this number represent 1/20 th of the number of all marbles in the bag, thus there are total Q of 20*20=400 marbles.\nAnswer: D.\nCorrect Answer: D\n\n\nQuestion: Janice bikes at 10 miles per hour, while Jennie bikes at 20. How long until they have collectively biked 1 mile?\nAnswer Choices: (A) 1 minute (B) 2 minutes (C) 3 minutes (D) 4 minutes (E) 5 minutes\nRationale:\n================================================================================\n[Generated:]  Average speed = (10*3+20)/2=15.5mph;\nTime until they have collectively biked 1 mile = 1*15.5=15.5 minutes\nAnswer: B.\nCorrect Answer: B\n\n\nQuestion: The graph shows the total number of male votes for two candidates for president from 1948 to 2016. The number of votes increased steadily over time. Which of the following equations could describe the data represented in\n",
          "output_type": "stream"
        }
      ]
    },
    {
      "cell_type": "markdown",
      "source": [
        "__Task 6 (1 pt)__ write a function that automatically creates chain-of-thought prompts. Follow the instructions from the function docstring."
      ],
      "metadata": {
        "id": "s4px3jv-99-m"
      }
    },
    {
      "cell_type": "code",
      "source": [
        "QUESTION_PREFIX = \"Question: \"\n",
        "OPTIONS_PREFIX = \"Answer Choices: \"\n",
        "CHAIN_OF_THOUGHT_PREFIX = \"Rationale: \"\n",
        "ANSWER_PREFIX = \"Correct Answer: \"\n",
        "FEWSHOT_SEPARATOR = \"\\n\\n\\n\"\n",
        "\n",
        "def make_prompt(*, main_question, fewshot_examples):\n",
        "    \"\"\"\n",
        "    Your goal is to produce the same prompt as the EXAMPLE_3SHOT_CHAIN_OF_THOUGHT automatically\n",
        "\n",
        "    For each few-shot question, make sure to follow the following rules:\n",
        "    1. Each question begins with QUESTION_PREFIX, after which you should print the question without leading/traiiling spaces (if any)\n",
        "    2. After the question, provide space-separated options. Each option should be put in double brackets, followed by option text, e.g. \"(A) 146%\"\n",
        "    3. Then, provide the answer as a single letter (A-E)\n",
        "    4. Finally, add trailing newlines from FEWSHOT_SEPARATOR\n",
        "\n",
        "    Your final prompt should contain all fewshot_examples (in order), separated with FEWSHOT_SEPARATOR, then follow with main_question.\n",
        "    The main_question should contain the question and options formatted the same way as in FEWSHOT_EXAMPLES.\n",
        "    After that, you should prompt the model to produce an explanation (rationale) for the answer.\n",
        "\n",
        "    Please make sure your prompt contains no leading/trailing newlines or spaces, same as in EXAMPLE_3SHOT_CHAIN_OF_THOUGHT\n",
        "    \"\"\"\n",
        "    def transform_options(data):\n",
        "        transformed_options = ''\n",
        "        for i, option in enumerate(data['options']):\n",
        "            transformed_options += '(' + option[:2] + ' ' + option[2:]\n",
        "            if i != len(data['options']) - 1:\n",
        "                transformed_options += ' '\n",
        "        return transformed_options\n",
        "\n",
        "    out = ''\n",
        "    for i in range(len(fewshot_examples)):\n",
        "        question = QUESTION_PREFIX + fewshot_examples[i]['question'] + '\\n'\n",
        "        answer_options = OPTIONS_PREFIX + transform_options(fewshot_examples[i]) + '\\n'\n",
        "        explanation = CHAIN_OF_THOUGHT_PREFIX + fewshot_examples[i]['rationale'] + '\\n'\n",
        "        correct = ANSWER_PREFIX + fewshot_examples[i]['correct'] + FEWSHOT_SEPARATOR\n",
        "        out += question + answer_options + explanation + correct\n",
        "\n",
        "    out += QUESTION_PREFIX + main_question['question'] + '\\n' + OPTIONS_PREFIX + \\\n",
        "        transform_options(main_question) + '\\n' + CHAIN_OF_THOUGHT_PREFIX\n",
        "    return out.strip()\n",
        "\n",
        "\n",
        "\n",
        "generated_fewshot_prompt = make_prompt(main_question=data[150], fewshot_examples=(data[30], data[20], data[5]))\n",
        "assert generated_fewshot_prompt == EXAMPLE_3SHOT_CHAIN_OF_THOUGHT, \"prompts don't match\"\n",
        "assert generated_fewshot_prompt != make_prompt(main_question=data[150], fewshot_examples=())\n",
        "assert generated_fewshot_prompt.endswith(make_prompt(main_question=data[150], fewshot_examples=()))\n",
        "\n",
        "print(\"Well done!\")\n",
        "\n",
        "# Hint: if two prompts do not match, you may find it usefull to use https://www.diffchecker.com or similar to find the difference"
      ],
      "metadata": {
        "execution": {
          "iopub.status.busy": "2023-12-03T13:20:29.076849Z",
          "iopub.execute_input": "2023-12-03T13:20:29.077245Z",
          "iopub.status.idle": "2023-12-03T13:20:29.090149Z",
          "shell.execute_reply.started": "2023-12-03T13:20:29.077215Z",
          "shell.execute_reply": "2023-12-03T13:20:29.089150Z"
        },
        "trusted": true,
        "id": "ZTmgbMxBF3AB",
        "outputId": "fb04f8c3-1cde-450c-cab3-7b7aae29890c"
      },
      "execution_count": null,
      "outputs": [
        {
          "name": "stdout",
          "text": "Well done!\n",
          "output_type": "stream"
        }
      ]
    },
    {
      "cell_type": "markdown",
      "source": [
        "__Task 7 (1 points):__ Evaluate your prompt.\n",
        "\n",
        "Please run the model on the entire dataset and measure it's accuracy.\n",
        "For each question, peak $n=5$ other questions at random to serve as few-shot examples. Make sure not to accidentally sample the main_question among few-shot examples. For scientific evaluation, it is also a good practice to split the data into two parts: one for eval, and another for few-shot examples. However, doing so is optional in this homework.\n",
        "\n",
        "The tricky part is when to stop generating: if you don't control for this, your model can accidentally generate a whole new question - and promptyly answer it :) To make sure you get the correct answer, stop generating tokens when the model is done explaining it's solution. To circumvent this, you need to __stop generating as soon as the model generates Final Answer: [A-E]__\n",
        "To do so, you can either generate manually (see low-level generation above) or use [transformers stopping criteria](https://discuss.huggingface.co/t/implimentation-of-stopping-criteria-list/20040/2), whichever you prefer.\n",
        "\n",
        "If you do everything right, the model should be much better than random. However, please __do not expect miracles__: this is far from the best models, and it will perform much worse than an average human."
      ],
      "metadata": {
        "id": "P7DzQ8hfOcFR"
      }
    },
    {
      "cell_type": "code",
      "source": [
        "NUM_SAMPLES = 0    # use this to count how many samples you evaluated\n",
        "NUM_RESPONDED = 0  # how many times did the model produce Correct Answer: (letter) in it's response. use as a sanity check.\n",
        "NUM_CORRECT = 0    # how many times did the model's chosen answer (letter) match the correct answer"
      ],
      "metadata": {
        "id": "oMvj9eCtQwnz",
        "execution": {
          "iopub.status.busy": "2023-12-03T17:11:14.269039Z",
          "iopub.execute_input": "2023-12-03T17:11:14.269900Z",
          "iopub.status.idle": "2023-12-03T17:11:14.274352Z",
          "shell.execute_reply.started": "2023-12-03T17:11:14.269862Z",
          "shell.execute_reply": "2023-12-03T17:11:14.273481Z"
        },
        "trusted": true
      },
      "execution_count": null,
      "outputs": []
    },
    {
      "cell_type": "code",
      "source": [
        "import numpy as np\n",
        "from sklearn.model_selection import train_test_split\n",
        "\n",
        "class StoppingCriteriaSub(StoppingCriteria):\n",
        "\n",
        "    def __init__(self, stops = [], encounters=1):\n",
        "        super().__init__()\n",
        "        self.stops = [stop.to(\"cuda\") for stop in stops]\n",
        "\n",
        "    def __call__(self, input_ids: torch.LongTensor, scores: torch.FloatTensor):\n",
        "        for stop in self.stops:\n",
        "            if torch.all((stop == input_ids[0][-len(stop):])).item():\n",
        "                print('Stopping criteria triggered')\n",
        "                return True\n",
        "\n",
        "        return False\n",
        "\n",
        "\n",
        "stop_words = [\"Correct Answer: A\", \"Correct Answer: B\", \"Correct Answer: C\", \"Correct Answer: D\", \"Correct Answer: E\"]\n",
        "stop_words_ids = [tokenizer(stop_word, return_tensors='pt')['input_ids'].squeeze() for stop_word in stop_words]\n",
        "stopping_criteria = StoppingCriteriaList([StoppingCriteriaSub(stops=stop_words_ids)])\n",
        "\n",
        "n = 5\n",
        "few_shot_examples, questions = train_test_split(data, test_size=0.17, random_state=42)\n",
        "\n",
        "for question in questions:\n",
        "    NUM_SAMPLES += 1\n",
        "    few_shot = [few_shot_examples[num] for num in np.random.randint(0, len(few_shot_examples), size=n)]\n",
        "    prompt = make_prompt(main_question=question, fewshot_examples=few_shot)\n",
        "    batch = tokenizer(prompt, return_tensors='pt', return_token_type_ids=False).to(device)\n",
        "    torch.manual_seed(1337)\n",
        "    output_tokens = model.generate(**batch, max_new_tokens=256, do_sample=True, top_p=0.9, stopping_criteria=stopping_criteria)\n",
        "    output = tokenizer.decode(output_tokens[0][batch['input_ids'].shape[1]:].cpu())\n",
        "    print(\"[Prompt:]\\n\" + prompt)\n",
        "    print(\"=\" * 80)\n",
        "    print(\"[Generated:]\", output)\n",
        "    if output[-17:-1] == 'Correct Answer: ':\n",
        "        NUM_RESPONDED += 1\n",
        "    if output[-1] == question['correct']:\n",
        "        NUM_CORRECT += 1"
      ],
      "metadata": {
        "execution": {
          "iopub.status.busy": "2023-12-03T17:11:18.632855Z",
          "iopub.execute_input": "2023-12-03T17:11:18.633530Z",
          "iopub.status.idle": "2023-12-03T17:22:09.609588Z",
          "shell.execute_reply.started": "2023-12-03T17:11:18.633498Z",
          "shell.execute_reply": "2023-12-03T17:22:09.608655Z"
        },
        "trusted": true,
        "id": "R5OcUyfbF3AC",
        "outputId": "04308ed3-e5ef-4677-df18-b759a27d39eb"
      },
      "execution_count": null,
      "outputs": [
        {
          "name": "stderr",
          "text": "Setting `pad_token_id` to `eos_token_id`:11 for open-end generation.\nSetting `pad_token_id` to `eos_token_id`:11 for open-end generation.\n",
          "output_type": "stream"
        },
        {
          "name": "stdout",
          "text": "Stopping criteria triggered\n[Prompt:]\nQuestion: ABCDE is a regular pentagon with F at its center. How many different quadrilaterals can be formed by joining 4 of the points A,B,C,D,E and F?\nAnswer Choices: (A) 12 (B) 10 (C) 5 (D) 15 (E) 20\nRationale: The number of polygons with k sides that can be formed by joining them is nCk\nfor quadrilaterals k=4\nit has 6 sides n=6\n6C4=15\nAnswer is D\nCorrect Answer: D\n\n\nQuestion: Roberts has a property worth of $1023.65. But in a record his property worth is written as greatest positive even integer less than or equal to his property worth and it is divisible by 100. Find the difference between actual property and recorded property worth?\nAnswer Choices: (A) 23.65 (B) 1000 (C) 35.62 (D) 2.65 (E) 1023.65\nRationale: Since Robert property worth is written as greatest positive even integer less than or equal to his property worth and it is divisible by 100 then it is =1000 (greatest positive even integer less than or equal to his property worth and it is divisible by 100 is 1000).\nHence the difference = 1023.65 - 1000 = 23.65\nAnswer: A.\nCorrect Answer: A\n\n\nQuestion: In a class 1/16 of the students study math, 1/10 of the students study bio, 1/8 of the students study english. The total number of students is a 4 digit number. Find the diffrence between maximum number of students and minimum number of students.\nAnswer Choices: (A) 8880 (B) 8870 (C) 8890 (D) 7890 (E) 6780\nRationale: LCM of 16,10,8 = 80\nthe largest 4 digit number divisible by 80 = 9920\nThe smallest 4 digit number divisible by 80 = 1040\nSo, required difference = 9920-1040= 8880\nANSWER:A\nCorrect Answer: A\n\n\nQuestion: A straight picket fence is composed of x pickets each of which is 1/2 inch wide. If there are 6 inches of space between each pair of pickets, which of the following represents the length of fence in feet?\nAnswer Choices: (A) 13x/2 (B) 13x/2 - 6 (C) 13x/24 (D) (13x+1)/24 (E) (13x-12)/24\nRationale: Number of pickets = x\nSize of pickets = 1/2\nlength of pickets = 1/2x\nIf there are x pickets, it implies that there are x -1 spaces between the picket\nLength of space = 6\ntotal number of length = 1/2 x + 6(x-1) in inches\ntotal length in feet =( 1/2 x + 6(x-1))/12\nSimplify to get (13X-12)/24\nANSWER:E\nCorrect Answer: E\n\n\nQuestion: A car is being driven, in a straight line and at a uniform speed, towards the base of a vertical tower. The top of the tower is observed from the car and, in the process, it takes 10 minutes for the angle of elevation to change from 45° to 60°. After how much more time will this car reach the base of the tower?\nAnswer Choices: (A) 5(√3 + 1) (B) 6(√3 + √2) (C) 7(√3 – 1) (D) 8(√3 – 2) (E) None of these\nRationale: Explanation :\nLet the height of the building be h. Initially, he was at an angle of 450. tan 45 = h/distance between car and tower. h = distance between car and tower (since tan 45 = 1).\nNow, after 10 minutes, it travelled a certain distance, and angle changed to 600.\ntan 60 = h/x x = h/√3\nSo, in 10 minutes, it has travelled a distance of h – x = h - h/√3.\n10 minutes = h *( 1 – 1√3)\nh can be travelled in 10 / (1 – 1√3).\nTo travel a distance of x, which is h/√3, it takes :\nh = 10 / (1 – 1/√3)\nh / √3 = 10/ √3 * (1 – 1/√3). Multiply numerator and denominator by 1 + √3 ( conjugate of 1 - √3). We get, x = h/√3 = 10 (1 + √3) / 2 = 5* (1 + √3)\nSo, it takes 5(1 + √3) minutes to reach the base of the tower.\nAnswer : A\nCorrect Answer: A\n\n\nQuestion: You can purchase one soda and two energy bars for 150 cents, or two sodas and three energy bars for 300\ncents. If the costs of the items do not change, compute the cost in cents of six sodas and seven bars.\nAnswer Choices: (A) 500 (B) 600 (C) 750 (D) 800 (E) 900\nRationale:\n================================================================================\n[Generated:]  So, the cost in cents of six sodas and seven bars is 500 cents. (This is the cost of six sodas and seven energy bars)\nANSWER:C\nCorrect Answer: C\n",
          "output_type": "stream"
        },
        {
          "name": "stderr",
          "text": "Setting `pad_token_id` to `eos_token_id`:11 for open-end generation.\n",
          "output_type": "stream"
        },
        {
          "name": "stdout",
          "text": "Stopping criteria triggered\n[Prompt:]\nQuestion: Suppose for any real number x, [x] denotes the greatest integer less than or equal to x. Let L(x,y) = [x] + [y] + [x + y] and R(x,y) = [2x] + [2y]. Then it is impossible to find any two positive real numbers x and y for which\nAnswer Choices: (A) L(x,y) = R(x,y) (B) L(x,y) ≠ R(x,y) (C) L(x,y) < R(x,y) (D) L(x,y) < R(x,y) (E) None\nRationale: x – 1≤ [x] ≤ x\n2x + 2y - 3 ≤ L(x,y) ≤ 2x + 2y\n=> a – 3 ≤ L ≤ a\n2x + 2y -2 ≤ L(x,y) ≤ 2x + 2y\n=> a – 2 ≤ R ≤ a\nTherefore, L ≤ R.\nAnswer : D\nCorrect Answer: D\n\n\nQuestion: Kevin drove from A to B at a constant speed of 70 mph. Once he reached B, he turned right around with pause, and returned to A at a constant speed of 90 mph. Exactly 3 hours before the end of his trip, he was still approaching B, only 70 miles away from it. What is the distance between A and B?\nAnswer Choices: (A) 180 (B) 90 (C) 270 (D) 360 (E) None of the above\nRationale: In the last 70 miles of his approach to B, Kevin was traveling at 70 mph, so he traveled that distance in 1 hr, or 60 minutes. That means, when he arrived at B, 60 minutes had elapsed, and he took (3 hr) – (1 hr) = 2 hr to drive the distance D at 90 mph.\nD = RT = (90 mph)[ (2 hr] = 180 mi\nAnswer = (A)\nCorrect Answer: A\n\n\nQuestion: In a large forest, 300 deer were caught, tagged, and returned during 2001. During 2002, 500 deer were caught at random, of which only 20 had tags from the previous year. If the percent of deer in the forest that had tags during the second year and were caught in the 500 deer sample is representative of the percent of the total deer population in the forest with tags, what is the total deer population in the forest (assuming no change in population between 2001 and 2002)?\nAnswer Choices: (A) 300 (B) 500 (C) 5000 (D) 6000 (E) 7500\nRationale: Let N = the total number of deer in the forest.\nDuring the first year, the percent of deer in the entire population with tags was: 300/N\n20/500 is the percent of deer caught during the second year that had tags. Since this sample percent matches the percent for the entire population (i.e., the total number of tagged deer divided by the total number of deer), the two ratios are equal.\nEquating these two percents:\nSample = Population\n(20/500)=(300/N)\nN = (300/1)*(500/20)\nN=7500\nAnswer E\nCorrect Answer: E\n\n\nQuestion: At the of his one-year investment, Charles received $54,080, including interest and principal from a certain investment. If the investment paid an annual interest of 8 percent compounded semi-annually, which of the following is the amount of money that Charles originally invested?\nAnswer Choices: (A) $45,000 (B) $50,000 (C) $54,000 (D) $59,000 (E) $62,000\nRationale: You are given that a certain investment gave you X $ after 1 year. So the original investment must be <X\nThus you can rule out options D-E as these options will make the original amount > the interest+principle amount\nOption C is very close to the amount after 1st year and 4% will definitely give you >80$ in interests.\nNow you only have 2 options left (A and B)\nPer the question, let x be the original amount invested ---> x(1.04)^2 = 54080 .@NL This clearly shows that answer must be B.\nANSWER:B\nCorrect Answer: B\n\n\nQuestion: A straight picket fence is composed of x pickets each of which is 1/2 inch wide. If there are 6 inches of space between each pair of pickets, which of the following represents the length of fence in feet?\nAnswer Choices: (A) 13x/2 (B) 13x/2 - 6 (C) 13x/24 (D) (13x+1)/24 (E) (13x-12)/24\nRationale: Number of pickets = x\nSize of pickets = 1/2\nlength of pickets = 1/2x\nIf there are x pickets, it implies that there are x -1 spaces between the picket\nLength of space = 6\ntotal number of length = 1/2 x + 6(x-1) in inches\ntotal length in feet =( 1/2 x + 6(x-1))/12\nSimplify to get (13X-12)/24\nANSWER:E\nCorrect Answer: E\n\n\nQuestion: Find the total no. of distinct bike no.'s that can beformed using 2 letters followed by 2 no.'s. How many letters need to be distinct?\nAnswer Choices: (A) 74453 (B) 64543 (C) 74325 (D) 65000 (E) 97656\nRationale:\n================================================================================\n[Generated:]  If there are 2 letters followed by 2 no.'s we can form 4 different bike no.'s\nTotal distinct no.'s = (2 letters) * (2 no.'s)\n= 4(no.'s)*(no.'s)\n= 4*4\n= 16\nThere are 2 letters.\nANSWER:B\nCorrect Answer: B\n",
          "output_type": "stream"
        },
        {
          "name": "stderr",
          "text": "Setting `pad_token_id` to `eos_token_id`:11 for open-end generation.\n",
          "output_type": "stream"
        },
        {
          "name": "stdout",
          "text": "[Prompt:]\nQuestion: A certain liquid passes through a drain at a rate of w/25 gallons every x seconds. At that rate, how many minutes will it take y gallons to pass through the drain?\nAnswer Choices: (A) y/(1200xy) (B) 20xy/w (C) 5xy/(12w) (D) w/(3xy) (E) 3y/(wx)\nRationale: Time needed for w/25 gallons of liquid to pass through a drain = x seconds\nTime needed for w gallons of liquid to pass through a drain = 25x seconds\nTime needed for y gallons of liquid to pass through a drain = (25x/w)*y = 25xy/w seconds\n= (25xy/w )/60 = 5xy/(12w) mins\nAnswer C\nCorrect Answer: C\n\n\nQuestion: A shopkeeper in order to promote his new shop put a discount of 20% on all the items for one day. Now he must sell the items at original price the other day. By what percentage must he increase the price to original?\nAnswer Choices: (A) 21% (B) 20% (C) 25% (D) 33% (E) 18%\nRationale: Suppose every item is priced at $100. On 20% discount, the price will become $80. Now he must add $20 to each item for original price which is 25% of $80.\nCorrect Answer: C\n\n\nQuestion: Two cars start at the same time from opposite ends of a highway that is 50 miles long. One car is riding at 12 mph and the second car is riding at 13 mph. How long after they begin will they meet?\nAnswer Choices: (A)  1 (B)  1.25 (C)  1.50 (D)  1.75 (E)  2\nRationale: Time they will meet = total distance/ relative speed= 50/12+13 = 50/25 = 2\nAnswer is E\nCorrect Answer: E\n\n\nQuestion: A cow is tethered in the middle of a field with a 14 feet long rope. If the cow grazes 10 sq.ft. per day, then approximately what time will be taken by the cow to graze the whole field?\nAnswer Choices: (A) 51 days (B) 61 days (C) 71 days (D) 81 days (E) 91 days\nRationale: Area of the field grazed = [22/7*14*14]sq.ft. = 616 sq.ft.\nNumber of days taken to graze the field = 616/10 days\n=> 61 days\nANSWER:B\nCorrect Answer: B\n\n\nQuestion: A rectangular parking space is marked out by painting three of its sides. If the length of the unpainted side is 9 feet, and the sum of the lengths of the painted sides is 37 feet, then what is the area of the parking space in square feet?\nAnswer Choices: (A) 46 (B) 81 (C) 126 (D) 252 (E) None\nRationale: We have l=9 and l+2b=37\nArea = (l x b)\n=(9 x 14) sq.ft\n= 126 sq.ft.\nAnswer C\nCorrect Answer: C\n\n\nQuestion: Boomtown urban planners expect the city’s population to increase by 10% per year over the next two years. If that projection were to come true, the population two years from now would be exactly double the population of one year ago. Which of the following is closest to the percent population increase in Boomtown over the last year?\nAnswer Choices: (A) 20% (B) 40% (C) 50% (D) 65% (E) 75%\nRationale:\n================================================================================\n[Generated:]  Population = 2x population of last year = 2 x 200,000 = 400,000\nSo next year, = 400,000/200,000= 2\nNext year’s population = 2 x 201,000 = 400,200\nAnswer is D\n\n\nQuestion: A number is divisible by 6 if and only if its last digit is 6. If 3 more are added to the number, the resulting number is divisible by 8. What is the number?\nAnswer Choices: (A) 9 (B) 12 (C) 13 (D) 15 (E) 17\nRationale: In the given number, the last digit is 6.\n3 more are added to this number, so the new number will be divisible by 8.\nNow, the given number = 9+3 =12\nso the number is divisible by 8\nAnswer is E\n\n\nQuestion: If x is a rational number and, then what are the values of x + 4 and x – 3?\nAnswer Choices: (A)\n",
          "output_type": "stream"
        },
        {
          "name": "stderr",
          "text": "Setting `pad_token_id` to `eos_token_id`:11 for open-end generation.\n",
          "output_type": "stream"
        },
        {
          "name": "stdout",
          "text": "Stopping criteria triggered\n[Prompt:]\nQuestion: At the of his one-year investment, Charles received $54,080, including interest and principal from a certain investment. If the investment paid an annual interest of 8 percent compounded semi-annually, which of the following is the amount of money that Charles originally invested?\nAnswer Choices: (A) $45,000 (B) $50,000 (C) $54,000 (D) $59,000 (E) $62,000\nRationale: You are given that a certain investment gave you X $ after 1 year. So the original investment must be <X\nThus you can rule out options D-E as these options will make the original amount > the interest+principle amount\nOption C is very close to the amount after 1st year and 4% will definitely give you >80$ in interests.\nNow you only have 2 options left (A and B)\nPer the question, let x be the original amount invested ---> x(1.04)^2 = 54080 .@NL This clearly shows that answer must be B.\nANSWER:B\nCorrect Answer: B\n\n\nQuestion: On a test the passing students had an average of 83, while the failing students had an average\nof 55. If the overall class average was 76, what percent of the class passed?\nAnswer Choices: (A) 44% (B) 66% (C) 68% (D) 72% (E) 75%\nRationale: Let p = proportion that passed. Then 83p + 55(1- p) = 76, so p = 21/28 = 75\ncorrect answer E\nCorrect Answer: E\n\n\nQuestion: An express electric train takes exact three seconds to enter tunnel which is 1 mile long.\nIf train is traveling at 120 mile an hour, how long will it take to pass completely through the tunnel ?\nAnswer Choices: (A) 43 seconds (B) 39 seconds (C) 20 seconds (D) 33 seconds (E) 55 seconds\nRationale: The train takes 30 seconds to travel 1 mile, plus 3 seconds for the complete train to pass any point, making a total of 33 seconds.\nCorrect Answer: D\n\n\nQuestion: Machine A puts out a yo-yo every 6 minutes. Machine B puts out a yo-yo every 9 minutes. After how many minutes will they have produced 10 yo-yos?\nAnswer Choices: (A) 24 minutes (B) 32 minutes (C) 36 minutes (D) 64 minutes (E) 72 minutes\nRationale: A's speed = 3 yo-yos every 18 minutes\nB's speed = 2 yo-yos every 18 minutes\nA + B's speed = 3 + 2 = 5 yo-yos every 18 minutes\nboth together will finish 10 yo-yos in 36 minutes\ncorrect option is C\nCorrect Answer: C\n\n\nQuestion: Kevin drove from A to B at a constant speed of 70 mph. Once he reached B, he turned right around with pause, and returned to A at a constant speed of 90 mph. Exactly 3 hours before the end of his trip, he was still approaching B, only 70 miles away from it. What is the distance between A and B?\nAnswer Choices: (A) 180 (B) 90 (C) 270 (D) 360 (E) None of the above\nRationale: In the last 70 miles of his approach to B, Kevin was traveling at 70 mph, so he traveled that distance in 1 hr, or 60 minutes. That means, when he arrived at B, 60 minutes had elapsed, and he took (3 hr) – (1 hr) = 2 hr to drive the distance D at 90 mph.\nD = RT = (90 mph)[ (2 hr] = 180 mi\nAnswer = (A)\nCorrect Answer: A\n\n\nQuestion: A coin made of alloy of aluminum and silver measures 2 x 15 mm (it is 2 mm thick and its diameter is 15 mm). If the weight of the coin is 30 grams and the volume of aluminum in the alloy equals that of silver, what will be the weight of a coin measuring 1 x 30 mm made of pure aluminum if silver is twice as heavy as aluminum?\nAnswer Choices: (A) 36 grams (B) 40 grams (C) 42 grams (D) 48 grams (E) 50 grams\nRationale:\n================================================================================\n[Generated:]  If it is alloy of aluminum and silver, then the weight of the coin will be equal to weight of silver part = w(silver)\nIf this weight is doubled and if it has the same diameter and volume as of pure aluminum, then we will have w(aluminum) = w(silver) = 36\ncorrect answer A\nCorrect Answer: A\n",
          "output_type": "stream"
        },
        {
          "name": "stderr",
          "text": "Setting `pad_token_id` to `eos_token_id`:11 for open-end generation.\n",
          "output_type": "stream"
        },
        {
          "name": "stdout",
          "text": "Stopping criteria triggered\n[Prompt:]\nQuestion: There is well of depth 30m and frog is at bottom of the well. He jumps 3m up one day and falls back 2m down the same day. How many days will it take for the frog to come out of the well?\nAnswer Choices: (A) 25 days (B) 26 days (C) 27 days (D) 28 days (E) 29 days\nRationale: frog jumps 3 m up day & falls back 2 m down at night\nso,frog will be 3-2=1 m up in a day.\nThus, in 27 days it will be 27 m up\non 28 th day it will be at top i.e 27+3 = 30 m & will not fall down.\nANSWER:D\nCorrect Answer: D\n\n\nQuestion: The average wages of a worker during a fortnight comprising of 15 consecutive working days was $90 per day. During the first 7 days, his average wage was $87 per day and the average wage during the last 7 days was $92 per day. What was his wage on the 8th day?\nAnswer Choices: (A) $83 (B) $92 (C) $90 (D) $97 (E) $104\nRationale: The total wage earned during the 15 days that the worker worked = 15 * 90 = $ 1350.\nThe total wage earned during the first 7 days = 7 * 87 = $ 609.\nThe total wage earned during the last 7 days = 7 * 92 = $ 644.\nTotal wage earned during the 15 days = wage during first 7 days + wage on 8th day + wage during the last 7 days.\nOr 1350 = 609 + wage on 8th day + 644\nWage on 8th day = 1350 - 609 - 644 = $ 97.\nAnswer D\nCorrect Answer: D\n\n\nQuestion: A square piece of cloth is trimmed by 4 feet on one edge to form a rectangular piece, which is then cut diagonally in half to create two triangles. If the area of each of triangle is 70 square feet, what was the perimeter (in feet) of the original piece of square cloth?\nAnswer Choices: (A) 56 (B) 58 (C) 60 (D) 62 (E) 64\nRationale: Let x be the length of one side of the original square.\nThe area of the rectangle is x(x-4)=140.\nx=14.\nThe perimeter of the square was 4*14=56 feet.\nThe answer is A.\nCorrect Answer: A\n\n\nQuestion: A shopkeeper in order to promote his new shop put a discount of 20% on all the items for one day. Now he must sell the items at original price the other day. By what percentage must he increase the price to original?\nAnswer Choices: (A) 21% (B) 20% (C) 25% (D) 33% (E) 18%\nRationale: Suppose every item is priced at $100. On 20% discount, the price will become $80. Now he must add $20 to each item for original price which is 25% of $80.\nCorrect Answer: C\n\n\nQuestion: A bookshelf contains 45 books, 30 of which are hardcover and 20 of which are fiction. What is the maximum number of books that are both hardcover and fiction?\nAnswer Choices: (A) 10 (B) 15 (C) 18 (D) 20 (E) 30\nRationale: Total Books = 45\nHard Cover = 30\nNon hardcover = 15\nFiction = 20\nNon-Fiction = 25\nMaximum number of Hardcover fiction will be 20( Assuming All the Fiction Books are Hard Cover )\nHence, the correct answer will be (D)\nCorrect Answer: D\n\n\nQuestion: A paper is in a square form whose one side is 20 cm. Two semi circles are drawn on its opposites as diameters. If these semi circles are cut down what is the area of the remaining paper?\nAnswer Choices: (A) 8.75 (B) 8.79 (C) 8.75 (D) 8.71 (E) 8.72\nRationale:\n================================================================================\n[Generated:]  Area of the square is x^2\nHalf of the area is x\nArea of 1st semi-circle is x(1/2)\nSimilarly, Area of the other semi-circle will be x(1/2)\nSo, x^2 + x = 8.75 + 8.7 = 8.7\nArea of the remaining paper = (8.7)^2 - (8.7)(8.7)\n= 8.72\nCorrect Answer: D\n",
          "output_type": "stream"
        },
        {
          "name": "stderr",
          "text": "Setting `pad_token_id` to `eos_token_id`:11 for open-end generation.\n",
          "output_type": "stream"
        },
        {
          "name": "stdout",
          "text": "Stopping criteria triggered\n[Prompt:]\nQuestion: M = abc is a three digit number and N = cba, if M > N and M - N + 396c = 990. Then how many values of M are more than 300.\nAnswer Choices: (A) 20 (B) 30 (C) 40 (D) 200 (E) None\nRationale: From the given data,\nabc – cba + 396c = 990\n100a + 10b + c – (100c + 10b + a) + 396c = 990\n99a – 99c + 396c = 990\nObserve that each term is divisible by 99. So on dividing the above expression by 99, we get\na – c + 4c = 10\na + 3c = 10\nFor c = 1, a = 7\nc = 2, a = 4\nc = 3, a = 1\n'b' can take any value from 0 to 9\nWe have to find the value of M more than 300. So minimum value of 'a' should be 4.\nSo total possibilities are 402, 412, ...., 492 = 10 values\n701, 711, ....., 791 = 10 values\nSo total values = 20.\nCorrect option: A\nCorrect Answer: A\n\n\nQuestion: Roy was suffering from severe headaches. He went to see his doctor and the doctor gave him 5 tablets asking him to take one tablet every 15 minutes.\nHow much time will it take Roy to consume all the 5 tablets?\nAnswer Choices: (A) 45 Min (B) 75 Min (C) 90 Min (D) 120 Min (E) 60 Min\nRationale: Tablet 1 will be taken in 0 min.\nTablet 2 will be taken in 15 min.\nTablet 3 will be taken in 30 min.\nTablet 4 will be taken in 45 min.\nTablet 5 will be taken in 60 min.\nCorrect Answer: E\n\n\nQuestion: A pen company produces very fine quality of writing pens. Company knows that on average 10% of the produced pens are always defective so are rejected before packing. Company promises to deliver 7200 pens to its wholesaler at Rs. 10 each. It estimates the overall profit on all the manufactured pens to be 25%. What is the manufactured cost of each pen?\nAnswer Choices: (A) Rs. 6 (B) Rs. 7.2 (C) Rs. 5.6 (D) Rs. 8 (E) None of these\nRationale: The company is able to deliver 90% of the manufactured pens. Means to produce 7200 pens they must have to produce 8000 pens as 10% are defectives. So, let K be the manufacturing price of each pen.\nTotal income (including 25% profit) = 8000 *K *1.25\nThis same income is obtained by selling 90% manufactured pens at Rs. 10 which is equal to 7200 *10.\nThus,\n8000 *K *1.25 = 7200 *10\nK = Rs. 7.2. [90% of 8000 = 7200]\nAnswer: Option B\nCorrect Answer: B\n\n\nQuestion: An express electric train takes exact three seconds to enter tunnel which is 1 mile long.\nIf train is traveling at 120 mile an hour, how long will it take to pass completely through the tunnel ?\nAnswer Choices: (A) 43 seconds (B) 39 seconds (C) 20 seconds (D) 33 seconds (E) 55 seconds\nRationale: The train takes 30 seconds to travel 1 mile, plus 3 seconds for the complete train to pass any point, making a total of 33 seconds.\nCorrect Answer: D\n\n\nQuestion: At a certain factory, 10 percent of the staplers produced on Monday were defective and 2 percent of the non-defective staplers were rejected by mistake. If 72 of the non-defective staplers were rejected, what was the number of staplers produced that day?\nAnswer Choices: (A) 4,000 (B) 4,200 (C) 4,500 (D) 4,800 (E) 5,000\nRationale: We're told that 10% of staplers in a factory are defective.\nX = Total staplers\n0.1X = defective staplers\n0.9X = normal staplers\nNext, we're told that 2% of the normal staplers were rejected by mistake and that this = 72 staplers.\n0.9X(0.02) = 72\n0.018X = 72\n18X = 72,000\nX = 4,000\nFinal Answer:\nA\nCorrect Answer: A\n\n\nQuestion: A can construct a wall in 40 min and B can construct the wall in 45 min. How many hours is needed to contruct a wall if both the person working together.\nAnswer Choices: (A) 20 min (B) 22 min (C) 23 min (D) 21 min (E) 20 min\nRationale:\n================================================================================\n[Generated:]  So, the wall can be constructed in\n= 40min + 45min = 85 min\n= 20 min\nCorrect Answer: C\n",
          "output_type": "stream"
        },
        {
          "name": "stderr",
          "text": "Setting `pad_token_id` to `eos_token_id`:11 for open-end generation.\n",
          "output_type": "stream"
        },
        {
          "name": "stdout",
          "text": "Stopping criteria triggered\n[Prompt:]\nQuestion: Jack buys 18 sharpeners (white and brown) for rs. 100. If he pays 1 rupee more for each white than brown sharpeners. How many of white and how many brown sharpeners did he buy?\nAnswer Choices: (A) 10,8 (B) 9,8 (C) 7,8 (D) 5,6 (E) 11,12\nRationale: Total cost=100\nnumber of sharp=18\ncost of white=cost of brown+1\n100/18=5.5...-(1)\nalso 100%18=10...-(2)\nas cost of white is 1 more than that of brown\nfrom 1 int. value will be 5\nnow remainder is 10 so 10 sharp. will be of cost (5+1)\n=> 10*(5+1)+8*5\n=>10*6+8*5\n=60+40\n100\nwhite=10\nbrown=8\nANSWER:A\nCorrect Answer: A\n\n\nQuestion: There is a 90% chance that a registered voter in Burghtown voted in the last election. If five registered voters are chosen at random, what is the approximate likelihood that exactly four of them voted in the last election?\nAnswer Choices: (A) 26.2% (B) 32.8% (C) 43.7% (D) 59.0% (E) 65.6%\nRationale: The probability that four of five voted is :\nP(1st one voted) X ... X P(4th one voted) X (5th one NOT voted)\n= 0.9 x 0.9 x 0.9 x 0.9 x 0.1\n= 0.81 x 0.81 x 0.1 = 0.6561\nANSWER: E\nCorrect Answer: E\n\n\nQuestion: A man walks at 5 kmph for 6 hrs and at 4 kmph for 12 hrs. His average speed is\nAnswer Choices: (A) 4 1/3 km/h (B) 7 2/3 km/h (C) 9 ½ km/h (D) 8 km/h (E) 81 km/h\nRationale: Avg speed = total distance/total time\n= 5*6 + 4*12 / 18\n=4 1/3 km/h\nCorrect Answer: A\n\n\nQuestion: Anna has 4 books. If she decide to arrange the 4 books in every possible combination and moved just one book every minute, how long would it taken by her ?\nAnswer Choices: (A) 22 minutes (B) 30 minutes (C) 15 minutes (D) 24 minutes (E) 35 minutes\nRationale: Number of ways of arranging 4 books = 4 ! = 4 x 3 x 2 x 1 = 24.\nSo, total time taken = 24 minutes\nAnswer: D\nCorrect Answer: D\n\n\nQuestion: Printer A and Printer B can each print 1⁄2 page per second. How long will it take both printers working together to print 100 pages?\nAnswer Choices: (A) 25 seconds (B) 50 seconds (C) 100 seconds (D) 200 seconds (E) 400 seconds\nRationale: Total work = Printer A + Printer B = 2 Printer A\n100= 2 * 1/2 * T => T=100 seconds\nAnswer: C\nCorrect Answer: C\n\n\nQuestion: All 250 files on Sam's hard drive are infected by either a virus or a worm or both. The number of files that are infected only by a worm is 2.5 times the number of files that are infected by both a virus and a worm. If 50% of the files were not infected by a virus, how many of Sam's files were NOT infected by a worm?\nAnswer Choices: (A) 50 (B) 70 (C) 75 (D) 100 (E) 125\nRationale:\n================================================================================\n[Generated:]  If there is no virus in the file, then the number of files that are infected by worm is same as the number of files that are infected by both virus and worm.\n50/2 = 25\n25*2.5 = 62.5\n62.5/2 = 31.25\n31.25 /2 = 15.625\n15.625 *2= 31.25 *2 = 62.5 *2 = 125\nAnswer: B\nCorrect Answer: B\n",
          "output_type": "stream"
        },
        {
          "name": "stderr",
          "text": "Setting `pad_token_id` to `eos_token_id`:11 for open-end generation.\n",
          "output_type": "stream"
        },
        {
          "name": "stdout",
          "text": "[Prompt:]\nQuestion: What should come in place of the question mark(?) in each of the following questions ?\na2 - b2/(a + b)2 (?)=(a - b)2\nAnswer Choices: (A) (a + b)(a - b) (B) (a - b)2 (C) (a + b)2 (D) a3 + b3 (E) None of these\nRationale: (a - b)2 x (a + b)2 / a2 - b2 = (a - b)2 x (a + b)2 / (a + b)(a - b) = (a + b) (a - b)\nAnswer : Option A\nCorrect Answer: A\n\n\nQuestion: Two friends are eating a jar full of candies. Had P eaten alone, it would have taken him 10 minutes to finish the candies in the jar. Had Q eaten alone, it would have taken her 5 minutes to finish half the jar. Since both of them are eating simultaneously, how many minutes would it take them to empty the jar?\nAnswer Choices: (A) 4 (B) 5 (C) 6 (D) 7 (E) 8\nRationale: Together they eat 1/10 + 1/10 = 1/5 of the jar per minute.\nThe time to finish the jar is 5 minutes.\nThe answer is B.\nCorrect Answer: B\n\n\nQuestion: In an exam, a candidate secured 504 marks of the maximum mark of M. If the maximum mark M is converted into 800 marks, he would have secured 420 marks. What is the value of M?\nAnswer Choices: (A) 278 (B) 2890 (C) 270 (D) 2702 (E) 960\nRationale: 504/M = 420/800\n(504 * 800) / 420 = M\nM = 960\nAnswer:E\nCorrect Answer: E\n\n\nQuestion: If 27 bottles of soda cost A cents, how much will B bottles cost in dollars?\nAnswer Choices: (A) AB/2700 (B) 27/AB (C) AB/270 (D) 2700/AB (E) 100AB/27\nRationale: 27 bottles cost A cents or A/100 dollars\n1 bottle will cost = A/100/27 = A/2700\nB bottles in dollars = B*A/2700 = AB/2700\nHence, answer will be A.\nCorrect Answer: A\n\n\nQuestion: If the probability that Stock A will increase in value during the next month is 0.56, and the probability that Stock B will increase in value during the next month is 0.74. What is the greatest value for the probability that neither of these two events will occur?\nAnswer Choices: (A) 0.22 (B) 0.26 (C) 0.37 (D) 0.46 (E) 0.63\nRationale: The probability that stock A does not increase is 0.44, and the probability that stock B does not increase is 0.26. Now, how can the probability that both do not increase be more than individual probability of not increasing for each? So the probability that both do not increase can not be more than 0.26. Basically the probability that both do not increase is between 0 and 0.26.\nCorrect Answer: B\n\n\nQuestion: Two ants are moving from their farms towards each other. Ant A is moving at a speed of 9 cm per hour and ant B is moving at a speed of 6 cm per hour. If the farms are 75 cm away from each other, what will be the distance (in cm) that ant A travels until meeting ant B?\nAnswer Choices: (A) 45 (B) 48 (C) 51 (D) 54 (E) 57\nRationale:\n================================================================================\n[Generated:]  75/9 = 9\n75/6 = 12.5 = A\nA = 75 - 12.5 = 60.5\nA = 60.5 cm\nAnswer: A\n\n\nQuestion: The average temperature in a town is 72.9 degrees F. What is the maximum temperature possible for the next day?\nAnswer Choices: (A) 76.9 degrees F (B) 79.9 degrees F (C) 82.9 degrees F (D) 85.9 degrees F (E) 87.9 degrees F\nRationale: A = 72.9 F = T, T = A + 20 F\nT tomorrow = 72.9 + 20 = 92.9\nAnswer: D\n\n\nQuestion: The area of a square is 48 square centimeters. What is the length of the diagonal of the square?\nAnswer Choices: (A) 10 cm (B) 4 cm (C) 4.5 cm (D) 5 cm (E) 7 cm\nRationale:\n",
          "output_type": "stream"
        },
        {
          "name": "stderr",
          "text": "Setting `pad_token_id` to `eos_token_id`:11 for open-end generation.\n",
          "output_type": "stream"
        },
        {
          "name": "stdout",
          "text": "[Prompt:]\nQuestion: Christopher and Jonathan were having bets. They decide that a coin will be flipped twenty times and each time it turns heads, Christopher will give $2 to Jonathan and each time it turns out to be Tails, Jonathan will give 3$ to Christopher. After flipping for twenty times none of the both won or lost any amount.\nHow many times did the coin landed on Heads ?\nAnswer Choices: (A) 10 (B) 23 (C) 16 (D) 18 (E) 12\nRationale: The amount won and lost by both is equal.\nThus 2x = 3(20-x) --- x in the number of times heads came\nX = 12\nCorrect Answer: E\n\n\nQuestion: The events A and B are independent. The probability that event A occurs is 0.6, and the probability that at least one of the events A or B occurs is 0.96. What is the probability that event B occurs?\nAnswer Choices: (A) 0.5 (B) 0.6 (C) 0.7 (D) 0.8 (E) 0.9\nRationale: Let x be the probability that B does not occur.\nP(A and B do not occur) = 1 - 0.96 = 0.04\n0.4x = 0.04\nx=0.1\nP(B occurs) = 1 - x = 0.9\nThe answer is E.\nCorrect Answer: E\n\n\nQuestion: In an exam, a candidate secured 504 marks of the maximum mark of M. If the maximum mark M is converted into 800 marks, he would have secured 420 marks. What is the value of M?\nAnswer Choices: (A) 278 (B) 2890 (C) 270 (D) 2702 (E) 960\nRationale: 504/M = 420/800\n(504 * 800) / 420 = M\nM = 960\nAnswer:E\nCorrect Answer: E\n\n\nQuestion: A cow is tethered in the middle of a field with a 14 feet long rope. If the cow grazes 10 sq.ft. per day, then approximately what time will be taken by the cow to graze the whole field?\nAnswer Choices: (A) 51 days (B) 61 days (C) 71 days (D) 81 days (E) 91 days\nRationale: Area of the field grazed = [22/7*14*14]sq.ft. = 616 sq.ft.\nNumber of days taken to graze the field = 616/10 days\n=> 61 days\nANSWER:B\nCorrect Answer: B\n\n\nQuestion: Last year, a Home Appliance Store sold an average(arithmetic mean) of 42 microwave ovens per month. In the first 10 months of this year,the store has sold an average(arithmetic mean) of only 20 microwave ovens per month. What was the average number of microwave ovens sold per month during the entire 22 months period ?\nAnswer Choices: (A) 21 (B) 30 (C) 31 (D) 32 (E) None of the above\nRationale: 42×12+20×10 /12+10=504+200/22=704/22=32\nAnswer D\nCorrect Answer: D\n\n\nQuestion: A sales person gets a 10% commission on each sale he makes. How many sales of $250 each must he make in order to reach a salary of at least $1000?\nAnswer Choices: (A) 15 (B) 24 (C) 25 (D) 40 (E) 52\nRationale:\n================================================================================\n[Generated:]  10% of 250 = 25\n10% of 500 = 50\n10% of 1000 = 100\nThe required total is 10% of 1500\nAnswer: B\n\n\nQuestion: A man can complete a work in 20 days, while his son can do the same work in 18 days. If they started the work together, they would be able to complete it in?\nAnswer Choices: (A) 25 days (B) 24 days (C) 24 days (D) 22 days (E) 21 days\nRationale: They started the work together =>\n1/20x + 1/18x = 1 ----x=20\nThe remaining work is 1-x = 4 days.\nThe man works at the rate of 4/20 x/18 = 1/5 and the son works at the rate of 1/20 x/18 = 1/10.\nANSWER:C\n\n\nQuestion: A train departs for Delhi at 9:30 a.m. from Ahmedabad. Two hours later a train departs for\n",
          "output_type": "stream"
        },
        {
          "name": "stderr",
          "text": "Setting `pad_token_id` to `eos_token_id`:11 for open-end generation.\n",
          "output_type": "stream"
        },
        {
          "name": "stdout",
          "text": "Stopping criteria triggered\n[Prompt:]\nQuestion: If the population of a city increases by 5 % annually, what will be the population of the city in 2 years time if its current population is 78000?\nAnswer Choices: (A) 81900 (B) 85995 (C) 85800 (D) 90000 (E) None of these\nRationale: The % change in population of city in two years time is 1.05*1.05 = 1.1025 = 10.25%\nTherefore, after 2 years the population of the city will be 1.1025 * 78000 = 85995\nANSWER B\nCorrect Answer: B\n\n\nQuestion: At 6% per annum simple interest, Rahul borrowed Rs. 500. What amount will he pay to clear the debt after 4 years\nAnswer Choices: (A) 750 (B) 700 (C) 620 (D) 600 (E) None of these\nRationale: We need to calculate the total amount to be paid by him after 4 years, so it will be Principal + simple interest.\nSo,\n=>500+500∗6∗4 /100=>Rs.620\nOption C\nCorrect Answer: C\n\n\nQuestion: If one of the roots of the quadratic equation x^2 + mx + 22 = 0 is 1.5, then what is the value of m?\nAnswer Choices: (A) -23.5 (B) -17.5 (C) -10.5 (D) -16.2 (E) Cannot be determined\nRationale: Here x=1.5 must satisfy the equation\n=> 1.5^2 + 1.5m + 22 = 0\n=> m=-16.2\nANSWER:D\nCorrect Answer: D\n\n\nQuestion: A man spends Rs. 3500 per month and saves 12 1/2% of his income. His monthly income is ?\nAnswer Choices: (A) Rs. 4400 (B) Rs. 4270 (C) Rs. 4000 (D) Rs. 3937.50 (E) None of these\nRationale: 87 1/2% of P = 3500\n⇒ {(175/2) x P} / 100 = 3500\n∵ P = (3500 x 2 x 100) / 175 = 4000\nCorrect Option: C\nCorrect Answer: C\n\n\nQuestion: Joe's age, Joe's sister's age and Joe’s fathers age sums up to 100. When Joe is as old as his father, Joe's sister will be twice as old as now. When Joe is as old as his father then his father is twice as old as when his sister was as old as her father. Find the age of Joe's father?\nAnswer Choices: (A) 45 (B) 48 (C) 50 (D) 55 (E) 58\nRationale: Joe+Sister+Father=100\nAfter x years joe age is equal to his father\nJoe+x = father\nTherefore, Sister+x = 2 * Sister\n=> Sister=x\nJoe+Sister=Father\nTherefore,\n=> 2*Father = 100\n=> Father= 50\nHence (C) is the correct answer\nCorrect Answer: C\n\n\nQuestion: The original retail price of an appliance was 60 percent more than its wholesale cost. If the appliance was actually sold for 20 percent less than the original retail price, then it was sold for what percent more than its wholesale cost?\nAnswer Choices: (A) 20% (B) 28% (C) 36% (D) 40% (E) 42%\nRationale:\n================================================================================\n[Generated:]  60/80=x%\nx=20/80=0.25\n(X-0.25)/0.25=20\nCorrect Answer: E\n",
          "output_type": "stream"
        },
        {
          "name": "stderr",
          "text": "Setting `pad_token_id` to `eos_token_id`:11 for open-end generation.\n",
          "output_type": "stream"
        },
        {
          "name": "stdout",
          "text": "Stopping criteria triggered\n[Prompt:]\nQuestion: IF one gallon of soft drink is made of 40% orange juice and 60% water, how many additional gallons of orange juice must be mixed in order to make the orange juice 60% of the soft drink?\nAnswer Choices: (A) 0.5 (B) 1 (C) 1.25 (D) 1.5 (E) 2\nRationale: Let x be the quantity to be added\n(0.4+y) / 1+y = 60/100\n=> 4+10y = 6+6y\n=> y = 2/4 = 0.5\nAnswer is A\nCorrect Answer: A\n\n\nQuestion: A company contracts to paint 3 houses. Mr.Brown can paint a house in 6 days while Mr.Black would take 8 days and Mr.Blue 12 days. After 8 days Mr.Brown goes on vacation and Mr. Black begins to work for a period of 6 days. How many days will it take Mr.Blue to complete the contract?\nAnswer Choices: (A) 7 (B) 8 (C) 10 (D) 11 (E) 12\nRationale: let x is amount of work to be done to paint one house.\nSo Brown's one day work is x/6, black's can do x/8 work in\none day and blue is x/12.\nTotal houses is 3, so tatal work to be done is 3x.\n3x= 8*(x/6) + 6*(x/8) + y*(x/12)\nfinally y = 11.\nblue will complete the remaining work in 11 days.\nANSWER:D\nCorrect Answer: D\n\n\nQuestion: In how many ways can the letters of the word \"PROBLEC\" be rearranged to make 7 letter words such that none of the letters repeat?\nAnswer Choices: (A) 2! (B) 3! (C) 7! (D) 8! (E) 9!\nRationale: There are seven positions to be filled.\nThe first position can be filled using any of the 7 letters contained in PROBLEM.\nThe second position can be filled by the remaining 6 letters as the letters should not repeat.\nThe third position can be filled by the remaining 5 letters only and so on.\n758\nTherefore, the total number of ways of rearranging the 7 letter word = 7*6*5*4*3*2*1 = 7! Ways.\nC\nCorrect Answer: C\n\n\nQuestion: If there are 5,000 voters out of which 20% are not eligible to vote and there are two candidates contesting. The winning candidate won by 15% of the votes. What is the total number of votes he got ?\nAnswer Choices: (A) 3267 (B) 2678 (C) 2797 (D) 2300 (E) 2781\nRationale: Number of voters eligible for voting = 5000 × 0.8 = 4000\nNumber of extra votes gotten by the winning candidate = 4000 × 0.15 = 600\nLet the number of votes won by winning candidate = x.\n⇒ x – (4000 – x) = 600\n⇒ x = 2300\nAnswer: D\nCorrect Answer: D\n\n\nQuestion: A flagstaff 17.5 metre high casts a shadow of length 40.25 metre. The height of building, which casts a shadow of length 28.75 metre under similar conditions will be :\nAnswer Choices: (A) 12 metre (B) 12.5 metre (C) 13.5 metre (D) 14 metre (E) 15 metre\nRationale: Less shadow, Less Height (Direct Proportion)\nSo, let height of building be x metre\nthen,\n40.25:17.5::28.75:x\n=>x=17.5∗28.75/ 40.25\n=>x=12.5\nOption B\nCorrect Answer: B\n\n\nQuestion: A bee bypasses 0.05% of flowers it flies by because it can sense they don't have any nectar in them. How many flowers will the bee fly by to bypass 8 flowers?\nAnswer Choices: (A) 2000 (B) 4000 (C) 8000 (D) 16000 (E) 32000\nRationale:\n================================================================================\n[Generated:]  So, the probability that the bee misses the nectarless flower is 0.05%.\nLet X is the number of flowers which are nectarless\n= 8000-X\n= 8000-0.05∗8\n= 0.98∗8000\n= 7948.8\nC\nCorrect Answer: C\n",
          "output_type": "stream"
        },
        {
          "name": "stderr",
          "text": "Setting `pad_token_id` to `eos_token_id`:11 for open-end generation.\n",
          "output_type": "stream"
        },
        {
          "name": "stdout",
          "text": "Stopping criteria triggered\n[Prompt:]\nQuestion: Find out which of the following values is the multiple of X, if it is divisible by 9 and 12?\nAnswer Choices: (A) 36 (B) 15 (C) 17 (D) 5 (E) 7\nRationale: 9=3*3\n12=3*4\nThe number should definitely have these factors 3*3*4\n36 is the number that has these factors\nSo, 36 is the multiple of X\nAnswer is A\nCorrect Answer: A\n\n\nQuestion: A man walks at 5 kmph for 6 hrs and at 4 kmph for 12 hrs. His average speed is\nAnswer Choices: (A) 4 1/3 km/h (B) 7 2/3 km/h (C) 9 ½ km/h (D) 8 km/h (E) 81 km/h\nRationale: Avg speed = total distance/total time\n= 5*6 + 4*12 / 18\n=4 1/3 km/h\nCorrect Answer: A\n\n\nQuestion: A rectangle has a length of 8 centimeters and a width of 3 centimeters. Find the perimeter.\nAnswer Choices: (A) 18cm (B) 22cm (C) 20cm (D) 30cm (E) 28cm\nRationale: Perimeter = 2(8 cm) + 2(3 cm) = 16 cm + 6 cm = 22 cm\nanswer:B.\nCorrect Answer: B\n\n\nQuestion: A bag of cat food weighs 7 pounds and 4 ounces. How much does the bag weigh in ounces?\nAnswer Choices: (A)  108 (B)  112 (C)  116 (D)  120 (E)  124\nRationale: 1 pound = 16 ounces.\n7 pounds and 4 ounces = (7 x 16) + 4 = 116 ounces.\nAnswer: C.\nCorrect Answer: C\n\n\nQuestion: Two ants are standing side-by-side. One ant, which is 4 inches tall, casts a shadow that is 10 inches long. The other ant is 6 inches tall. Compute, in inches, the length of the shadow that the taller ant casts.\nAnswer Choices: (A) 36 (B) 28 (C) 42 (D) 15 (E) 20\nRationale: The ratio of shadow to height is constant, so if x is the length of the shadow, then\n4/10 = 6/x and x = 15 .\ncorrect answer D\nCorrect Answer: D\n\n\nQuestion: Two numbers are in the ratio 3:5. If 9 is subtracted from each, the new numbers are in the ratio 12:23. The smaller number is?\nAnswer Choices: (A) 21 (B) 33 (C) 35 (D) 42 (E) 58\nRationale:\n================================================================================\n[Generated:]  12/23 = 3/5 / 5/3 = 5/17\nThe smaller number is 17\nCorrect Answer: C\n",
          "output_type": "stream"
        },
        {
          "name": "stderr",
          "text": "Setting `pad_token_id` to `eos_token_id`:11 for open-end generation.\n",
          "output_type": "stream"
        },
        {
          "name": "stdout",
          "text": "[Prompt:]\nQuestion: M = abc is a three digit number and N = cba, if M > N and M - N + 396c = 990. Then how many values of M are more than 300.\nAnswer Choices: (A) 20 (B) 30 (C) 40 (D) 200 (E) None\nRationale: From the given data,\nabc – cba + 396c = 990\n100a + 10b + c – (100c + 10b + a) + 396c = 990\n99a – 99c + 396c = 990\nObserve that each term is divisible by 99. So on dividing the above expression by 99, we get\na – c + 4c = 10\na + 3c = 10\nFor c = 1, a = 7\nc = 2, a = 4\nc = 3, a = 1\n'b' can take any value from 0 to 9\nWe have to find the value of M more than 300. So minimum value of 'a' should be 4.\nSo total possibilities are 402, 412, ...., 492 = 10 values\n701, 711, ....., 791 = 10 values\nSo total values = 20.\nCorrect option: A\nCorrect Answer: A\n\n\nQuestion: A box contains a certain number of balls, marked successively from 1 to n. If there are 45 different ways that two balls can be selected from the box such that the ball with number 3 marked on it is not selected, then what is the value of n?\nAnswer Choices: (A) 11 (B) 10 (C) 9 (D) 8 (E) 7\nRationale: (n-1)C2=45\nn-1=10\nn=11\nThe answer is A.\nCorrect Answer: A\n\n\nQuestion: Alex and Jacob works at a toy shop that make toys. Alex takes 7 hours to make a toy, and Jacob takes 9 hours to make a toy. During a month, both of them makes 35 toys in total. If both of them have worked for almost similar number of hours how many toys have been prepared by Jacob?\nAnswer Choices: (A) 15 (B) 16 (C) 17 (D) 18 (E) 19\nRationale: Lets say Alex has worked for x hrs., and Jacob has worked for y hrs. So, number of toys prepared by Alex is x/7, and Jacob is y/9. Since total number of toys prepared by both of them is 35.\n=> x/7 + y/9 = 35.\n=> 9x + 7y = (35)(63)\n=> 7y = (35)(63) - 9x\n=> y = (5)(63) - (9/7)x\n=> y = 315 - (9/7)x\n=> x is to be a multiple of 7. Also, we need to minimize the difference between x & y. Here are some possible values,\nx = 126, y = 315 - (9/7)126 = 153\nx = 133, y = 315 - (9/7)133 = 144\nx = 140, y = 315 - (9/7)140 = 135\nx = 147, y = 315 - (9/7)147 = 126\nAs we can see minimum difference between x and y is when x is 140 hrs. and y is 135 hrs. Thus total toys created by Jacob = y/9 = 135/9 = 15.\nAnswer: A\nCorrect Answer: A\n\n\nQuestion: A train running at a speed of 100 miles/hour, takes 10 hours to reach its destination. After covering quarter of the distance, it starts raining and the train has to be slowed to speed of 75 miles/hour. What is the total journey duration?\nAnswer Choices: (A) 10 (B) 11.5 (C) 12.5 (D) 13.5 (E) 15\nRationale: Distance to destination = 100 X 10 = 1000 miles.\nDistance remaining when it starts to rain = 1000 - 250 = 750 miles.\nSpeed for remaining distance = 75 miles / hour.\nTime taken to cover remaining distance = 750 / 75 = 10 hours.\nTotal duration of the journey = 2.5 + 10 = 12.5 hours.\nThe correct option is C.\nCorrect Answer: C\n\n\nQuestion: The cross-section of a canal is shaped like a trapezium. If the canal is 10 m wide at the top and 6 m wide at the bottom and the area of cross-section is 640 square meters, the depth of cannel is?\nAnswer Choices: (A) 26 (B) 28 (C) 21 (D) 80 (E) 23\nRationale: 1/2 * d (10 + 6)\n= 640\nd = 80\nAnswer: D\nCorrect Answer: D\n\n\nQuestion: If Q, a positive integer, has 5 factors, which of the following must be true about Q?\nI. Q is the square of a prime number.\nII. Q is the fourth power of a prime number.\nIII. Q is the product of two prime numbers.\nAnswer Choices: (A) I only (B) III only (C) II only (D) I and II only (E) I and III only\nRationale:\n================================================================================\n[Generated:]  Q cannot be a square of a prime number. Because, if we take n = 5, then the factors of Q are 3, 5 and 1. But if Q were a square, then one factor of Q will be 0.\nSo it cannot be a square of a prime number.\nIf Q is a fourth power of a prime number, then the first factor of Q will be the number 4. But in the question, the answer states “Q is a prime number”. So Q cannot be the product of two prime numbers.\nSo the answer is A.\nAnswer: A\n\n\nQuestion: The product of first three terms of an A.P. is 7. Find the number of terms in the A.P.\nAnswer Choices: (A) 3 (B) 5 (C) 7 (D) 8 (E) 9\nRationale: Let x be the first term of the A.P.\nx2 + x + 7 = 7\nx(x + 1) = 7\nx2 - x - 7 = 0\nx = \n",
          "output_type": "stream"
        },
        {
          "name": "stderr",
          "text": "Setting `pad_token_id` to `eos_token_id`:11 for open-end generation.\n",
          "output_type": "stream"
        },
        {
          "name": "stdout",
          "text": "[Prompt:]\nQuestion: A grocery sells a bag of ice for $1.25, and makes 20% profit. If it sells 500 bags of ice, how much total profit does it make?\nAnswer Choices: (A) 125 (B) 150 (C) 225 (D) 250 (E) 275\nRationale: Profit per bag = 1.25 * 0.20 = 0.25\nTotal profit = 500 * 0.25 = 125\nAnswer is A.\nCorrect Answer: A\n\n\nQuestion: A cow is tethered in the middle of a field with a 14 feet long rope. If the cow grazes 10 sq.ft. per day, then approximately what time will be taken by the cow to graze the whole field?\nAnswer Choices: (A) 51 days (B) 61 days (C) 71 days (D) 81 days (E) 91 days\nRationale: Area of the field grazed = [22/7*14*14]sq.ft. = 616 sq.ft.\nNumber of days taken to graze the field = 616/10 days\n=> 61 days\nANSWER:B\nCorrect Answer: B\n\n\nQuestion: Two numbers are said to be relatively prime if they share no common positive factors other than 1. Set S contains the set of integers from 1 to 1,000, inclusive. What is the probability that a number chosen from S is relatively prime to 1,000?\nAnswer Choices: (A) 5/7 (B) 3/5 (C) 4/7 (D) 2/5 (E) 2/7\nRationale: We need all numbers between 1 and 1000 that are co-prime.\nBetween 1 to 10 there are 4 : 1,3,7,9\nTake the period of 10's , we have 100 periods of 10's between 1 to 1000\nSo the total number of co-primes = 400\nNow, the simple part ...\nProbability = 400/1000 (i.e picking a co-prime from the first 1000 numbers )\nAns: 2/5 D\nCorrect Answer: D\n\n\nQuestion: Alex and Jacob works at a toy shop that make toys. Alex takes 7 hours to make a toy, and Jacob takes 9 hours to make a toy. During a month, both of them makes 35 toys in total. If both of them have worked for almost similar number of hours how many toys have been prepared by Jacob?\nAnswer Choices: (A) 15 (B) 16 (C) 17 (D) 18 (E) 19\nRationale: Lets say Alex has worked for x hrs., and Jacob has worked for y hrs. So, number of toys prepared by Alex is x/7, and Jacob is y/9. Since total number of toys prepared by both of them is 35.\n=> x/7 + y/9 = 35.\n=> 9x + 7y = (35)(63)\n=> 7y = (35)(63) - 9x\n=> y = (5)(63) - (9/7)x\n=> y = 315 - (9/7)x\n=> x is to be a multiple of 7. Also, we need to minimize the difference between x & y. Here are some possible values,\nx = 126, y = 315 - (9/7)126 = 153\nx = 133, y = 315 - (9/7)133 = 144\nx = 140, y = 315 - (9/7)140 = 135\nx = 147, y = 315 - (9/7)147 = 126\nAs we can see minimum difference between x and y is when x is 140 hrs. and y is 135 hrs. Thus total toys created by Jacob = y/9 = 135/9 = 15.\nAnswer: A\nCorrect Answer: A\n\n\nQuestion: The original price of an item is discounted 22%. A customer buys the item at this discounted price using a $20-off coupon. There is no tax on the item, and this was the only item the customer bought. If the customer paid $1.90 more than half the original price of the item, what was the original price of the item?\nAnswer Choices: (A) $61 (B) $65 (C) $67.40 (D) $70 (E) $78.20\nRationale: Let x be the original price of the item\nDiscounted price = 0.78x\nPayment made by the customer after using the $20 coupon = 0.78x - 20\n0.78x - 20 = x/2 + 1.9\nx = 78.20\nAnswer: E\nCorrect Answer: E\n\n\nQuestion: 5 horses are in a race. Mr.Jain selects two of horses at random and bets on them. The probability that he selected the winning horse is\nAnswer Choices: (A) 1/5 (B) 2/5 (C) 3/5 (D) 4/5 (E) 6/5\nRationale:\n================================================================================\n[Generated:]  Probability of selecting a winning horse = 1/5\nProbability of selecting winning horse is 1\nProbability of selecting two horses = 2/5\nAnswer: E\n\n\nQuestion: A can prepare a batch of 30 biscuits in 4.5 hrs., B can prepare the same batch of 30 biscuits in 3 hrs., C can prepare the same batch of 30 biscuits in 4 hrs., and D can prepare the same batch of 30 biscuits in 6 hrs. If all of them start preparing the biscuits simultaneously, then in how many hrs will all of them complete the work?\nAnswer Choices: (A) 1 1/2 hrs (B) 1 1/2 hrs (C) 2 hrs (D) 2 hrs (E) 3 hrs\nRationale: Let total no. of biscuits B, C, D, E = 30\nThen no. of biscuits prepared in 1 hr. = 30/4 = 7.5\nSimilarly, no. of biscuits prepared in 2 hrs. = 30/2 = 15\nWe need to know the total no. of biscuits\n",
          "output_type": "stream"
        },
        {
          "name": "stderr",
          "text": "Setting `pad_token_id` to `eos_token_id`:11 for open-end generation.\n",
          "output_type": "stream"
        },
        {
          "name": "stdout",
          "text": "Stopping criteria triggered\n[Prompt:]\nQuestion: Add: +45 and -30\nAnswer Choices: (A) -30 (B) +30 (C) 0 (D) 15 (E) -15\nRationale: 45 - 30 = 15\nANSWER : D\nCorrect Answer: D\n\n\nQuestion: The price of a product is reduced by 30% . By what percentage should it be increased to make it 100%\nAnswer Choices: (A) 41.86% (B) 42.86% (C) 43.86% (D) 44.86% (E) 45.86%\nRationale: If initial price is Rs 100 and reduced price is Rs 70.\nThen, to make it 100 again, price should increase by 100*30/70= 300/7 % or 42.86% approx\nANSWER:B\nCorrect Answer: B\n\n\nQuestion: The value of log2 4 is:\nAnswer Choices: (A) 2 (B) 4 (C) 6 (D) 8 (E) 12\nRationale: Let log2 4 = n.\nlog2 4 = 2.\nAnswer: Option A\nCorrect Answer: A\n\n\nQuestion: In a class, 8% of total students are interested in Football. 4/5 of total students are interested in Cricket. 10% of total students are interested in Basketball and remaining 20 students are not interested in any games. How many students are there in the class?\nAnswer Choices: (A) 850 (B) 800 (C) 900 (D) 950 (E) 1000\nRationale: Let x is total no. of students\n8x/100+4x/5+10x/100+20=x\nBy solving this\nx=1000\nANSWER:E\nCorrect Answer: E\n\n\nQuestion: A club consists of members whose ages are in A.P. The common difference being 3 months. If the youngest member of the club is just 7 years old and the sum of the ages of all the members is 250, then number of members in the club are :\nAnswer Choices: (A) 18 (B) 20 (C) 25 (D) 26 (E) 27\nRationale: Let, n be the number of members in the club.Then,\n250 =(n x [2×7+(n+1)×3/12]) / 2.\nn =25.\nHence, the number of members in the club is 25.\nAnswer : C\nCorrect Answer: C\n\n\nQuestion: For bringing each copper coin from the bottom of a river, a coin-diver gets 20 cents, and for each brass coin she gets 25 cents. If after one dive, she got $3.40. What is the minimum number of copper coins that she brought?\nAnswer Choices: (A) 4 (B) 3 (C) 2 (D) 1 (E) 0\nRationale:\n================================================================================\n[Generated:]  If she had got copper coin of 3cents, then the total coins she has :\n0.25*3=0.75\nIf she had got copper coins of 2 cents, then\n0.25*2=0.50\nIf she had got copper coins of 1 cent, then\n0.25*1=0.25\nAnswer : B\n\n\nQuestion: Which of the following numbers will be 3 more than the sum of their digits?\nAnswer Choices: (A) 25 (B) 39 (C) 54 (D) 71 (E) 78\nRationale: Let the numbers be X and Y.\nx+y=3\n3=x+y\nx+3=y\nx=y+3\nx=y+3\nBy substituting the value of x,\n4+y=3+3=6\ny=3\ny=3\ny=3\nAnswer : B\nCorrect Answer: B\n",
          "output_type": "stream"
        },
        {
          "name": "stderr",
          "text": "Setting `pad_token_id` to `eos_token_id`:11 for open-end generation.\n",
          "output_type": "stream"
        },
        {
          "name": "stdout",
          "text": "Stopping criteria triggered\n[Prompt:]\nQuestion: Amy is organizing her bookshelves and finds that she has 10 different types of books. She then codes each book with either a single letter or a pair of two different letters. If each type of book is uniquely represented by either a single letter or pair of letters, what is the smallest number of letters Amy will need to create the codes for all 10 types of books? (Assume the order of letters in a pair does not matter.)\nAnswer Choices: (A) 3 (B) 4 (C) 5 (D) 10 (E) 20\nRationale: The question asks for the smallest value of n, such that (n + nC2) = 10 (n represents the number of letters. In this equation, n by itself is for single-letter codes and nC2 is for two-letter codes).\nAt this point, you'd need to pick numbers, since there's really no easy way to solve nC2 = (10 – n) without a calculator.\nLooking at the answer choices, you can eliminate 10 and 20, so you can quickly narrow down the values you need to test. (i.e. (10 – n) suggests n can not be less than 10.)\nAs a general rule, whenever you're asked for the smallest value that satisfies a condition, start by testing the smallest number in the answers. Conversely, if you're asked for the largest value, start with the greatest answer.\nPlug-in n=4 to (n + nC2) = (4 + 4C2) = 4 + (4x3 /2) = (4 + 6) = 10 ANS:D\nCorrect Answer: D\n\n\nQuestion: ABCDE is a regular pentagon with F at its center. How many different quadrilaterals can be formed by joining 4 of the points A,B,C,D,E and F?\nAnswer Choices: (A) 12 (B) 10 (C) 5 (D) 15 (E) 20\nRationale: The number of polygons with k sides that can be formed by joining them is nCk\nfor quadrilaterals k=4\nit has 6 sides n=6\n6C4=15\nAnswer is D\nCorrect Answer: D\n\n\nQuestion: A car is being driven, in a straight line and at a uniform speed, towards the base of a vertical tower. The top of the tower is observed from the car and, in the process, it takes 10 minutes for the angle of elevation to change from 45° to 60°. After how much more time will this car reach the base of the tower?\nAnswer Choices: (A) 5(√3 + 1) (B) 6(√3 + √2) (C) 7(√3 – 1) (D) 8(√3 – 2) (E) None of these\nRationale: Explanation :\nLet the height of the building be h. Initially, he was at an angle of 450. tan 45 = h/distance between car and tower. h = distance between car and tower (since tan 45 = 1).\nNow, after 10 minutes, it travelled a certain distance, and angle changed to 600.\ntan 60 = h/x x = h/√3\nSo, in 10 minutes, it has travelled a distance of h – x = h - h/√3.\n10 minutes = h *( 1 – 1√3)\nh can be travelled in 10 / (1 – 1√3).\nTo travel a distance of x, which is h/√3, it takes :\nh = 10 / (1 – 1/√3)\nh / √3 = 10/ √3 * (1 – 1/√3). Multiply numerator and denominator by 1 + √3 ( conjugate of 1 - √3). We get, x = h/√3 = 10 (1 + √3) / 2 = 5* (1 + √3)\nSo, it takes 5(1 + √3) minutes to reach the base of the tower.\nAnswer : A\nCorrect Answer: A\n\n\nQuestion: A merchant receives an invoice for a motor boat for $20 000 with terms 4/30, n/100. What is the highest simple interest rate at which he can afford to borrow money in order to take advantage of the discount?\nAnswer Choices: (A) 247.67 (B) 237.67 (C) 227.67 (D) 215.67 (E) None of these\nRationale: Explanation:\nSuppose the merchant will take advantage of the cash discount of 4% of $20 000 = $800 by paying the bill within 30 days from the date of invoice. He needs to borrow $20 000 = $800 = $19 200. He would borrow this money on day 30 and repay it on day 100 (the day the original invoice is due) resulting in a 70-day loan. The interest he should be willing to pay on borrowed money should not exceed the cash discount $800.\nr=I/pt=21.73%\nThe highest simple interest rate at which the merchant can afford to borrow money is 21.73%. This is a break-even rate. If he can borrow money, say at a rate of 15%, he should do so. He would borrow $19 200 for 70 days at 15%. Maturity value of the loan is $19 200(1+0.15(70/365))=$19 752.33\nsavings would be $20 000 − $19 752.33 = $247.67\nAnswer: A\nCorrect Answer: A\n\n\nQuestion: The monthly salary S of a shop assistant is the sum of a fixed salary of $500 plus 5% of all monthly sales. What should the monthly sales be so that her monthly salary reaches $1500?\nAnswer Choices: (A) $50000 (B) $40000 (C) $30000 (D) $20000 (E) None of these\nRationale: Let S be the total monthly salary and x be the monthly sales, hence\nS = 500 + 5% * x\nFind sales x so that S = 1500, hence\n1500 = 500 + 5% * x = 500 + 0.05 x\nSolve for x\nx = (1500 - 500) / 0.05 = $20000\nAnswer D\nCorrect Answer: D\n\n\nQuestion: R, S, T, and U are points on a line, and U is the midpoint of line segment ST. If the lengths of line segments RS, RT, and ST are 5, 17, and 22, respectively. What is the length of line segment RU?\nAnswer Choices: (A) 6 (B) 7 (C) 8 (D) 9 (E) 10\nRationale:\n================================================================================\n[Generated:]  Explanation :\nNow,\nLet’s take the midpoint of ST as x and let the midpoint of RS be y,\nx = 5 and y = 17,\nThen, RS = 17 – x – y\nSimilarly,\nRU = 22 – x – y\nNow,\nRS = 17 – x – y = 17 – 5 – y = 12 – y\nand RU = 22 – x – y = 22 – 5 – y = 17 – y\nSince, RS is half of the length of RU, then, RU will be the length of line segment RS (x).\nNow,\nx = 12\nand y = 7\nSo, RU = 17 – 5 – 7 = 3\nAnswer: D\nCorrect Answer: D\n",
          "output_type": "stream"
        },
        {
          "name": "stderr",
          "text": "Setting `pad_token_id` to `eos_token_id`:11 for open-end generation.\n",
          "output_type": "stream"
        },
        {
          "name": "stdout",
          "text": "Stopping criteria triggered\n[Prompt:]\nQuestion: A man borrows Rs.360 If he pays it back in 12 monthly installments of Rs.31.50, what is his interest rate?\nAnswer Choices: (A) 1.5% (B) 4.5% (C) 10% (D) 5% (E) 12%\nRationale: Instead of paying monthly 360/12 = 30Rs, the man pays 31.50Rs. Therefore, the interest rate is 1.5/30 = 0.5/10 = 5/100 = 5%.\nAnswer D\nCorrect Answer: D\n\n\nQuestion: At what price should the Karan mark a sewing machine that costs him Rs. 1200/- so that even after offering a 20% discount, he makes 20% profit?\nAnswer Choices: (A) 1,879 (B) 1,875 (C) 1,876 (D) 1,872 (E) 1,800\nRationale: Cost of a sewing machine = Rs. 1200/-\nBy giving 20% discount on the marked price of a sewing machine, the cost price is :\n100/80 * 1200 = Rs. 1500/- By making a profit of 20% on the cost price of a sewing machine, the marked price of the sewing machine is:\n120/100 Ã— 1500 = Rs. 1,800/-\nANSWER: 3\nCorrect Answer: E\n\n\nQuestion: The bus fare for two persons for travelling between Agra and Aligarh id four-thirds the train fare between the same places for one person. The total fare paid by 6 persons travelling by bus and 8 persons travelling by train between the two places is Rs.1512. Find the train fare between the two places for one person?\nAnswer Choices: (A) 126 (B) 77 (C) 88 (D) 66 (E) 54\nRationale: Let the train fare between the two places for one person be Rs.t\nBus fare between the two places for two persons Rs.4/3 t\n=> 6/2 (4/3 t) + 8(t) = 1512\n=> 12t = 1512 => t = 126.\nAnswer:A\nCorrect Answer: A\n\n\nQuestion: The average (arithmetic mean) of the weight of 10 vehicles is 12.2 tons. The average weight of the group of vehicles increased by 2.6 tons after a new heavy duty truck was added to the group? What is the weight in tons of the heavy duty truck?\nAnswer Choices: (A) 40.8 (B) 41.6 (C) 42.2 (D) 43.5 (E) 44.8\nRationale: The new average is 14.8 tons.\nOn average, the ten trucks are 2.6 tons below the average for a total weighting of 26 tons.\nTherefore, the added truck must be 14.8 + 26 = 40.8 tons\nThe answer is A.\nCorrect Answer: A\n\n\nQuestion: X and Y are two alloys which were made by mixing zinc and copper in the ratio 6:9 and 7:11, respectively. If 40 grams of alloy X and 60 grams of alloy Y are melted and mixed to form alloy Z, what is the ratio of zinc and copper in the alloy Z ?\nAnswer Choices: (A) 69:91 (B) 59:91 (C) 59:90 (D) 59:91 (E) 69:101\nRationale: The ratio of zinc and copper in mixture 1 is 6/9 and in mixture 2 is 7/11.\n40 grams of mixture 1 contains 6*40/15=16 grams of zinc and 24 grams of copper\n60 grams of mixture 2 contains 7*60/18=77/3 grams of zinc and 110/3 grams of copper\nThus, ratio =(16+77/3)/(24+110/3) =59/91\nANSWER:B\nCorrect Answer: B\n\n\nQuestion: A car finishes a journey in 20 hours at the speed of 60 km/hr. If the same distance is to be covered in 10 hours, how much speed does the car gain?\nAnswer Choices: (A) 80 kmph (B) 50 kmph (C) 120 kmph (D) 70 kmph (E) 80 kmph\nRationale:\n================================================================================\n[Generated:]  Average speed = 60 kmph\nNew time = 20 hrs / 60 kmph = 1/3 hr\nNow, speed = 50 kmph\nThe new time is 1/3hr + 1/3 hr = 2/3 hr\nTherefore, time = 1/3 Ã— 60 = 30 hrs.\nThus, the speed gained by the car = (60 Ã— 30) kmph = 60 kmph\nANSWER:C\nCorrect Answer: C\n",
          "output_type": "stream"
        },
        {
          "name": "stderr",
          "text": "Setting `pad_token_id` to `eos_token_id`:11 for open-end generation.\n",
          "output_type": "stream"
        },
        {
          "name": "stdout",
          "text": "Stopping criteria triggered\n[Prompt:]\nQuestion: The bus fare of one adult is Rs. 140 from Ranchi to Patna and bus fare of a child is half the fare of one adult between the same places. What is the total bus fare of 4 adults and 3 children between same places?\nAnswer Choices: (A) Rs. 666 (B) Rs. 670 (C) Rs. 700 (D) Rs. 570 (E) Rs. 770\nRationale: Fare for Adult = Rs. 140.\nFare of Child = Half of the Adult = Rs. 70.\nSo,\nTotal fare = 4 *140 + 3 *70 = 560 +210 = Rs. 770.\nANSWER : E\nCorrect Answer: E\n\n\nQuestion: A rectangular parking space is marked out by painting three of its sides. If the length of the unpainted side is 9 feet, and the sum of the lengths of the painted sides is 37 feet, then what is the area of the parking space in square feet?\nAnswer Choices: (A) 46 (B) 81 (C) 126 (D) 252 (E) None\nRationale: We have l=9 and l+2b=37\nArea = (l x b)\n=(9 x 14) sq.ft\n= 126 sq.ft.\nAnswer C\nCorrect Answer: C\n\n\nQuestion: A merchant receives an invoice for a motor boat for $20 000 with terms 4/30, n/100. What is the highest simple interest rate at which he can afford to borrow money in order to take advantage of the discount?\nAnswer Choices: (A) 247.67 (B) 237.67 (C) 227.67 (D) 215.67 (E) None of these\nRationale: Explanation:\nSuppose the merchant will take advantage of the cash discount of 4% of $20 000 = $800 by paying the bill within 30 days from the date of invoice. He needs to borrow $20 000 = $800 = $19 200. He would borrow this money on day 30 and repay it on day 100 (the day the original invoice is due) resulting in a 70-day loan. The interest he should be willing to pay on borrowed money should not exceed the cash discount $800.\nr=I/pt=21.73%\nThe highest simple interest rate at which the merchant can afford to borrow money is 21.73%. This is a break-even rate. If he can borrow money, say at a rate of 15%, he should do so. He would borrow $19 200 for 70 days at 15%. Maturity value of the loan is $19 200(1+0.15(70/365))=$19 752.33\nsavings would be $20 000 − $19 752.33 = $247.67\nAnswer: A\nCorrect Answer: A\n\n\nQuestion: Two balls A and B rotate along a circular track. Ball A makes 2 full rotations in 26 minutes. Ball B makes 5 full rotation in 35 minutes. If they start rotating now from the same point, when will they be at the same starting point again?\nAnswer Choices: (A) 1 hour and 31 minutes (B) 2 hour and 31 minutes (C) 3 hour and 31 minutes (D) 4 hour and 31 minutes (E) 5 hour and 31 minutes\nRationale: If ball A makes 2 rotations in 26 minutes, it makes 1 rotation in 13 minutes. If ball B makes 5 rotations in 35 minutes, it makes 1 rotation in 7 minutes.\nThe two balls start rotating now and makes several rotations before they are at the SAME starting points. Ball A would have done a WHOLE number X of rotations and ball B would have done a WHOLE number Y of rotations. Also they would have rotated during the same period of time T. Hence\nT = 13 X = 7 Y\nHence 13 X = 7 Y\nSolve the above for X\nX = 7 Y / 13\nWe want the time when they are FIRST at the same starting point. Therefore X and Y are the smallest whole numbers of the equation X = 7 Y / 13. The smallest value of Y that gives X as a whole number is 13. Hence\nX = 7 (13) / 13 = 7\nTime T is given by\nT = 13 X = 13 * 7 = 91 minutes = 1 hour and 31 minutes\ncorrect answer A\nCorrect Answer: A\n\n\nQuestion: A sporting goods store carries only yellow and white golf balls. At the beginning of the day it had 600 golf balls in stock, and by the end of the day it had sold 80% of its inventory of golf balls. If the store sold an equal number of yellow and white golf balls, and in doing so sold all of its white golf balls, how many yellow golf balls did the store have to begin the day?\nAnswer Choices: (A) 80 (B) 120 (C) 240 (D) 320 (E) 360\nRationale: Since the store sold an equal number of white and yellow balls, 80%/2 = 40% of the inventory at the start of the day was white balls. Then 60% of the inventory consisted of yellow balls.\n0.6(600) = 360\nThe answer is E.\nCorrect Answer: E\n\n\nQuestion: Let A and B be independent events with P (A) = 0.2 and P(B) = 0.8. Find P(A/B)?\nAnswer Choices: (A) 0.2 (B) 0.4 (C) 0.6 (D) 1.2 (E) 1.5\nRationale:\n================================================================================\n[Generated:]  Probability of B can be found with\n= (0.8) × (0.2)\n= 0.04\nProbability of A is obtained with\n= (0.2) × (1 – 0.8)\n= 0.04\nSince A and B are independent,\n= 0.04 × 0.02 = 0.0088\nCorrect Answer: A\n",
          "output_type": "stream"
        },
        {
          "name": "stderr",
          "text": "Setting `pad_token_id` to `eos_token_id`:11 for open-end generation.\n",
          "output_type": "stream"
        },
        {
          "name": "stdout",
          "text": "Stopping criteria triggered\n[Prompt:]\nQuestion: In a bag of red and green sweets, the ratio of red sweets to green sweets is 3:4. If the bag contains 120 green sweets, how many red sweets are there?\nAnswer Choices: (A) 90 (B) 80 (C) 95 (D) 100 (E) 85\nRationale: Let x = red sweets\nWrite the items in the ratio as a fraction.\nred/green=3/4=x/120\n3 × 120 = 4 × x\n360 = 4x\nx=360/4=90\nAnswer:A\nCorrect Answer: A\n\n\nQuestion: A man wants to eat fruit for breakfast and vegetable for dinner. He has 6 different types of fruit and 8 different types of vegetables. He can only eat one type at a time. In how many ways can he eat breakfast and dinner.\nAnswer Choices: (A) 54 (B) 24 (C) 48 (D) 20 (E) 36\nRationale: Number of choices for fruit=6, number of choices for vegetable=8\nThe total number of combinations =8*6=48\nAnswer C\nCorrect Answer: C\n\n\nQuestion: M men agree to purchase a gift for Rs. D. If 3 men drop out how much more will each have to contribute towards the purchase of the gift?\nAnswer Choices: (A) D/(M-3) (B) MD/3 (C) M/(D-3) (D) 3D/(M2-3M) (E) None of these\nRationale: Initial contribution = D/m\nAfter 3 men drop out, then the contribution = D/M-3\nthe extra amount to pay = (D/m-3)-D/m\n=D(m-m+3)/)(m^2-3*m)\n= 3D/(m^2-3*m)\nANSWER:D\nCorrect Answer: D\n\n\nQuestion: A man spends 70% of his income. If his income increases by 20%, then what will be his new expenditure?\nAnswer Choices: (A) 58.3% (B) 62.5% (C) 63.5% (D) 64.5% (E) 65.5%\nRationale: Let Rs 100 be the income\nExpenditure=Rs70\nIncreased income=Rs120\nExpenditure in amount is same.\nSo, expenditure % =70/120 *100=58.3%\nANSWER:A\nCorrect Answer: A\n\n\nQuestion: Machine A puts out a yo-yo every 6 minutes. Machine B puts out a yo-yo every 9 minutes. After how many minutes will they have produced 10 yo-yos?\nAnswer Choices: (A) 24 minutes (B) 32 minutes (C) 36 minutes (D) 64 minutes (E) 72 minutes\nRationale: A's speed = 3 yo-yos every 18 minutes\nB's speed = 2 yo-yos every 18 minutes\nA + B's speed = 3 + 2 = 5 yo-yos every 18 minutes\nboth together will finish 10 yo-yos in 36 minutes\ncorrect option is C\nCorrect Answer: C\n\n\nQuestion: A wire in the shape of rectangle of length 27 cm and breadth 17 cm is rebent to form a square. What will be the measure of each side?\nAnswer Choices: (A) 9 (B) 11 (C) 22 (D) 25 (E) 31\nRationale:\n================================================================================\n[Generated:]  Area of the rectangle is x*y\nNew area of the square is 9x + 17y\nAns is 27x + 11y\nANSWER:B\nCorrect Answer: B\n",
          "output_type": "stream"
        },
        {
          "name": "stderr",
          "text": "Setting `pad_token_id` to `eos_token_id`:11 for open-end generation.\n",
          "output_type": "stream"
        },
        {
          "name": "stdout",
          "text": "[Prompt:]\nQuestion: Of the 200 students in a school, at least 45% attended the prom night and at least 35% took part in the debating session. What is the maximum number of students who could have neither attended the prom night nor the debating session?\nAnswer Choices: (A) 27 (B) 81 (C) 90 (D) 99 (E) 110\nRationale: To maximize the number of students who did neither, we should minimize the number of students who debated or attended the prom.\nLet's assume that all 35% of students who debated also attended the prom.\nThen 35% did both, 10% only attended prom, and 55% did neither.\n0.55*200 = 110\nThe answer is E.\nCorrect Answer: E\n\n\nQuestion: On a map, the length of the road from Town F to Town G is measured to be 20 inches. On this map, 1/4 inch represents an actual distance of 10 miles. What is the actual distance, in miles, from Town F to Town G along this road?\nAnswer Choices: (A) 800 (B) 720 (C) 960 (D) 1140 (E) 1160\nRationale: Here we are given a ratio: 1/4 inch on the map = 10 miles, so 1 inch on the map = 40 miles. If the map-distance between the towns is 20 inches, then the actual distance must be 20 x 40 = 800\nAnswer: A.\nCorrect Answer: A\n\n\nQuestion: A pen company produces very fine quality of writing pens. Company knows that on average 10% of the produced pens are always defective so are rejected before packing. Company promises to deliver 7200 pens to its wholesaler at Rs. 10 each. It estimates the overall profit on all the manufactured pens to be 25%. What is the manufactured cost of each pen?\nAnswer Choices: (A) Rs. 6 (B) Rs. 7.2 (C) Rs. 5.6 (D) Rs. 8 (E) None of these\nRationale: The company is able to deliver 90% of the manufactured pens. Means to produce 7200 pens they must have to produce 8000 pens as 10% are defectives. So, let K be the manufacturing price of each pen.\nTotal income (including 25% profit) = 8000 *K *1.25\nThis same income is obtained by selling 90% manufactured pens at Rs. 10 which is equal to 7200 *10.\nThus,\n8000 *K *1.25 = 7200 *10\nK = Rs. 7.2. [90% of 8000 = 7200]\nAnswer: Option B\nCorrect Answer: B\n\n\nQuestion: At my favorite fruit stand, an orange costs 18 dollars, a pineapple costs 27 dollars, and a grape costs 15 dollars. Using the same logic, can you tell how much a mango costs?\nAnswer Choices: (A) 22 dollars (B) 15 dollars (C) 20 dollars (D) 18 dollars (E) 10 dollars\nRationale: He cost is equal to 3 dollars for each letter in the fruits name.\nCorrect Answer: B\n\n\nQuestion: Six pita breads contain the same amount of falafel as do two rolls. Three rolls contain the same amount of falafel as five baguettes do. Two baguettes contain the same amount of falafel as how many pita breads?\nAnswer Choices: (A) 12/25 (B) 3/2 (C) 3 (D) 2 (E) 25/3\nRationale: 6P = 2R\n3R = 5B\n2B = ?P\nThus, P : R : B = 18 : 6 : 12\nP : B = 18 : 12\n= 3 : 2\nThus P = 3\nAnswer : C\nCorrect Answer: C\n\n\nQuestion: On a normal day Bill usually averages about 15 mph when riding his bicycle. On a windy day, his speed is reduced by 4 mph. How far can Bill travel on a windy day in 21 minutes? Round to the nearest hundredth.\nAnswer Choices: (A) 2 miles (B) 2.25 miles (C) 3.25 miles (D) 3.85 miles (E) 2.85 miles\nRationale:\n================================================================================\n[Generated:]  Average = (x + y) / 2 = 15 + 4\nx = 15 + 4\nx = 19\nx/2 = 9.5\nx = 21.25\nBill can travel a total of 21.25 * 15 = 315.75 meters on a windy day.\nThus,\n= 315.75 * 4\n= 1278.5\nAnswer: Option A\n\n\nQuestion: At a pizza store, each pizza is $8.99. It costs $0.45 to put a pizza in the oven. The manager needs $7.50 in tips to buy the pizza. The store keeps $3 for overhead. How many pizzas must the store sell to make a profit of $70?\nAnswer Choices: (A) 4 (B) 8 (C) 12 (D) 16 (E) 21\nRationale: It costs $3 to make each pizza, so that gives us the variable cost = $3\nThen, if we divide the variable cost by 8, it\n",
          "output_type": "stream"
        },
        {
          "name": "stderr",
          "text": "Setting `pad_token_id` to `eos_token_id`:11 for open-end generation.\n",
          "output_type": "stream"
        },
        {
          "name": "stdout",
          "text": "Stopping criteria triggered\n[Prompt:]\nQuestion: On dividing 2272 and 875 by a 3-digit number N, we get the same remainder. The sum of the digits of N is:\nAnswer Choices: (A) 10 (B) 11 (C) 12 (D) 13 (E) 14\nRationale: (2272 - 875) = 1397, is exactly divisible by N.\nNow, 1397 = 11 * 127\nThe required 3-digit number is 127, the sum of whose digit is 10.\nANSWER:A\nCorrect Answer: A\n\n\nQuestion: 10kg of a mixture contains 30% sand and 70% clay. In order to make the mixture contain equal quantities of clay and sand how much of the mixture is to be removed and replaced with pure sand?\nAnswer Choices: (A) 10/7 (B) 20/7 (C) 30/7 (D) 40/7 (E) 50/7\nRationale: The mixture contains 3kg sand and 7 kg clay.\nFor the mixture to be in equal quantities, there should be 2 kg of clay removed.\nClay and sand are in the ratio 7:3\nSo part of sand to be removed = 2*3/7 = 6/7\nSo total mixture to be removed = 2 + 6/7 = 20/7\nANSWER:B\nCorrect Answer: B\n\n\nQuestion: During one season, a tennis team won 20 matches and lost 30% of their matches. What was the number of matches that the team lost?\nAnswer Choices: (A) 70 (B) 30 (C) 3 (D) 7 (E) 5\nRationale: Knowing that the team lost 30 % of their matches, it has won 70 % of their matches\nTotal matches = 20 / (70/ 100) = 14\nHence number of matches that the team lost = 20 x 14/100 = 3=C\nCorrect Answer: C\n\n\nQuestion: What is the greatest number of identical bouquets that can be made out of 28 white and 98 red tulips if no flowers are to be left out? (Two bouquets are identical whenever the number of red tulips in the two bouquets is equal and the number of white tulips in the two bouquets is equal.)\nAnswer Choices: (A) 4 (B) 7 (C) 10 (D) 14 (E) 21\nRationale: The greatest common divisor of 28 and 98 is 14.\nWe can make 14 identical bouquets with 2 white tulips and 7 red tulips in each bouquet.\nThe answer is D.\nCorrect Answer: D\n\n\nQuestion: There is well of depth 30m and frog is at bottom of the well. He jumps 3m up one day and falls back 2m down the same day. How many days will it take for the frog to come out of the well?\nAnswer Choices: (A) 25 days (B) 26 days (C) 27 days (D) 28 days (E) 29 days\nRationale: frog jumps 3 m up day & falls back 2 m down at night\nso,frog will be 3-2=1 m up in a day.\nThus, in 27 days it will be 27 m up\non 28 th day it will be at top i.e 27+3 = 30 m & will not fall down.\nANSWER:D\nCorrect Answer: D\n\n\nQuestion: Professors borrowed Rs. 5000 from the university at simple interest. After 3 years, the university got Rs. 300 on interest. What was the rate of interest per annum?\nAnswer Choices: (A) 2% (B) 8% (C) 5% (D) 10% (E) None of these\nRationale:\n================================================================================\n[Generated:]  300 = P x R x (1 + R)n where, P = Principal, R = Rate of interest, n = time.\nLet P = Rs. 5000\nR = 2 %\nn = 3 years\nNow, 300 = 5000 x 2 x 3/100\nSo, R = 2\nCorrect Answer: D\n",
          "output_type": "stream"
        },
        {
          "name": "stderr",
          "text": "Setting `pad_token_id` to `eos_token_id`:11 for open-end generation.\n",
          "output_type": "stream"
        },
        {
          "name": "stdout",
          "text": "Stopping criteria triggered\n[Prompt:]\nQuestion: The average wages of a worker during a fortnight comprising of 15 consecutive working days was $90 per day. During the first 7 days, his average wage was $87 per day and the average wage during the last 7 days was $92 per day. What was his wage on the 8th day?\nAnswer Choices: (A) $83 (B) $92 (C) $90 (D) $97 (E) $104\nRationale: The total wage earned during the 15 days that the worker worked = 15 * 90 = $ 1350.\nThe total wage earned during the first 7 days = 7 * 87 = $ 609.\nThe total wage earned during the last 7 days = 7 * 92 = $ 644.\nTotal wage earned during the 15 days = wage during first 7 days + wage on 8th day + wage during the last 7 days.\nOr 1350 = 609 + wage on 8th day + 644\nWage on 8th day = 1350 - 609 - 644 = $ 97.\nAnswer D\nCorrect Answer: D\n\n\nQuestion: The average (arithmetic mean) of the weight of 10 vehicles is 12.2 tons. The average weight of the group of vehicles increased by 2.6 tons after a new heavy duty truck was added to the group? What is the weight in tons of the heavy duty truck?\nAnswer Choices: (A) 40.8 (B) 41.6 (C) 42.2 (D) 43.5 (E) 44.8\nRationale: The new average is 14.8 tons.\nOn average, the ten trucks are 2.6 tons below the average for a total weighting of 26 tons.\nTherefore, the added truck must be 14.8 + 26 = 40.8 tons\nThe answer is A.\nCorrect Answer: A\n\n\nQuestion: Two cars are travelling from the same starting point in the same direction, having started their commute at the same time. The first car travels at a steady rate of 55 mph, while the second travels at a steady rate of 52 mph. How much time will pass before the cars are 15 miles away from each other?\nAnswer Choices: (A) 3 hours (B) 5 hours (C) 6 hours (D) 4 hours (E) 7 hours\nRationale: Relative Speed: 55-52=3 mph\nDistance:15 miles\nTime: distance/speed=15/3= 5 hours\nCorrect answer is B\nCorrect Answer: B\n\n\nQuestion: There are 10 oranges in a basket. Find the no. of ways in which 2 oranges are chosen from the basket?\nAnswer Choices: (A) 45 (B) 90 (C) 120 (D) 150 (E) 180\nRationale: Required number of ways = 10C2 = 10*9/2 = 45\nAnswer is A\nCorrect Answer: A\n\n\nQuestion: The original price of an item is discounted 22%. A customer buys the item at this discounted price using a $20-off coupon. There is no tax on the item, and this was the only item the customer bought. If the customer paid $1.90 more than half the original price of the item, what was the original price of the item?\nAnswer Choices: (A) $61 (B) $65 (C) $67.40 (D) $70 (E) $78.20\nRationale: Let x be the original price of the item\nDiscounted price = 0.78x\nPayment made by the customer after using the $20 coupon = 0.78x - 20\n0.78x - 20 = x/2 + 1.9\nx = 78.20\nAnswer: E\nCorrect Answer: E\n\n\nQuestion: [5 + ? × 19 - 15 - 7]/[13 × 13 - 156] = 6\nAnswer Choices: (A) 4 (B) 4.5 (C) 5 (D) 5.5 (E) 6.5\nRationale:\n================================================================================\n[Generated:]  15 + 19 + 7 = 41\n5 × 19 = 95\n5 × 15 = 75\n5 × 7 = 35\n15 × 19 = 285\n15 × 15 = 225\n15 × 7 = 105\n7 × 7 = 49\n5 × 13 = 65\n13 × 13 = 169\n156 - 65 - 169 = -23\n156 - 169 = -13\n156/13 = 12\n156/13 - 13 = 5.666\n12/5.666 = 2.2\nAnswer: B\nCorrect Answer: B\n",
          "output_type": "stream"
        },
        {
          "name": "stderr",
          "text": "Setting `pad_token_id` to `eos_token_id`:11 for open-end generation.\n",
          "output_type": "stream"
        },
        {
          "name": "stdout",
          "text": "[Prompt:]\nQuestion: If m > 0, y > 0, and x is m percent of 4y, then, in terms of y, m is what percentage of x?\nAnswer Choices: (A) y/400 (B) 4y (C) 50y (D) 2500/y (E) 5000/y\nRationale: x = (m/100)*4y\nm = 100x/4y = 25x/y\nm is (2500/y)% of x.\nThe answer is D.\nCorrect Answer: D\n\n\nQuestion: Two balls A and B rotate along a circular track. Ball A makes 2 full rotations in 26 minutes. Ball B makes 5 full rotation in 35 minutes. If they start rotating now from the same point, when will they be at the same starting point again?\nAnswer Choices: (A) 1 hour and 31 minutes (B) 2 hour and 31 minutes (C) 3 hour and 31 minutes (D) 4 hour and 31 minutes (E) 5 hour and 31 minutes\nRationale: If ball A makes 2 rotations in 26 minutes, it makes 1 rotation in 13 minutes. If ball B makes 5 rotations in 35 minutes, it makes 1 rotation in 7 minutes.\nThe two balls start rotating now and makes several rotations before they are at the SAME starting points. Ball A would have done a WHOLE number X of rotations and ball B would have done a WHOLE number Y of rotations. Also they would have rotated during the same period of time T. Hence\nT = 13 X = 7 Y\nHence 13 X = 7 Y\nSolve the above for X\nX = 7 Y / 13\nWe want the time when they are FIRST at the same starting point. Therefore X and Y are the smallest whole numbers of the equation X = 7 Y / 13. The smallest value of Y that gives X as a whole number is 13. Hence\nX = 7 (13) / 13 = 7\nTime T is given by\nT = 13 X = 13 * 7 = 91 minutes = 1 hour and 31 minutes\ncorrect answer A\nCorrect Answer: A\n\n\nQuestion: What is 60% of 30% of 1400 grams?\nAnswer Choices: (A) 450 gms (B) 100 gms (C) 252 gms (D) 240 gms (E) None of these\nRationale: 60/100 * 30/100 * 1400= 252\nAnswer: C\nCorrect Answer: C\n\n\nQuestion: The population of a city is 5265526. If there are 4169516 adults in the city, how many children are there in the city?\nAnswer Choices: (A) 1095961 (B) 1065961 (C) 1085961 (D) 1097961 (E) 1096061\nRationale: Population of the city = 5265526\nNumber of adults = 4169516\nNumber of children = 5265526-4169516 = 1096061\nAnswer :E\nCorrect Answer: E\n\n\nQuestion: Two friends are eating a jar full of candies. Had P eaten alone, it would have taken him 10 minutes to finish the candies in the jar. Had Q eaten alone, it would have taken her 5 minutes to finish half the jar. Since both of them are eating simultaneously, how many minutes would it take them to empty the jar?\nAnswer Choices: (A) 4 (B) 5 (C) 6 (D) 7 (E) 8\nRationale: Together they eat 1/10 + 1/10 = 1/5 of the jar per minute.\nThe time to finish the jar is 5 minutes.\nThe answer is B.\nCorrect Answer: B\n\n\nQuestion: 64 boys and 40 girls form a group for social work. During their membership drive, the same number of boys and girls joined the group. How many members does the group have now, if the ratio of boys to girls is 4:3?\nAnswer Choices: (A) 277 (B) 288 (C) 200 (D) 277 (E) 168\nRationale:\n================================================================================\n[Generated:]  64/40 = 2\n32 boys joined the group, 32/40 = 2\nThe ratio of boys to girls = 2:3\nThe answer is B.\n\n\nQuestion: An automobile repair shop offers 4 kinds of services. Service 'A' is done in 40 minutes, Service 'B' is done in 20 minutes, Service 'C' is done in 10 minutes and Service 'D' is done in 5 minutes. If the service charges are in the ratio 1 : 1 : 1 : 2, the total charges for 6 hours is:\nAnswer Choices: (A) Rs. 15000 (B) Rs. 12000 (C) Rs. 12500 (D) Rs. 11000 (E) Rs. 2000\nRationale: Service A = 40 minutes, Service B = 20 minutes, Service C = 10 minutes, Service D = 5 minutes\nSo, 6 hours is 300 minutes\nThe service charges = Rs. 1 per minute\nTherefore, the total charges for 6 hours \n",
          "output_type": "stream"
        },
        {
          "name": "stderr",
          "text": "Setting `pad_token_id` to `eos_token_id`:11 for open-end generation.\n",
          "output_type": "stream"
        },
        {
          "name": "stdout",
          "text": "[Prompt:]\nQuestion: The bus fare for two persons for travelling between Agra and Aligarh id four-thirds the train fare between the same places for one person. The total fare paid by 6 persons travelling by bus and 8 persons travelling by train between the two places is Rs.1512. Find the train fare between the two places for one person?\nAnswer Choices: (A) 126 (B) 77 (C) 88 (D) 66 (E) 54\nRationale: Let the train fare between the two places for one person be Rs.t\nBus fare between the two places for two persons Rs.4/3 t\n=> 6/2 (4/3 t) + 8(t) = 1512\n=> 12t = 1512 => t = 126.\nAnswer:A\nCorrect Answer: A\n\n\nQuestion: The sum of the digits of a three digit number is 17, and the sum of the squares of its digits is 109. If we subtract 495 from the number, we shall get a number consisting of the same digits written in the reverse order. Find the number.\nAnswer Choices: (A) 368 (B) 377 (C) 288 (D) 997 (E) 112\nRationale: Sum of the squares should be equal to 109. Only Options B and D satisfying. When we subtract 495, only 863 becomes 368\nAnswer:A\nCorrect Answer: A\n\n\nQuestion: If one of the roots of the quadratic equation x^2 + mx + 22 = 0 is 1.5, then what is the value of m?\nAnswer Choices: (A) -23.5 (B) -17.5 (C) -10.5 (D) -16.2 (E) Cannot be determined\nRationale: Here x=1.5 must satisfy the equation\n=> 1.5^2 + 1.5m + 22 = 0\n=> m=-16.2\nANSWER:D\nCorrect Answer: D\n\n\nQuestion: John likes to have lightly flavored tea every evening. In a 50% strong milk tea, he replaces 15% of it with milk twice. Then, he replaces 10 percent of the resultant solution with more milk.\nWhat is the final concentration of tea John drinks?\nAnswer Choices: (A) 15.38% (B) 42% (C) 39.86% (D) 22.35% (E) 32.51%\nRationale: Imagine starting out with 100 ml of 50% milk tea.\nIn step 1, 15% of the tea is replaced with milk. Thus, 85% of the original tea remains. Since this is done twice, we have a concentration of 50x0.85x0.85% (=36.125%) of tea solution.\nFinally, 10% of this solution is replaced with milk again. So, the final concentration of tea is 36.125*0.9%\nThis equals 32.51% of tea solution.\nAnswer: E\nCorrect Answer: E\n\n\nQuestion: Train ‘A’ leaves Mumbai Central for Lucknow at 11 am, running at the speed of 40 kmph. Train ‘B’ leaves Mumbai Central for Lucknow by the same route at 2 pm on the same day, running at the speed of 72 kmph. At what time will the two trains meet each other?\nAnswer Choices: (A) 12 am on the next day (B) 5 am on the next day (C) 5 pm on the next day (D) 2 pm on the next day (E) None of these\nRationale: Distance covered by train A before the train B leaves\nMumbai Central = 40 × 3 = 120 km\nTime taken to cross each other = 120⁄12 = 10 hours\nRequired time = 2pm + 10 = 12 am on the next day\nAnswer A\nCorrect Answer: A\n\n\nQuestion: If Jill needed to buy 10 bottles of soda for a party in which 8 people attended, how many bottles of soda will she need to buy for a party in which 12 people are attending?\nAnswer Choices: (A) 6 (B) 8 (C) 10 (D) 12 (E) 14\nRationale:\n================================================================================\n[Generated:]  If 12 bottles are needed for 12 people, then 8 bottles will be needed for 8 people.\nTo find the difference between 8 bottles and 12 bottles, subtract 8 from 12\nAnswer: B\n\n\nQuestion: A man can reach his office on his scooter in 5 hours. The time taken by a scooter going in the opposite direction from the same place is 10 hours. What is the speed of the scooter that is going in the opposite direction?\nAnswer Choices: (A) 8 km/h (B) 15 km/h (C) 20 km/h (D) 25 km/h (E) 30 km/h\nRationale: Here, if we move 8 km/h in the direction opposite to the man’s, we will reach our destination in (5+8) = 13 hours\nSimilarly, if we go in the opposite direction at a speed of 15 km/h, we will reach the destination in (10+15) = 25 hours.\nIf we go at a speed of 20 km/h, we will reach the destination in (5+20) \n",
          "output_type": "stream"
        },
        {
          "name": "stderr",
          "text": "Setting `pad_token_id` to `eos_token_id`:11 for open-end generation.\n",
          "output_type": "stream"
        },
        {
          "name": "stdout",
          "text": "Stopping criteria triggered\n[Prompt:]\nQuestion: In IPL season, Sachin current batting average is 51. In the finals, he scores 78 runs, then is batting average will be 54. Find out the total number of matches played by Sachin in this season.\nAnswer Choices: (A) 6 (B) 8 (C) 9 (D) 10 (E) 11\nRationale: Let total number of matches = x\nthen, total runs 54*x\ntotal runs before final = 51*(x-1)\nruns in the final match\n54*x - 51*(x-1) = 78\nx= 9\nANSWER:C\nCorrect Answer: C\n\n\nQuestion: A trader sold an article at a profit of 20% for Rs.360. What is the cost price of the article?\nAnswer Choices: (A) 270 (B) 300 (C) 280 (D) 320 (E) 315\nRationale: Cost Price = Selling Price / (100+Profit%) × 100 => 360 / (100+20) × 100 => 360 / 120 × 100 = Rs.300\nOption B\nCorrect Answer: B\n\n\nQuestion: I know a 5 digit number having a property that with a 1 after it, it is three times as large as it would be with a 1 before it.\nWhat is that number?\nAnswer Choices: (A) 42857 (B) 32456 (C) 76523 (D) 24567 (E) 43566\nRationale: Let the number be x\n10x +1 = 3(100,000 + x)\n=> x = 42857.\nCorrect Answer: A\n\n\nQuestion: On a test the passing students had an average of 83, while the failing students had an average\nof 55. If the overall class average was 76, what percent of the class passed?\nAnswer Choices: (A) 44% (B) 66% (C) 68% (D) 72% (E) 75%\nRationale: Let p = proportion that passed. Then 83p + 55(1- p) = 76, so p = 21/28 = 75\ncorrect answer E\nCorrect Answer: E\n\n\nQuestion: A merchant receives an invoice for a motor boat for $20 000 with terms 4/30, n/100. What is the highest simple interest rate at which he can afford to borrow money in order to take advantage of the discount?\nAnswer Choices: (A) 247.67 (B) 237.67 (C) 227.67 (D) 215.67 (E) None of these\nRationale: Explanation:\nSuppose the merchant will take advantage of the cash discount of 4% of $20 000 = $800 by paying the bill within 30 days from the date of invoice. He needs to borrow $20 000 = $800 = $19 200. He would borrow this money on day 30 and repay it on day 100 (the day the original invoice is due) resulting in a 70-day loan. The interest he should be willing to pay on borrowed money should not exceed the cash discount $800.\nr=I/pt=21.73%\nThe highest simple interest rate at which the merchant can afford to borrow money is 21.73%. This is a break-even rate. If he can borrow money, say at a rate of 15%, he should do so. He would borrow $19 200 for 70 days at 15%. Maturity value of the loan is $19 200(1+0.15(70/365))=$19 752.33\nsavings would be $20 000 − $19 752.33 = $247.67\nAnswer: A\nCorrect Answer: A\n\n\nQuestion: Suppose you can travel from a place M to a place N by 3 buses, from place N to place O by 4 buses, from place O to place P by 1 buses and from place P to place Q by 3 buses. In how many ways can you travel from M to Q ?\nAnswer Choices: (A) 24 (B) 36 (C) 72 (D) 84 (E) None\nRationale:\n================================================================================\n[Generated:]  Ex: 3 × 3 = 9 buses.\nQ = N + O + P + Q = 9(N + O + P + Q)\nCorrect Answer: A\n",
          "output_type": "stream"
        },
        {
          "name": "stderr",
          "text": "Setting `pad_token_id` to `eos_token_id`:11 for open-end generation.\n",
          "output_type": "stream"
        },
        {
          "name": "stdout",
          "text": "Stopping criteria triggered\n[Prompt:]\nQuestion: An aeroplane flies along the four sides of a square at the speeds of 200, 400, 600 and 800km/hr. Find the average speed of the plane around the field?\nAnswer Choices: (A) 384 (B) 562 (C) 458 (D) 156 (E) 452\nRationale: Let the each side of the square is x km\naverage speed of plane is y km/hr\n(x/200)+(x/400)+(x/600)+(x/800) = 4x/y\n25x/2400 = 4x/y\ny= 384 km/hr\nAnswer is A\nCorrect Answer: A\n\n\nQuestion: I have a money pouch containing Rs. 700. There are equal number of 25 paise coins, 50 paise coins and one rupee coins.\nHow many of each are there?\nAnswer Choices: (A) 453 (B) 651 (C) 400 (D) 487 (E) 286\nRationale: 25 paise + 50 paise + 100 paise = 175 paise and Rs. 700 = 70,000 paise\n70,000/175 = 400\nCorrect Answer: C\n\n\nQuestion: A number is as much greater than 36 as is less than 86. Find the Number.\nAnswer Choices: (A) 60 (B) 56 (C) 51 (D) 61 (E) 41\nRationale: Let the number be x. Then, X-36 = 86-X\n2X = 86+36 = 122, x = 61.\nThe answer is option D) 61.\nCorrect Answer: D\n\n\nQuestion: A number of friends decided to go on a picnic and planned to spend Rs. 96 on eatables. Four of them, however, did not turn up. As a consequence, the remaining ones had to contribute Rs. 4 extra, each. The number of those who attended the picnic was\nAnswer Choices: (A) 8 (B) 12 (C) 16 (D) 24 (E) 25\nRationale: Let the number of persons be x. Then,\n96/x-4-96/x=4 => x=12\nSo, required number =x-4=8.\nAnswer is A\nCorrect Answer: A\n\n\nQuestion: Six pita breads contain the same amount of falafel as do two rolls. Three rolls contain the same amount of falafel as five baguettes do. Two baguettes contain the same amount of falafel as how many pita breads?\nAnswer Choices: (A) 12/25 (B) 3/2 (C) 3 (D) 2 (E) 25/3\nRationale: 6P = 2R\n3R = 5B\n2B = ?P\nThus, P : R : B = 18 : 6 : 12\nP : B = 18 : 12\n= 3 : 2\nThus P = 3\nAnswer : C\nCorrect Answer: C\n\n\nQuestion: If a man rows at the rate of 4 kmph in still water and his rate against the current is 2 kmph, then the man's rate along the current is:\nAnswer Choices: (A) 15 kmph (B) 6 kmph (C) 12 kmph (D) 14 kmph (E) 6 kmph\nRationale:\n================================================================================\n[Generated:]  If he rows at a rate of 4kmph, then the rate against the current = 2-4=0 kmph\nNow, if he rows at a rate of 2 kmph against the current, his rate along the current will be\n(4+2)-4=8 kmph.\nCorrect Answer: C\n",
          "output_type": "stream"
        },
        {
          "name": "stderr",
          "text": "Setting `pad_token_id` to `eos_token_id`:11 for open-end generation.\n",
          "output_type": "stream"
        },
        {
          "name": "stdout",
          "text": "Stopping criteria triggered\n[Prompt:]\nQuestion: The bus fare for two persons for travelling between Agra and Aligarh id four-thirds the train fare between the same places for one person. The total fare paid by 6 persons travelling by bus and 8 persons travelling by train between the two places is Rs.1512. Find the train fare between the two places for one person?\nAnswer Choices: (A) 126 (B) 77 (C) 88 (D) 66 (E) 54\nRationale: Let the train fare between the two places for one person be Rs.t\nBus fare between the two places for two persons Rs.4/3 t\n=> 6/2 (4/3 t) + 8(t) = 1512\n=> 12t = 1512 => t = 126.\nAnswer:A\nCorrect Answer: A\n\n\nQuestion: Roy was suffering from severe headaches. He went to see his doctor and the doctor gave him 5 tablets asking him to take one tablet every 15 minutes.\nHow much time will it take Roy to consume all the 5 tablets?\nAnswer Choices: (A) 45 Min (B) 75 Min (C) 90 Min (D) 120 Min (E) 60 Min\nRationale: Tablet 1 will be taken in 0 min.\nTablet 2 will be taken in 15 min.\nTablet 3 will be taken in 30 min.\nTablet 4 will be taken in 45 min.\nTablet 5 will be taken in 60 min.\nCorrect Answer: E\n\n\nQuestion: A man spends Rs. 3500 per month and saves 12 1/2% of his income. His monthly income is ?\nAnswer Choices: (A) Rs. 4400 (B) Rs. 4270 (C) Rs. 4000 (D) Rs. 3937.50 (E) None of these\nRationale: 87 1/2% of P = 3500\n⇒ {(175/2) x P} / 100 = 3500\n∵ P = (3500 x 2 x 100) / 175 = 4000\nCorrect Option: C\nCorrect Answer: C\n\n\nQuestion: A computer routine was developed to generate two numbers (x,y) the first being a random number between 0 and 100 inclusive, and the second being less than or equal to the square root of the first. Each of the following pair satisfies the routine except\nAnswer Choices: (A) (99,10) (B) (85,9) (C) (50,7) (D) (1,1) (E) (1,0)\nRationale: 99 is generated\nWe don't know what the square root of 99 is because we would need a calculator, but we know the square root of 100 is 10, so the square root of 99 has to be less than 10.\nANSWER:A\nCorrect Answer: A\n\n\nQuestion: Two numbers are said to be relatively prime if they share no common positive factors other than 1. Set S contains the set of integers from 1 to 1,000, inclusive. What is the probability that a number chosen from S is relatively prime to 1,000?\nAnswer Choices: (A) 5/7 (B) 3/5 (C) 4/7 (D) 2/5 (E) 2/7\nRationale: We need all numbers between 1 and 1000 that are co-prime.\nBetween 1 to 10 there are 4 : 1,3,7,9\nTake the period of 10's , we have 100 periods of 10's between 1 to 1000\nSo the total number of co-primes = 400\nNow, the simple part ...\nProbability = 400/1000 (i.e picking a co-prime from the first 1000 numbers )\nAns: 2/5 D\nCorrect Answer: D\n\n\nQuestion: It takes a worker 9 minutes to drive from home to work at an average rate of 20 kilometers per hour. How many minutes will it take the worker to cycle from home to work along the same route at an average rate of 6 kilometers per hour?\nAnswer Choices: (A) 30 (B) 32 (C) 35 (D) 36 (E) 40\nRationale:\n================================================================================\n[Generated:]  9/20 = 3/5 = 6/10 = 5/10\n⇒ Total distance = (9 + 20) km = 29 km\n⇒ It takes 30 minutes to reach the workplace.\nNow, total time for cycling\n⇒ Total time = (6/10) + (5/10) = 10/20 = 5/10 minutes\nCorrect Answer: B\n",
          "output_type": "stream"
        },
        {
          "name": "stderr",
          "text": "Setting `pad_token_id` to `eos_token_id`:11 for open-end generation.\n",
          "output_type": "stream"
        },
        {
          "name": "stdout",
          "text": "Stopping criteria triggered\n[Prompt:]\nQuestion: 8 man work for 6 days to complete a work. How many men are required to complete same work in 1/2 day.\nAnswer Choices: (A) 93 men (B) 94 men (C) 95 men (D) 96 men (E) 97 men\nRationale: To complete a work for 6 days, 8 men are required.\nFor completing a work in 1 day = 6*8\n= 48 men\nFor completing a work in half a day (1/2) = 48*2\n= 96 men\nANSWER:D\nCorrect Answer: D\n\n\nQuestion: While selling a watch, a shopkeeper gives a discount of 5%. If he gives a discount of 7%, he earns Rs. 15 less as profit. The marked price of the watch is:\nAnswer Choices: (A) Rs. 697.50 (B) Rs. 712.50 (C) Rs. 787.50 (D) Rs. 750 (E) Rs. 780\nRationale: If he increases the discount by 2%, then his profit is 15 less. Let the marked price be X.\n.02x = 15\nx = 750 marked price\nANSWER:D\nCorrect Answer: D\n\n\nQuestion: Allen starts from X, goes to Y. At the same time Bob starts from Y and goes towards X. Once Allen reaches Y he changes his direction and returns to X. Once Bob reaches X, he changes his direction and returns to Y. Throughout Allen travels at 54 kmph and Bob travels at 78kmph. By the time they meet for the second time, Bob covers 48 km more than Allen. Find the distance between X and Y.\nAnswer Choices: (A) 144km (B) 72 km (C) 126km (D) 84 km (E) 48km\nRationale: Total distance 126km\nin an hour both Allen and Bob covered 126km\nthat is 54+78=132\nthey meet for the first time Bob covered more KM than Allen. 78-54=24.\nso when they meet for the second time Bob covered 24*2= 48 more km (ANSWER E)\nCorrect Answer: E\n\n\nQuestion: Five dozen toys are packed in a box and 98 boxes are kept in a tempo. How many tempos can lift 29400 toys in one round ?\nAnswer Choices: (A) 4 (B) 5 (C) 7 (D) 6 (E) 8\nRationale: Five dozen = 5 x 12 = 60\n⇒ No of toys can be kept in 1 box = 60\n∴ No of toys can be kept in 98 boxes = 60 x 98 = 5880\n∴ 29400 toys can be lifted by = 29400 / 5880 = 5 tempos\nOption: B\nCorrect Answer: B\n\n\nQuestion: At my favorite fruit stand, an orange costs 18 dollars, a pineapple costs 27 dollars, and a grape costs 15 dollars. Using the same logic, can you tell how much a mango costs?\nAnswer Choices: (A) 22 dollars (B) 15 dollars (C) 20 dollars (D) 18 dollars (E) 10 dollars\nRationale: He cost is equal to 3 dollars for each letter in the fruits name.\nCorrect Answer: B\n\n\nQuestion: If one third of 3/4 of a number is 21. Then, find the number?\nAnswer Choices: (A) 84 (B) 66 (C) 28 (D) 19 (E) 11\nRationale:\n================================================================================\n[Generated:]  3/4 = 3/4 / 4 = 3/4 x 3 = 3 x 3 = 9\n3/4 of 3/4 of 9 = 9 / 9 / 9 = 3 x 9\n⇒ 9 / 9 / 9 = 3 x 9\n⇒ 3 = 27\n∴ 3/4 of 3/4 of 27 = 21\n∴ 3/4 of 3/4 = (3/4)3/4 = (3/4)³ = (3/4)9 = 21\nCorrect Answer: B\n",
          "output_type": "stream"
        },
        {
          "name": "stderr",
          "text": "Setting `pad_token_id` to `eos_token_id`:11 for open-end generation.\n",
          "output_type": "stream"
        },
        {
          "name": "stdout",
          "text": "Stopping criteria triggered\n[Prompt:]\nQuestion: John would make the 3-letter codes with diffenrent 5 vowels and 20 consonants with the condition that the middle letter must be vowel and the first letter and the third letter must be different from each other and are both consonant. How many different codes can be made?\nAnswer Choices: (A) 1,980 (B) 2,020 (C) 2,100 (D) 2,200 (E) 1,900\nRationale: There should be a vowel in the middle of the 3-letter code, which means that 5 letters can be in the middle. Then, 20 letters can be placed in the first letter and 19 letters can be placed in the last letter as they should be different letters. Thus, 20*5*19=1,900.\nTherefore, the answer is E.\nCorrect Answer: E\n\n\nQuestion: Everyone in the family earns money each month. If the total income of a family per month is $9000 and the median income is $3000, how many members are there in the family?\nAnswer Choices: (A) 2 (B) 3 (C) 4 (D) 5 (E) 6\nRationale: There must be more than two members.\nIf there are four members, then the middle two average $3000 for a total of $6000, and the highest earner must earn at least $3000 which puts the total at $9000 minimum. The lowest earner pushes the total past $9000 so there can not be four family members.\nThere must be three family members.\nThe answer is B.\nCorrect Answer: B\n\n\nQuestion: Last year, a Home Appliance Store sold an average(arithmetic mean) of 42 microwave ovens per month. In the first 10 months of this year,the store has sold an average(arithmetic mean) of only 20 microwave ovens per month. What was the average number of microwave ovens sold per month during the entire 22 months period ?\nAnswer Choices: (A) 21 (B) 30 (C) 31 (D) 32 (E) None of the above\nRationale: 42×12+20×10 /12+10=504+200/22=704/22=32\nAnswer D\nCorrect Answer: D\n\n\nQuestion: Two friends are eating a jar full of candies. Had P eaten alone, it would have taken him 10 minutes to finish the candies in the jar. Had Q eaten alone, it would have taken her 5 minutes to finish half the jar. Since both of them are eating simultaneously, how many minutes would it take them to empty the jar?\nAnswer Choices: (A) 4 (B) 5 (C) 6 (D) 7 (E) 8\nRationale: Together they eat 1/10 + 1/10 = 1/5 of the jar per minute.\nThe time to finish the jar is 5 minutes.\nThe answer is B.\nCorrect Answer: B\n\n\nQuestion: What is the greatest number of identical bouquets that can be made out of 28 white and 98 red tulips if no flowers are to be left out? (Two bouquets are identical whenever the number of red tulips in the two bouquets is equal and the number of white tulips in the two bouquets is equal.)\nAnswer Choices: (A) 4 (B) 7 (C) 10 (D) 14 (E) 21\nRationale: The greatest common divisor of 28 and 98 is 14.\nWe can make 14 identical bouquets with 2 white tulips and 7 red tulips in each bouquet.\nThe answer is D.\nCorrect Answer: D\n\n\nQuestion: A company produces 420 units of a particular computer component every month, at a production cost to the company of $110 per component, and sells all of the components by the end of each month. What is the minimum selling price per component that will guarantee that the yearly profit (revenue from sales minus production costs) will be at least $626,400 ?\nAnswer Choices: (A) 226 (B) 230 (C) 240 (D) 260 (E) 280\nRationale:\n================================================================================\n[Generated:]  $626,400= $626,400/12= $50,400.\nThe answer is C.\nCorrect Answer: C\n",
          "output_type": "stream"
        },
        {
          "name": "stderr",
          "text": "Setting `pad_token_id` to `eos_token_id`:11 for open-end generation.\n",
          "output_type": "stream"
        },
        {
          "name": "stdout",
          "text": "Stopping criteria triggered\n[Prompt:]\nQuestion: How many ways A boy can reach the top of stairs which contain 10 steps, when he can take either one or two steps every time?\nAnswer Choices: (A) 88 (B) 89 (C) 90 (D) 91 (E) 92\nRationale: case 1:1 1 1 1 1 1 1 1 1 1 > 1!\ncase 2:1 1 1 1 1 1 1 1 2 > 9!/8!\ncase 3:1 1 1 1 1 1 2 2 > 8!/6!*2!\ncase 4:1 1 1 1 2 2 2 > 7!/4!*3!\ncase 5:1 1 2 2 2 2 > 6!/4!*2!\ncase 6:2 2 2 2 2 > 1!\nadd answers of all cases => 1+9+28+35+15+1= 89\nANSWER:B\nCorrect Answer: B\n\n\nQuestion: A merchant receives an invoice for a motor boat for $20 000 with terms 4/30, n/100. What is the highest simple interest rate at which he can afford to borrow money in order to take advantage of the discount?\nAnswer Choices: (A) 247.67 (B) 237.67 (C) 227.67 (D) 215.67 (E) None of these\nRationale: Explanation:\nSuppose the merchant will take advantage of the cash discount of 4% of $20 000 = $800 by paying the bill within 30 days from the date of invoice. He needs to borrow $20 000 = $800 = $19 200. He would borrow this money on day 30 and repay it on day 100 (the day the original invoice is due) resulting in a 70-day loan. The interest he should be willing to pay on borrowed money should not exceed the cash discount $800.\nr=I/pt=21.73%\nThe highest simple interest rate at which the merchant can afford to borrow money is 21.73%. This is a break-even rate. If he can borrow money, say at a rate of 15%, he should do so. He would borrow $19 200 for 70 days at 15%. Maturity value of the loan is $19 200(1+0.15(70/365))=$19 752.33\nsavings would be $20 000 − $19 752.33 = $247.67\nAnswer: A\nCorrect Answer: A\n\n\nQuestion: Suppose you want to arrange your English, Hindi, Mathematics, History, Geography and Science books on a shelf. In how many ways can you do it ?\nAnswer Choices: (A) 520 (B) 720 (C) 920 (D) None (E) Cannot be determined\nRationale: We have to arrange 6 books. The number of permutations is 6*5*4*3*2*1= 720\nAnswer : B\nCorrect Answer: B\n\n\nQuestion: In a class 1/16 of the students study math, 1/10 of the students study bio, 1/8 of the students study english. The total number of students is a 4 digit number. Find the diffrence between maximum number of students and minimum number of students.\nAnswer Choices: (A) 8880 (B) 8870 (C) 8890 (D) 7890 (E) 6780\nRationale: LCM of 16,10,8 = 80\nthe largest 4 digit number divisible by 80 = 9920\nThe smallest 4 digit number divisible by 80 = 1040\nSo, required difference = 9920-1040= 8880\nANSWER:A\nCorrect Answer: A\n\n\nQuestion: Machine A puts out a yo-yo every 6 minutes. Machine B puts out a yo-yo every 9 minutes. After how many minutes will they have produced 10 yo-yos?\nAnswer Choices: (A) 24 minutes (B) 32 minutes (C) 36 minutes (D) 64 minutes (E) 72 minutes\nRationale: A's speed = 3 yo-yos every 18 minutes\nB's speed = 2 yo-yos every 18 minutes\nA + B's speed = 3 + 2 = 5 yo-yos every 18 minutes\nboth together will finish 10 yo-yos in 36 minutes\ncorrect option is C\nCorrect Answer: C\n\n\nQuestion: Sharon works for 5 hours to earn enough tips to buy an ice cream cake, while Karen works for 4. After how many hours will they be able to buy the cake together?\nAnswer Choices: (A) 1 hour (B) 2 hours (C) 3 hours (D) 4 hours (E) 5 hours\nRationale:\n================================================================================\n[Generated:]  If Sharon earns enough in 5 hours, then he/she can afford to buy a 5-scoop ice cream cake which is costing $15.\nIf Karen works for 4 hours, then she can afford to buy a 4-scoop ice cream cake which is costing $10.\nIf Sharon and Karen work together they can afford to buy a 5-scoop ice cream cake which is costing $15.\nThey will have enough money for the ice cream cake after working together for 3 hours.\nANSWER:B\nCorrect Answer: B\n",
          "output_type": "stream"
        },
        {
          "name": "stderr",
          "text": "Setting `pad_token_id` to `eos_token_id`:11 for open-end generation.\n",
          "output_type": "stream"
        },
        {
          "name": "stdout",
          "text": "Stopping criteria triggered\n[Prompt:]\nQuestion: The sum of the 5 consecutive two digit odd numbers when divided by 10 becomes a perfect square, which of the following can be one of these 5 numbers?\nAnswer Choices: (A) 47 (B) 91 (C) 41 (D) 67 (E) 44\nRationale: perfect square:- 1,4,9,16,25,36\nsum=square*10=10,40,90,160,250,360\nsum of 4 odd consecutive numbers is multiple of 4\nso the only number left are 40,160,360\nsum/4=40/4=10 is not possible\nsum/4=360/4=90 is not possible\nsum/4=160/4=40 is the only option available i.e 41\nANSWER:C\nCorrect Answer: C\n\n\nQuestion: [(272 - 32) (124 + 176)] / (17 x 15 - 15) = ?\nAnswer Choices: (A) 0 (B) 2.25 (C) 300 (D) 400 (E) None of these\nRationale: Given expression = [(272 - 32) (124 + 176)] / (17 x 15 - 15)\n= (240 x 300 ) / 240\n= 300\nCorrect Option: C\nCorrect Answer: C\n\n\nQuestion: At a certain factory, 10 percent of the staplers produced on Monday were defective and 2 percent of the non-defective staplers were rejected by mistake. If 72 of the non-defective staplers were rejected, what was the number of staplers produced that day?\nAnswer Choices: (A) 4,000 (B) 4,200 (C) 4,500 (D) 4,800 (E) 5,000\nRationale: We're told that 10% of staplers in a factory are defective.\nX = Total staplers\n0.1X = defective staplers\n0.9X = normal staplers\nNext, we're told that 2% of the normal staplers were rejected by mistake and that this = 72 staplers.\n0.9X(0.02) = 72\n0.018X = 72\n18X = 72,000\nX = 4,000\nFinal Answer:\nA\nCorrect Answer: A\n\n\nQuestion: At the of his one-year investment, Charles received $54,080, including interest and principal from a certain investment. If the investment paid an annual interest of 8 percent compounded semi-annually, which of the following is the amount of money that Charles originally invested?\nAnswer Choices: (A) $45,000 (B) $50,000 (C) $54,000 (D) $59,000 (E) $62,000\nRationale: You are given that a certain investment gave you X $ after 1 year. So the original investment must be <X\nThus you can rule out options D-E as these options will make the original amount > the interest+principle amount\nOption C is very close to the amount after 1st year and 4% will definitely give you >80$ in interests.\nNow you only have 2 options left (A and B)\nPer the question, let x be the original amount invested ---> x(1.04)^2 = 54080 .@NL This clearly shows that answer must be B.\nANSWER:B\nCorrect Answer: B\n\n\nQuestion: A rectangular parking space is marked out by painting three of its sides. If the length of the unpainted side is 9 feet, and the sum of the lengths of the painted sides is 37 feet, then what is the area of the parking space in square feet?\nAnswer Choices: (A) 46 (B) 81 (C) 126 (D) 252 (E) None\nRationale: We have l=9 and l+2b=37\nArea = (l x b)\n=(9 x 14) sq.ft\n= 126 sq.ft.\nAnswer C\nCorrect Answer: C\n\n\nQuestion: A certain phone manufacturer ships its products in crates. A crate consists of p pallets, and each pallet holds 1250 phones. If the manufacturer ships 4 crates, how many phones are shipped?\nAnswer Choices: (A) 1000p (B) 1500p (C) 2000p (D) 2500p (E) 30000\nRationale:\n================================================================================\n[Generated:]  You need to know the total weight of the product shipped which can be calculated by multiplying p * X\nThus p is the total weight of all the products shipped. Now X is the number of crates shipped.\np*X=4(Crate)\npX=4\nNow, we know X = 4p and (Crate)=1250. Thus, X = (1250 * p)\nThus, total weight of all the products shipped = p (1250 * p) = p (12500) = 15000\nCorrect Answer: D\n",
          "output_type": "stream"
        },
        {
          "name": "stderr",
          "text": "Setting `pad_token_id` to `eos_token_id`:11 for open-end generation.\n",
          "output_type": "stream"
        },
        {
          "name": "stdout",
          "text": "Stopping criteria triggered\n[Prompt:]\nQuestion: Mark told John \"If you give me half your money I will have Rs.75. John said, \"if you give me one third of your money, I will have Rs.75/-. How much money did John have ?\nAnswer Choices: (A) 22 (B) 60 (C) 28 (D) 26 (E) 18\nRationale: Let the money with Mark and John are M and J, respectively.\nNow\nM + J/2 = 75\nM/3 + J = 75\nSolving we get M = 45, and J = 60.\nAnswer:B\nCorrect Answer: B\n\n\nQuestion: A newspaper costs $4 on Sunday and $1 the rest of the days of the week. If a hotel orders twice as many papers on Sunday as it does the rest of the days of the week and pays $210 per week for newspapers, how many newspapers does it buy on Monday?\nAnswer Choices: (A) 15 (B) 30 (C) 45 (D) 60 (E) 75\nRationale: Number of paper bought on monday = x\n# of paper bought on sunday = 2x\nTotal cost = 210 = 6*x(rest of the day cost)+8*x (sunday cost)\n14x = 210\nx = 15\nAns A\nCorrect Answer: A\n\n\nQuestion: A number of friends decided to go on a picnic and planned to spend Rs. 96 on eatables. Four of them, however, did not turn up. As a consequence, the remaining ones had to contribute Rs. 4 extra, each. The number of those who attended the picnic was\nAnswer Choices: (A) 8 (B) 12 (C) 16 (D) 24 (E) 25\nRationale: Let the number of persons be x. Then,\n96/x-4-96/x=4 => x=12\nSo, required number =x-4=8.\nAnswer is A\nCorrect Answer: A\n\n\nQuestion: Anna has 4 books. If she decide to arrange the 4 books in every possible combination and moved just one book every minute, how long would it taken by her ?\nAnswer Choices: (A) 22 minutes (B) 30 minutes (C) 15 minutes (D) 24 minutes (E) 35 minutes\nRationale: Number of ways of arranging 4 books = 4 ! = 4 x 3 x 2 x 1 = 24.\nSo, total time taken = 24 minutes\nAnswer: D\nCorrect Answer: D\n\n\nQuestion: A cyclist travels at 12 miles per hour. How many minutes will it take to travel 48 miles?\nAnswer Choices: (A) 1 (B) 240 (C) 30 (D) 60 (E) 120\nRationale: At 12 miles per hour, to cover 48 miles the cyclist will need 4 hours or 240 minutes.\nAnswer: B.\nCorrect Answer: B\n\n\nQuestion: A man divides Rs 8600 among 5 sons, 4 daughters and 2 nephews. If each daughter receives four times as much as each nephew, and each son receives five as much as each nephew. How much does each daughter receive ?\nAnswer Choices: (A) Rs 400 (B) Rs 500 (C) Rs 600 (D) Rs 700 (E) Rs 800\nRationale:\n================================================================================\n[Generated:]  So, the daughter receives Rs. 4 x 2 = Rs. 8.\nFor the son,\n400 x 3 = 1200\n800 x 2 = 1600\nSo, the son receives Rs. 2400.\nTotal amount given to the daughter = 8 + 2400 = Rs. 2408\nTotal amount given to the son = 4 + 1600 = Rs. 1704\nAnswer: B\nCorrect Answer: B\n",
          "output_type": "stream"
        },
        {
          "name": "stderr",
          "text": "Setting `pad_token_id` to `eos_token_id`:11 for open-end generation.\n",
          "output_type": "stream"
        },
        {
          "name": "stdout",
          "text": "Stopping criteria triggered\n[Prompt:]\nQuestion: A rope 20 meters long is cut into two pieces. If the length of one piece of rope is 3 meters shorter than the length of the other, what is the length, in meters, of the longer piece of rope?\nAnswer Choices: (A) 7.5 (B) 8.9 (C) 9.9 (D) 11.5 (E) 11.7\nRationale: Length of the rope = 20 meters.\nAssume length of longer piece = x meters.\nLength of shorter piece = x - 3\nWe know that x + x - 3 = 20\n2x = 23\nLength of the longer piece = x = 11.5 meters\nCorrect Option: D\nCorrect Answer: D\n\n\nQuestion: What is 60% of 30% of 1400 grams?\nAnswer Choices: (A) 450 gms (B) 100 gms (C) 252 gms (D) 240 gms (E) None of these\nRationale: 60/100 * 30/100 * 1400= 252\nAnswer: C\nCorrect Answer: C\n\n\nQuestion: Points A, B, C, D lie in this order on the circumference of a circle. Minor arc AC is 160°, and minor arc BD is 150°. If B bisects minor arc AC, then what is the measure of minor arc AD?\nAnswer Choices: (A) 80° (B) 130° (C) 140° (D) 160° (E) 220°\nRationale: B bisects minor arc AC means Arc BC is 80 degrees. Now , we have arc BD = 150, therefore CD = 70.\nNow, Arc AC = 160 , CD = 70 => Arc AD = 360-230 = 130\nAnswer B\nCorrect Answer: B\n\n\nQuestion: The ratio of the volumes of a cube to that of the sphere which will fit inside the cube is?\nAnswer Choices: (A) 2: π (B) 7:2 (C) 8:2 (D) 6: π (E) 8:3\nRationale: a3 : a3/8 * 4/3 π => 6: π\nAnswer: Option D\nCorrect Answer: D\n\n\nQuestion: Train A leaves a station every 16 minutes and Train B leaves every 17 minutes. If both trains just left the station simultaneously, how long until they do so again?\nAnswer Choices: (A) 272 minutes (B) 304 minutes (C) 190 minutes (D) 70 minutes (E) 35 minutes\nRationale: We have to find the LCM:\n17 is a prime number which means the LCM of 16 and 17 has to be 16*17=272\nCorrect answer is A.\nCorrect Answer: A\n\n\nQuestion: Calculate the percentage gain of a merchant who purchased 90 kg of oranges for Rs. 450 and sold the whole lot at the rate of Rs. 7.50 per kg.\nAnswer Choices: (A) 50 % (B) 60 % (C) 55 % (D) 70 % (E) 58%\nRationale:\n================================================================================\n[Generated:]  90 kg of oranges x 7.50 = 6750\nNow, 6750-450 = 6250\nNow, 6250-6750= -1500\n60% of -1500 = 1500\nAnswer: B\n\n\nQuestion: In the figure shown, a solid ball rolls down a hill and bounces up twice and rolls down again. Calculate the height of the hill.\nAnswer Choices: (A) 4.5 m (B) 8.5 m (C) 7 m (D) 10 m (E) 12 m\nRationale: The time that it took for the ball to go down and then roll back up and come down again is equal to the time that it takes to travel down the hill.\nSo, the total distance traveled by the ball is = 2 x 6 = 12 meters\nAnswer: Option C\nCorrect Answer: C\n",
          "output_type": "stream"
        },
        {
          "name": "stderr",
          "text": "Setting `pad_token_id` to `eos_token_id`:11 for open-end generation.\n",
          "output_type": "stream"
        },
        {
          "name": "stdout",
          "text": "[Prompt:]\nQuestion: How many ways A boy can reach the top of stairs which contain 10 steps, when he can take either one or two steps every time?\nAnswer Choices: (A) 88 (B) 89 (C) 90 (D) 91 (E) 92\nRationale: case 1:1 1 1 1 1 1 1 1 1 1 > 1!\ncase 2:1 1 1 1 1 1 1 1 2 > 9!/8!\ncase 3:1 1 1 1 1 1 2 2 > 8!/6!*2!\ncase 4:1 1 1 1 2 2 2 > 7!/4!*3!\ncase 5:1 1 2 2 2 2 > 6!/4!*2!\ncase 6:2 2 2 2 2 > 1!\nadd answers of all cases => 1+9+28+35+15+1= 89\nANSWER:B\nCorrect Answer: B\n\n\nQuestion: A father wants to divide Rs. 5100 between his two sons, Mohan and Sohan who are 23 and 24 at present. He divides the amount in such a way that if their shares are invested at compound interest at 4% p.a. they will receive equal amount on attaining the age of 26 years. Find Mohan's share.\nAnswer Choices: (A) 2400 (B) 2500 (C) 2600 (D) 2700 (E) None of these\nRationale: Let, the amount Mohan and Sohan receive be Rs. m and Rs. n, respectively. The amount that they receive 3 years and 2 years after should be equal.\n⇒m(1+4/100)3=n(1+4/100)2\n⇒m(1+4/100)=n\n⇒m(26/25)=n\n⇒m/n=25/26\nTherefore, Rs.5100 must be distribued in the ratio 25 : 26\nSo Mohan's share = 5100×25/(25+26)=2500\nAnswer B\nCorrect Answer: B\n\n\nQuestion: Alex and Jacob works at a toy shop that make toys. Alex takes 7 hours to make a toy, and Jacob takes 9 hours to make a toy. During a month, both of them makes 35 toys in total. If both of them have worked for almost similar number of hours how many toys have been prepared by Jacob?\nAnswer Choices: (A) 15 (B) 16 (C) 17 (D) 18 (E) 19\nRationale: Lets say Alex has worked for x hrs., and Jacob has worked for y hrs. So, number of toys prepared by Alex is x/7, and Jacob is y/9. Since total number of toys prepared by both of them is 35.\n=> x/7 + y/9 = 35.\n=> 9x + 7y = (35)(63)\n=> 7y = (35)(63) - 9x\n=> y = (5)(63) - (9/7)x\n=> y = 315 - (9/7)x\n=> x is to be a multiple of 7. Also, we need to minimize the difference between x & y. Here are some possible values,\nx = 126, y = 315 - (9/7)126 = 153\nx = 133, y = 315 - (9/7)133 = 144\nx = 140, y = 315 - (9/7)140 = 135\nx = 147, y = 315 - (9/7)147 = 126\nAs we can see minimum difference between x and y is when x is 140 hrs. and y is 135 hrs. Thus total toys created by Jacob = y/9 = 135/9 = 15.\nAnswer: A\nCorrect Answer: A\n\n\nQuestion: At the of his one-year investment, Charles received $54,080, including interest and principal from a certain investment. If the investment paid an annual interest of 8 percent compounded semi-annually, which of the following is the amount of money that Charles originally invested?\nAnswer Choices: (A) $45,000 (B) $50,000 (C) $54,000 (D) $59,000 (E) $62,000\nRationale: You are given that a certain investment gave you X $ after 1 year. So the original investment must be <X\nThus you can rule out options D-E as these options will make the original amount > the interest+principle amount\nOption C is very close to the amount after 1st year and 4% will definitely give you >80$ in interests.\nNow you only have 2 options left (A and B)\nPer the question, let x be the original amount invested ---> x(1.04)^2 = 54080 .@NL This clearly shows that answer must be B.\nANSWER:B\nCorrect Answer: B\n\n\nQuestion: A club consists of members whose ages are in A.P. The common difference being 3 months. If the youngest member of the club is just 7 years old and the sum of the ages of all the members is 250, then number of members in the club are :\nAnswer Choices: (A) 18 (B) 20 (C) 25 (D) 26 (E) 27\nRationale: Let, n be the number of members in the club.Then,\n250 =(n x [2×7+(n+1)×3/12]) / 2.\nn =25.\nHence, the number of members in the club is 25.\nAnswer : C\nCorrect Answer: C\n\n\nQuestion: Shweta rides at the rate of 10 km per hour but stops for 10 minutes to take rest at the end of every 15 km. How many hours will she take to cover 100 km\nAnswer Choices: (A) 9 hours. (B) 10 hours. (C) 11 hours. (D) 12 hours. (E) 13 hours.\nRationale:\n================================================================================\n[Generated:]  So, the distance travelled in the 10 minutes rest is 10×60/15 = 120 km\nAlso, distance covered in 15 km is (100/10) = 10 km.\nSo, Shweta takes rest at the rate of 20 km per hour.\nNow the time taken to cover 100 km = 10 x 120 + 20 x 10 = 10+ 200 km = 10 + 250\n10 + 250 = 10 + 300 km = 330 km = 11 hours.\nAnswer : B\n\n\nQuestion: What is the value of sin (7x + 10)?\nAnswer Choices: (A) -1.25 (B) -0.5 (C) -0.25 (D) 0.5 (E) 0.25\nRationale: Let, the angle be x and sin x = x/ 10\nTherefore, sin 7x +10 = sin x/10\nSin 7x +10 = 0.25 x\nSin x =\n",
          "output_type": "stream"
        },
        {
          "name": "stderr",
          "text": "Setting `pad_token_id` to `eos_token_id`:11 for open-end generation.\n",
          "output_type": "stream"
        },
        {
          "name": "stdout",
          "text": "[Prompt:]\nQuestion: Mark told John \"If you give me half your money I will have Rs.75. John said, \"if you give me one third of your money, I will have Rs.75/-. How much money did John have ?\nAnswer Choices: (A) 22 (B) 60 (C) 28 (D) 26 (E) 18\nRationale: Let the money with Mark and John are M and J, respectively.\nNow\nM + J/2 = 75\nM/3 + J = 75\nSolving we get M = 45, and J = 60.\nAnswer:B\nCorrect Answer: B\n\n\nQuestion: Winson runs from his home to his school at an average speed of 10 miles/hr, and then walks home along the same route at an average speed of 5 miles/hr. If the whole journey took one hour, how many miles is his home from his school?\nAnswer Choices: (A) 9 (B) 6 (C) 4 (D) 3 (E) 2\nRationale: Suppose x is the distance then\ngoing time + coming time = total time = 1 hour\nx/10 + x/5 = 1\nx = 1.5=2 miles\nAnswer E.\nCorrect Answer: E\n\n\nQuestion: One gram of a certain health food contains 9 percent of the minimum daily requirement of vitamin E and 8 percent of the minimum daily requirement of vitamin A. If vitamins E and A are to be obtained from no other source, how many grams of the health food must be eaten daily to provide at least the minimum daily requirement of both vitamins?\nAnswer Choices: (A) 8.5 (B) 10.5 (C) 12.5 (D) 14.5 (E) 16.5\nRationale: 100% / 8% = 12.5\n12.5 grams of the health food provides 12.5(8%) = 100% of the vitamin A requirement and more than 100% of the vitamin E requirement.\nThe answer is C.\nCorrect Answer: C\n\n\nQuestion: Winson runs from his home to his school at an average speed of 10 miles/hr, and then walks home along the same route at an average speed of 5 miles/hr. If the whole journey took one hour, how many miles is his home from his school?\nAnswer Choices: (A) 9 (B) 6 (C) 4 (D) 3 (E) 2\nRationale: Suppose x is the distance then\ngoing time + coming time = total time = 1 hour\nx/10 + x/5 = 1\nx = 1.5=2 miles\nAnswer E.\nCorrect Answer: E\n\n\nQuestion: If a subscription for 15 issues of a magazine costs $42.00 and represents a saving of 25 percent of the cover prices, what is the cover price per issue?\nAnswer Choices: (A) $7.73 (B) $6.73 (C) $5.73 (D) $4.73 (E) $3.73\nRationale: Let subscription per magazine = x\n15x = 42\n=> x= 2.8\nLet cover price per magazine = c\nSince there is a 25% saving on cover prices\n0.75c=x\n=> 0.75c = 2.8\n=>c= 3.73\nAnswer E\nCorrect Answer: E\n\n\nQuestion: If 6 yrs are subtracted from the present age of Ajay and the remainder is divided by 18, then the present age of Rahul is obtained. If Rahul is 2 yrs younger to Denis whose age is 5 yrs, then what is Ajay's present age?\nAnswer Choices: (A) 40 (B) 60 (C) 70 (D) 80 (E) 90\nRationale:\n================================================================================\n[Generated:]  If Ajay's present age = x\n6x-18 = (5-2)\n6x= 17\n=>x= 2.83 yrs.\nNow we get\n60-2.83 = 57\nDenis is 5 yrs, hence the present age of Rahul = (57+2.83) / 18 = 57.16 yrs.\nAnswer E\n\n\nQuestion: In 1998 & 1999, the monthly average income of Jatender was Rs.3000 & Rs.3500 respectively. In the year 1998, Jatender paid his house rent of Rs.15000. Find the monthly rate of house rent.\nAnswer Choices: (A) Rs. 500 (B) Rs. 550 (C) Rs. 600 (D) Rs. 650 (E) Rs. 700\nRationale: Let income in 1999 = x and income in 1998 = y\n2x + y = 3000\n=>2x = 3500-y\n=>2x = -1500\n\n",
          "output_type": "stream"
        },
        {
          "name": "stderr",
          "text": "Setting `pad_token_id` to `eos_token_id`:11 for open-end generation.\n",
          "output_type": "stream"
        },
        {
          "name": "stdout",
          "text": "Stopping criteria triggered\n[Prompt:]\nQuestion: An aeroplane flies along the four sides of a square at the speeds of 200, 400, 600 and 800km/hr. Find the average speed of the plane around the field?\nAnswer Choices: (A) 384 (B) 562 (C) 458 (D) 156 (E) 452\nRationale: Let the each side of the square is x km\naverage speed of plane is y km/hr\n(x/200)+(x/400)+(x/600)+(x/800) = 4x/y\n25x/2400 = 4x/y\ny= 384 km/hr\nAnswer is A\nCorrect Answer: A\n\n\nQuestion: [(272 - 32) (124 + 176)] / (17 x 15 - 15) = ?\nAnswer Choices: (A) 0 (B) 2.25 (C) 300 (D) 400 (E) None of these\nRationale: Given expression = [(272 - 32) (124 + 176)] / (17 x 15 - 15)\n= (240 x 300 ) / 240\n= 300\nCorrect Option: C\nCorrect Answer: C\n\n\nQuestion: Machine A puts out a yo-yo every 6 minutes. Machine B puts out a yo-yo every 9 minutes. After how many minutes will they have produced 10 yo-yos?\nAnswer Choices: (A) 24 minutes (B) 32 minutes (C) 36 minutes (D) 64 minutes (E) 72 minutes\nRationale: A's speed = 3 yo-yos every 18 minutes\nB's speed = 2 yo-yos every 18 minutes\nA + B's speed = 3 + 2 = 5 yo-yos every 18 minutes\nboth together will finish 10 yo-yos in 36 minutes\ncorrect option is C\nCorrect Answer: C\n\n\nQuestion: Two numbers are said to be relatively prime if they share no common positive factors other than 1. Set S contains the set of integers from 1 to 1,000, inclusive. What is the probability that a number chosen from S is relatively prime to 1,000?\nAnswer Choices: (A) 5/7 (B) 3/5 (C) 4/7 (D) 2/5 (E) 2/7\nRationale: We need all numbers between 1 and 1000 that are co-prime.\nBetween 1 to 10 there are 4 : 1,3,7,9\nTake the period of 10's , we have 100 periods of 10's between 1 to 1000\nSo the total number of co-primes = 400\nNow, the simple part ...\nProbability = 400/1000 (i.e picking a co-prime from the first 1000 numbers )\nAns: 2/5 D\nCorrect Answer: D\n\n\nQuestion: Assistants are needed to prepare for preparation. Each helper can make either 2 large cakes or 35 small cakes/hr. The kitchen is available for 3 hours and 20 large cakes & 700 small cakes are needed. How many helpers are required?\nAnswer Choices: (A) 8 (B) 10 (C) 12 (D) 15 (E) 19\nRationale: 20 large cakes will require the equivalent of 10 helpers working for one hour. 700 small cakes will require the equivalent of 20 helpers working for one hour. This means if only one hour were available we would need 30 helpers. But since three hours are available we can use 10 helpers.\nB\nCorrect Answer: B\n\n\nQuestion: A retailer sold an appliance for 40 percent above cost, which represented a gross profit of $20.00. For what price did the retailer sell the appliance?\nAnswer Choices: (A) $27.30 (B) $51.00 (C) $63.00 (D) $70.00 (E) $91.00\nRationale:\n================================================================================\n[Generated:]  $40.00 x 20% = $8.00\nSales = $40.00\nCost = $28.00\nSo cost = $8.00 + $8.00 = $16.00\nNow, total cost = 40 + 16 = $56.00\nSo sales = $40.00 + $56.00 = $96.00\nAns: A\nCorrect Answer: A\n",
          "output_type": "stream"
        },
        {
          "name": "stderr",
          "text": "Setting `pad_token_id` to `eos_token_id`:11 for open-end generation.\n",
          "output_type": "stream"
        },
        {
          "name": "stdout",
          "text": "[Prompt:]\nQuestion: A pen company produces very fine quality of writing pens. Company knows that on average 10% of the produced pens are always defective so are rejected before packing. Company promises to deliver 7200 pens to its wholesaler at Rs. 10 each. It estimates the overall profit on all the manufactured pens to be 25%. What is the manufactured cost of each pen?\nAnswer Choices: (A) Rs. 6 (B) Rs. 7.2 (C) Rs. 5.6 (D) Rs. 8 (E) None of these\nRationale: The company is able to deliver 90% of the manufactured pens. Means to produce 7200 pens they must have to produce 8000 pens as 10% are defectives. So, let K be the manufacturing price of each pen.\nTotal income (including 25% profit) = 8000 *K *1.25\nThis same income is obtained by selling 90% manufactured pens at Rs. 10 which is equal to 7200 *10.\nThus,\n8000 *K *1.25 = 7200 *10\nK = Rs. 7.2. [90% of 8000 = 7200]\nAnswer: Option B\nCorrect Answer: B\n\n\nQuestion: The population of a city is 5265526. If there are 4169516 adults in the city, how many children are there in the city?\nAnswer Choices: (A) 1095961 (B) 1065961 (C) 1085961 (D) 1097961 (E) 1096061\nRationale: Population of the city = 5265526\nNumber of adults = 4169516\nNumber of children = 5265526-4169516 = 1096061\nAnswer :E\nCorrect Answer: E\n\n\nQuestion: The bus fare of one adult is Rs. 140 from Ranchi to Patna and bus fare of a child is half the fare of one adult between the same places. What is the total bus fare of 4 adults and 3 children between same places?\nAnswer Choices: (A) Rs. 666 (B) Rs. 670 (C) Rs. 700 (D) Rs. 570 (E) Rs. 770\nRationale: Fare for Adult = Rs. 140.\nFare of Child = Half of the Adult = Rs. 70.\nSo,\nTotal fare = 4 *140 + 3 *70 = 560 +210 = Rs. 770.\nANSWER : E\nCorrect Answer: E\n\n\nQuestion: A club consists of members whose ages are in A.P. The common difference being 3 months. If the youngest member of the club is just 7 years old and the sum of the ages of all the members is 250, then number of members in the club are :\nAnswer Choices: (A) 18 (B) 20 (C) 25 (D) 26 (E) 27\nRationale: Let, n be the number of members in the club.Then,\n250 =(n x [2×7+(n+1)×3/12]) / 2.\nn =25.\nHence, the number of members in the club is 25.\nAnswer : C\nCorrect Answer: C\n\n\nQuestion: The average wages of a worker during a fortnight comprising of 15 consecutive working days was $90 per day. During the first 7 days, his average wage was $87 per day and the average wage during the last 7 days was $92 per day. What was his wage on the 8th day?\nAnswer Choices: (A) $83 (B) $92 (C) $90 (D) $97 (E) $104\nRationale: The total wage earned during the 15 days that the worker worked = 15 * 90 = $ 1350.\nThe total wage earned during the first 7 days = 7 * 87 = $ 609.\nThe total wage earned during the last 7 days = 7 * 92 = $ 644.\nTotal wage earned during the 15 days = wage during first 7 days + wage on 8th day + wage during the last 7 days.\nOr 1350 = 609 + wage on 8th day + 644\nWage on 8th day = 1350 - 609 - 644 = $ 97.\nAnswer D\nCorrect Answer: D\n\n\nQuestion: there are more than 501 students in a school such that 20% of them exactly took physics and 28% of them exactly took math. What could be the least possible no of students in the school?\nAnswer Choices: (A) 550 (B) 570 (C) 600 (D) 700 (E) none of these\nRationale:\n================================================================================\n[Generated:]  20% of students in the school took physics = 20% * 501 = 100\n28% of students in the school took math = 28% * 501 = 140.\nThere must be 550 students in the school.\nAnswer: B\n\n\nQuestion: There are four pipes P1, P2, P3 and P4 and they fill a tank in 10, 15 and 25 minutes respectively. When all the pipes are connected together, they start filling the tank simultaneously but P1 fills the tank first in 12 minutes. The pipes are not connected together. What is the capacity of the tank?\nAnswer Choices: (A) 100 (B) 110 (C) 120 (D) 125 (E) 135\nRationale: Number of minutes taken by P1 to fill the tank = 10 + 15 + 25 = 40 mins.\nNumber of minutes taken by P2 to fill the tank = 15 + 25 = 40 mins.\nNumber of minutes taken by P3 to fill the tank = 25 + 25 = \n",
          "output_type": "stream"
        },
        {
          "name": "stderr",
          "text": "Setting `pad_token_id` to `eos_token_id`:11 for open-end generation.\n",
          "output_type": "stream"
        },
        {
          "name": "stdout",
          "text": "Stopping criteria triggered\n[Prompt:]\nQuestion: A rope 20 meters long is cut into two pieces. If the length of one piece of rope is 3 meters shorter than the length of the other, what is the length, in meters, of the longer piece of rope?\nAnswer Choices: (A) 7.5 (B) 8.9 (C) 9.9 (D) 11.5 (E) 11.7\nRationale: Length of the rope = 20 meters.\nAssume length of longer piece = x meters.\nLength of shorter piece = x - 3\nWe know that x + x - 3 = 20\n2x = 23\nLength of the longer piece = x = 11.5 meters\nCorrect Option: D\nCorrect Answer: D\n\n\nQuestion: Two cars are travelling from the same starting point in the same direction, having started their commute at the same time. The first car travels at a steady rate of 55 mph, while the second travels at a steady rate of 52 mph. How much time will pass before the cars are 15 miles away from each other?\nAnswer Choices: (A) 3 hours (B) 5 hours (C) 6 hours (D) 4 hours (E) 7 hours\nRationale: Relative Speed: 55-52=3 mph\nDistance:15 miles\nTime: distance/speed=15/3= 5 hours\nCorrect answer is B\nCorrect Answer: B\n\n\nQuestion: John conducted a survey about car color. 60% of the people who took the survey were women. Of the men who were surveyed, 75% preferred red cars over green cars. If 10 men liked green cars more than red, how many people took the survey?\nAnswer Choices: (A) 100 (B) 120 (C) 50 (D) 200 (E) 80\nRationale: Let N be the number of people who took the survey. The number of men M is given by M = N - 60%N.\nThe number of men G who liked green cars more than red cars is given by\nG = M - 25%M\nGiven that G = 10, solve for N\n40 = (N - 60%N) - 25%(N - 60%N)\nN = 100\nCorrect answer is A.\nCorrect Answer: A\n\n\nQuestion: Christopher and Jonathan were having bets. They decide that a coin will be flipped twenty times and each time it turns heads, Christopher will give $2 to Jonathan and each time it turns out to be Tails, Jonathan will give 3$ to Christopher. After flipping for twenty times none of the both won or lost any amount.\nHow many times did the coin landed on Heads ?\nAnswer Choices: (A) 10 (B) 23 (C) 16 (D) 18 (E) 12\nRationale: The amount won and lost by both is equal.\nThus 2x = 3(20-x) --- x in the number of times heads came\nX = 12\nCorrect Answer: E\n\n\nQuestion: The capacity of a tank of dimensions (8 m × 6 m × 2.5 m) is\nAnswer Choices: (A) 120 litres (B) 1200 litres (C) 12000 litres (D) 120000 litres (E) None of these\nRationale: Capacity of the bank = Volume of the bank\n= (8x100x6x100x2.5x100/1000) =\nanswer D\nCorrect Answer: D\n\n\nQuestion: An exam is given in a certain class. The average (arithmetic mean) of the highest score and the lowest score is equal to x. If the average score for the entire class is equal to y and there are z students in the class, where z > 5, then in terms of x, y, and z, what is the average score for the class excluding the highest and lowest scorers?\nAnswer Choices: (A) (zy – 2x)/z (B) (zy – 2)/z (C) (zx – y)/(z – 2) (D) (zy – 2x)/(z -2) (E) (zy – x)/(z + 2)\nRationale:\n================================================================================\n[Generated:]  Average = Sum of x + y + z divided by 3\n= (x + y + z) / 3\nNow, x and y are average of two highest and lowest scorers respectively\nx + y + z = (x + y + z)/2\nx = z/3\nz = z/3 + y\n= (zy – y)/(z - 2)\nCorrect Answer: B\n",
          "output_type": "stream"
        },
        {
          "name": "stderr",
          "text": "Setting `pad_token_id` to `eos_token_id`:11 for open-end generation.\n",
          "output_type": "stream"
        },
        {
          "name": "stdout",
          "text": "[Prompt:]\nQuestion: A cow is tethered in the middle of a field with a 14 feet long rope. If the cow grazes 10 sq.ft. per day, then approximately what time will be taken by the cow to graze the whole field?\nAnswer Choices: (A) 51 days (B) 61 days (C) 71 days (D) 81 days (E) 91 days\nRationale: Area of the field grazed = [22/7*14*14]sq.ft. = 616 sq.ft.\nNumber of days taken to graze the field = 616/10 days\n=> 61 days\nANSWER:B\nCorrect Answer: B\n\n\nQuestion: An astronaut weighing 211 pounds on Earth would weigh 182 pounds on Venus. The weight of the astronaut on Venus would be approximately what percent of the astronaut’s weight on Earth?\nAnswer Choices: (A) 50% (B) 60% (C) 70% (D) 86% (E) 90%\nRationale: Weight of astronaut on Earth = 211 pounds\nWeight of astronaut on Venus = 182 pounds\nWeight of astronaut on Venus as a percentage of Weight of astronaut on Earth = (182/211)*100 = 86%\nAnswer D\nCorrect Answer: D\n\n\nQuestion: Two friends are eating a jar full of candies. Had P eaten alone, it would have taken him 10 minutes to finish the candies in the jar. Had Q eaten alone, it would have taken her 5 minutes to finish half the jar. Since both of them are eating simultaneously, how many minutes would it take them to empty the jar?\nAnswer Choices: (A) 4 (B) 5 (C) 6 (D) 7 (E) 8\nRationale: Together they eat 1/10 + 1/10 = 1/5 of the jar per minute.\nThe time to finish the jar is 5 minutes.\nThe answer is B.\nCorrect Answer: B\n\n\nQuestion: The nefarious bandit Hoopsmot decides to go in with his criminal partner Smolapon to purchase a number of senators. Hoopsmot contributes $16,000 to their bribery pool, and Smolapon contributes just $4,000. Their total allows them to influence 30 senators. How many senators of these can be considered Hoopsmot's?\nAnswer Choices: (A) 18 (B) 20 (C) 22 (D) 24 (E) 26\nRationale: A = 16000\nB = 4000\nA share 16 parts & B share 4 parts\nTotal 20 parts -----> 30\n----> 1 part -------> 1.5\nA share = 16 parts -----> 24\nD\nCorrect Answer: D\n\n\nQuestion: 30 is subtracted from a number, it is reduced to its one third. What is the value of 50% of that number?\nAnswer Choices: (A) 22.5 (B) 84 (C) 21 (D) 24 (E) 25\nRationale: 2/3 x = 30 => x = 45\n45 * 1/2 = 22.5\nANSWER:A\nCorrect Answer: A\n\n\nQuestion: A ship went on a voyage. After it had traveled 180 miles a plane started with 10 times the speed of the ship. Find the distance when they meet from starting point.\nAnswer Choices: (A) 238 (B) 289 (C) 200 (D) 287 (E) 187\nRationale:\n================================================================================\n[Generated:]  180/10 = 18\n=> 2.8 x = 18 x = 46\n=> distance = 46x\nNow distance is the distance covered by the ship and plane.\nSo, the distance covered by the ship = (180 x - 200)/2 = 36\nNow, distance covered by the plane = (46 x - 187)/2 = 19\nANSWER:B\n\n\nQuestion: A farmer has a field of size 16 ft X 24 ft and he is trying to make a square of size 14 ft X 12 ft. What is the minimum number of squares he can make of side 1 ft?\nAnswer Choices: (A) 6 (B) 5 (C) 8 (D) 7 (E) 9\nRationale: To make a square of 14 ft x 12 ft, he has to make 4 smaller squares of size 1 ft x 1 ft.\nTherefore, he has to divide the 24 ft x 16 ft field into 4 parts of size 6 ft x 4 ft.\nEach of the 4\n",
          "output_type": "stream"
        },
        {
          "name": "stderr",
          "text": "Setting `pad_token_id` to `eos_token_id`:11 for open-end generation.\n",
          "output_type": "stream"
        },
        {
          "name": "stdout",
          "text": "Stopping criteria triggered\n[Prompt:]\nQuestion: An astronaut weighing 211 pounds on Earth would weigh 182 pounds on Venus. The weight of the astronaut on Venus would be approximately what percent of the astronaut’s weight on Earth?\nAnswer Choices: (A) 50% (B) 60% (C) 70% (D) 86% (E) 90%\nRationale: Weight of astronaut on Earth = 211 pounds\nWeight of astronaut on Venus = 182 pounds\nWeight of astronaut on Venus as a percentage of Weight of astronaut on Earth = (182/211)*100 = 86%\nAnswer D\nCorrect Answer: D\n\n\nQuestion: The bus fare of one adult is Rs. 140 from Ranchi to Patna and bus fare of a child is half the fare of one adult between the same places. What is the total bus fare of 4 adults and 3 children between same places?\nAnswer Choices: (A) Rs. 666 (B) Rs. 670 (C) Rs. 700 (D) Rs. 570 (E) Rs. 770\nRationale: Fare for Adult = Rs. 140.\nFare of Child = Half of the Adult = Rs. 70.\nSo,\nTotal fare = 4 *140 + 3 *70 = 560 +210 = Rs. 770.\nANSWER : E\nCorrect Answer: E\n\n\nQuestion: At my favorite fruit stand, an orange costs 18 dollars, a pineapple costs 27 dollars, and a grape costs 15 dollars. Using the same logic, can you tell how much a mango costs?\nAnswer Choices: (A) 22 dollars (B) 15 dollars (C) 20 dollars (D) 18 dollars (E) 10 dollars\nRationale: He cost is equal to 3 dollars for each letter in the fruits name.\nCorrect Answer: B\n\n\nQuestion: At 6% per annum simple interest, Rahul borrowed Rs. 500. What amount will he pay to clear the debt after 4 years\nAnswer Choices: (A) 750 (B) 700 (C) 620 (D) 600 (E) None of these\nRationale: We need to calculate the total amount to be paid by him after 4 years, so it will be Principal + simple interest.\nSo,\n=>500+500∗6∗4 /100=>Rs.620\nOption C\nCorrect Answer: C\n\n\nQuestion: At 6% per annum simple interest, Rahul borrowed Rs. 500. What amount will he pay to clear the debt after 4 years\nAnswer Choices: (A) 750 (B) 700 (C) 620 (D) 600 (E) None of these\nRationale: We need to calculate the total amount to be paid by him after 4 years, so it will be Principal + simple interest.\nSo,\n=>500+500∗6∗4 /100=>Rs.620\nOption C\nCorrect Answer: C\n\n\nQuestion: Ram and Krishna start from A and B, respectively, at the same time and travel towards each other at constant speeds of 20m/s and 40m/s, respectively, along the same route. Ram meets Krishna at point C on the road after 10 seconds. Find the total distance between A to B.\nAnswer Choices: (A) 700 meters (B) 1000 meters (C) 700 kilometers (D) 555 meters (E) 600 meters\nRationale:\n================================================================================\n[Generated:]  So,\nTotal distance covered by both of them = 10 seconds = 10/20 m/s = 0.5 km\nTotal distance covered by Ram = 20/40 m/s = 0.5 km\nTotal distance covered by Krishna = 10/40 m/s = 0.25 km\n=> 20/40 = (2∗10)/(20∗0.25) = 700\nOption C\nCorrect Answer: C\n",
          "output_type": "stream"
        },
        {
          "name": "stderr",
          "text": "Setting `pad_token_id` to `eos_token_id`:11 for open-end generation.\n",
          "output_type": "stream"
        },
        {
          "name": "stdout",
          "text": "Stopping criteria triggered\n[Prompt:]\nQuestion: If m > 0, y > 0, and x is m percent of 4y, then, in terms of y, m is what percentage of x?\nAnswer Choices: (A) y/400 (B) 4y (C) 50y (D) 2500/y (E) 5000/y\nRationale: x = (m/100)*4y\nm = 100x/4y = 25x/y\nm is (2500/y)% of x.\nThe answer is D.\nCorrect Answer: D\n\n\nQuestion: Jim filled his dog's bowl with dog food. Starting at 8:00 am, Jim's dog ate exactly once an hour, consuming exactly 1/3 of the dog food remaining in the bowl at each feeding session. Approximately, what percent of the original food was in the dog's bowl right before the dog began to eat at noon of the same day?\nAnswer Choices: (A) 20% (B) 25% (C) 30% (D) 35% (E) 40%\nRationale: The amount remaining after each feeding session is 2/3 of what was in the bowl.\nThere were four feeding sessions.\nThe amount remaining just before noon was (2/3)^4 = 16/81, which is about 20%.\nThe answer is A.\nCorrect Answer: A\n\n\nQuestion: A man spends Rs. 3500 per month and saves 12 1/2% of his income. His monthly income is ?\nAnswer Choices: (A) Rs. 4400 (B) Rs. 4270 (C) Rs. 4000 (D) Rs. 3937.50 (E) None of these\nRationale: 87 1/2% of P = 3500\n⇒ {(175/2) x P} / 100 = 3500\n∵ P = (3500 x 2 x 100) / 175 = 4000\nCorrect Option: C\nCorrect Answer: C\n\n\nQuestion: The average (arithmetic mean) of the weight of 10 vehicles is 12.2 tons. The average weight of the group of vehicles increased by 2.6 tons after a new heavy duty truck was added to the group? What is the weight in tons of the heavy duty truck?\nAnswer Choices: (A) 40.8 (B) 41.6 (C) 42.2 (D) 43.5 (E) 44.8\nRationale: The new average is 14.8 tons.\nOn average, the ten trucks are 2.6 tons below the average for a total weighting of 26 tons.\nTherefore, the added truck must be 14.8 + 26 = 40.8 tons\nThe answer is A.\nCorrect Answer: A\n\n\nQuestion: An aeroplane flies along the four sides of a square at the speeds of 200, 400, 600 and 800km/hr. Find the average speed of the plane around the field?\nAnswer Choices: (A) 384 (B) 562 (C) 458 (D) 156 (E) 452\nRationale: Let the each side of the square is x km\naverage speed of plane is y km/hr\n(x/200)+(x/400)+(x/600)+(x/800) = 4x/y\n25x/2400 = 4x/y\ny= 384 km/hr\nAnswer is A\nCorrect Answer: A\n\n\nQuestion: An electric pole, 14 metres high, casts a shadow of 10 metres. Find the height of a tree that casts a shadow of 15 metres under similar conditions.\nAnswer Choices: (A) 21 (B) 22 (C) 20 (D) 23 (E) 24\nRationale:\n================================================================================\n[Generated:]  The ratio of heights is 3:4.\nTherefore, the tree is 15 : 17 metres\nThe answer is D.\nCorrect Answer: D\n",
          "output_type": "stream"
        },
        {
          "name": "stderr",
          "text": "Setting `pad_token_id` to `eos_token_id`:11 for open-end generation.\n",
          "output_type": "stream"
        },
        {
          "name": "stdout",
          "text": "Stopping criteria triggered\n[Prompt:]\nQuestion: A car is being driven, in a straight line and at a uniform speed, towards the base of a vertical tower. The top of the tower is observed from the car and, in the process, it takes 10 minutes for the angle of elevation to change from 45° to 60°. After how much more time will this car reach the base of the tower?\nAnswer Choices: (A) 5(√3 + 1) (B) 6(√3 + √2) (C) 7(√3 – 1) (D) 8(√3 – 2) (E) None of these\nRationale: Explanation :\nLet the height of the building be h. Initially, he was at an angle of 450. tan 45 = h/distance between car and tower. h = distance between car and tower (since tan 45 = 1).\nNow, after 10 minutes, it travelled a certain distance, and angle changed to 600.\ntan 60 = h/x x = h/√3\nSo, in 10 minutes, it has travelled a distance of h – x = h - h/√3.\n10 minutes = h *( 1 – 1√3)\nh can be travelled in 10 / (1 – 1√3).\nTo travel a distance of x, which is h/√3, it takes :\nh = 10 / (1 – 1/√3)\nh / √3 = 10/ √3 * (1 – 1/√3). Multiply numerator and denominator by 1 + √3 ( conjugate of 1 - √3). We get, x = h/√3 = 10 (1 + √3) / 2 = 5* (1 + √3)\nSo, it takes 5(1 + √3) minutes to reach the base of the tower.\nAnswer : A\nCorrect Answer: A\n\n\nQuestion: If 27 bottles of soda cost A cents, how much will B bottles cost in dollars?\nAnswer Choices: (A) AB/2700 (B) 27/AB (C) AB/270 (D) 2700/AB (E) 100AB/27\nRationale: 27 bottles cost A cents or A/100 dollars\n1 bottle will cost = A/100/27 = A/2700\nB bottles in dollars = B*A/2700 = AB/2700\nHence, answer will be A.\nCorrect Answer: A\n\n\nQuestion: What is the greatest number of identical bouquets that can be made out of 28 white and 98 red tulips if no flowers are to be left out? (Two bouquets are identical whenever the number of red tulips in the two bouquets is equal and the number of white tulips in the two bouquets is equal.)\nAnswer Choices: (A) 4 (B) 7 (C) 10 (D) 14 (E) 21\nRationale: The greatest common divisor of 28 and 98 is 14.\nWe can make 14 identical bouquets with 2 white tulips and 7 red tulips in each bouquet.\nThe answer is D.\nCorrect Answer: D\n\n\nQuestion: The average weight of 10 oarsmen in a boat is increased by 1.8 kg when one of the crew, who weighs 53 kg is replaced by a new man. Find the weight of the new man.\nAnswer Choices: (A) 71 (B) 62 (C) 43 (D) 67 (E) 40\nRationale: Total weight increased = (1.8 x 10) kg =18 kg.\nWeight of the new man = (53 + 18) kg =71 kg.\nANSWER A\nCorrect Answer: A\n\n\nQuestion: In a row of children Neha is 12th from left end and Radha is 6th from right end. When Radha is shifted to left by 2 places and Neha is shifted to right by 2 places there 6 children between Radha and Neha. How many children are there in the row?\nAnswer Choices: (A) 23 (B) 27 (C) 26 (D) 28 (E) 29\nRationale: After moving 2 positions to the right Neha is 14 positions from the left, and after moving 2 positions to the left, Radha is on the 8th position from the right. If there are 6 children between them, the total number of children is  14+6+8 = 28\nANSWER:D\nCorrect Answer: D\n\n\nQuestion: Decipher the following multiplication table:\nM A D\nB E\n-------------\nM A D\nR A E\n-------------\nA M I D\nAnswer Choices: (A) 9 2 0 0 (B) 9 2 0 9 (C) 9 2 0 1 (D) 9 2 0 7 (E) 9 2 2 2\nRationale:\n================================================================================\n[Generated:]  \nA B D\nR E\n-------------\nR A B\nE I\n-------------\nR E B\nANSWER: B\nCorrect Answer: B\n",
          "output_type": "stream"
        },
        {
          "name": "stderr",
          "text": "Setting `pad_token_id` to `eos_token_id`:11 for open-end generation.\n",
          "output_type": "stream"
        },
        {
          "name": "stdout",
          "text": "Stopping criteria triggered\n[Prompt:]\nQuestion: The difference between the squares of two numbers is 256000 and the sum of the numbers is 1000. The numbers are\nAnswer Choices: (A) 600, 400 (B) 628, 372 (C) 640, 360 (D) None of these (E) Cannot be determined\nRationale: Let the numbers be x and y.\nThen, x^2 - y^2 = 256000 and x + y = 1000.\nOn dividing we get : x - y = 256.\n‹=›Solving x + y = 1000 and x - y = 256,\n‹=›we get : x = 628 and y = 372.\nAnswer B\nCorrect Answer: B\n\n\nQuestion: A rectangular solid, 3 x 4 x 15, is inscribed in a sphere, so that all eight of its vertices are on the sphere. What is the diameter of the sphere?\nAnswer Choices: (A)  13.3542 (B)  15.8113 (C)  18.3451 (D)  19.5667 (E)  20.8888\nRationale: In an inscribed rectangle in a sphere, we will have a line joining the opposite vertices as the diameter.\nAccording to the Pythagoras theorem, sides 3, 4 give diagonal as 5 ==> with 5 and 15, we get 5sqrt(10).\n5sqrt(10) or 15.8113 is the diameter of the sphere.\nanswer = B\nCorrect Answer: B\n\n\nQuestion: A company contracts to paint 3 houses. Mr.Brown can paint a house in 6 days while Mr.Black would take 8 days and Mr.Blue 12 days. After 8 days Mr.Brown goes on vacation and Mr. Black begins to work for a period of 6 days. How many days will it take Mr.Blue to complete the contract?\nAnswer Choices: (A) 7 (B) 8 (C) 10 (D) 11 (E) 12\nRationale: let x is amount of work to be done to paint one house.\nSo Brown's one day work is x/6, black's can do x/8 work in\none day and blue is x/12.\nTotal houses is 3, so tatal work to be done is 3x.\n3x= 8*(x/6) + 6*(x/8) + y*(x/12)\nfinally y = 11.\nblue will complete the remaining work in 11 days.\nANSWER:D\nCorrect Answer: D\n\n\nQuestion: A book was sold for Rs 27.50 with a profit of 10%. If it were sold for Rs. 25.75, then would have been percentage of profit and loss ?\nAnswer Choices: (A) 2% Profit (B) 3% Profit (C) 2% Loss (D) 3% Loss (E) 4% Loss\nRationale: S.P.=(100+gain%100∗C.P)\nSo, C.P. = (100/110∗25.75)\nWhen S.P. = 25.75 then\nProfit=25.75−25=Re.0.75\nProfit%=0.75/25∗100=3%\nAnswer is B\nCorrect Answer: B\n\n\nQuestion: Suppose you want to arrange your English, Hindi, Mathematics, History, Geography and Science books on a shelf. In how many ways can you do it ?\nAnswer Choices: (A) 520 (B) 720 (C) 920 (D) None (E) Cannot be determined\nRationale: We have to arrange 6 books. The number of permutations is 6*5*4*3*2*1= 720\nAnswer : B\nCorrect Answer: B\n\n\nQuestion: At a conference, one team is made up of 4 men and 4 women. Four presenters are chosen to present the team's findings in front of the entire conference. How many different groups of presenters can be chosen from the team if a team cannot be composed of men only or women only? (Two groups of presenters are considered different if at least one presenter is different.)\nAnswer Choices: (A) 120 (B) 19 (C) 180 (D) 420 (E) 460\nRationale:\n================================================================================\n[Generated:]  If there is at least one woman then the presenters can be divided into two groups of man & woman.\nThe number of man is 3\nIf a team is composed of at least one woman then the number of group of men can be 4.\nSo the number of groups is 3 + 4 = 7\nThere are 4 groups and 4 groups so the total number of groups are 7.\nThere can be total 4*4*4 = 64 groups of presenters.\nANSWER:A\nCorrect Answer: A\n[Prompt:]\nQuestion: X and Y are two alloys which were made by mixing zinc and copper in the ratio 6:9 and 7:11, respectively. If 40 grams of alloy X and 60 grams of alloy Y are melted and mixed to form alloy Z, what is the ratio of zinc and copper in the alloy Z ?\nAnswer Choices: (A) 69:91 (B) 59:91 (C) 59:90 (D) 59:91 (E) 69:101\nRationale: The ratio of zinc and copper in mixture 1 is 6/9 and in mixture 2 is 7/11.\n40 grams of mixture 1 contains 6*40/15=16 grams of zinc and 24 grams of copper\n60 grams of mixture 2 contains 7*60/18=77/3 grams of zinc and 110/3 grams of copper\nThus, ratio =(16+77/3)/(24+110/3) =59/91\nANSWER:B\nCorrect Answer: B\n\n\nQuestion: The height of a room to its semi-perimeter is 2:5. It costs Rs.260 to paper the walls of the room with paper 50cm wide at Rs.2 per meter allowing an area of 15 sq.m for doors and windows. The height of the room is:\nAnswer Choices: (A) 2.6m (B) 3.9m (C) 4m (D) 4.2m (E) 4.4m\nRationale: Let, height= 2x metres & (length+ breadth)= 5x metres.\nLength of paper= (260/2)m= 130m.\nTherefore, area of paper= (130*50/100)= 65m2\nArea of 4 walls= (65+15)=80m2\n2(length+breadth)*height=80.\nTherefore, 2*5x*2x=80 or x2=4 or x=2\nTherefore, height of the room= 4m\nANSWER:C\nCorrect Answer: C\n\n\nQuestion: The greatest common factor of two positive integers is 11. The least common multiple of these two integers is 7700. If one of the integers is 350, what is the other?\nAnswer Choices: (A) 242 (B) 308 (C) 352 (D) 412 (E) 456\nRationale: GCF*LCM = product of 2 numbers\n11*7700 = product of 2 numbers\nother number = 11*7700/350 = 242\nAnswer is A\nCorrect Answer: A\n\n\nQuestion: In how many ways can the letters of the word \"PROBLEC\" be rearranged to make 7 letter words such that none of the letters repeat?\nAnswer Choices: (A) 2! (B) 3! (C) 7! (D) 8! (E) 9!\nRationale: There are seven positions to be filled.\nThe first position can be filled using any of the 7 letters contained in PROBLEM.\nThe second position can be filled by the remaining 6 letters as the letters should not repeat.\nThe third position can be filled by the remaining 5 letters only and so on.\n758\nTherefore, the total number of ways of rearranging the 7 letter word = 7*6*5*4*3*2*1 = 7! Ways.\nC\nCorrect Answer: C\n\n\nQuestion: The difference between simple interest and C.I. at the same rate for Rs.5000 for 2 years in Rs.72. The rate of interest is?\nAnswer Choices: (A) 10% (B) 12% (C) 6% (D) 8% (E) 4%\nRationale: 5000 = 72(100/R)2\n5 R2 = 720 => R = 12\nAnswer: Option B\nCorrect Answer: B\n\n\nQuestion: Fernando purchased a university meal plan that allows him to have a total of 3 lunches and 3 dinners per week. If the cafeteria is closed on weekends and Fernando always goes home for a dinner on Friday nights, how many options does he have to allocate his meals?\nAnswer Choices: (A) 5C3*4C3 (B) 5C4*4C2 (C) 5C2*4C4 (D) 5C6*4C5 (E) 4C3*4C3\nRationale:\n================================================================================\n[Generated:]  (A) can be the answer\n5 meals/week*3 meals/week = 15 meals\n5C3= 15\n(B) is impossible as if he has 4 lunches and 3 dinners on week days and 4 dinners and 3 lunches on weekends, total is 6C4= 36\n(C) is impossible because 5C6= 300 which is not equal to 4C5\n(D) is impossible because if 5C3=15, 4C3=5\n(E) is impossible because the meals/week are 3 and the total meals are 15 which is greater than 4C3\nAnswer: B\n\n\nQuestion: The first digit of a two-digit number when the sum of the digits is 3, is equal to 0. Find the digits of the number.\nAnswer Choices: (A) 6, 7 (B) 7, 8 (C) 8, 9 (D) 5, 6 (E) 5, 8\nRationale: 2*digit1+digit2=3.\n2(digit1)+2(\n",
          "output_type": "stream"
        }
      ]
    },
    {
      "cell_type": "code",
      "source": [
        "< A whole lot of your code here >\n",
        "\n",
        "# Optionally, consider inferencing multiple sentences in a batch for faster inference;\n",
        "# If you choose to batch outputs, make sure the results are the same as with batch=1 (using greedy inference)"
      ],
      "metadata": {
        "id": "Zh6gejr0JNuh"
      },
      "execution_count": null,
      "outputs": []
    },
    {
      "cell_type": "code",
      "source": [
        "print(\"Responded %%:\", NUM_RESPONDED / NUM_SAMPLES)\n",
        "print(\"Accuracy (when responded):\", NUM_CORRECT / NUM_RESPONDED)\n",
        "print(\"Accuracy (overall):\", NUM_CORRECT / NUM_SAMPLES)\n",
        "\n",
        "if NUM_RESPONDED / NUM_SAMPLES < 0.9:\n",
        "  print(\"Something is wrong with the evaluation technique (for 5-shot CoT): the model refuses to answer too many questions.\")\n",
        "  print(\"Make sure you generate enough tokens that the model can produce a correct answer.\")\n",
        "  print(\"When in doubt, take a look at the full model output. You can often spot errors there.\")"
      ],
      "metadata": {
        "id": "gxrCJvxIJSjA",
        "execution": {
          "iopub.status.busy": "2023-12-03T17:23:31.910862Z",
          "iopub.execute_input": "2023-12-03T17:23:31.911239Z",
          "iopub.status.idle": "2023-12-03T17:23:31.917312Z",
          "shell.execute_reply.started": "2023-12-03T17:23:31.911210Z",
          "shell.execute_reply": "2023-12-03T17:23:31.916422Z"
        },
        "trusted": true,
        "outputId": "2e7697bb-ca03-4e9e-bf39-39e2a9439f3f"
      },
      "execution_count": null,
      "outputs": [
        {
          "name": "stdout",
          "text": "Responded %%: 0.7045454545454546\nAccuracy (when responded): 0.0967741935483871\nAccuracy (overall): 0.06818181818181818\nSomething is wrong with the evaluation technique (for 5-shot CoT): the model refuses to answer too many questions.\nMake sure you generate enough tokens that the model can produce a correct answer.\nWhen in doubt, take a look at the full model output. You can often spot errors there.\n",
          "output_type": "stream"
        }
      ]
    },
    {
      "cell_type": "markdown",
      "source": [
        "Я не знаю почему такое низкое качество. Смотрел глазами, что генерит модель и она останавливается правильно. Считает она очень плохо, то есть если она насчитала 500 и это ответ A, она выберет ответ C, например. Еще может влиять то, что длина ответа у меня 256(иначе долго работает) и не все ответы влезают в этот порог"
      ],
      "metadata": {
        "id": "07_tv4DEF3AC"
      }
    },
    {
      "cell_type": "markdown",
      "source": [
        "__Task 8 (2 points)__ Experiment time!\n",
        "<img width=200px src=https://www.evolvefish.com/cdn-cgi/image/quality%3D85/assets/images/Apparel/TShirtsWomenCont/Main/EF-APP-CWT-00068(Main).jpg>\n",
        "\n",
        "Your final quest is to use the testbench you've just written to answer one of the following questions:\n",
        "\n",
        "### Option 1: How many shots do you need?\n",
        "\n",
        "How does model accuracy change with the number of fewshot examples?\n",
        "\n",
        "a. check if the model accuracy changes as you increase/decrease the number of \"shots\"\n",
        "\n",
        "b. try to prompt-engineer a model into giving the best rationale __without__ any few-shot examples, i.e. zero-shot\n",
        "\n",
        "For zero-shot mode, feel free to use wild prompt-engineering or modify the inference procedure.\n",
        "\n",
        "### Option 2: Is this prompting tecnique reliable?\n",
        "\n",
        "_Inspired by ongoing research by Anton Voronov, Lena Volf and Max Ryabinin._\n",
        "\n",
        "For this option, you need to check if the model behavior (and hence, accuracy) is robust to perturbations in the input prompt.\n",
        "\n",
        "a. Does the accuracy degrade if you provide wrong answers to few-shot examples? (make sure to modify rationale if it contains answer in the end)\n",
        "\n",
        "b. Does it degrade if you replace question/answer prompts with \"Q\" and \"A\"? What if you write both on the same line? Change few-shot separators?\n",
        "\n",
        "\n",
        "\n",
        "### Option 3: Inference Matters\n",
        "\n",
        "There are many ways to inference the model, not all of them equal.\n",
        "\n",
        "a. check whether greedy inference or beam search affects model generation quality\n",
        "\n",
        "b. implement and evaluate sampling with voting (see explanation below).\n",
        "\n",
        "\n",
        "The voting technique(b) should work as follows: first, you generate k (e.g. 50) \"attempts\" at an answer using nucleus sampling (or a similar technique).\n",
        "Then, you count how many of those attempts chose a particular option (A, B, etc) as the final answer. The option that was chosen most frequently has the most \"votes\", and therefore \"wins\".\n",
        "\n",
        "To speed up voting, you may want to generate these attempts in parallel as a batch. That should be very easy to implement: just run `model.generate` on a list with multiple copies of the same prompt.\n",
        "\n",
        "\n",
        "\n",
        "\n",
        "================================================\n",
        "\n",
        "__Common rules:__ You will need to test both hypothes (A and B) in the chosen option. You may choose to replace one of them with your own idea - but please ask course staff in advance (via telegram) if you want full points.\n",
        "\n",
        "Feel free to organize your code and report as you see fit - but please make sure it's readable and the code runs top-to-bottom :)\n",
        "Write a short informal report about what you tried and, in doing so, what did you found. Minimum of 2 paragraphs; more is ok; creative visualizations are welcome.\n",
        "\n",
        "You are allowed (but not required) to prompt the model into generating a report for you --- or helping you write one. However, if you do so, make sure that it is still human-readable :)\n",
        "\n"
      ],
      "metadata": {
        "id": "UZLK2rLiKxbM"
      }
    },
    {
      "cell_type": "markdown",
      "source": [
        "-----------------------------------------------------------------------------------------------"
      ],
      "metadata": {
        "id": "Ok-vJAU8F3AD"
      }
    },
    {
      "cell_type": "markdown",
      "source": [
        "Option 1: How many shots do you need?\n",
        "How does model accuracy change with the number of fewshot examples?\n",
        "\n",
        "a. check if the model accuracy changes as you increase/decrease the number of \"shots\"\n",
        "\n",
        "b. try to prompt-engineer a model into giving the best rationale without any few-shot examples, i.e. zero-shot\n",
        "\n",
        "For zero-shot mode, feel free to use wild prompt-engineering or modify the inference procedure."
      ],
      "metadata": {
        "id": "hPJqb5SCF3AD"
      }
    },
    {
      "cell_type": "markdown",
      "source": [
        "## Пункт а."
      ],
      "metadata": {
        "id": "ro9q7-GJF3AD"
      }
    },
    {
      "cell_type": "code",
      "source": [
        "# Для начала попробуем увеличить число примеров, так модель должна выдавать лучшее качество\n",
        "n2 = 8\n",
        "\n",
        "NUM_SAMPLES_a = 0\n",
        "NUM_RESPONDED_a = 0\n",
        "NUM_CORRECT_a = 0\n",
        "\n",
        "for question in tqdm(questions):\n",
        "    NUM_SAMPLES_a += 1\n",
        "    few_shot = [few_shot_examples[num] for num in np.random.randint(0, len(few_shot_examples), size=n2)]\n",
        "    prompt = make_prompt(main_question=question, fewshot_examples=few_shot)\n",
        "    batch = tokenizer(prompt, return_tensors='pt', return_token_type_ids=False).to(device)\n",
        "    torch.manual_seed(1337)\n",
        "    output_tokens = model.generate(**batch, max_new_tokens=256, do_sample=True, top_p=0.9, stopping_criteria=stopping_criteria)\n",
        "    output = tokenizer.decode(output_tokens[0][batch['input_ids'].shape[1]:].cpu())\n",
        "    print(\"[Prompt:]\\n\" + prompt)\n",
        "    print(\"=\" * 80)\n",
        "    print(\"[Generated:]\", output)\n",
        "    if output[-17:-1] == 'Correct Answer: ':\n",
        "        NUM_RESPONDED_a += 1\n",
        "    if output[-1] == question['correct']:\n",
        "        NUM_CORRECT_a += 1"
      ],
      "metadata": {
        "id": "_r6UVDl4NEua",
        "execution": {
          "iopub.status.busy": "2023-12-03T17:34:38.390348Z",
          "iopub.execute_input": "2023-12-03T17:34:38.391312Z",
          "iopub.status.idle": "2023-12-03T17:48:24.734529Z",
          "shell.execute_reply.started": "2023-12-03T17:34:38.391277Z",
          "shell.execute_reply": "2023-12-03T17:48:24.733620Z"
        },
        "trusted": true,
        "outputId": "304c41cb-e36b-466a-bbeb-71ad18492b35",
        "colab": {
          "referenced_widgets": [
            "9d5f0963c16e410aa2a342697fa6cdde"
          ]
        }
      },
      "execution_count": null,
      "outputs": [
        {
          "output_type": "display_data",
          "data": {
            "text/plain": "  0%|          | 0/44 [00:00<?, ?it/s]",
            "application/vnd.jupyter.widget-view+json": {
              "version_major": 2,
              "version_minor": 0,
              "model_id": "9d5f0963c16e410aa2a342697fa6cdde"
            }
          },
          "metadata": {}
        },
        {
          "name": "stderr",
          "text": "Setting `pad_token_id` to `eos_token_id`:11 for open-end generation.\nSetting `pad_token_id` to `eos_token_id`:11 for open-end generation.\n",
          "output_type": "stream"
        },
        {
          "name": "stdout",
          "text": "[Prompt:]\nQuestion: A straight picket fence is composed of x pickets each of which is 1/2 inch wide. If there are 6 inches of space between each pair of pickets, which of the following represents the length of fence in feet?\nAnswer Choices: (A) 13x/2 (B) 13x/2 - 6 (C) 13x/24 (D) (13x+1)/24 (E) (13x-12)/24\nRationale: Number of pickets = x\nSize of pickets = 1/2\nlength of pickets = 1/2x\nIf there are x pickets, it implies that there are x -1 spaces between the picket\nLength of space = 6\ntotal number of length = 1/2 x + 6(x-1) in inches\ntotal length in feet =( 1/2 x + 6(x-1))/12\nSimplify to get (13X-12)/24\nANSWER:E\nCorrect Answer: E\n\n\nQuestion: A sporting goods store carries only yellow and white golf balls. At the beginning of the day it had 600 golf balls in stock, and by the end of the day it had sold 80% of its inventory of golf balls. If the store sold an equal number of yellow and white golf balls, and in doing so sold all of its white golf balls, how many yellow golf balls did the store have to begin the day?\nAnswer Choices: (A) 80 (B) 120 (C) 240 (D) 320 (E) 360\nRationale: Since the store sold an equal number of white and yellow balls, 80%/2 = 40% of the inventory at the start of the day was white balls. Then 60% of the inventory consisted of yellow balls.\n0.6(600) = 360\nThe answer is E.\nCorrect Answer: E\n\n\nQuestion: Three friends Alan, Roger and Peter attempt to answer a question on an exam. Alan randomly guesses the answer, giving him a 1/5 probability of guessing correctly. Roger cheats by looking at the paper of the student in front of him, giving him a 2/3 probability of answering correctly. And Peter dutifully performs the calculations, then marks the answer, giving him a 5/6 probability of a correct answer. What is the probability that the question is answered correctly, but not via cheating?\nAnswer Choices: (A) 1/18 (B) 1/9 (C) 23/90 (D) 5/18 (E) 13/45\nRationale: Prob(Alan) = 1/5\nProb(Roger) without cheating = 2/3-1 = 1/3\nProb(Peter) = 5/6\nTotal Probability = 1/5*1/3*/5/6 = 1/18\nAnswer is A\nCorrect Answer: A\n\n\nQuestion: A number of friends decided to go on a picnic and planned to spend Rs. 96 on eatables. Four of them, however, did not turn up. As a consequence, the remaining ones had to contribute Rs. 4 extra, each. The number of those who attended the picnic was\nAnswer Choices: (A) 8 (B) 12 (C) 16 (D) 24 (E) 25\nRationale: Let the number of persons be x. Then,\n96/x-4-96/x=4 => x=12\nSo, required number =x-4=8.\nAnswer is A\nCorrect Answer: A\n\n\nQuestion: The sum of k consecutive integers is 51. If the least integer is -50, then k =\nAnswer Choices: (A) 40 (B) 62 (C) 82 (D) 92 (E) 102\nRationale: The difference is consistent with each integers , therefore the series can be A.P.\nSum of A.P. = A + (N-1) D\nA=First term\nD=Difference between each integer\nN=number of terms\nSum = A + (N - 1 ) D\n51= -50 + N - 1\nN = 102\nAnswer = E\nCorrect Answer: E\n\n\nQuestion: x men working x hours per day can do x units of a work in x days. How much work can be completed by y men working y hours per day in y days?\nAnswer Choices: (A) x2/y2 units (B) y3/x2 units (C) x3/y2 units (D) y2/x2 units (E) None of these\nRationale: Amount of work completed by 1 man in 1 day, working 1 hours a day = x/x3=1/x2\nAmount of work y men in y days, working y hours a day = y3 × (1/x2) = y3/x2 . Answer : Option B\nCorrect Answer: B\n\n\nQuestion: The capacity of a tank of dimensions (8 m × 6 m × 2.5 m) is\nAnswer Choices: (A) 120 litres (B) 1200 litres (C) 12000 litres (D) 120000 litres (E) None of these\nRationale: Capacity of the bank = Volume of the bank\n= (8x100x6x100x2.5x100/1000) =\nanswer D\nCorrect Answer: D\n\n\nQuestion: A man spends 70% of his income. If his income increases by 20%, then what will be his new expenditure?\nAnswer Choices: (A) 58.3% (B) 62.5% (C) 63.5% (D) 64.5% (E) 65.5%\nRationale: Let Rs 100 be the income\nExpenditure=Rs70\nIncreased income=Rs120\nExpenditure in amount is same.\nSo, expenditure % =70/120 *100=58.3%\nANSWER:A\nCorrect Answer: A\n\n\nQuestion: You can purchase one soda and two energy bars for 150 cents, or two sodas and three energy bars for 300\ncents. If the costs of the items do not change, compute the cost in cents of six sodas and seven bars.\nAnswer Choices: (A) 500 (B) 600 (C) 750 (D) 800 (E) 900\nRationale:\n================================================================================\n[Generated:]  If price of sodas increases by 3cents/can and price of energy bars decreases by 2cents/bar. Then total price = 150(3)+300(2)-150(6)\n=900-300+900=\nANSWER:E\n\n\nQuestion: Two numbers A and B are written in a 3:2 ratio. If A/B is 5, then the number of letters in A is ______.\nAnswer Choices: (A) 10 (B) 12 (C) 13 (D) 14 (E) 15\nRationale: If A is greater by 2 and B is greater by 1, then number of letters in A is 3, so total number of letters in both the numbers is 6\nNumber of letters in A = 3(5/2) = 15.\nANSWER:E\n\n\nQuestion: An athlete ran a mile in 4 minutes and a second and walked one mile in 8 minutes. If the distance between the two events was 14.8 miles, how long was the walk?\nAnswer Choices: (A) 2 minutes (B) \n",
          "output_type": "stream"
        },
        {
          "name": "stderr",
          "text": "Setting `pad_token_id` to `eos_token_id`:11 for open-end generation.\n",
          "output_type": "stream"
        },
        {
          "name": "stdout",
          "text": "[Prompt:]\nQuestion: 20 marbles were pulled out of a bag of only white marbles, painted black, and then put back in. Then, another 20 marbles were pulled out, of which 1 was black, after which they were all returned to the bag. If the percentage of black marbles pulled out the second time represents their percentage in the bag, how many marbles in total Q does the bag currently hold?\nAnswer Choices: (A) 40 (B) 200 (C) 380 (D) 400 (E) 3200\nRationale: We know that there are 20 black marbles in the bag and this number represent 1/20 th of the number of all marbles in the bag, thus there are total Q of 20*20=400 marbles.\nAnswer: D.\nCorrect Answer: D\n\n\nQuestion: What will be the cost of gardening 1-metre – broad boundary around a rectangular plot having perimeter of 340 metres at the rate of 10 per square metre?\nAnswer Choices: (A) 3400 (B) 1700 (C) 3440 (D) Cannot be determined (E) None of these\nRationale: Let l and b be the length and breadth of rectangular plot respectively.\n∴ According to the question,we have\n2(l + b) = 340 ⇒ l + b = 170\nNow, (l + 2) and (b + 2) be the length and breadth of plot with boundary.\n∴ Required area = (l + 2) (b + 2) – lb\n= lb + 2l + 2b + 4 – lb\n= 2(l + b) + 4 = 344\n∴ Required cost = 344 × 10 = 3440\nAnswer C\nCorrect Answer: C\n\n\nQuestion: A square piece of cloth is trimmed by 4 feet on one edge to form a rectangular piece, which is then cut diagonally in half to create two triangles. If the area of each of triangle is 70 square feet, what was the perimeter (in feet) of the original piece of square cloth?\nAnswer Choices: (A) 56 (B) 58 (C) 60 (D) 62 (E) 64\nRationale: Let x be the length of one side of the original square.\nThe area of the rectangle is x(x-4)=140.\nx=14.\nThe perimeter of the square was 4*14=56 feet.\nThe answer is A.\nCorrect Answer: A\n\n\nQuestion: Janice bikes at 10 miles per hour, while Jennie bikes at 20. How long until they have collectively biked 1 mile?\nAnswer Choices: (A) 1 minute (B) 2 minutes (C) 3 minutes (D) 4 minutes (E) 5 minutes\nRationale: Janice's speed = 1/6 miles per minute\nJennie's speed = 1/3 miles per minute\nJanice + Jennie's speed= (1/6 + 1/3) = 1/2 miles per minute\nBoth together will finish the mile in 2 minutes\ncorrect option is B\nCorrect Answer: B\n\n\nQuestion: The length of the ribbon was originally 30 cm. It was reduced in the ratio 5 : 3. What is its length now?\nAnswer Choices: (A) 18 (B) 30 (C) 6 (D) 15 (E) 12\nRationale: Length of ribbon originally = 30 cm\nLet the original length be 5x and reduced length be 3x.\nBut 5x = 30 cm\nx = 30/5 cm = 6 cm\nTherefore, reduced length = 3 cm\n= 3 × 6 cm = 18 cm\nAnswer:A\nCorrect Answer: A\n\n\nQuestion: A starts travel towards south 3km, then travel 5 km towards east, and again travels 3 km to north, and finally travels 2km towards west. In the end how far from is A from home?\nAnswer Choices: (A) 3km (B) 2km (C) 4km (D) 5km (E) 6km\nRationale: 3s,5e,3n,2w\n5-2=3e\n3-3=0\n3km\nANSWER:A\nCorrect Answer: A\n\n\nQuestion: 8 man work for 6 days to complete a work. How many men are required to complete same work in 1/2 day.\nAnswer Choices: (A) 93 men (B) 94 men (C) 95 men (D) 96 men (E) 97 men\nRationale: To complete a work for 6 days, 8 men are required.\nFor completing a work in 1 day = 6*8\n= 48 men\nFor completing a work in half a day (1/2) = 48*2\n= 96 men\nANSWER:D\nCorrect Answer: D\n\n\nQuestion: Three bells ring at intervals of 36 seconds, 40 seconds and 48 seconds, respectively. They start ringing together at a particular time. When they will ring together again?\nAnswer Choices: (A) After 6 minutes (B) After 12 minutes (C) After 18 minutes (D) After 24 minutes (E) none\nRationale: LCM of 36,40,48 is 720\n720/60=12\nANSWER:B\nCorrect Answer: B\n\n\nQuestion: Find the total no. of distinct bike no.'s that can beformed using 2 letters followed by 2 no.'s. How many letters need to be distinct?\nAnswer Choices: (A) 74453 (B) 64543 (C) 74325 (D) 65000 (E) 97656\nRationale:\n================================================================================\n[Generated:]  2 letters followed by 2 numbers\n= 2 letters*2 no.'s = 2*2=4\n= 3 letters followed by 1 number\n= 3 letters*1 no.'s = 3*1=3\n= 4 letters followed by 1 no.\n= 4 letters*1 no.'s = 4*1=4\n= 5 letters followed by 1 no.\n= 5 letters*1 no.'s = 5*1=5\n= 6 letters followed by 1 no.\n= 6 letters*1 no.'s = 6*1=6\nANSWER:C\n\n\nQuestion: There are four coins: 1 rupee, 2 rupees, 5 paise and 1 paise. Each coin is 3/4ths of the previous coin. How much change is required for 60 paise if a man has 45 such coins?\nAnswer Choices: (A) 27 (B) 18 (C) 26 (D) 24 (E) 21\nRationale: The 4 coins are 1, 2,\n",
          "output_type": "stream"
        },
        {
          "name": "stderr",
          "text": "Setting `pad_token_id` to `eos_token_id`:11 for open-end generation.\n",
          "output_type": "stream"
        },
        {
          "name": "stdout",
          "text": "Stopping criteria triggered\n[Prompt:]\nQuestion: If 120 is reduced to 96, what is the reduction percent?\nAnswer Choices: (A) 30% (B) 40% (C) 20% (D) 10% (E) 5%\nRationale: reduction = 120 – 96 = 24\n∴ Reduction percent = (24/120)×100% =20%\nAnswer:C\nCorrect Answer: C\n\n\nQuestion: In a large forest, 300 deer were caught, tagged, and returned during 2001. During 2002, 500 deer were caught at random, of which only 20 had tags from the previous year. If the percent of deer in the forest that had tags during the second year and were caught in the 500 deer sample is representative of the percent of the total deer population in the forest with tags, what is the total deer population in the forest (assuming no change in population between 2001 and 2002)?\nAnswer Choices: (A) 300 (B) 500 (C) 5000 (D) 6000 (E) 7500\nRationale: Let N = the total number of deer in the forest.\nDuring the first year, the percent of deer in the entire population with tags was: 300/N\n20/500 is the percent of deer caught during the second year that had tags. Since this sample percent matches the percent for the entire population (i.e., the total number of tagged deer divided by the total number of deer), the two ratios are equal.\nEquating these two percents:\nSample = Population\n(20/500)=(300/N)\nN = (300/1)*(500/20)\nN=7500\nAnswer E\nCorrect Answer: E\n\n\nQuestion: Anna has 4 books. If she decide to arrange the 4 books in every possible combination and moved just one book every minute, how long would it taken by her ?\nAnswer Choices: (A) 22 minutes (B) 30 minutes (C) 15 minutes (D) 24 minutes (E) 35 minutes\nRationale: Number of ways of arranging 4 books = 4 ! = 4 x 3 x 2 x 1 = 24.\nSo, total time taken = 24 minutes\nAnswer: D\nCorrect Answer: D\n\n\nQuestion: At what price should the Karan mark a sewing machine that costs him Rs. 1200/- so that even after offering a 20% discount, he makes 20% profit?\nAnswer Choices: (A) 1,879 (B) 1,875 (C) 1,876 (D) 1,872 (E) 1,800\nRationale: Cost of a sewing machine = Rs. 1200/-\nBy giving 20% discount on the marked price of a sewing machine, the cost price is :\n100/80 * 1200 = Rs. 1500/- By making a profit of 20% on the cost price of a sewing machine, the marked price of the sewing machine is:\n120/100 Ã— 1500 = Rs. 1,800/-\nANSWER: 3\nCorrect Answer: E\n\n\nQuestion: A shopkeeper employed a servant at a monthly salary of 1500. In addition to it, he agreed to pay him a commission of 15% on the monthly sale. How much sale in Rupees should the servant do if he wants his monthly income as 6000?\nAnswer Choices: (A) 30000 (B) 415000 (C) 31500 (D) 50000 (E) None of these\nRationale: Servant’s commission amount\n= 6000 – 1500 = 4500\ni.e.,15% = 4500\nor,100% = 4500⁄15 × 100 = 30000\nAnswer A\nCorrect Answer: A\n\n\nQuestion: What is the largest integral value of 'k' for which the quadratic equation x2 - 5x + k = 0 will have two real and distinct roots?\nAnswer Choices: (A) 9 (B) 7 (C) 3 (D) 8 (E) 12\nRationale: Any quadratic equation will have real and distinct roots if the discriminant D > 0\nThe discriminant 'D' of a quadratic equation ax2 + bx + c = 0 is given by b2 - 4ac\nIn this question, the value of D = 52 - 4 * 1 * k\nIf D > 0, then 25 > 4k or k < 6.2.\nTherefore, the highest integral value that k can take is 3.\ncorrect choice is (C)\nCorrect Answer: C\n\n\nQuestion: How many ways A boy can reach the top of stairs which contain 10 steps, when he can take either one or two steps every time?\nAnswer Choices: (A) 88 (B) 89 (C) 90 (D) 91 (E) 92\nRationale: case 1:1 1 1 1 1 1 1 1 1 1 > 1!\ncase 2:1 1 1 1 1 1 1 1 2 > 9!/8!\ncase 3:1 1 1 1 1 1 2 2 > 8!/6!*2!\ncase 4:1 1 1 1 2 2 2 > 7!/4!*3!\ncase 5:1 1 2 2 2 2 > 6!/4!*2!\ncase 6:2 2 2 2 2 > 1!\nadd answers of all cases => 1+9+28+35+15+1= 89\nANSWER:B\nCorrect Answer: B\n\n\nQuestion: A father wants to divide Rs. 5100 between his two sons, Mohan and Sohan who are 23 and 24 at present. He divides the amount in such a way that if their shares are invested at compound interest at 4% p.a. they will receive equal amount on attaining the age of 26 years. Find Mohan's share.\nAnswer Choices: (A) 2400 (B) 2500 (C) 2600 (D) 2700 (E) None of these\nRationale: Let, the amount Mohan and Sohan receive be Rs. m and Rs. n, respectively. The amount that they receive 3 years and 2 years after should be equal.\n⇒m(1+4/100)3=n(1+4/100)2\n⇒m(1+4/100)=n\n⇒m(26/25)=n\n⇒m/n=25/26\nTherefore, Rs.5100 must be distribued in the ratio 25 : 26\nSo Mohan's share = 5100×25/(25+26)=2500\nAnswer B\nCorrect Answer: B\n\n\nQuestion: Boomtown urban planners expect the city’s population to increase by 10% per year over the next two years. If that projection were to come true, the population two years from now would be exactly double the population of one year ago. Which of the following is closest to the percent population increase in Boomtown over the last year?\nAnswer Choices: (A) 20% (B) 40% (C) 50% (D) 65% (E) 75%\nRationale:\n================================================================================\n[Generated:]  If 10% population increases every year, then the population at the end of the second year will double the population of the end of the first year\n= 2(100/10)2=4(100)\nSo, the percentage increase will be\n(4/100)²-1=40\n⇒ 40%\nANSWER:A\nCorrect Answer: A\n",
          "output_type": "stream"
        },
        {
          "name": "stderr",
          "text": "Setting `pad_token_id` to `eos_token_id`:11 for open-end generation.\n",
          "output_type": "stream"
        },
        {
          "name": "stdout",
          "text": "[Prompt:]\nQuestion: What will be the cost of gardening 1-metre – broad boundary around a rectangular plot having perimeter of 340 metres at the rate of 10 per square metre?\nAnswer Choices: (A) 3400 (B) 1700 (C) 3440 (D) Cannot be determined (E) None of these\nRationale: Let l and b be the length and breadth of rectangular plot respectively.\n∴ According to the question,we have\n2(l + b) = 340 ⇒ l + b = 170\nNow, (l + 2) and (b + 2) be the length and breadth of plot with boundary.\n∴ Required area = (l + 2) (b + 2) – lb\n= lb + 2l + 2b + 4 – lb\n= 2(l + b) + 4 = 344\n∴ Required cost = 344 × 10 = 3440\nAnswer C\nCorrect Answer: C\n\n\nQuestion: A straight picket fence is composed of x pickets each of which is 1/2 inch wide. If there are 6 inches of space between each pair of pickets, which of the following represents the length of fence in feet?\nAnswer Choices: (A) 13x/2 (B) 13x/2 - 6 (C) 13x/24 (D) (13x+1)/24 (E) (13x-12)/24\nRationale: Number of pickets = x\nSize of pickets = 1/2\nlength of pickets = 1/2x\nIf there are x pickets, it implies that there are x -1 spaces between the picket\nLength of space = 6\ntotal number of length = 1/2 x + 6(x-1) in inches\ntotal length in feet =( 1/2 x + 6(x-1))/12\nSimplify to get (13X-12)/24\nANSWER:E\nCorrect Answer: E\n\n\nQuestion: What should come in place of the question mark(?) in each of the following questions ?\na2 - b2/(a + b)2 (?)=(a - b)2\nAnswer Choices: (A) (a + b)(a - b) (B) (a - b)2 (C) (a + b)2 (D) a3 + b3 (E) None of these\nRationale: (a - b)2 x (a + b)2 / a2 - b2 = (a - b)2 x (a + b)2 / (a + b)(a - b) = (a + b) (a - b)\nAnswer : Option A\nCorrect Answer: A\n\n\nQuestion: When I was 2 years old, my brother was half my age. Now I am 60 years old, how old is my brother?\nAnswer Choices: (A) A)59 (B) B)69 (C) C)79 (D) D)89 (E) E)99\nRationale: Half of 2 is 1. =>2+58=60-> 1+58=59\nAnswer A\nCorrect Answer: A\n\n\nQuestion: Find 25/12*5\nAnswer Choices: (A) 2.5498 (B) 0.4167 (C) 3.3987 (D) 8.5497 (E) 5.6312\nRationale: Answer=25/12*5\n=25/60=0.4167\nOption B is correct\nCorrect Answer: B\n\n\nQuestion: When I was 2 years old, my brother was half my age. Now I am 60 years old, how old is my brother?\nAnswer Choices: (A) A)59 (B) B)69 (C) C)79 (D) D)89 (E) E)99\nRationale: Half of 2 is 1. =>2+58=60-> 1+58=59\nAnswer A\nCorrect Answer: A\n\n\nQuestion: If 75 percent of the employees of a certain company take a winter vacation, 40 percent take a winter and a summer vacation, and 20 percent take neither a winter nor a summer vacation, what Q percent of the employees take a summer vacation but not a winter vacation?\nAnswer Choices: (A) 5% (B) 15% (C) 25% (D) 35% (E) 45%\nRationale: Winter = 75\nBoth = 40\nNeither = 20\nWinter + Summer - Both + Neither = 100\n75 + Summer - 40 + 20 = 100\nSummer = 45\nSummer but not winter Q= Summer only = Summer - Both(i.e. summer overlap with winter) = 45 - 40 = 5\nAnswer: A\nCorrect Answer: A\n\n\nQuestion: x men working x hours per day can do x units of a work in x days. How much work can be completed by y men working y hours per day in y days?\nAnswer Choices: (A) x2/y2 units (B) y3/x2 units (C) x3/y2 units (D) y2/x2 units (E) None of these\nRationale: Amount of work completed by 1 man in 1 day, working 1 hours a day = x/x3=1/x2\nAmount of work y men in y days, working y hours a day = y3 × (1/x2) = y3/x2 . Answer : Option B\nCorrect Answer: B\n\n\nQuestion: A coin made of alloy of aluminum and silver measures 2 x 15 mm (it is 2 mm thick and its diameter is 15 mm). If the weight of the coin is 30 grams and the volume of aluminum in the alloy equals that of silver, what will be the weight of a coin measuring 1 x 30 mm made of pure aluminum if silver is twice as heavy as aluminum?\nAnswer Choices: (A) 36 grams (B) 40 grams (C) 42 grams (D) 48 grams (E) 50 grams\nRationale:\n================================================================================\n[Generated:]  2 x 15 x 2/15 = 30 x 2/15 = 6\n1 x 15 x 2/15 = 30 x 2/15 = 6\nTherefore, 1 x 30 x 2/15 = 6\n6 x 2/15 = 24/30\n24/30 = 8/15\n8 x 15 = 120/15\nTherefore, the weight of a coin made of pure aluminum is 120 grams.\nAnswer: A\n\n\nQuestion: A student can complete 2/3 of a course in 6 days if he works continuously. How many days will it take for him to complete the course if he works for 6 hours on one day, works for 3 hours the next day, works for 8 hours the third day and works for 4 hours the last day?\nAnswer Choices: (A) 4 days (B) 5 days (C) 6 days (D) 7 days (E) 8 days\nRationale: According to question,\n1/3 of a course= 2/3 (6 days\n",
          "output_type": "stream"
        },
        {
          "name": "stderr",
          "text": "Setting `pad_token_id` to `eos_token_id`:11 for open-end generation.\n",
          "output_type": "stream"
        },
        {
          "name": "stdout",
          "text": "[Prompt:]\nQuestion: Points A, B, C, D lie in this order on the circumference of a circle. Minor arc AC is 160°, and minor arc BD is 150°. If B bisects minor arc AC, then what is the measure of minor arc AD?\nAnswer Choices: (A) 80° (B) 130° (C) 140° (D) 160° (E) 220°\nRationale: B bisects minor arc AC means Arc BC is 80 degrees. Now , we have arc BD = 150, therefore CD = 70.\nNow, Arc AC = 160 , CD = 70 => Arc AD = 360-230 = 130\nAnswer B\nCorrect Answer: B\n\n\nQuestion: Everyone in the family earns money each month. If the total income of a family per month is $9000 and the median income is $3000, how many members are there in the family?\nAnswer Choices: (A) 2 (B) 3 (C) 4 (D) 5 (E) 6\nRationale: There must be more than two members.\nIf there are four members, then the middle two average $3000 for a total of $6000, and the highest earner must earn at least $3000 which puts the total at $9000 minimum. The lowest earner pushes the total past $9000 so there can not be four family members.\nThere must be three family members.\nThe answer is B.\nCorrect Answer: B\n\n\nQuestion: Mark told John \"If you give me half your money I will have Rs.75. John said, \"if you give me one third of your money, I will have Rs.75/-. How much money did John have ?\nAnswer Choices: (A) 22 (B) 60 (C) 28 (D) 26 (E) 18\nRationale: Let the money with Mark and John are M and J, respectively.\nNow\nM + J/2 = 75\nM/3 + J = 75\nSolving we get M = 45, and J = 60.\nAnswer:B\nCorrect Answer: B\n\n\nQuestion: A merchant receives an invoice for a motor boat for $20 000 with terms 4/30, n/100. What is the highest simple interest rate at which he can afford to borrow money in order to take advantage of the discount?\nAnswer Choices: (A) 247.67 (B) 237.67 (C) 227.67 (D) 215.67 (E) None of these\nRationale: Explanation:\nSuppose the merchant will take advantage of the cash discount of 4% of $20 000 = $800 by paying the bill within 30 days from the date of invoice. He needs to borrow $20 000 = $800 = $19 200. He would borrow this money on day 30 and repay it on day 100 (the day the original invoice is due) resulting in a 70-day loan. The interest he should be willing to pay on borrowed money should not exceed the cash discount $800.\nr=I/pt=21.73%\nThe highest simple interest rate at which the merchant can afford to borrow money is 21.73%. This is a break-even rate. If he can borrow money, say at a rate of 15%, he should do so. He would borrow $19 200 for 70 days at 15%. Maturity value of the loan is $19 200(1+0.15(70/365))=$19 752.33\nsavings would be $20 000 − $19 752.33 = $247.67\nAnswer: A\nCorrect Answer: A\n\n\nQuestion: What will be the cost of gardening 1-metre – broad boundary around a rectangular plot having perimeter of 340 metres at the rate of 10 per square metre?\nAnswer Choices: (A) 3400 (B) 1700 (C) 3440 (D) Cannot be determined (E) None of these\nRationale: Let l and b be the length and breadth of rectangular plot respectively.\n∴ According to the question,we have\n2(l + b) = 340 ⇒ l + b = 170\nNow, (l + 2) and (b + 2) be the length and breadth of plot with boundary.\n∴ Required area = (l + 2) (b + 2) – lb\n= lb + 2l + 2b + 4 – lb\n= 2(l + b) + 4 = 344\n∴ Required cost = 344 × 10 = 3440\nAnswer C\nCorrect Answer: C\n\n\nQuestion: At its maximum speed, a space shuttle can travel 700m high in 40 seconds. It will also take 5 seconds to pass a point. What then is the length of the space shuttle?\nAnswer Choices: (A) 50 m (B) 75 m (C) 100 m (D) 125 m (E) 150 m\nRationale: Let the length of the space shuttle be x metres and its speed be y m/sec. Then, x / y = 1 ⇒ y = x / 5\n∴ (x + 700) / 40 = x / 5 ⇔ x = 100 m. Answer C\nCorrect Answer: C\n\n\nQuestion: A certain liquid passes through a drain at a rate of w/25 gallons every x seconds. At that rate, how many minutes will it take y gallons to pass through the drain?\nAnswer Choices: (A) y/(1200xy) (B) 20xy/w (C) 5xy/(12w) (D) w/(3xy) (E) 3y/(wx)\nRationale: Time needed for w/25 gallons of liquid to pass through a drain = x seconds\nTime needed for w gallons of liquid to pass through a drain = 25x seconds\nTime needed for y gallons of liquid to pass through a drain = (25x/w)*y = 25xy/w seconds\n= (25xy/w )/60 = 5xy/(12w) mins\nAnswer C\nCorrect Answer: C\n\n\nQuestion: A man spends Rs. 3500 per month and saves 12 1/2% of his income. His monthly income is ?\nAnswer Choices: (A) Rs. 4400 (B) Rs. 4270 (C) Rs. 4000 (D) Rs. 3937.50 (E) None of these\nRationale: 87 1/2% of P = 3500\n⇒ {(175/2) x P} / 100 = 3500\n∵ P = (3500 x 2 x 100) / 175 = 4000\nCorrect Option: C\nCorrect Answer: C\n\n\nQuestion: A paper is in a square form whose one side is 20 cm. Two semi circles are drawn on its opposites as diameters. If these semi circles are cut down what is the area of the remaining paper?\nAnswer Choices: (A) 8.75 (B) 8.79 (C) 8.75 (D) 8.71 (E) 8.72\nRationale:\n================================================================================\n[Generated:]  If diameters of semi circles are 3.5 cm and 5.5 cm, then length of the remaining paper is = 3.5cm + 5.5cm + 3.5 cm = 11.5 cm.\nNow, area of square is = 20 cm * 20 cm = 400 cm2\nArea of remaining square is = 400 – (11.5 cm)2 = 388.5 cm2\n∴ Area of remaining paper = 11.5 + 11.5 = 23.25 cm2.\nAnswer B\n\n\nQuestion: The sum of 3 numbers is 40 and the first number is greater than second number and second number greater than third number. If second number is equal to 3rd number, then the greatest number is?\nAnswer Choices: (A) 14 (B) 15 (C) 16 (D) 18 (E) 12\nRationale: The three numbers are 10, 20 and 30.\nNow, sum of these three numbers = 3(10 + 20 +\n",
          "output_type": "stream"
        },
        {
          "name": "stderr",
          "text": "Setting `pad_token_id` to `eos_token_id`:11 for open-end generation.\n",
          "output_type": "stream"
        },
        {
          "name": "stdout",
          "text": "[Prompt:]\nQuestion: There is a 90% chance that a registered voter in Burghtown voted in the last election. If five registered voters are chosen at random, what is the approximate likelihood that exactly four of them voted in the last election?\nAnswer Choices: (A) 26.2% (B) 32.8% (C) 43.7% (D) 59.0% (E) 65.6%\nRationale: The probability that four of five voted is :\nP(1st one voted) X ... X P(4th one voted) X (5th one NOT voted)\n= 0.9 x 0.9 x 0.9 x 0.9 x 0.1\n= 0.81 x 0.81 x 0.1 = 0.6561\nANSWER: E\nCorrect Answer: E\n\n\nQuestion: Two ants are standing side-by-side. One ant, which is 4 inches tall, casts a shadow that is 10 inches long. The other ant is 6 inches tall. Compute, in inches, the length of the shadow that the taller ant casts.\nAnswer Choices: (A) 36 (B) 28 (C) 42 (D) 15 (E) 20\nRationale: The ratio of shadow to height is constant, so if x is the length of the shadow, then\n4/10 = 6/x and x = 15 .\ncorrect answer D\nCorrect Answer: D\n\n\nQuestion: Jerry purchased a 1-year $5,000 bond that paid an annual interest rate of 12% compounded every six months. How much interest had this bond accrued at maturity?\nAnswer Choices: (A) $5102 (B) $618 (C) $216 (D) $202 (E) $200\nRationale: A=P(1+r/q)nq .Here q is no of times interest is compounded in a yr so it is = 2. Amount comes out to be 5618 .Hence interest is 5618-5000=618. >>B\nCorrect Answer: B\n\n\nQuestion: Add: +45 and -30\nAnswer Choices: (A) -30 (B) +30 (C) 0 (D) 15 (E) -15\nRationale: 45 - 30 = 15\nANSWER : D\nCorrect Answer: D\n\n\nQuestion: 20 marbles were pulled out of a bag of only white marbles, painted black, and then put back in. Then, another 20 marbles were pulled out, of which 1 was black, after which they were all returned to the bag. If the percentage of black marbles pulled out the second time represents their percentage in the bag, how many marbles in total Q does the bag currently hold?\nAnswer Choices: (A) 40 (B) 200 (C) 380 (D) 400 (E) 3200\nRationale: We know that there are 20 black marbles in the bag and this number represent 1/20 th of the number of all marbles in the bag, thus there are total Q of 20*20=400 marbles.\nAnswer: D.\nCorrect Answer: D\n\n\nQuestion: A train M leaves City A at 5 am and reaches City B at 9am. Another train N leaves City B at 7am and reaches City A at 1030am. At what time do the 2 trains cross one another?\nAnswer Choices: (A) 1 hr 23 min (B) 1 hr 15 min (C) 1 hr 8 min (D) 56 min (E) 55 min\nRationale: Let the distance between the cities be x\nThey meet after y hrs after 7am\nM covers x in 4hrs\nN covers x in 3 1/2 i.e 7/2 hrs\nspeed of M =x/4\nspeed of N = 2x/7\nDistance covered by M in y+2 hrs + Distance covered by N in\ny hrs is x\nx/4 (y+2) +2x/7(y)=x\ny=14/15hr or 56 min\nAnswer : D.\nCorrect Answer: D\n\n\nQuestion: Roberts has a property worth of $1023.65. But in a record his property worth is written as greatest positive even integer less than or equal to his property worth and it is divisible by 100. Find the difference between actual property and recorded property worth?\nAnswer Choices: (A) 23.65 (B) 1000 (C) 35.62 (D) 2.65 (E) 1023.65\nRationale: Since Robert property worth is written as greatest positive even integer less than or equal to his property worth and it is divisible by 100 then it is =1000 (greatest positive even integer less than or equal to his property worth and it is divisible by 100 is 1000).\nHence the difference = 1023.65 - 1000 = 23.65\nAnswer: A.\nCorrect Answer: A\n\n\nQuestion: The capacity of a tank of dimensions (8 m × 6 m × 2.5 m) is\nAnswer Choices: (A) 120 litres (B) 1200 litres (C) 12000 litres (D) 120000 litres (E) None of these\nRationale: Capacity of the bank = Volume of the bank\n= (8x100x6x100x2.5x100/1000) =\nanswer D\nCorrect Answer: D\n\n\nQuestion: A can construct a wall in 40 min and B can construct the wall in 45 min. How many hours is needed to contruct a wall if both the person working together.\nAnswer Choices: (A) 20 min (B) 22 min (C) 23 min (D) 21 min (E) 20 min\nRationale:\n================================================================================\n[Generated:]  If A and B can construct the wall in 40 min and 45 min respectively, then in one hour both can construct the wall.\nNow\n= (1/40)(1/45) = 1/90 sec\nSo we need\n= 1/90 hr\nNow the hrs = 40-45 = 45/40\nAnswer : B\n\n\nQuestion: Which of the following numbers is in 1/4 powers?\nAnswer Choices: (A) 1,2,3,5,6,7,8,9,10,11,12,13,14,15,16,17,18,19,20 (B) 1,2,3,4,5,6,7,8,9,10,11,12,13,14,15,16,17,18,19,20,21,22,23 (C) 1,2,3,4,5,6,7,8,9,10,11,12,13,14,15,16,17,18,19,20,21,22,23,24,25,26,27,28,29\n",
          "output_type": "stream"
        },
        {
          "name": "stderr",
          "text": "Setting `pad_token_id` to `eos_token_id`:11 for open-end generation.\n",
          "output_type": "stream"
        },
        {
          "name": "stdout",
          "text": "[Prompt:]\nQuestion: In how many ways can a teacher in a kindergarten school arrange a group of 3 children (Susan, Tim and Zen) on 3 identical chairs in a straight line so that Susan is on the left of Tim?\nAnswer Choices: (A) 7 (B) 3 (C) 2 (D) 1 (E) 6\nRationale: Total ways in which 3 children can be arranged on 3 chairs = 3*2*1 = 6\nBut in half cases Susan will be left of Tim and in other half of cases Tim will be on left of Susan\ni.e. Desired cases in which Susan is on the left of Tim = (1/2)*6 = 3\nB\nCorrect Answer: B\n\n\nQuestion: Machine A puts out a yo-yo every 6 minutes. Machine B puts out a yo-yo every 9 minutes. After how many minutes will they have produced 10 yo-yos?\nAnswer Choices: (A) 24 minutes (B) 32 minutes (C) 36 minutes (D) 64 minutes (E) 72 minutes\nRationale: A's speed = 3 yo-yos every 18 minutes\nB's speed = 2 yo-yos every 18 minutes\nA + B's speed = 3 + 2 = 5 yo-yos every 18 minutes\nboth together will finish 10 yo-yos in 36 minutes\ncorrect option is C\nCorrect Answer: C\n\n\nQuestion: 900 + 5 × 12 = ?\nAnswer Choices: (A) 820 (B) 202 (C) 420 (D) 209 (E) 960\nRationale: 900 + 5 × 12 = ?\nor, ? = 900 + 60 = 960\nAnswer E\nCorrect Answer: E\n\n\nQuestion: 10kg of a mixture contains 30% sand and 70% clay. In order to make the mixture contain equal quantities of clay and sand how much of the mixture is to be removed and replaced with pure sand?\nAnswer Choices: (A) 10/7 (B) 20/7 (C) 30/7 (D) 40/7 (E) 50/7\nRationale: The mixture contains 3kg sand and 7 kg clay.\nFor the mixture to be in equal quantities, there should be 2 kg of clay removed.\nClay and sand are in the ratio 7:3\nSo part of sand to be removed = 2*3/7 = 6/7\nSo total mixture to be removed = 2 + 6/7 = 20/7\nANSWER:B\nCorrect Answer: B\n\n\nQuestion: A company contracts to paint 3 houses. Mr.Brown can paint a house in 6 days while Mr.Black would take 8 days and Mr.Blue 12 days. After 8 days Mr.Brown goes on vacation and Mr. Black begins to work for a period of 6 days. How many days will it take Mr.Blue to complete the contract?\nAnswer Choices: (A) 7 (B) 8 (C) 10 (D) 11 (E) 12\nRationale: let x is amount of work to be done to paint one house.\nSo Brown's one day work is x/6, black's can do x/8 work in\none day and blue is x/12.\nTotal houses is 3, so tatal work to be done is 3x.\n3x= 8*(x/6) + 6*(x/8) + y*(x/12)\nfinally y = 11.\nblue will complete the remaining work in 11 days.\nANSWER:D\nCorrect Answer: D\n\n\nQuestion: The length of the ribbon was originally 30 cm. It was reduced in the ratio 5 : 3. What is its length now?\nAnswer Choices: (A) 18 (B) 30 (C) 6 (D) 15 (E) 12\nRationale: Length of ribbon originally = 30 cm\nLet the original length be 5x and reduced length be 3x.\nBut 5x = 30 cm\nx = 30/5 cm = 6 cm\nTherefore, reduced length = 3 cm\n= 3 × 6 cm = 18 cm\nAnswer:A\nCorrect Answer: A\n\n\nQuestion: During one season, a tennis team won 20 matches and lost 30% of their matches. What was the number of matches that the team lost?\nAnswer Choices: (A) 70 (B) 30 (C) 3 (D) 7 (E) 5\nRationale: Knowing that the team lost 30 % of their matches, it has won 70 % of their matches\nTotal matches = 20 / (70/ 100) = 14\nHence number of matches that the team lost = 20 x 14/100 = 3=C\nCorrect Answer: C\n\n\nQuestion: A jeep travels a certain distance taking 6 hours in the forward journey. During the return journey, it increased its speed by 12km/hr and took 4 hours. What is the distance travelled by the jeep?\nAnswer Choices: (A) 126km (B) 144km (C) 127km (D) 228km (E) 128km\nRationale: Let 'x' be the distance and 'y' be the speed of the forward journey. Then, we have 6v=d and 4(v+12)=d\n=> v=d/6 and v=d/4 - 12\n=> d/6 = d/4 - 12\n=> d/12 = 12\n=> d=144\nAnswer: B\nCorrect Answer: B\n\n\nQuestion: All 250 files on Sam's hard drive are infected by either a virus or a worm or both. The number of files that are infected only by a worm is 2.5 times the number of files that are infected by both a virus and a worm. If 50% of the files were not infected by a virus, how many of Sam's files were NOT infected by a worm?\nAnswer Choices: (A) 50 (B) 70 (C) 75 (D) 100 (E) 125\nRationale:\n================================================================================\n[Generated:]  If 50% of files are not infected by virus, then the number of uninfected files = 125\nTotal no. of files = 250 (50% of them are uninfected)\nTotal uninfected files = 125 x 2 = 250 x 1.5 = 375\n\n\nQuestion: A number is divisible by 6 if and only if it is not divisible by 3 and 4. What is the value of 4 times the number?\nAnswer Choices: (A) 96 (B) 64 (C) 108 (D) 192 (E) 72\nRationale: Let the number be x, if the number is divisible by 3 and 4 then the remaining digits must be 0, 3 and 4.\nSo we have to find the last digit, if x is not divisible by 3 and 4 then it has to be either 0 or 3 or 4.\nx = 3 x 3 = 27\nIf x is divisible by 3, it has to be 3, that is, 3x = 27\n",
          "output_type": "stream"
        },
        {
          "name": "stderr",
          "text": "Setting `pad_token_id` to `eos_token_id`:11 for open-end generation.\n",
          "output_type": "stream"
        },
        {
          "name": "stdout",
          "text": "Stopping criteria triggered\n[Prompt:]\nQuestion: A cow is tethered in the middle of a field with a 14 feet long rope. If the cow grazes 10 sq.ft. per day, then approximately what time will be taken by the cow to graze the whole field?\nAnswer Choices: (A) 51 days (B) 61 days (C) 71 days (D) 81 days (E) 91 days\nRationale: Area of the field grazed = [22/7*14*14]sq.ft. = 616 sq.ft.\nNumber of days taken to graze the field = 616/10 days\n=> 61 days\nANSWER:B\nCorrect Answer: B\n\n\nQuestion: An organization decided to raise Rs. 6 lakh by collecting equal contribution from each of its employees. If each of them had contributed Rs. 60 extra, the contribution would have been Rs. 6.24 lakh. How many employees are there in that organization?\nAnswer Choices: (A) 300 (B) 200 (C) 400 (D) 100 (E) 500\nRationale: Required number of employees = (624000 - 600000)/60=24000/60=400\nAnswer is C.\nCorrect Answer: C\n\n\nQuestion: Assistants are needed to prepare for preparation. Each helper can make either 2 large cakes or 35 small cakes/hr. The kitchen is available for 3 hours and 20 large cakes & 700 small cakes are needed. How many helpers are required?\nAnswer Choices: (A) 8 (B) 10 (C) 12 (D) 15 (E) 19\nRationale: 20 large cakes will require the equivalent of 10 helpers working for one hour. 700 small cakes will require the equivalent of 20 helpers working for one hour. This means if only one hour were available we would need 30 helpers. But since three hours are available we can use 10 helpers.\nB\nCorrect Answer: B\n\n\nQuestion: A man walks at 5 kmph for 6 hrs and at 4 kmph for 12 hrs. His average speed is\nAnswer Choices: (A) 4 1/3 km/h (B) 7 2/3 km/h (C) 9 ½ km/h (D) 8 km/h (E) 81 km/h\nRationale: Avg speed = total distance/total time\n= 5*6 + 4*12 / 18\n=4 1/3 km/h\nCorrect Answer: A\n\n\nQuestion: By himself, Jack can clean a yacht in 12 hours. On a particular day, he happens to finish two-thirds of the work. The remaining portion of the work is done by Jill, whose rate of cleaning is just 5% of what Jack can do. How long does it take Jill to finish the remaining work?\nAnswer Choices: (A) 4 (B) 8 (C) 22 (D) 50 (E) 20\nRationale: Jack did 2/3 of the work, which is 8 hours. So if Jack would finish the job this would take him 4 extra hours. Jill's rate is 5% of what Jack would do in those 4 hours. That means it would take her ten times as much time as Jack put into the job. 5*4 equals 20, answer E.\nCorrect Answer: E\n\n\nQuestion: Q is as much younger than R as he is older than T. If the sum of the ages of R and T is 50 years. What is definitely the difference between R and Q's age?\nAnswer Choices: (A) 22 (B) 27 (C) 29 (D) Cannot be determined (E) None of the above\nRationale: R - Q = R - T\nQ = T.\nAlso R + T = 50; R + Q = 50\nSo, (R - Q) cannot be determined.\nAnswer:D\nCorrect Answer: D\n\n\nQuestion: You can rent DVDs at a local video store for $4.00 per movie without a membership. However, if you purchase a membership for $7.00 per month, you can rent DVDs for $2.00 each. What is the minimum amount of DVDs you would have to rent to make it worth it to purchase the membership?\nAnswer Choices: (A) 1 (B) 2 (C) 3 (D) 4 (E) 5\nRationale: Let's compare the cost to rent x CDs.\n4x > 2x+7\n2x > 7\nx > 3.5\nThe minimum number of CDs you would need to rent is 4.\nThe answer is D.\nCorrect Answer: D\n\n\nQuestion: Alice wants to put up fencing around three sides of her rectangular yard and leave one side of 10 meters unfenced. If the yard has an area of 240 square meters, how many meters of fencing does she need?\nAnswer Choices: (A) 58 (B) 62 (C) 66 (D) 70 (E) 74\nRationale: The sides of the rectangle have a length of 10 and L.\nThe area is 10*L=240 so L=24.\nShe needs fencing with a length of 10+2*24=58 meters.\nThe answer is A.\nCorrect Answer: A\n\n\nQuestion: Two ants are moving from their farms towards each other. Ant A is moving at a speed of 9 cm per hour and ant B is moving at a speed of 6 cm per hour. If the farms are 75 cm away from each other, what will be the distance (in cm) that ant A travels until meeting ant B?\nAnswer Choices: (A) 45 (B) 48 (C) 51 (D) 54 (E) 57\nRationale:\n================================================================================\n[Generated:]  If ant A moves a distance of 9 cm in 1 hour, he will have moved 75 cm in 6 hours. Then, when he meets ant B, they have traveled 75+9=84 cm. So the answer is (A).\nCorrect Answer: A\n",
          "output_type": "stream"
        },
        {
          "name": "stderr",
          "text": "Setting `pad_token_id` to `eos_token_id`:11 for open-end generation.\n",
          "output_type": "stream"
        },
        {
          "name": "stdout",
          "text": "Stopping criteria triggered\n[Prompt:]\nQuestion: Anna has 4 books. If she decide to arrange the 4 books in every possible combination and moved just one book every minute, how long would it taken by her ?\nAnswer Choices: (A) 22 minutes (B) 30 minutes (C) 15 minutes (D) 24 minutes (E) 35 minutes\nRationale: Number of ways of arranging 4 books = 4 ! = 4 x 3 x 2 x 1 = 24.\nSo, total time taken = 24 minutes\nAnswer: D\nCorrect Answer: D\n\n\nQuestion: 8 man work for 6 days to complete a work. How many men are required to complete same work in 1/2 day.\nAnswer Choices: (A) 93 men (B) 94 men (C) 95 men (D) 96 men (E) 97 men\nRationale: To complete a work for 6 days, 8 men are required.\nFor completing a work in 1 day = 6*8\n= 48 men\nFor completing a work in half a day (1/2) = 48*2\n= 96 men\nANSWER:D\nCorrect Answer: D\n\n\nQuestion: Train ‘A’ leaves Mumbai Central for Lucknow at 11 am, running at the speed of 40 kmph. Train ‘B’ leaves Mumbai Central for Lucknow by the same route at 2 pm on the same day, running at the speed of 72 kmph. At what time will the two trains meet each other?\nAnswer Choices: (A) 12 am on the next day (B) 5 am on the next day (C) 5 pm on the next day (D) 2 pm on the next day (E) None of these\nRationale: Distance covered by train A before the train B leaves\nMumbai Central = 40 × 3 = 120 km\nTime taken to cross each other = 120⁄12 = 10 hours\nRequired time = 2pm + 10 = 12 am on the next day\nAnswer A\nCorrect Answer: A\n\n\nQuestion: Roy was suffering from severe headaches. He went to see his doctor and the doctor gave him 5 tablets asking him to take one tablet every 15 minutes.\nHow much time will it take Roy to consume all the 5 tablets?\nAnswer Choices: (A) 45 Min (B) 75 Min (C) 90 Min (D) 120 Min (E) 60 Min\nRationale: Tablet 1 will be taken in 0 min.\nTablet 2 will be taken in 15 min.\nTablet 3 will be taken in 30 min.\nTablet 4 will be taken in 45 min.\nTablet 5 will be taken in 60 min.\nCorrect Answer: E\n\n\nQuestion: 20 marbles were pulled out of a bag of only white marbles, painted black, and then put back in. Then, another 20 marbles were pulled out, of which 1 was black, after which they were all returned to the bag. If the percentage of black marbles pulled out the second time represents their percentage in the bag, how many marbles in total Q does the bag currently hold?\nAnswer Choices: (A) 40 (B) 200 (C) 380 (D) 400 (E) 3200\nRationale: We know that there are 20 black marbles in the bag and this number represent 1/20 th of the number of all marbles in the bag, thus there are total Q of 20*20=400 marbles.\nAnswer: D.\nCorrect Answer: D\n\n\nQuestion: You can rent DVDs at a local video store for $4.00 per movie without a membership. However, if you purchase a membership for $7.00 per month, you can rent DVDs for $2.00 each. What is the minimum amount of DVDs you would have to rent to make it worth it to purchase the membership?\nAnswer Choices: (A) 1 (B) 2 (C) 3 (D) 4 (E) 5\nRationale: Let's compare the cost to rent x CDs.\n4x > 2x+7\n2x > 7\nx > 3.5\nThe minimum number of CDs you would need to rent is 4.\nThe answer is D.\nCorrect Answer: D\n\n\nQuestion: A flagstaff 17.5 metre high casts a shadow of length 40.25 metre. The height of building, which casts a shadow of length 28.75 metre under similar conditions will be :\nAnswer Choices: (A) 12 metre (B) 12.5 metre (C) 13.5 metre (D) 14 metre (E) 15 metre\nRationale: Less shadow, Less Height (Direct Proportion)\nSo, let height of building be x metre\nthen,\n40.25:17.5::28.75:x\n=>x=17.5∗28.75/ 40.25\n=>x=12.5\nOption B\nCorrect Answer: B\n\n\nQuestion: Suppose for any real number x, [x] denotes the greatest integer less than or equal to x. Let L(x,y) = [x] + [y] + [x + y] and R(x,y) = [2x] + [2y]. Then it is impossible to find any two positive real numbers x and y for which\nAnswer Choices: (A) L(x,y) = R(x,y) (B) L(x,y) ≠ R(x,y) (C) L(x,y) < R(x,y) (D) L(x,y) < R(x,y) (E) None\nRationale: x – 1≤ [x] ≤ x\n2x + 2y - 3 ≤ L(x,y) ≤ 2x + 2y\n=> a – 3 ≤ L ≤ a\n2x + 2y -2 ≤ L(x,y) ≤ 2x + 2y\n=> a – 2 ≤ R ≤ a\nTherefore, L ≤ R.\nAnswer : D\nCorrect Answer: D\n\n\nQuestion: A sales person gets a 10% commission on each sale he makes. How many sales of $250 each must he make in order to reach a salary of at least $1000?\nAnswer Choices: (A) 15 (B) 24 (C) 25 (D) 40 (E) 52\nRationale:\n================================================================================\n[Generated:]  10% of 250 = 25\n10% of 500 = 50\n10% of 1000 = 100\nThe amount of sales to reach $1000 is\n1000 = (25+50+100) × 10%\n=> 20000\n=> 40 sales\nCorrect Answer: E\n",
          "output_type": "stream"
        },
        {
          "name": "stderr",
          "text": "This is a friendly reminder - the current text generation call will exceed the model's predefined maximum length (2048). Depending on the model, you may observe exceptions, performance degradation, or nothing at all.\nSetting `pad_token_id` to `eos_token_id`:11 for open-end generation.\n",
          "output_type": "stream"
        },
        {
          "name": "stdout",
          "text": "[Prompt:]\nQuestion: John conducted a survey about car color. 60% of the people who took the survey were women. Of the men who were surveyed, 75% preferred red cars over green cars. If 10 men liked green cars more than red, how many people took the survey?\nAnswer Choices: (A) 100 (B) 120 (C) 50 (D) 200 (E) 80\nRationale: Let N be the number of people who took the survey. The number of men M is given by M = N - 60%N.\nThe number of men G who liked green cars more than red cars is given by\nG = M - 25%M\nGiven that G = 10, solve for N\n40 = (N - 60%N) - 25%(N - 60%N)\nN = 100\nCorrect answer is A.\nCorrect Answer: A\n\n\nQuestion: 30 is subtracted from a number, it is reduced to its one third. What is the value of 50% of that number?\nAnswer Choices: (A) 22.5 (B) 84 (C) 21 (D) 24 (E) 25\nRationale: 2/3 x = 30 => x = 45\n45 * 1/2 = 22.5\nANSWER:A\nCorrect Answer: A\n\n\nQuestion: A rectangular piece of 150 sq m has a length which is 1m more than the 4 times the breadth. What is the perimeter of the piece?\nAnswer Choices: (A) 60 m (B) 61 m (C) 62 m (D) 63 m (E) 64 m\nRationale: Let its breadth be = x m.\nSo length will be = (4x+1) m.\nNow,\nx * (4x+1) = 150\nor, 4x^2+x-150 = 0\nor, (4x+25)(x-6) = 0\nEither 4x = -25 or x = 6\nAs breadth can not take negetive value so x = 6\nSo its length is 4*6+1 = 25\nSo perimeter will be 2*(25+6)=62 mLet its breadth be = x m.\nSo length will be = (4x+1) m.\nNow,\nx * (4x+1) = 150\nor, 4x^2+x-150 = 0\nor, (4x+25)(x-6) = 0\nEither 4x = -25 or x = 6\nAs breadth can not take negetive value so x = 6\nSo its length is 4*6+1 = 25\nSo perimeter will be 2*(25+6)=62 m\nANSWER:C\nCorrect Answer: C\n\n\nQuestion: A car is being driven, in a straight line and at a uniform speed, towards the base of a vertical tower. The top of the tower is observed from the car and, in the process, it takes 10 minutes for the angle of elevation to change from 45° to 60°. After how much more time will this car reach the base of the tower?\nAnswer Choices: (A) 5(√3 + 1) (B) 6(√3 + √2) (C) 7(√3 – 1) (D) 8(√3 – 2) (E) None of these\nRationale: Explanation :\nLet the height of the building be h. Initially, he was at an angle of 450. tan 45 = h/distance between car and tower. h = distance between car and tower (since tan 45 = 1).\nNow, after 10 minutes, it travelled a certain distance, and angle changed to 600.\ntan 60 = h/x x = h/√3\nSo, in 10 minutes, it has travelled a distance of h – x = h - h/√3.\n10 minutes = h *( 1 – 1√3)\nh can be travelled in 10 / (1 – 1√3).\nTo travel a distance of x, which is h/√3, it takes :\nh = 10 / (1 – 1/√3)\nh / √3 = 10/ √3 * (1 – 1/√3). Multiply numerator and denominator by 1 + √3 ( conjugate of 1 - √3). We get, x = h/√3 = 10 (1 + √3) / 2 = 5* (1 + √3)\nSo, it takes 5(1 + √3) minutes to reach the base of the tower.\nAnswer : A\nCorrect Answer: A\n\n\nQuestion: Suppose you want to arrange your English, Hindi, Mathematics, History, Geography and Science books on a shelf. In how many ways can you do it ?\nAnswer Choices: (A) 520 (B) 720 (C) 920 (D) None (E) Cannot be determined\nRationale: We have to arrange 6 books. The number of permutations is 6*5*4*3*2*1= 720\nAnswer : B\nCorrect Answer: B\n\n\nQuestion: The value of log2 4 is:\nAnswer Choices: (A) 2 (B) 4 (C) 6 (D) 8 (E) 12\nRationale: Let log2 4 = n.\nlog2 4 = 2.\nAnswer: Option A\nCorrect Answer: A\n\n\nQuestion: The difference between the squares of two numbers is 256000 and the sum of the numbers is 1000. The numbers are\nAnswer Choices: (A) 600, 400 (B) 628, 372 (C) 640, 360 (D) None of these (E) Cannot be determined\nRationale: Let the numbers be x and y.\nThen, x^2 - y^2 = 256000 and x + y = 1000.\nOn dividing we get : x - y = 256.\n‹=›Solving x + y = 1000 and x - y = 256,\n‹=›we get : x = 628 and y = 372.\nAnswer B\nCorrect Answer: B\n\n\nQuestion: A train M leaves City A at 5 am and reaches City B at 9am. Another train N leaves City B at 7am and reaches City A at 1030am. At what time do the 2 trains cross one another?\nAnswer Choices: (A) 1 hr 23 min (B) 1 hr 15 min (C) 1 hr 8 min (D) 56 min (E) 55 min\nRationale: Let the distance between the cities be x\nThey meet after y hrs after 7am\nM covers x in 4hrs\nN covers x in 3 1/2 i.e 7/2 hrs\nspeed of M =x/4\nspeed of N = 2x/7\nDistance covered by M in y+2 hrs + Distance covered by N in\ny hrs is x\nx/4 (y+2) +2x/7(y)=x\ny=14/15hr or 56 min\nAnswer : D.\nCorrect Answer: D\n\n\nQuestion: The original retail price of an appliance was 60 percent more than its wholesale cost. If the appliance was actually sold for 20 percent less than the original retail price, then it was sold for what percent more than its wholesale cost?\nAnswer Choices: (A) 20% (B) 28% (C) 36% (D) 40% (E) 42%\nRationale:\n================================================================================\n[Generated:]  If it is sold for 20% less than the original retail price, then it is sold for 20% less than the wholesale price.\nNow,\n(1-20/100) x = 60% of the original retail price = 60% of the wholesale price.\nThe value of x will be:\nx = 60/100 = 6/10 or 2/5\nAnswer: C\n\n\nQuestion: In a survey, the following question was asked. If a customer is in a hurry and decides to stop in your store, do you feel it is best:\nAnswer Choices: (A) to help them find what they need\n(B) to make sure that the customer leaves before you arrive\n(C) to help them find what they need and to make sure that the customer leaves before you arrive\n(D) to make sure that the customer leaves before you arrive and to help them find what they need\n(E) to make sure that the customer leaves before you arrive and to help them find what they need\nRationale: This is an open-ended question.\nIf a customer is in a hurry and decides to stop in your store, do you feel it\n",
          "output_type": "stream"
        },
        {
          "name": "stderr",
          "text": "Setting `pad_token_id` to `eos_token_id`:11 for open-end generation.\n",
          "output_type": "stream"
        },
        {
          "name": "stdout",
          "text": "Stopping criteria triggered\n[Prompt:]\nQuestion: A father wants to divide Rs. 5100 between his two sons, Mohan and Sohan who are 23 and 24 at present. He divides the amount in such a way that if their shares are invested at compound interest at 4% p.a. they will receive equal amount on attaining the age of 26 years. Find Mohan's share.\nAnswer Choices: (A) 2400 (B) 2500 (C) 2600 (D) 2700 (E) None of these\nRationale: Let, the amount Mohan and Sohan receive be Rs. m and Rs. n, respectively. The amount that they receive 3 years and 2 years after should be equal.\n⇒m(1+4/100)3=n(1+4/100)2\n⇒m(1+4/100)=n\n⇒m(26/25)=n\n⇒m/n=25/26\nTherefore, Rs.5100 must be distribued in the ratio 25 : 26\nSo Mohan's share = 5100×25/(25+26)=2500\nAnswer B\nCorrect Answer: B\n\n\nQuestion: M men agree to purchase a gift for Rs. D. If 3 men drop out how much more will each have to contribute towards the purchase of the gift?\nAnswer Choices: (A) D/(M-3) (B) MD/3 (C) M/(D-3) (D) 3D/(M2-3M) (E) None of these\nRationale: Initial contribution = D/m\nAfter 3 men drop out, then the contribution = D/M-3\nthe extra amount to pay = (D/m-3)-D/m\n=D(m-m+3)/)(m^2-3*m)\n= 3D/(m^2-3*m)\nANSWER:D\nCorrect Answer: D\n\n\nQuestion: At Daifu university, 24% of all students are members of both a chess club and a swim team. If 20% of members of the swim team are not members of the chess club, what percentage of all Daifu students are members of the swim team?\nAnswer Choices: (A) 20% (B) 30% (C) 40% (D) 50% (E) 60%\nRationale: Assume there are total of 100 students. 24 students are members of both clubs. We are told that:20% of members of the swim team are not members of the chess club, thus if S is a # of members of the swim team then 0.2S is # of members of only the swim teem:\n24+0.2S=S --> S=30.\nAnswer: B.\nCorrect Answer: B\n\n\nQuestion: On dividing 2272 and 875 by a 3-digit number N, we get the same remainder. The sum of the digits of N is:\nAnswer Choices: (A) 10 (B) 11 (C) 12 (D) 13 (E) 14\nRationale: (2272 - 875) = 1397, is exactly divisible by N.\nNow, 1397 = 11 * 127\nThe required 3-digit number is 127, the sum of whose digit is 10.\nANSWER:A\nCorrect Answer: A\n\n\nQuestion: Jerry purchased a 1-year $5,000 bond that paid an annual interest rate of 12% compounded every six months. How much interest had this bond accrued at maturity?\nAnswer Choices: (A) $5102 (B) $618 (C) $216 (D) $202 (E) $200\nRationale: A=P(1+r/q)nq .Here q is no of times interest is compounded in a yr so it is = 2. Amount comes out to be 5618 .Hence interest is 5618-5000=618. >>B\nCorrect Answer: B\n\n\nQuestion: A father wants to divide Rs. 5100 between his two sons, Mohan and Sohan who are 23 and 24 at present. He divides the amount in such a way that if their shares are invested at compound interest at 4% p.a. they will receive equal amount on attaining the age of 26 years. Find Mohan's share.\nAnswer Choices: (A) 2400 (B) 2500 (C) 2600 (D) 2700 (E) None of these\nRationale: Let, the amount Mohan and Sohan receive be Rs. m and Rs. n, respectively. The amount that they receive 3 years and 2 years after should be equal.\n⇒m(1+4/100)3=n(1+4/100)2\n⇒m(1+4/100)=n\n⇒m(26/25)=n\n⇒m/n=25/26\nTherefore, Rs.5100 must be distribued in the ratio 25 : 26\nSo Mohan's share = 5100×25/(25+26)=2500\nAnswer B\nCorrect Answer: B\n\n\nQuestion: At its maximum speed, a space shuttle can travel 700m high in 40 seconds. It will also take 5 seconds to pass a point. What then is the length of the space shuttle?\nAnswer Choices: (A) 50 m (B) 75 m (C) 100 m (D) 125 m (E) 150 m\nRationale: Let the length of the space shuttle be x metres and its speed be y m/sec. Then, x / y = 1 ⇒ y = x / 5\n∴ (x + 700) / 40 = x / 5 ⇔ x = 100 m. Answer C\nCorrect Answer: C\n\n\nQuestion: Consider there is an staircase elevator and you are coming down. If you walk 20 steps and stop, then you reach bottom in 10 minutes. If you walk 10 steps and stop, you reach to the ground in 20 minutes. What is the speed of the elevator?\nAnswer Choices: (A) 1 step/minute (B) 2 step/minute (C) 3 step/minute (D) 4 step/minute (E) None of the above\nRationale: Let total number of steps in the elevator be n and let the speed be e\nElevator covered n-20 steps in 10 mins\n(n-20)/e=10.................1\nElevator covered n-10 steps in 20 mins\n(n-10)/e=20......................2\nFrom (1) and (2)\nn=30\ne=1 step/min\nHence (A) is correct answer.\nCorrect Answer: A\n\n\nQuestion: A bee bypasses 0.05% of flowers it flies by because it can sense they don't have any nectar in them. How many flowers will the bee fly by to bypass 8 flowers?\nAnswer Choices: (A) 2000 (B) 4000 (C) 8000 (D) 16000 (E) 32000\nRationale:\n================================================================================\n[Generated:]  If it stops at a flower it gets nectar from 99.995% of the flowers it passes through. If it stops at a flower which does not have any nectar then it will lose 0.05% of nectar. So, the number of flowers it can bypass are (0.995-0.05)N\n⇒(0.995-0.05)N = (2000-8000)(1000-16000)\n⇒ (0.995-0.05)N = 320000 -- (2000)(16000) = 320000- 16000\n⇒N = 240000\nSo, the number of flowers the bee bypasses are 240000.\nAnswer: B\nCorrect Answer: B\n",
          "output_type": "stream"
        },
        {
          "name": "stderr",
          "text": "Setting `pad_token_id` to `eos_token_id`:11 for open-end generation.\n",
          "output_type": "stream"
        },
        {
          "name": "stdout",
          "text": "Stopping criteria triggered\n[Prompt:]\nQuestion: Suppose you want to arrange your English, Hindi, Mathematics, History, Geography and Science books on a shelf. In how many ways can you do it ?\nAnswer Choices: (A) 520 (B) 720 (C) 920 (D) None (E) Cannot be determined\nRationale: We have to arrange 6 books. The number of permutations is 6*5*4*3*2*1= 720\nAnswer : B\nCorrect Answer: B\n\n\nQuestion: A merchant receives an invoice for a motor boat for $20 000 with terms 4/30, n/100. What is the highest simple interest rate at which he can afford to borrow money in order to take advantage of the discount?\nAnswer Choices: (A) 247.67 (B) 237.67 (C) 227.67 (D) 215.67 (E) None of these\nRationale: Explanation:\nSuppose the merchant will take advantage of the cash discount of 4% of $20 000 = $800 by paying the bill within 30 days from the date of invoice. He needs to borrow $20 000 = $800 = $19 200. He would borrow this money on day 30 and repay it on day 100 (the day the original invoice is due) resulting in a 70-day loan. The interest he should be willing to pay on borrowed money should not exceed the cash discount $800.\nr=I/pt=21.73%\nThe highest simple interest rate at which the merchant can afford to borrow money is 21.73%. This is a break-even rate. If he can borrow money, say at a rate of 15%, he should do so. He would borrow $19 200 for 70 days at 15%. Maturity value of the loan is $19 200(1+0.15(70/365))=$19 752.33\nsavings would be $20 000 − $19 752.33 = $247.67\nAnswer: A\nCorrect Answer: A\n\n\nQuestion: Mark told John \"If you give me half your money I will have Rs.75. John said, \"if you give me one third of your money, I will have Rs.75/-. How much money did John have ?\nAnswer Choices: (A) 22 (B) 60 (C) 28 (D) 26 (E) 18\nRationale: Let the money with Mark and John are M and J, respectively.\nNow\nM + J/2 = 75\nM/3 + J = 75\nSolving we get M = 45, and J = 60.\nAnswer:B\nCorrect Answer: B\n\n\nQuestion: My wall contains 8 red colour ties, 13 violet colour ties,10 blue colour ties, 5 pink colour ties, 4 green colour ties. If electricity is gone and I want at least two ties of same colour then how many ties I should take out from my rack?\nAnswer Choices: (A) 2 (B) 3 (C) 4 (D) 5 (E) 6\nRationale: 5 ties will get you one of different colored ties in the worst case. Thus, one more tie and you will have at least one pair. Thus, 6 is the correct answer.\nANSWER:E\nCorrect Answer: E\n\n\nQuestion: A newspaper costs $4 on Sunday and $1 the rest of the days of the week. If a hotel orders twice as many papers on Sunday as it does the rest of the days of the week and pays $210 per week for newspapers, how many newspapers does it buy on Monday?\nAnswer Choices: (A) 15 (B) 30 (C) 45 (D) 60 (E) 75\nRationale: Number of paper bought on monday = x\n# of paper bought on sunday = 2x\nTotal cost = 210 = 6*x(rest of the day cost)+8*x (sunday cost)\n14x = 210\nx = 15\nAns A\nCorrect Answer: A\n\n\nQuestion: 900 + 5 × 12 = ?\nAnswer Choices: (A) 820 (B) 202 (C) 420 (D) 209 (E) 960\nRationale: 900 + 5 × 12 = ?\nor, ? = 900 + 60 = 960\nAnswer E\nCorrect Answer: E\n\n\nQuestion: There are 10 oranges in a basket. Find the no. of ways in which 2 oranges are chosen from the basket?\nAnswer Choices: (A) 45 (B) 90 (C) 120 (D) 150 (E) 180\nRationale: Required number of ways = 10C2 = 10*9/2 = 45\nAnswer is A\nCorrect Answer: A\n\n\nQuestion: The telephone bill of a certain establishment is party fixed and partly varies as the number of calls consumed. When in a certain month 540 calls made the bill is Rs.1800. In another month 620 calls are consumed then the bill becomes Rs.2040. In another month 500 units are consumed due to more\nholidays. The bill for that month would be :\nAnswer Choices: (A) Rs.1560 (B) Rs.1680 (C) Rs.1840 (D) Rs.1950 (E) Rs.1690\nRationale: Let the fixed amount be Rs. X and the cost of each unit be Rs. Y.\nThen, 540y + x = 1800 …. And 620y + x = 2040\nOn subtracting (i) from (ii), we get 80y = 240 -> y = 3\nPutting y = 3 in (i) we get :\n540 * 3 + x = 1800 x = (1800-1620) = 180\n. : Fixed charges = Rs.180, Charge per unit = Rs.3.\nTotal charges for consuming 500 units = 180 +(500*3) = Rs.1680\nAnswer:B\nCorrect Answer: B\n\n\nQuestion: Two numbers are in the ratio 3:5. If 9 is subtracted from each, the new numbers are in the ratio 12:23. The smaller number is?\nAnswer Choices: (A) 21 (B) 33 (C) 35 (D) 42 (E) 58\nRationale:\n================================================================================\n[Generated:]  12/23 = 3/5 /23 = 3/5\nAnswer is D\nCorrect Answer: D\n",
          "output_type": "stream"
        },
        {
          "name": "stderr",
          "text": "Setting `pad_token_id` to `eos_token_id`:11 for open-end generation.\n",
          "output_type": "stream"
        },
        {
          "name": "stdout",
          "text": "[Prompt:]\nQuestion: My wall contains 8 red colour ties, 13 violet colour ties,10 blue colour ties, 5 pink colour ties, 4 green colour ties. If electricity is gone and I want at least two ties of same colour then how many ties I should take out from my rack?\nAnswer Choices: (A) 2 (B) 3 (C) 4 (D) 5 (E) 6\nRationale: 5 ties will get you one of different colored ties in the worst case. Thus, one more tie and you will have at least one pair. Thus, 6 is the correct answer.\nANSWER:E\nCorrect Answer: E\n\n\nQuestion: One gram of a certain health food contains 9 percent of the minimum daily requirement of vitamin E and 8 percent of the minimum daily requirement of vitamin A. If vitamins E and A are to be obtained from no other source, how many grams of the health food must be eaten daily to provide at least the minimum daily requirement of both vitamins?\nAnswer Choices: (A) 8.5 (B) 10.5 (C) 12.5 (D) 14.5 (E) 16.5\nRationale: 100% / 8% = 12.5\n12.5 grams of the health food provides 12.5(8%) = 100% of the vitamin A requirement and more than 100% of the vitamin E requirement.\nThe answer is C.\nCorrect Answer: C\n\n\nQuestion: A bookshelf contains 45 books, 30 of which are hardcover and 20 of which are fiction. What is the maximum number of books that are both hardcover and fiction?\nAnswer Choices: (A) 10 (B) 15 (C) 18 (D) 20 (E) 30\nRationale: Total Books = 45\nHard Cover = 30\nNon hardcover = 15\nFiction = 20\nNon-Fiction = 25\nMaximum number of Hardcover fiction will be 20( Assuming All the Fiction Books are Hard Cover )\nHence, the correct answer will be (D)\nCorrect Answer: D\n\n\nQuestion: At what price should the Karan mark a sewing machine that costs him Rs. 1200/- so that even after offering a 20% discount, he makes 20% profit?\nAnswer Choices: (A) 1,879 (B) 1,875 (C) 1,876 (D) 1,872 (E) 1,800\nRationale: Cost of a sewing machine = Rs. 1200/-\nBy giving 20% discount on the marked price of a sewing machine, the cost price is :\n100/80 * 1200 = Rs. 1500/- By making a profit of 20% on the cost price of a sewing machine, the marked price of the sewing machine is:\n120/100 Ã— 1500 = Rs. 1,800/-\nANSWER: 3\nCorrect Answer: E\n\n\nQuestion: M = abc is a three digit number and N = cba, if M > N and M - N + 396c = 990. Then how many values of M are more than 300.\nAnswer Choices: (A) 20 (B) 30 (C) 40 (D) 200 (E) None\nRationale: From the given data,\nabc – cba + 396c = 990\n100a + 10b + c – (100c + 10b + a) + 396c = 990\n99a – 99c + 396c = 990\nObserve that each term is divisible by 99. So on dividing the above expression by 99, we get\na – c + 4c = 10\na + 3c = 10\nFor c = 1, a = 7\nc = 2, a = 4\nc = 3, a = 1\n'b' can take any value from 0 to 9\nWe have to find the value of M more than 300. So minimum value of 'a' should be 4.\nSo total possibilities are 402, 412, ...., 492 = 10 values\n701, 711, ....., 791 = 10 values\nSo total values = 20.\nCorrect option: A\nCorrect Answer: A\n\n\nQuestion: The population of a city is 5265526. If there are 4169516 adults in the city, how many children are there in the city?\nAnswer Choices: (A) 1095961 (B) 1065961 (C) 1085961 (D) 1097961 (E) 1096061\nRationale: Population of the city = 5265526\nNumber of adults = 4169516\nNumber of children = 5265526-4169516 = 1096061\nAnswer :E\nCorrect Answer: E\n\n\nQuestion: A cyclist travels at 12 miles per hour. How many minutes will it take to travel 48 miles?\nAnswer Choices: (A) 1 (B) 240 (C) 30 (D) 60 (E) 120\nRationale: At 12 miles per hour, to cover 48 miles the cyclist will need 4 hours or 240 minutes.\nAnswer: B.\nCorrect Answer: B\n\n\nQuestion: In a survey of students, each student selected from a list of 10 songs the 2 songs that the student liked best. If each song was selected 5 times, how many students were surveyed?\nAnswer Choices: (A) 96 (B) 48 (C) 32 (D) 25 (E) 18\nRationale: Each out of 10 songs was selected 5 times --> the total number of selections = 10*5 = 50.\nEach student selected 2 songs --> the total number of students = 50/2 = 25.\nAnswer: D.\nCorrect Answer: D\n\n\nQuestion: If Q, a positive integer, has 5 factors, which of the following must be true about Q?\nI. Q is the square of a prime number.\nII. Q is the fourth power of a prime number.\nIII. Q is the product of two prime numbers.\nAnswer Choices: (A) I only (B) III only (C) II only (D) I and II only (E) I and III only\nRationale:\n================================================================================\n[Generated:]  Q cannot be a square of a prime number. Because, if the square root of a prime number is a square, then that square is prime, because if any prime is a square, then it's also a prime. So, the square root of a prime number cannot be a square.\nNow, if Q is a square, then it is a prime number.\nAnswer: C.\n\n\nQuestion: Which of the following numbers is in 3 different quadrants?\nA) 5\nB) 7\nC) 10\nD) 12\nE) 15\nAnswer Choices: (A) 5 (B) 7 (C) 10 (D) 12 (E) 15\nRationale: The numbers in quadrant I are 1, 2, 3, 4, 5, 6, 7, 8, 9 and 10.\nSo, a number in quadrant I is a 2-digit number.\nSimilarly, the numbers in quadrant II are 1, 2, 3, 4, 5, 6, 7, 8, 9, 10,\n",
          "output_type": "stream"
        },
        {
          "name": "stderr",
          "text": "Setting `pad_token_id` to `eos_token_id`:11 for open-end generation.\n",
          "output_type": "stream"
        },
        {
          "name": "stdout",
          "text": "Stopping criteria triggered\n[Prompt:]\nQuestion: A trader sold an article at a profit of 20% for Rs.360. What is the cost price of the article?\nAnswer Choices: (A) 270 (B) 300 (C) 280 (D) 320 (E) 315\nRationale: Cost Price = Selling Price / (100+Profit%) × 100 => 360 / (100+20) × 100 => 360 / 120 × 100 = Rs.300\nOption B\nCorrect Answer: B\n\n\nQuestion: What is 60% of 30% of 1400 grams?\nAnswer Choices: (A) 450 gms (B) 100 gms (C) 252 gms (D) 240 gms (E) None of these\nRationale: 60/100 * 30/100 * 1400= 252\nAnswer: C\nCorrect Answer: C\n\n\nQuestion: I know a 5 digit number having a property that with a 1 after it, it is three times as large as it would be with a 1 before it.\nWhat is that number?\nAnswer Choices: (A) 42857 (B) 32456 (C) 76523 (D) 24567 (E) 43566\nRationale: Let the number be x\n10x +1 = 3(100,000 + x)\n=> x = 42857.\nCorrect Answer: A\n\n\nQuestion: Hoses A and B spout water at different constant rates, and hose A can fill a certain pool in 8 hours. Hose A filled the pool alone for the first 2 hours and the two hoses, working together, then finished filling the pool in another 3 hours. How many hours would it have taken hose B, working alone, to fill the entire pool?\nAnswer Choices: (A) 8 (B) 15 (C) 12 (D) 6 (E) 3\nRationale: Since hose A can fill the pool in 8 hours, then in 2 + 3 = 5 hours it will fill 5/8th of the pool. Thus the remaining 3/8th is filled by hose B in 3 hours. This means that hose B,working alone, to fill the entire pool will need 3*8/3 = 8 hours.\nAnswer: A.\nCorrect Answer: A\n\n\nQuestion: X and Y are two alloys which were made by mixing zinc and copper in the ratio 6:9 and 7:11, respectively. If 40 grams of alloy X and 60 grams of alloy Y are melted and mixed to form alloy Z, what is the ratio of zinc and copper in the alloy Z ?\nAnswer Choices: (A) 69:91 (B) 59:91 (C) 59:90 (D) 59:91 (E) 69:101\nRationale: The ratio of zinc and copper in mixture 1 is 6/9 and in mixture 2 is 7/11.\n40 grams of mixture 1 contains 6*40/15=16 grams of zinc and 24 grams of copper\n60 grams of mixture 2 contains 7*60/18=77/3 grams of zinc and 110/3 grams of copper\nThus, ratio =(16+77/3)/(24+110/3) =59/91\nANSWER:B\nCorrect Answer: B\n\n\nQuestion: Exactly 2/5th of the children in a certain class are girls. If there are 100 boys in the class, how many girls are in the class?\nAnswer Choices: (A) 50 (B) 100 (C) 150 (D) 200 (E) 70\nRationale: This means 2/5 of the class are boys\n2x/5=100\nx=250\ntherefore, girls = 150\nAnswer is C\nCorrect Answer: C\n\n\nQuestion: x men working x hours per day can do x units of a work in x days. How much work can be completed by y men working y hours per day in y days?\nAnswer Choices: (A) x2/y2 units (B) y3/x2 units (C) x3/y2 units (D) y2/x2 units (E) None of these\nRationale: Amount of work completed by 1 man in 1 day, working 1 hours a day = x/x3=1/x2\nAmount of work y men in y days, working y hours a day = y3 × (1/x2) = y3/x2 . Answer : Option B\nCorrect Answer: B\n\n\nQuestion: Five dozen toys are packed in a box and 98 boxes are kept in a tempo. How many tempos can lift 29400 toys in one round ?\nAnswer Choices: (A) 4 (B) 5 (C) 7 (D) 6 (E) 8\nRationale: Five dozen = 5 x 12 = 60\n⇒ No of toys can be kept in 1 box = 60\n∴ No of toys can be kept in 98 boxes = 60 x 98 = 5880\n∴ 29400 toys can be lifted by = 29400 / 5880 = 5 tempos\nOption: B\nCorrect Answer: B\n\n\nQuestion: 5 horses are in a race. Mr.Jain selects two of horses at random and bets on them. The probability that he selected the winning horse is\nAnswer Choices: (A) 1/5 (B) 2/5 (C) 3/5 (D) 4/5 (E) 6/5\nRationale:\n================================================================================\n[Generated:]  Probability of selecting a winning horse = 1/5\nProbability of selecting winning horse is 1\nProbability of selecting two horses = 2/5\nProbability of selecting a losing horse = 3/5\nProbability of selecting two losing horses = 3/5 - 2/5 = 1/5\nProbability of selecting the winner and a losing horse = 1/5 + 3/5 = 4/5\n∴ Probability of winning = 4/5\n∴ Probability of losing = 1/5\n∴ Probability of winning horse = 4/5 – 1/5 = 3/5\nAnswer is C\nCorrect Answer: C\n",
          "output_type": "stream"
        },
        {
          "name": "stderr",
          "text": "Setting `pad_token_id` to `eos_token_id`:11 for open-end generation.\n",
          "output_type": "stream"
        },
        {
          "name": "stdout",
          "text": "Stopping criteria triggered\n[Prompt:]\nQuestion: In how many ways can a teacher in a kindergarten school arrange a group of 3 children (Susan, Tim and Zen) on 3 identical chairs in a straight line so that Susan is on the left of Tim?\nAnswer Choices: (A) 7 (B) 3 (C) 2 (D) 1 (E) 6\nRationale: Total ways in which 3 children can be arranged on 3 chairs = 3*2*1 = 6\nBut in half cases Susan will be left of Tim and in other half of cases Tim will be on left of Susan\ni.e. Desired cases in which Susan is on the left of Tim = (1/2)*6 = 3\nB\nCorrect Answer: B\n\n\nQuestion: If 27 bottles of soda cost A cents, how much will B bottles cost in dollars?\nAnswer Choices: (A) AB/2700 (B) 27/AB (C) AB/270 (D) 2700/AB (E) 100AB/27\nRationale: 27 bottles cost A cents or A/100 dollars\n1 bottle will cost = A/100/27 = A/2700\nB bottles in dollars = B*A/2700 = AB/2700\nHence, answer will be A.\nCorrect Answer: A\n\n\nQuestion: There are 10 oranges in a basket. Find the no. of ways in which 2 oranges are chosen from the basket?\nAnswer Choices: (A) 45 (B) 90 (C) 120 (D) 150 (E) 180\nRationale: Required number of ways = 10C2 = 10*9/2 = 45\nAnswer is A\nCorrect Answer: A\n\n\nQuestion: A straight picket fence is composed of x pickets each of which is 1/2 inch wide. If there are 6 inches of space between each pair of pickets, which of the following represents the length of fence in feet?\nAnswer Choices: (A) 13x/2 (B) 13x/2 - 6 (C) 13x/24 (D) (13x+1)/24 (E) (13x-12)/24\nRationale: Number of pickets = x\nSize of pickets = 1/2\nlength of pickets = 1/2x\nIf there are x pickets, it implies that there are x -1 spaces between the picket\nLength of space = 6\ntotal number of length = 1/2 x + 6(x-1) in inches\ntotal length in feet =( 1/2 x + 6(x-1))/12\nSimplify to get (13X-12)/24\nANSWER:E\nCorrect Answer: E\n\n\nQuestion: Add: +45 and -30\nAnswer Choices: (A) -30 (B) +30 (C) 0 (D) 15 (E) -15\nRationale: 45 - 30 = 15\nANSWER : D\nCorrect Answer: D\n\n\nQuestion: In a bag of red and green sweets, the ratio of red sweets to green sweets is 3:4. If the bag contains 120 green sweets, how many red sweets are there?\nAnswer Choices: (A) 90 (B) 80 (C) 95 (D) 100 (E) 85\nRationale: Let x = red sweets\nWrite the items in the ratio as a fraction.\nred/green=3/4=x/120\n3 × 120 = 4 × x\n360 = 4x\nx=360/4=90\nAnswer:A\nCorrect Answer: A\n\n\nQuestion: What should come in place of the question mark(?) in each of the following questions ?\na2 - b2/(a + b)2 (?)=(a - b)2\nAnswer Choices: (A) (a + b)(a - b) (B) (a - b)2 (C) (a + b)2 (D) a3 + b3 (E) None of these\nRationale: (a - b)2 x (a + b)2 / a2 - b2 = (a - b)2 x (a + b)2 / (a + b)(a - b) = (a + b) (a - b)\nAnswer : Option A\nCorrect Answer: A\n\n\nQuestion: A train running at a speed of 100 miles/hour, takes 10 hours to reach its destination. After covering quarter of the distance, it starts raining and the train has to be slowed to speed of 75 miles/hour. What is the total journey duration?\nAnswer Choices: (A) 10 (B) 11.5 (C) 12.5 (D) 13.5 (E) 15\nRationale: Distance to destination = 100 X 10 = 1000 miles.\nDistance remaining when it starts to rain = 1000 - 250 = 750 miles.\nSpeed for remaining distance = 75 miles / hour.\nTime taken to cover remaining distance = 750 / 75 = 10 hours.\nTotal duration of the journey = 2.5 + 10 = 12.5 hours.\nThe correct option is C.\nCorrect Answer: C\n\n\nQuestion: For bringing each copper coin from the bottom of a river, a coin-diver gets 20 cents, and for each brass coin she gets 25 cents. If after one dive, she got $3.40. What is the minimum number of copper coins that she brought?\nAnswer Choices: (A) 4 (B) 3 (C) 2 (D) 1 (E) 0\nRationale:\n================================================================================\n[Generated:]  $3.40=25x3=75 cents.\nShe got 25 cents for one brass coin and 20 cents for each copper coin.\nNow total profit earned from 3 copper coins = 75 cents.\nMinimum number of copper coins she took from the river = 1.\nAnswer : Option C\nCorrect Answer: C\n",
          "output_type": "stream"
        },
        {
          "name": "stderr",
          "text": "Setting `pad_token_id` to `eos_token_id`:11 for open-end generation.\n",
          "output_type": "stream"
        },
        {
          "name": "stdout",
          "text": "[Prompt:]\nQuestion: On dividing 2272 and 875 by a 3-digit number N, we get the same remainder. The sum of the digits of N is:\nAnswer Choices: (A) 10 (B) 11 (C) 12 (D) 13 (E) 14\nRationale: (2272 - 875) = 1397, is exactly divisible by N.\nNow, 1397 = 11 * 127\nThe required 3-digit number is 127, the sum of whose digit is 10.\nANSWER:A\nCorrect Answer: A\n\n\nQuestion: If 27 bottles of soda cost A cents, how much will B bottles cost in dollars?\nAnswer Choices: (A) AB/2700 (B) 27/AB (C) AB/270 (D) 2700/AB (E) 100AB/27\nRationale: 27 bottles cost A cents or A/100 dollars\n1 bottle will cost = A/100/27 = A/2700\nB bottles in dollars = B*A/2700 = AB/2700\nHence, answer will be A.\nCorrect Answer: A\n\n\nQuestion: Q is as much younger than R as he is older than T. If the sum of the ages of R and T is 50 years. What is definitely the difference between R and Q's age?\nAnswer Choices: (A) 22 (B) 27 (C) 29 (D) Cannot be determined (E) None of the above\nRationale: R - Q = R - T\nQ = T.\nAlso R + T = 50; R + Q = 50\nSo, (R - Q) cannot be determined.\nAnswer:D\nCorrect Answer: D\n\n\nQuestion: A bag contains 11 candy bars: three cost 50 cents each, four cost $1 each and four cost $2\neach. How many ways can 3 candy bars be selected from the 11 candy bars so that the total cost is more than $4?\nAnswer Choices: (A) 8 (B) 28 (C) 46 (D) 66 (E) 70\nRationale: The ways of choosing 3 candy bars with a total cost over $4 include: choose 3 out of 4 (2 dollars each); choose 2 out of 4 (2 dollars each) and 1 from the other 7. So, the total number of ways is C4\n3 + (7 C4\n2 ) = 46. Incidentally, the total number ways of choosing 3 candy bars out of 11 is C11\n3 = 165. So the probability of them costing more than $4 if they are randomly chosen is\nC4\n3 + (7 C4\n2 )\nC11\n3\n=\n46/165\ncorrect answer C\nCorrect Answer: C\n\n\nQuestion: A shopkeeper in order to promote his new shop put a discount of 20% on all the items for one day. Now he must sell the items at original price the other day. By what percentage must he increase the price to original?\nAnswer Choices: (A) 21% (B) 20% (C) 25% (D) 33% (E) 18%\nRationale: Suppose every item is priced at $100. On 20% discount, the price will become $80. Now he must add $20 to each item for original price which is 25% of $80.\nCorrect Answer: C\n\n\nQuestion: In a chocolate store, all chocolates are either vanilla or cocoa flavored only. 10% of the chocolates are cocoa flavored, 90% of the rest are squashed. What percentage of the chocolates are both vanilla flavored and not squashed?\nAnswer Choices: (A) 1% (B) 2% (C) 5% (D) 9% (E) 10%\nRationale: If 10% of chocolates are cocoa flavored, then 90% are vanilla flavored.\n90% of 90% are squashed, i.e. 81% are squashed.\nVanilla flavored and non squashed= 90-81= 9%\nD is the answer\nCorrect Answer: D\n\n\nQuestion: If x<0, y>0, and |x^3| > |y^2|, which of the following must be true?\nAnswer Choices: (A) x > y (B) y^2 > x^2 (C) -x^3 < y^2 (D) –x < y (E) x < –y\nRationale: Let’s go through each answer choice: (A) can never be true, since no negative is greater than a positive. (B) doesn’t have to be true – consider what would happen if x = -2 and y = 1. (C) can never be true, as x^3 must be negative, and y^2 must be positive. (D) can never be true, since if x < 0, -x is the same thing as |x|, and |x| > y. (E) can be manipulated by multiplying both sides by -1, which gives us –x > y. Remember that x < 0, so –x = |x|, and y is positive, so |y| = y. Thus –x^3 > y^2 is the same statement as |x^3| > |y^2|, and (B) must be true.\nCorrect Answer: B\n\n\nQuestion: 30 is subtracted from a number, it is reduced to its one third. What is the value of 50% of that number?\nAnswer Choices: (A) 22.5 (B) 84 (C) 21 (D) 24 (E) 25\nRationale: 2/3 x = 30 => x = 45\n45 * 1/2 = 22.5\nANSWER:A\nCorrect Answer: A\n\n\nQuestion: R, S, T, and U are points on a line, and U is the midpoint of line segment ST. If the lengths of line segments RS, RT, and ST are 5, 17, and 22, respectively. What is the length of line segment RU?\nAnswer Choices: (A) 6 (B) 7 (C) 8 (D) 9 (E) 10\nRationale:\n================================================================================\n[Generated:]  If U is the midpoint of ST, then the length of line segments ST and ST = 17-5 = 12. U = (1/2)(22+12) = 14. Thus, RU = 2(14+12) = 36.\nANSWER:D\n\n\nQuestion: Which number is greater: 5, 1.5, or 1.25?\nAnswer Choices: (A) 5 (B) 1.5 (C) 1.25 (D) Cannot be determined (E) None of the above\nRationale: The greater number is 1.5.\nANSWER:D\n\n\nQuestion: The difference between the product of the least prime numbers up to a given integer and 50,000,000 is (a) greater than the number itself, (b) less than the number itself, or (c) equal to the number itself.\nAnswer Choices: (A) less (B) less than equal (C) less than equal or equal (D) greater than equal (E) greater than\nRationale: a prime number n has\n",
          "output_type": "stream"
        },
        {
          "name": "stderr",
          "text": "Token indices sequence length is longer than the specified maximum sequence length for this model (2126 > 2048). Running this sequence through the model will result in indexing errors\nSetting `pad_token_id` to `eos_token_id`:11 for open-end generation.\n",
          "output_type": "stream"
        },
        {
          "name": "stdout",
          "text": "[Prompt:]\nQuestion: The bus fare of one adult is Rs. 140 from Ranchi to Patna and bus fare of a child is half the fare of one adult between the same places. What is the total bus fare of 4 adults and 3 children between same places?\nAnswer Choices: (A) Rs. 666 (B) Rs. 670 (C) Rs. 700 (D) Rs. 570 (E) Rs. 770\nRationale: Fare for Adult = Rs. 140.\nFare of Child = Half of the Adult = Rs. 70.\nSo,\nTotal fare = 4 *140 + 3 *70 = 560 +210 = Rs. 770.\nANSWER : E\nCorrect Answer: E\n\n\nQuestion: In a bag of red and green sweets, the ratio of red sweets to green sweets is 3:4. If the bag contains 120 green sweets, how many red sweets are there?\nAnswer Choices: (A) 90 (B) 80 (C) 95 (D) 100 (E) 85\nRationale: Let x = red sweets\nWrite the items in the ratio as a fraction.\nred/green=3/4=x/120\n3 × 120 = 4 × x\n360 = 4x\nx=360/4=90\nAnswer:A\nCorrect Answer: A\n\n\nQuestion: If Raj was one-third as old as Rahim 5 years back and Raj is 17 years old now, How old is Rahim now?\nAnswer Choices: (A) 37 (B) 41 (C) 40 (D) 42 (E) 43\nRationale: Raj’s age today = 17 decades,\nHence, 5 decades back, he must be 12 years old.\nRahim must be 36 years old, Because (3×12).\n5 years back Rahim must be 41 years old today. Because (36+5).\nCorrect Answer: B\n\n\nQuestion: A newspaper costs $4 on Sunday and $1 the rest of the days of the week. If a hotel orders twice as many papers on Sunday as it does the rest of the days of the week and pays $210 per week for newspapers, how many newspapers does it buy on Monday?\nAnswer Choices: (A) 15 (B) 30 (C) 45 (D) 60 (E) 75\nRationale: Number of paper bought on monday = x\n# of paper bought on sunday = 2x\nTotal cost = 210 = 6*x(rest of the day cost)+8*x (sunday cost)\n14x = 210\nx = 15\nAns A\nCorrect Answer: A\n\n\nQuestion: A cyclist travels at 12 miles per hour. How many minutes will it take to travel 48 miles?\nAnswer Choices: (A) 1 (B) 240 (C) 30 (D) 60 (E) 120\nRationale: At 12 miles per hour, to cover 48 miles the cyclist will need 4 hours or 240 minutes.\nAnswer: B.\nCorrect Answer: B\n\n\nQuestion: Of the 200 students in a school, at least 45% attended the prom night and at least 35% took part in the debating session. What is the maximum number of students who could have neither attended the prom night nor the debating session?\nAnswer Choices: (A) 27 (B) 81 (C) 90 (D) 99 (E) 110\nRationale: To maximize the number of students who did neither, we should minimize the number of students who debated or attended the prom.\nLet's assume that all 35% of students who debated also attended the prom.\nThen 35% did both, 10% only attended prom, and 55% did neither.\n0.55*200 = 110\nThe answer is E.\nCorrect Answer: E\n\n\nQuestion: In how many ways can the letters of the word \"PROBLEC\" be rearranged to make 7 letter words such that none of the letters repeat?\nAnswer Choices: (A) 2! (B) 3! (C) 7! (D) 8! (E) 9!\nRationale: There are seven positions to be filled.\nThe first position can be filled using any of the 7 letters contained in PROBLEM.\nThe second position can be filled by the remaining 6 letters as the letters should not repeat.\nThe third position can be filled by the remaining 5 letters only and so on.\n758\nTherefore, the total number of ways of rearranging the 7 letter word = 7*6*5*4*3*2*1 = 7! Ways.\nC\nCorrect Answer: C\n\n\nQuestion: The monthly salary S of a shop assistant is the sum of a fixed salary of $500 plus 5% of all monthly sales. What should the monthly sales be so that her monthly salary reaches $1500?\nAnswer Choices: (A) $50000 (B) $40000 (C) $30000 (D) $20000 (E) None of these\nRationale: Let S be the total monthly salary and x be the monthly sales, hence\nS = 500 + 5% * x\nFind sales x so that S = 1500, hence\n1500 = 500 + 5% * x = 500 + 0.05 x\nSolve for x\nx = (1500 - 500) / 0.05 = $20000\nAnswer D\nCorrect Answer: D\n\n\nQuestion: A car finishes a journey in 20 hours at the speed of 60 km/hr. If the same distance is to be covered in 10 hours, how much speed does the car gain?\nAnswer Choices: (A) 80 kmph (B) 50 kmph (C) 120 kmph (D) 70 kmph (E) 80 kmph\nRationale:\n================================================================================\n[Generated:]  If it takes 10 hours to cover the same distance, it takes 12 hours for 20 hours.\nThe distance covered in 20 hours = 60(20) = 1200 km\n60 km/20 hours = 120 km/hr.\nHence, speed increases by 120 km/hr.\nIf the same distance is to be covered in 10 hours, the car gains 120 km/hr in 10 hours.\nSo, the new speed will be (120 km/hr x 10/20) = 60 km/hr.\nAnswer D\n\n\nQuestion: What is the value of x if y = 0.12x – 8 and y = 0.08x + 15?\nAnswer Choices: (A) x = 4 (B) x = 2 (C) x = -2 (D) x = -1 (E) x = 1\nRationale: We can write y = 0.12x – 8 and y = 0.08x + 15 in a way that they are linear equations\n",
          "output_type": "stream"
        },
        {
          "name": "stderr",
          "text": "Setting `pad_token_id` to `eos_token_id`:11 for open-end generation.\n",
          "output_type": "stream"
        },
        {
          "name": "stdout",
          "text": "Stopping criteria triggered\n[Prompt:]\nQuestion: A two digit number exceeds the sum of the digits of that number by 18. If the digit at the unit's place is double the digit in the ten's place, what is the number?\nAnswer Choices: (A) 12 (B) 24 (C) 42 (D) 48 (E) 49\nRationale: Let the ten's digit be x.\nThen, unit's digit = 2x.\nNumber = 10x + 2x = 12x;\nSum of digits = x + 2x = 3x.\nTherefore,  12x - 3x = 18\n‹=› 9x = 18\n‹=› x = 2.\nHence, required number = 12x = 24.\nAnswer B\nCorrect Answer: B\n\n\nQuestion: Five dozen toys are packed in a box and 98 boxes are kept in a tempo. How many tempos can lift 29400 toys in one round ?\nAnswer Choices: (A) 4 (B) 5 (C) 7 (D) 6 (E) 8\nRationale: Five dozen = 5 x 12 = 60\n⇒ No of toys can be kept in 1 box = 60\n∴ No of toys can be kept in 98 boxes = 60 x 98 = 5880\n∴ 29400 toys can be lifted by = 29400 / 5880 = 5 tempos\nOption: B\nCorrect Answer: B\n\n\nQuestion: Jim filled his dog's bowl with dog food. Starting at 8:00 am, Jim's dog ate exactly once an hour, consuming exactly 1/3 of the dog food remaining in the bowl at each feeding session. Approximately, what percent of the original food was in the dog's bowl right before the dog began to eat at noon of the same day?\nAnswer Choices: (A) 20% (B) 25% (C) 30% (D) 35% (E) 40%\nRationale: The amount remaining after each feeding session is 2/3 of what was in the bowl.\nThere were four feeding sessions.\nThe amount remaining just before noon was (2/3)^4 = 16/81, which is about 20%.\nThe answer is A.\nCorrect Answer: A\n\n\nQuestion: Last year, a Home Appliance Store sold an average(arithmetic mean) of 42 microwave ovens per month. In the first 10 months of this year,the store has sold an average(arithmetic mean) of only 20 microwave ovens per month. What was the average number of microwave ovens sold per month during the entire 22 months period ?\nAnswer Choices: (A) 21 (B) 30 (C) 31 (D) 32 (E) None of the above\nRationale: 42×12+20×10 /12+10=504+200/22=704/22=32\nAnswer D\nCorrect Answer: D\n\n\nQuestion: A jeep travels a certain distance taking 6 hours in the forward journey. During the return journey, it increased its speed by 12km/hr and took 4 hours. What is the distance travelled by the jeep?\nAnswer Choices: (A) 126km (B) 144km (C) 127km (D) 228km (E) 128km\nRationale: Let 'x' be the distance and 'y' be the speed of the forward journey. Then, we have 6v=d and 4(v+12)=d\n=> v=d/6 and v=d/4 - 12\n=> d/6 = d/4 - 12\n=> d/12 = 12\n=> d=144\nAnswer: B\nCorrect Answer: B\n\n\nQuestion: A car is being driven, in a straight line and at a uniform speed, towards the base of a vertical tower. The top of the tower is observed from the car and, in the process, it takes 10 minutes for the angle of elevation to change from 45° to 60°. After how much more time will this car reach the base of the tower?\nAnswer Choices: (A) 5(√3 + 1) (B) 6(√3 + √2) (C) 7(√3 – 1) (D) 8(√3 – 2) (E) None of these\nRationale: Explanation :\nLet the height of the building be h. Initially, he was at an angle of 450. tan 45 = h/distance between car and tower. h = distance between car and tower (since tan 45 = 1).\nNow, after 10 minutes, it travelled a certain distance, and angle changed to 600.\ntan 60 = h/x x = h/√3\nSo, in 10 minutes, it has travelled a distance of h – x = h - h/√3.\n10 minutes = h *( 1 – 1√3)\nh can be travelled in 10 / (1 – 1√3).\nTo travel a distance of x, which is h/√3, it takes :\nh = 10 / (1 – 1/√3)\nh / √3 = 10/ √3 * (1 – 1/√3). Multiply numerator and denominator by 1 + √3 ( conjugate of 1 - √3). We get, x = h/√3 = 10 (1 + √3) / 2 = 5* (1 + √3)\nSo, it takes 5(1 + √3) minutes to reach the base of the tower.\nAnswer : A\nCorrect Answer: A\n\n\nQuestion: The average wages of a worker during a fortnight comprising of 15 consecutive working days was $90 per day. During the first 7 days, his average wage was $87 per day and the average wage during the last 7 days was $92 per day. What was his wage on the 8th day?\nAnswer Choices: (A) $83 (B) $92 (C) $90 (D) $97 (E) $104\nRationale: The total wage earned during the 15 days that the worker worked = 15 * 90 = $ 1350.\nThe total wage earned during the first 7 days = 7 * 87 = $ 609.\nThe total wage earned during the last 7 days = 7 * 92 = $ 644.\nTotal wage earned during the 15 days = wage during first 7 days + wage on 8th day + wage during the last 7 days.\nOr 1350 = 609 + wage on 8th day + 644\nWage on 8th day = 1350 - 609 - 644 = $ 97.\nAnswer D\nCorrect Answer: D\n\n\nQuestion: A starts a business with Rs.40,000. After 2 months, B joined him with Rs.60,000. C joined them after some more time with Rs.120,000. At the end of the year, out of a total profit of Rs.375,000, C gets Rs.150,000 as his share. How many months after B joined the business, did C join?\nAnswer Choices: (A) 2 months (B) 4 months (C) 23 months (D) 24 months (E) 84 months\nRationale: Assume that C was there in the business for x months\nA:B:C = 40000*12 : 60000*10 : 120000*x\n= 40*12 : 60*10 : 120x = 40 : 5*10 : 10x\n=8 : 10 : 2x\n= 4 : 5 : x\nC's share = 375000*x/(9+x) = 150000\n=> 375x/(9+x) = 150\n=> 15x = 6(9+x)\n=> 5x = 18 + 2x\n=> 3x = 18\n=> x = 18/3 = 6\nIt means C was there in the business for 6 months. Given that B joined the business\nafter 2 months. Hence C joined after 4 months after B joined\nAnswer is B\nCorrect Answer: B\n\n\nQuestion: Let A and B be independent events with P (A) = 0.2 and P(B) = 0.8. Find P(A/B)?\nAnswer Choices: (A) 0.2 (B) 0.4 (C) 0.6 (D) 1.2 (E) 1.5\nRationale:\n================================================================================\n[Generated:]  Probability of B can be given as\n= 1 - (0.8) = 0.2\n= 0.2\nNow, probability of A/B = 0.2/0.2 = 1\nAnswer is B\n\n\nQuestion: What is the common difference between the series -3, 3, 5, 7, 9,...?\nAnswer Choices: (A) 2 (B) 3 (C) 4 (D) 5 (E) 6\nRationale: 7th term of the given series is 9.\nTherefore, we have 9 – 3 = 6 terms.\nWe know, the common difference between any two terms is 1.\nSince, the difference between 3rd and 7th terms is 6, then,\ndifference between 3rd term and 7th term is 6 – 3 = 3.\nSimilarly, the difference between 7th term and 10th term is 10 - 7 = 3.\nAnswer is D.\nCorrect Answer: D\n",
          "output_type": "stream"
        },
        {
          "name": "stderr",
          "text": "Setting `pad_token_id` to `eos_token_id`:11 for open-end generation.\n",
          "output_type": "stream"
        },
        {
          "name": "stdout",
          "text": "Stopping criteria triggered\n[Prompt:]\nQuestion: John would make the 3-letter codes with diffenrent 5 vowels and 20 consonants with the condition that the middle letter must be vowel and the first letter and the third letter must be different from each other and are both consonant. How many different codes can be made?\nAnswer Choices: (A) 1,980 (B) 2,020 (C) 2,100 (D) 2,200 (E) 1,900\nRationale: There should be a vowel in the middle of the 3-letter code, which means that 5 letters can be in the middle. Then, 20 letters can be placed in the first letter and 19 letters can be placed in the last letter as they should be different letters. Thus, 20*5*19=1,900.\nTherefore, the answer is E.\nCorrect Answer: E\n\n\nQuestion: The value of log2 4 is:\nAnswer Choices: (A) 2 (B) 4 (C) 6 (D) 8 (E) 12\nRationale: Let log2 4 = n.\nlog2 4 = 2.\nAnswer: Option A\nCorrect Answer: A\n\n\nQuestion: A train M leaves City A at 5 am and reaches City B at 9am. Another train N leaves City B at 7am and reaches City A at 1030am. At what time do the 2 trains cross one another?\nAnswer Choices: (A) 1 hr 23 min (B) 1 hr 15 min (C) 1 hr 8 min (D) 56 min (E) 55 min\nRationale: Let the distance between the cities be x\nThey meet after y hrs after 7am\nM covers x in 4hrs\nN covers x in 3 1/2 i.e 7/2 hrs\nspeed of M =x/4\nspeed of N = 2x/7\nDistance covered by M in y+2 hrs + Distance covered by N in\ny hrs is x\nx/4 (y+2) +2x/7(y)=x\ny=14/15hr or 56 min\nAnswer : D.\nCorrect Answer: D\n\n\nQuestion: If Raj was one-third as old as Rahim 5 years back and Raj is 17 years old now, How old is Rahim now?\nAnswer Choices: (A) 37 (B) 41 (C) 40 (D) 42 (E) 43\nRationale: Raj’s age today = 17 decades,\nHence, 5 decades back, he must be 12 years old.\nRahim must be 36 years old, Because (3×12).\n5 years back Rahim must be 41 years old today. Because (36+5).\nCorrect Answer: B\n\n\nQuestion: If 10 is subtracted from 2/3 of a number the result is equal to sum of 40 and 1/3 of the number. Find the number\nAnswer Choices: (A) 100 (B) 160 (C) 150 (D) 210 (E) 220\nRationale: Let the number be x. Then,\n2x/3 - 10 = x/3 + 40\n=> x/3 = 50 => x = 150\nAnswer: Option C\nCorrect Answer: C\n\n\nQuestion: A starts a business with Rs.40,000. After 2 months, B joined him with Rs.60,000. C joined them after some more time with Rs.120,000. At the end of the year, out of a total profit of Rs.375,000, C gets Rs.150,000 as his share. How many months after B joined the business, did C join?\nAnswer Choices: (A) 2 months (B) 4 months (C) 23 months (D) 24 months (E) 84 months\nRationale: Assume that C was there in the business for x months\nA:B:C = 40000*12 : 60000*10 : 120000*x\n= 40*12 : 60*10 : 120x = 40 : 5*10 : 10x\n=8 : 10 : 2x\n= 4 : 5 : x\nC's share = 375000*x/(9+x) = 150000\n=> 375x/(9+x) = 150\n=> 15x = 6(9+x)\n=> 5x = 18 + 2x\n=> 3x = 18\n=> x = 18/3 = 6\nIt means C was there in the business for 6 months. Given that B joined the business\nafter 2 months. Hence C joined after 4 months after B joined\nAnswer is B\nCorrect Answer: B\n\n\nQuestion: Machine A puts out a yo-yo every 6 minutes. Machine B puts out a yo-yo every 9 minutes. After how many minutes will they have produced 10 yo-yos?\nAnswer Choices: (A) 24 minutes (B) 32 minutes (C) 36 minutes (D) 64 minutes (E) 72 minutes\nRationale: A's speed = 3 yo-yos every 18 minutes\nB's speed = 2 yo-yos every 18 minutes\nA + B's speed = 3 + 2 = 5 yo-yos every 18 minutes\nboth together will finish 10 yo-yos in 36 minutes\ncorrect option is C\nCorrect Answer: C\n\n\nQuestion: What is 60% of 30% of 1400 grams?\nAnswer Choices: (A) 450 gms (B) 100 gms (C) 252 gms (D) 240 gms (E) None of these\nRationale: 60/100 * 30/100 * 1400= 252\nAnswer: C\nCorrect Answer: C\n\n\nQuestion: A wire in the shape of rectangle of length 27 cm and breadth 17 cm is rebent to form a square. What will be the measure of each side?\nAnswer Choices: (A) 9 (B) 11 (C) 22 (D) 25 (E) 31\nRationale:\n================================================================================\n[Generated:]  Area of the rectangle = 27x17 = 486 cm2\nArea of the square = 25x25 = 625 cm2\nArea of the rectangle= 486/625\nAnswer: B.\nCorrect Answer: B\n",
          "output_type": "stream"
        },
        {
          "name": "stderr",
          "text": "Setting `pad_token_id` to `eos_token_id`:11 for open-end generation.\n",
          "output_type": "stream"
        },
        {
          "name": "stdout",
          "text": "Stopping criteria triggered\n[Prompt:]\nQuestion: The length of the ribbon was originally 30 cm. It was reduced in the ratio 5 : 3. What is its length now?\nAnswer Choices: (A) 18 (B) 30 (C) 6 (D) 15 (E) 12\nRationale: Length of ribbon originally = 30 cm\nLet the original length be 5x and reduced length be 3x.\nBut 5x = 30 cm\nx = 30/5 cm = 6 cm\nTherefore, reduced length = 3 cm\n= 3 × 6 cm = 18 cm\nAnswer:A\nCorrect Answer: A\n\n\nQuestion: In a chocolate store, all chocolates are either vanilla or cocoa flavored only. 10% of the chocolates are cocoa flavored, 90% of the rest are squashed. What percentage of the chocolates are both vanilla flavored and not squashed?\nAnswer Choices: (A) 1% (B) 2% (C) 5% (D) 9% (E) 10%\nRationale: If 10% of chocolates are cocoa flavored, then 90% are vanilla flavored.\n90% of 90% are squashed, i.e. 81% are squashed.\nVanilla flavored and non squashed= 90-81= 9%\nD is the answer\nCorrect Answer: D\n\n\nQuestion: In a survey of students, each student selected from a list of 10 songs the 2 songs that the student liked best. If each song was selected 5 times, how many students were surveyed?\nAnswer Choices: (A) 96 (B) 48 (C) 32 (D) 25 (E) 18\nRationale: Each out of 10 songs was selected 5 times --> the total number of selections = 10*5 = 50.\nEach student selected 2 songs --> the total number of students = 50/2 = 25.\nAnswer: D.\nCorrect Answer: D\n\n\nQuestion: When folded into two equal halves a rectangular sheet had a perimeter of 48cm for each part folded along one set of sides and the same is 66cm when folded along the other set of sides. Find the area of the sheet.\nAnswer Choices: (A) 1584 (B) 1120 (C) 792 (D) 1320 (E) 1200\nRationale: Let the sheet be folded along its breadth and its perimeter = 48cm\nTherefore, (l/2 + b) = 48 ... (i)\nNow, let the sheet be folded along its length, and the perimeter = 66cm\n(l + b/2)= 66 …... (ii)\nSolving (i) and (ii), we get,\nl = 56cm, b = 20cm\nArea = l*b\nArea = 1120 cm2\nANSWER IS B\nCorrect Answer: B\n\n\nQuestion: What is the greatest number of identical bouquets that can be made out of 28 white and 98 red tulips if no flowers are to be left out? (Two bouquets are identical whenever the number of red tulips in the two bouquets is equal and the number of white tulips in the two bouquets is equal.)\nAnswer Choices: (A) 4 (B) 7 (C) 10 (D) 14 (E) 21\nRationale: The greatest common divisor of 28 and 98 is 14.\nWe can make 14 identical bouquets with 2 white tulips and 7 red tulips in each bouquet.\nThe answer is D.\nCorrect Answer: D\n\n\nQuestion: In a class, 8% of total students are interested in Football. 4/5 of total students are interested in Cricket. 10% of total students are interested in Basketball and remaining 20 students are not interested in any games. How many students are there in the class?\nAnswer Choices: (A) 850 (B) 800 (C) 900 (D) 950 (E) 1000\nRationale: Let x is total no. of students\n8x/100+4x/5+10x/100+20=x\nBy solving this\nx=1000\nANSWER:E\nCorrect Answer: E\n\n\nQuestion: Alex and Jacob works at a toy shop that make toys. Alex takes 7 hours to make a toy, and Jacob takes 9 hours to make a toy. During a month, both of them makes 35 toys in total. If both of them have worked for almost similar number of hours how many toys have been prepared by Jacob?\nAnswer Choices: (A) 15 (B) 16 (C) 17 (D) 18 (E) 19\nRationale: Lets say Alex has worked for x hrs., and Jacob has worked for y hrs. So, number of toys prepared by Alex is x/7, and Jacob is y/9. Since total number of toys prepared by both of them is 35.\n=> x/7 + y/9 = 35.\n=> 9x + 7y = (35)(63)\n=> 7y = (35)(63) - 9x\n=> y = (5)(63) - (9/7)x\n=> y = 315 - (9/7)x\n=> x is to be a multiple of 7. Also, we need to minimize the difference between x & y. Here are some possible values,\nx = 126, y = 315 - (9/7)126 = 153\nx = 133, y = 315 - (9/7)133 = 144\nx = 140, y = 315 - (9/7)140 = 135\nx = 147, y = 315 - (9/7)147 = 126\nAs we can see minimum difference between x and y is when x is 140 hrs. and y is 135 hrs. Thus total toys created by Jacob = y/9 = 135/9 = 15.\nAnswer: A\nCorrect Answer: A\n\n\nQuestion: Suppose for any real number x, [x] denotes the greatest integer less than or equal to x. Let L(x,y) = [x] + [y] + [x + y] and R(x,y) = [2x] + [2y]. Then it is impossible to find any two positive real numbers x and y for which\nAnswer Choices: (A) L(x,y) = R(x,y) (B) L(x,y) ≠ R(x,y) (C) L(x,y) < R(x,y) (D) L(x,y) < R(x,y) (E) None\nRationale: x – 1≤ [x] ≤ x\n2x + 2y - 3 ≤ L(x,y) ≤ 2x + 2y\n=> a – 3 ≤ L ≤ a\n2x + 2y -2 ≤ L(x,y) ≤ 2x + 2y\n=> a – 2 ≤ R ≤ a\nTherefore, L ≤ R.\nAnswer : D\nCorrect Answer: D\n\n\nQuestion: On a normal day Bill usually averages about 15 mph when riding his bicycle. On a windy day, his speed is reduced by 4 mph. How far can Bill travel on a windy day in 21 minutes? Round to the nearest hundredth.\nAnswer Choices: (A) 2 miles (B) 2.25 miles (C) 3.25 miles (D) 3.85 miles (E) 2.85 miles\nRationale:\n================================================================================\n[Generated:]  Average speed = 15 + (15/4) = 15 + 3.75 = 18.75\nIf speed is decreased by 4mph, it will take about 14 minutes to travel 2 miles.\nTherefore, required distance = (2/18.75) = (2/9.66) = 0.184 miles\nAnswer: D\nCorrect Answer: D\n",
          "output_type": "stream"
        },
        {
          "name": "stderr",
          "text": "Setting `pad_token_id` to `eos_token_id`:11 for open-end generation.\n",
          "output_type": "stream"
        },
        {
          "name": "stdout",
          "text": "Stopping criteria triggered\n[Prompt:]\nQuestion: A special cereal mixture contains rice, wheat and corn in the ratio of 2:3:5. If a bag of the mixture contains 3 pounds of rice, how much corn does it contain?\nAnswer Choices: (A) 6.5 (B) 7.5 (C) 7 (D) 6 (E) None of the above\nRationale: Let x = amount of corn\nrice/corn=2/5=3/x\n2 × x = 3 × 5\n2x = 15\nx=7.5\nAnswer:B\nCorrect Answer: B\n\n\nQuestion: An aeroplane flies along the four sides of a square at the speeds of 200, 400, 600 and 800km/hr. Find the average speed of the plane around the field?\nAnswer Choices: (A) 384 (B) 562 (C) 458 (D) 156 (E) 452\nRationale: Let the each side of the square is x km\naverage speed of plane is y km/hr\n(x/200)+(x/400)+(x/600)+(x/800) = 4x/y\n25x/2400 = 4x/y\ny= 384 km/hr\nAnswer is A\nCorrect Answer: A\n\n\nQuestion: When folded into two equal halves a rectangular sheet had a perimeter of 48cm for each part folded along one set of sides and the same is 66cm when folded along the other set of sides. Find the area of the sheet.\nAnswer Choices: (A) 1584 (B) 1120 (C) 792 (D) 1320 (E) 1200\nRationale: Let the sheet be folded along its breadth and its perimeter = 48cm\nTherefore, (l/2 + b) = 48 ... (i)\nNow, let the sheet be folded along its length, and the perimeter = 66cm\n(l + b/2)= 66 …... (ii)\nSolving (i) and (ii), we get,\nl = 56cm, b = 20cm\nArea = l*b\nArea = 1120 cm2\nANSWER IS B\nCorrect Answer: B\n\n\nQuestion: Of the 200 students in a school, at least 45% attended the prom night and at least 35% took part in the debating session. What is the maximum number of students who could have neither attended the prom night nor the debating session?\nAnswer Choices: (A) 27 (B) 81 (C) 90 (D) 99 (E) 110\nRationale: To maximize the number of students who did neither, we should minimize the number of students who debated or attended the prom.\nLet's assume that all 35% of students who debated also attended the prom.\nThen 35% did both, 10% only attended prom, and 55% did neither.\n0.55*200 = 110\nThe answer is E.\nCorrect Answer: E\n\n\nQuestion: What is the sum of three consecutive integers whose product can be expressed as 727+728+729.\nAnswer Choices: (A) 37 (B) 38 (C) 36 (D) 30 (E) 39\nRationale: The addition of any 3 consecutive numbers is always divisible by 3\nthat rules out options a,b,c\nNow focus on options 30 and 39\nIf we consider\n12, 13, 14 the sum is 39\nAnswer = E\nCorrect Answer: E\n\n\nQuestion: Janice bikes at 10 miles per hour, while Jennie bikes at 20. How long until they have collectively biked 1 mile?\nAnswer Choices: (A) 1 minute (B) 2 minutes (C) 3 minutes (D) 4 minutes (E) 5 minutes\nRationale: Janice's speed = 1/6 miles per minute\nJennie's speed = 1/3 miles per minute\nJanice + Jennie's speed= (1/6 + 1/3) = 1/2 miles per minute\nBoth together will finish the mile in 2 minutes\ncorrect option is B\nCorrect Answer: B\n\n\nQuestion: A hollow cube of size 5cm is taken, with the thickness of 1cm. It is made of smaller cubes of size 1cm .If the outer surface of the cube is painted how many faces of the smaller cubes remain unpainted?\nAnswer Choices: (A) 438 (B) 550 (C) 500 (D) 450 (E) 498\nRationale: Volume of Big Cube considering it is not hollow = L3 = 5*5*5 = 125 cm3\nSize of hollow cube (considering 1 cm thickness on two faces of large cube = 5 - 2 = 3cm\nVolume of hollow cube = 3*3*3 = 27 cm3\nSo Total Volume filled up by smaller cubes = Volume of Larger Cube - Volume of hollow cube\n= 125 - 27\n= 98 cm3\nVolume of 1 small cube = 1*1*1 = 1 cm3\nTotal number of small cubes in the larger cube = 98 / 1 = 98\nand Number of faces of 98 small cubes (6 faces each cube has) = 98*6 = 588 faces\nTotal Surface area of 6 faces of larger cube painted = 6*L2 = 6*5*5 = 150cm2\nSurface area of one face of small cube = 1*1 = 1cm2\nNumber of faces of small cube painted = 150/1 = 150 faces\nHence number of faces of the smaller cubes remain unpainted= 588-150\n= 438\nanswer.A\nCorrect Answer: A\n\n\nQuestion: What is the sum of three consecutive integers whose product can be expressed as 727+728+729.\nAnswer Choices: (A) 37 (B) 38 (C) 36 (D) 30 (E) 39\nRationale: The addition of any 3 consecutive numbers is always divisible by 3\nthat rules out options a,b,c\nNow focus on options 30 and 39\nIf we consider\n12, 13, 14 the sum is 39\nAnswer = E\nCorrect Answer: E\n\n\nQuestion: Professors borrowed Rs. 5000 from the university at simple interest. After 3 years, the university got Rs. 300 on interest. What was the rate of interest per annum?\nAnswer Choices: (A) 2% (B) 8% (C) 5% (D) 10% (E) None of these\nRationale:\n================================================================================\n[Generated:]  If it is simple interest, the sum of each payment is constant.\nRATE= 5% per annum\ncorrect answer is D\nCorrect Answer: D\n",
          "output_type": "stream"
        },
        {
          "name": "stderr",
          "text": "Setting `pad_token_id` to `eos_token_id`:11 for open-end generation.\n",
          "output_type": "stream"
        },
        {
          "name": "stdout",
          "text": "[Prompt:]\nQuestion: In how many ways can the letters of the word \"PROBLEC\" be rearranged to make 7 letter words such that none of the letters repeat?\nAnswer Choices: (A) 2! (B) 3! (C) 7! (D) 8! (E) 9!\nRationale: There are seven positions to be filled.\nThe first position can be filled using any of the 7 letters contained in PROBLEM.\nThe second position can be filled by the remaining 6 letters as the letters should not repeat.\nThe third position can be filled by the remaining 5 letters only and so on.\n758\nTherefore, the total number of ways of rearranging the 7 letter word = 7*6*5*4*3*2*1 = 7! Ways.\nC\nCorrect Answer: C\n\n\nQuestion: 10kg of a mixture contains 30% sand and 70% clay. In order to make the mixture contain equal quantities of clay and sand how much of the mixture is to be removed and replaced with pure sand?\nAnswer Choices: (A) 10/7 (B) 20/7 (C) 30/7 (D) 40/7 (E) 50/7\nRationale: The mixture contains 3kg sand and 7 kg clay.\nFor the mixture to be in equal quantities, there should be 2 kg of clay removed.\nClay and sand are in the ratio 7:3\nSo part of sand to be removed = 2*3/7 = 6/7\nSo total mixture to be removed = 2 + 6/7 = 20/7\nANSWER:B\nCorrect Answer: B\n\n\nQuestion: While selling a watch, a shopkeeper gives a discount of 5%. If he gives a discount of 7%, he earns Rs. 15 less as profit. The marked price of the watch is:\nAnswer Choices: (A) Rs. 697.50 (B) Rs. 712.50 (C) Rs. 787.50 (D) Rs. 750 (E) Rs. 780\nRationale: If he increases the discount by 2%, then his profit is 15 less. Let the marked price be X.\n.02x = 15\nx = 750 marked price\nANSWER:D\nCorrect Answer: D\n\n\nQuestion: A man spend 810 in buying trouser at Rs 70 each and shirt at 30 each. What will be the ratio of trouser and shirt when the maximum number of trouser is purchased?\nAnswer Choices: (A) 9 Trousers (B) 8 Trousers (C) 10 Trousers (D) 7 Trousers (E) 11 Trousers\nRationale: Lets assume S as price of shirt and T as price of trousers, we have bellow equation:\n70 T + 30 S = 810\nSimplifying we get : 7T + 3S = 81\nT = ( 81 - 3*S )/7\nWe need to find the least value of S which will make (81 - 3*S) divisible by 7\nSimplifying by taking 3 as common factor 3*(27-S) / 7\nLooking at the above equation its not difficult to find out least value of S is 6 so that 27- 3S becomes divisible by S\nHence, T = (81-3*S)/7 = (81-3*6)/7 = 63/7 = 9\nANSWER:A\nCorrect Answer: A\n\n\nQuestion: [(272 - 32) (124 + 176)] / (17 x 15 - 15) = ?\nAnswer Choices: (A) 0 (B) 2.25 (C) 300 (D) 400 (E) None of these\nRationale: Given expression = [(272 - 32) (124 + 176)] / (17 x 15 - 15)\n= (240 x 300 ) / 240\n= 300\nCorrect Option: C\nCorrect Answer: C\n\n\nQuestion: At Daifu university, 24% of all students are members of both a chess club and a swim team. If 20% of members of the swim team are not members of the chess club, what percentage of all Daifu students are members of the swim team?\nAnswer Choices: (A) 20% (B) 30% (C) 40% (D) 50% (E) 60%\nRationale: Assume there are total of 100 students. 24 students are members of both clubs. We are told that:20% of members of the swim team are not members of the chess club, thus if S is a # of members of the swim team then 0.2S is # of members of only the swim teem:\n24+0.2S=S --> S=30.\nAnswer: B.\nCorrect Answer: B\n\n\nQuestion: Jim filled his dog's bowl with dog food. Starting at 8:00 am, Jim's dog ate exactly once an hour, consuming exactly 1/3 of the dog food remaining in the bowl at each feeding session. Approximately, what percent of the original food was in the dog's bowl right before the dog began to eat at noon of the same day?\nAnswer Choices: (A) 20% (B) 25% (C) 30% (D) 35% (E) 40%\nRationale: The amount remaining after each feeding session is 2/3 of what was in the bowl.\nThere were four feeding sessions.\nThe amount remaining just before noon was (2/3)^4 = 16/81, which is about 20%.\nThe answer is A.\nCorrect Answer: A\n\n\nQuestion: What is the greatest number of identical bouquets that can be made out of 28 white and 98 red tulips if no flowers are to be left out? (Two bouquets are identical whenever the number of red tulips in the two bouquets is equal and the number of white tulips in the two bouquets is equal.)\nAnswer Choices: (A) 4 (B) 7 (C) 10 (D) 14 (E) 21\nRationale: The greatest common divisor of 28 and 98 is 14.\nWe can make 14 identical bouquets with 2 white tulips and 7 red tulips in each bouquet.\nThe answer is D.\nCorrect Answer: D\n\n\nQuestion: [5 + ? × 19 - 15 - 7]/[13 × 13 - 156] = 6\nAnswer Choices: (A) 4 (B) 4.5 (C) 5 (D) 5.5 (E) 6.5\nRationale:\n================================================================================\n[Generated:]  15 - 7 = 8\nMultiplying both side of equation 5 × 19 - 15 - 7\n( 19 × 5 + 15 × 4 - 7 + 156 × 4 ) / ( 13 × 13 - 156)\n= 6 × 5 + 15 × 4 - 7 + 156 × 4\n= 5 + 15 + 24 - 7 + 156\n= (5 + 15 + 24)/156\n= 6\nCorrect Option: A\n\n\nQuestion: If X be a real number, then the value of [(4 - X)/(2 - X)] + [(2 - X)/(3 - X)] + [(3 - X)/(4 - X)] is?\nAnswer Choices: (A) 2 (B) 4 (C) 6 (D) 8 (E) 10\nRationale:\nLet's assume X = 2, then:\n[(4\n",
          "output_type": "stream"
        },
        {
          "name": "stderr",
          "text": "Setting `pad_token_id` to `eos_token_id`:11 for open-end generation.\n",
          "output_type": "stream"
        },
        {
          "name": "stdout",
          "text": "[Prompt:]\nQuestion: A starts travel towards south 3km, then travel 5 km towards east, and again travels 3 km to north, and finally travels 2km towards west. In the end how far from is A from home?\nAnswer Choices: (A) 3km (B) 2km (C) 4km (D) 5km (E) 6km\nRationale: 3s,5e,3n,2w\n5-2=3e\n3-3=0\n3km\nANSWER:A\nCorrect Answer: A\n\n\nQuestion: What is the greatest number of identical bouquets that can be made out of 28 white and 98 red tulips if no flowers are to be left out? (Two bouquets are identical whenever the number of red tulips in the two bouquets is equal and the number of white tulips in the two bouquets is equal.)\nAnswer Choices: (A) 4 (B) 7 (C) 10 (D) 14 (E) 21\nRationale: The greatest common divisor of 28 and 98 is 14.\nWe can make 14 identical bouquets with 2 white tulips and 7 red tulips in each bouquet.\nThe answer is D.\nCorrect Answer: D\n\n\nQuestion: John would make the 3-letter codes with diffenrent 5 vowels and 20 consonants with the condition that the middle letter must be vowel and the first letter and the third letter must be different from each other and are both consonant. How many different codes can be made?\nAnswer Choices: (A) 1,980 (B) 2,020 (C) 2,100 (D) 2,200 (E) 1,900\nRationale: There should be a vowel in the middle of the 3-letter code, which means that 5 letters can be in the middle. Then, 20 letters can be placed in the first letter and 19 letters can be placed in the last letter as they should be different letters. Thus, 20*5*19=1,900.\nTherefore, the answer is E.\nCorrect Answer: E\n\n\nQuestion: Kevin drove from A to B at a constant speed of 70 mph. Once he reached B, he turned right around with pause, and returned to A at a constant speed of 90 mph. Exactly 3 hours before the end of his trip, he was still approaching B, only 70 miles away from it. What is the distance between A and B?\nAnswer Choices: (A) 180 (B) 90 (C) 270 (D) 360 (E) None of the above\nRationale: In the last 70 miles of his approach to B, Kevin was traveling at 70 mph, so he traveled that distance in 1 hr, or 60 minutes. That means, when he arrived at B, 60 minutes had elapsed, and he took (3 hr) – (1 hr) = 2 hr to drive the distance D at 90 mph.\nD = RT = (90 mph)[ (2 hr] = 180 mi\nAnswer = (A)\nCorrect Answer: A\n\n\nQuestion: What will be the cost of gardening 1-metre – broad boundary around a rectangular plot having perimeter of 340 metres at the rate of 10 per square metre?\nAnswer Choices: (A) 3400 (B) 1700 (C) 3440 (D) Cannot be determined (E) None of these\nRationale: Let l and b be the length and breadth of rectangular plot respectively.\n∴ According to the question,we have\n2(l + b) = 340 ⇒ l + b = 170\nNow, (l + 2) and (b + 2) be the length and breadth of plot with boundary.\n∴ Required area = (l + 2) (b + 2) – lb\n= lb + 2l + 2b + 4 – lb\n= 2(l + b) + 4 = 344\n∴ Required cost = 344 × 10 = 3440\nAnswer C\nCorrect Answer: C\n\n\nQuestion: The average wages of a worker during a fortnight comprising of 15 consecutive working days was $90 per day. During the first 7 days, his average wage was $87 per day and the average wage during the last 7 days was $92 per day. What was his wage on the 8th day?\nAnswer Choices: (A) $83 (B) $92 (C) $90 (D) $97 (E) $104\nRationale: The total wage earned during the 15 days that the worker worked = 15 * 90 = $ 1350.\nThe total wage earned during the first 7 days = 7 * 87 = $ 609.\nThe total wage earned during the last 7 days = 7 * 92 = $ 644.\nTotal wage earned during the 15 days = wage during first 7 days + wage on 8th day + wage during the last 7 days.\nOr 1350 = 609 + wage on 8th day + 644\nWage on 8th day = 1350 - 609 - 644 = $ 97.\nAnswer D\nCorrect Answer: D\n\n\nQuestion: Three friends Alan, Roger and Peter attempt to answer a question on an exam. Alan randomly guesses the answer, giving him a 1/5 probability of guessing correctly. Roger cheats by looking at the paper of the student in front of him, giving him a 2/3 probability of answering correctly. And Peter dutifully performs the calculations, then marks the answer, giving him a 5/6 probability of a correct answer. What is the probability that the question is answered correctly, but not via cheating?\nAnswer Choices: (A) 1/18 (B) 1/9 (C) 23/90 (D) 5/18 (E) 13/45\nRationale: Prob(Alan) = 1/5\nProb(Roger) without cheating = 2/3-1 = 1/3\nProb(Peter) = 5/6\nTotal Probability = 1/5*1/3*/5/6 = 1/18\nAnswer is A\nCorrect Answer: A\n\n\nQuestion: Two balls A and B rotate along a circular track. Ball A makes 2 full rotations in 26 minutes. Ball B makes 5 full rotation in 35 minutes. If they start rotating now from the same point, when will they be at the same starting point again?\nAnswer Choices: (A) 1 hour and 31 minutes (B) 2 hour and 31 minutes (C) 3 hour and 31 minutes (D) 4 hour and 31 minutes (E) 5 hour and 31 minutes\nRationale: If ball A makes 2 rotations in 26 minutes, it makes 1 rotation in 13 minutes. If ball B makes 5 rotations in 35 minutes, it makes 1 rotation in 7 minutes.\nThe two balls start rotating now and makes several rotations before they are at the SAME starting points. Ball A would have done a WHOLE number X of rotations and ball B would have done a WHOLE number Y of rotations. Also they would have rotated during the same period of time T. Hence\nT = 13 X = 7 Y\nHence 13 X = 7 Y\nSolve the above for X\nX = 7 Y / 13\nWe want the time when they are FIRST at the same starting point. Therefore X and Y are the smallest whole numbers of the equation X = 7 Y / 13. The smallest value of Y that gives X as a whole number is 13. Hence\nX = 7 (13) / 13 = 7\nTime T is given by\nT = 13 X = 13 * 7 = 91 minutes = 1 hour and 31 minutes\ncorrect answer A\nCorrect Answer: A\n\n\nQuestion: 64 boys and 40 girls form a group for social work. During their membership drive, the same number of boys and girls joined the group. How many members does the group have now, if the ratio of boys to girls is 4:3?\nAnswer Choices: (A) 277 (B) 288 (C) 200 (D) 277 (E) 168\nRationale:\n================================================================================\n[Generated:]  200 members joined the group. Since the ratio of boys to girls is 4:3.\nThen the boys present are = 200 / 4 = 50.\nThe girls present are = 50 + 40 = 90.\nHence the number of girls present = 40 + 90 = 130.\nTotal members present = 50 + 130 = 180.\nNow the ratio of boys to girls is 180 / 220 = 0.8.\nHence the number of members present = 180 * 0.8 = 144.\nAnswer A\n\n\nQuestion: A coin is tossed and marked to record the outcome. The probability of tails is 1/2. Let the marked side face upwards. Then, what is the probability of it landing tails up?\nAnswer Choices: (A) 1/2 (B) 1/4 (C) 2/3 (D) 1/2 (E) 1/3\nRationale: There are 2 ways of landing up tails up. That is, either facing up or facing down.\n\n",
          "output_type": "stream"
        },
        {
          "name": "stderr",
          "text": "Setting `pad_token_id` to `eos_token_id`:11 for open-end generation.\n",
          "output_type": "stream"
        },
        {
          "name": "stdout",
          "text": "[Prompt:]\nQuestion: At Daifu university, 24% of all students are members of both a chess club and a swim team. If 20% of members of the swim team are not members of the chess club, what percentage of all Daifu students are members of the swim team?\nAnswer Choices: (A) 20% (B) 30% (C) 40% (D) 50% (E) 60%\nRationale: Assume there are total of 100 students. 24 students are members of both clubs. We are told that:20% of members of the swim team are not members of the chess club, thus if S is a # of members of the swim team then 0.2S is # of members of only the swim teem:\n24+0.2S=S --> S=30.\nAnswer: B.\nCorrect Answer: B\n\n\nQuestion: The monthly salary S of a shop assistant is the sum of a fixed salary of $500 plus 5% of all monthly sales. What should the monthly sales be so that her monthly salary reaches $1500?\nAnswer Choices: (A) $50000 (B) $40000 (C) $30000 (D) $20000 (E) None of these\nRationale: Let S be the total monthly salary and x be the monthly sales, hence\nS = 500 + 5% * x\nFind sales x so that S = 1500, hence\n1500 = 500 + 5% * x = 500 + 0.05 x\nSolve for x\nx = (1500 - 500) / 0.05 = $20000\nAnswer D\nCorrect Answer: D\n\n\nQuestion: In a large forest, 300 deer were caught, tagged, and returned during 2001. During 2002, 500 deer were caught at random, of which only 20 had tags from the previous year. If the percent of deer in the forest that had tags during the second year and were caught in the 500 deer sample is representative of the percent of the total deer population in the forest with tags, what is the total deer population in the forest (assuming no change in population between 2001 and 2002)?\nAnswer Choices: (A) 300 (B) 500 (C) 5000 (D) 6000 (E) 7500\nRationale: Let N = the total number of deer in the forest.\nDuring the first year, the percent of deer in the entire population with tags was: 300/N\n20/500 is the percent of deer caught during the second year that had tags. Since this sample percent matches the percent for the entire population (i.e., the total number of tagged deer divided by the total number of deer), the two ratios are equal.\nEquating these two percents:\nSample = Population\n(20/500)=(300/N)\nN = (300/1)*(500/20)\nN=7500\nAnswer E\nCorrect Answer: E\n\n\nQuestion: What is the largest integral value of 'k' for which the quadratic equation x2 - 5x + k = 0 will have two real and distinct roots?\nAnswer Choices: (A) 9 (B) 7 (C) 3 (D) 8 (E) 12\nRationale: Any quadratic equation will have real and distinct roots if the discriminant D > 0\nThe discriminant 'D' of a quadratic equation ax2 + bx + c = 0 is given by b2 - 4ac\nIn this question, the value of D = 52 - 4 * 1 * k\nIf D > 0, then 25 > 4k or k < 6.2.\nTherefore, the highest integral value that k can take is 3.\ncorrect choice is (C)\nCorrect Answer: C\n\n\nQuestion: The ratio of the volumes of a cube to that of the sphere which will fit inside the cube is?\nAnswer Choices: (A) 2: π (B) 7:2 (C) 8:2 (D) 6: π (E) 8:3\nRationale: a3 : a3/8 * 4/3 π => 6: π\nAnswer: Option D\nCorrect Answer: D\n\n\nQuestion: What will be the cost of gardening 1-metre – broad boundary around a rectangular plot having perimeter of 340 metres at the rate of 10 per square metre?\nAnswer Choices: (A) 3400 (B) 1700 (C) 3440 (D) Cannot be determined (E) None of these\nRationale: Let l and b be the length and breadth of rectangular plot respectively.\n∴ According to the question,we have\n2(l + b) = 340 ⇒ l + b = 170\nNow, (l + 2) and (b + 2) be the length and breadth of plot with boundary.\n∴ Required area = (l + 2) (b + 2) – lb\n= lb + 2l + 2b + 4 – lb\n= 2(l + b) + 4 = 344\n∴ Required cost = 344 × 10 = 3440\nAnswer C\nCorrect Answer: C\n\n\nQuestion: A shopkeeper employed a servant at a monthly salary of 1500. In addition to it, he agreed to pay him a commission of 15% on the monthly sale. How much sale in Rupees should the servant do if he wants his monthly income as 6000?\nAnswer Choices: (A) 30000 (B) 415000 (C) 31500 (D) 50000 (E) None of these\nRationale: Servant’s commission amount\n= 6000 – 1500 = 4500\ni.e.,15% = 4500\nor,100% = 4500⁄15 × 100 = 30000\nAnswer A\nCorrect Answer: A\n\n\nQuestion: A jeep travels a certain distance taking 6 hours in the forward journey. During the return journey, it increased its speed by 12km/hr and took 4 hours. What is the distance travelled by the jeep?\nAnswer Choices: (A) 126km (B) 144km (C) 127km (D) 228km (E) 128km\nRationale: Let 'x' be the distance and 'y' be the speed of the forward journey. Then, we have 6v=d and 4(v+12)=d\n=> v=d/6 and v=d/4 - 12\n=> d/6 = d/4 - 12\n=> d/12 = 12\n=> d=144\nAnswer: B\nCorrect Answer: B\n\n\nQuestion: If Jill needed to buy 10 bottles of soda for a party in which 8 people attended, how many bottles of soda will she need to buy for a party in which 12 people are attending?\nAnswer Choices: (A) 6 (B) 8 (C) 10 (D) 12 (E) 14\nRationale:\n================================================================================\n[Generated:]  If there are 8 people, then\n= 2 bottles\nand if there are 12 people, then\n= 3 bottles\nNow, bottles required = 8 bottles + 12 bottles\n= 20 bottles\nAnswer: A\n\n\nQuestion: The average temperature in a town is 40C, 40C, 34C, 48C, 30C. In which month will the average temperature be below 40C?\nAnswer Choices: (A) May (B) March (C) April (D) June (E) December\nRationale: May temperature = 40C + 40C + 34C + 48C\n= 154C = 154⁄5\n= 30C (average temperature in May)\nMarch temperature = 40C + 30C + 34C + 48C\n= 154C = 154⁄5\n= 34C (below 40C)\nAnswer: A\n\n\nQuestion: What will be the area of 40% of a rectangle whose perimeter is 24 m and length is 8 m?\n",
          "output_type": "stream"
        },
        {
          "name": "stderr",
          "text": "Setting `pad_token_id` to `eos_token_id`:11 for open-end generation.\n",
          "output_type": "stream"
        },
        {
          "name": "stdout",
          "text": "Stopping criteria triggered\n[Prompt:]\nQuestion: A box contains a certain number of balls, marked successively from 1 to n. If there are 45 different ways that two balls can be selected from the box such that the ball with number 3 marked on it is not selected, then what is the value of n?\nAnswer Choices: (A) 11 (B) 10 (C) 9 (D) 8 (E) 7\nRationale: (n-1)C2=45\nn-1=10\nn=11\nThe answer is A.\nCorrect Answer: A\n\n\nQuestion: In how many ways can the letters of the word \"PROBLEC\" be rearranged to make 7 letter words such that none of the letters repeat?\nAnswer Choices: (A) 2! (B) 3! (C) 7! (D) 8! (E) 9!\nRationale: There are seven positions to be filled.\nThe first position can be filled using any of the 7 letters contained in PROBLEM.\nThe second position can be filled by the remaining 6 letters as the letters should not repeat.\nThe third position can be filled by the remaining 5 letters only and so on.\n758\nTherefore, the total number of ways of rearranging the 7 letter word = 7*6*5*4*3*2*1 = 7! Ways.\nC\nCorrect Answer: C\n\n\nQuestion: A starts a business with Rs.40,000. After 2 months, B joined him with Rs.60,000. C joined them after some more time with Rs.120,000. At the end of the year, out of a total profit of Rs.375,000, C gets Rs.150,000 as his share. How many months after B joined the business, did C join?\nAnswer Choices: (A) 2 months (B) 4 months (C) 23 months (D) 24 months (E) 84 months\nRationale: Assume that C was there in the business for x months\nA:B:C = 40000*12 : 60000*10 : 120000*x\n= 40*12 : 60*10 : 120x = 40 : 5*10 : 10x\n=8 : 10 : 2x\n= 4 : 5 : x\nC's share = 375000*x/(9+x) = 150000\n=> 375x/(9+x) = 150\n=> 15x = 6(9+x)\n=> 5x = 18 + 2x\n=> 3x = 18\n=> x = 18/3 = 6\nIt means C was there in the business for 6 months. Given that B joined the business\nafter 2 months. Hence C joined after 4 months after B joined\nAnswer is B\nCorrect Answer: B\n\n\nQuestion: The original price of an item is discounted 22%. A customer buys the item at this discounted price using a $20-off coupon. There is no tax on the item, and this was the only item the customer bought. If the customer paid $1.90 more than half the original price of the item, what was the original price of the item?\nAnswer Choices: (A) $61 (B) $65 (C) $67.40 (D) $70 (E) $78.20\nRationale: Let x be the original price of the item\nDiscounted price = 0.78x\nPayment made by the customer after using the $20 coupon = 0.78x - 20\n0.78x - 20 = x/2 + 1.9\nx = 78.20\nAnswer: E\nCorrect Answer: E\n\n\nQuestion: The sum of the digits of a three digit number is 17, and the sum of the squares of its digits is 109. If we subtract 495 from the number, we shall get a number consisting of the same digits written in the reverse order. Find the number.\nAnswer Choices: (A) 368 (B) 377 (C) 288 (D) 997 (E) 112\nRationale: Sum of the squares should be equal to 109. Only Options B and D satisfying. When we subtract 495, only 863 becomes 368\nAnswer:A\nCorrect Answer: A\n\n\nQuestion: In an exam, a candidate secured 504 marks of the maximum mark of M. If the maximum mark M is converted into 800 marks, he would have secured 420 marks. What is the value of M?\nAnswer Choices: (A) 278 (B) 2890 (C) 270 (D) 2702 (E) 960\nRationale: 504/M = 420/800\n(504 * 800) / 420 = M\nM = 960\nAnswer:E\nCorrect Answer: E\n\n\nQuestion: M men agree to purchase a gift for Rs. D. If 3 men drop out how much more will each have to contribute towards the purchase of the gift?\nAnswer Choices: (A) D/(M-3) (B) MD/3 (C) M/(D-3) (D) 3D/(M2-3M) (E) None of these\nRationale: Initial contribution = D/m\nAfter 3 men drop out, then the contribution = D/M-3\nthe extra amount to pay = (D/m-3)-D/m\n=D(m-m+3)/)(m^2-3*m)\n= 3D/(m^2-3*m)\nANSWER:D\nCorrect Answer: D\n\n\nQuestion: A man spend 810 in buying trouser at Rs 70 each and shirt at 30 each. What will be the ratio of trouser and shirt when the maximum number of trouser is purchased?\nAnswer Choices: (A) 9 Trousers (B) 8 Trousers (C) 10 Trousers (D) 7 Trousers (E) 11 Trousers\nRationale: Lets assume S as price of shirt and T as price of trousers, we have bellow equation:\n70 T + 30 S = 810\nSimplifying we get : 7T + 3S = 81\nT = ( 81 - 3*S )/7\nWe need to find the least value of S which will make (81 - 3*S) divisible by 7\nSimplifying by taking 3 as common factor 3*(27-S) / 7\nLooking at the above equation its not difficult to find out least value of S is 6 so that 27- 3S becomes divisible by S\nHence, T = (81-3*S)/7 = (81-3*6)/7 = 63/7 = 9\nANSWER:A\nCorrect Answer: A\n\n\nQuestion: Suppose you can travel from a place M to a place N by 3 buses, from place N to place O by 4 buses, from place O to place P by 1 buses and from place P to place Q by 3 buses. In how many ways can you travel from M to Q ?\nAnswer Choices: (A) 24 (B) 36 (C) 72 (D) 84 (E) None\nRationale:\n================================================================================\n[Generated:]  (M,Q) can be travelled by 2 buses from M to O and 1 bus from O to P\n(M,Q) can be travelled by 3 buses from O to P and 1 bus from P to Q\n(M,O) can be travelled by 1 bus from M to O\n(M,P) can be travelled by 1 bus from M to P\n(O,P) can be travelled by 1 bus from O to P\n(O,Q) can be travelled by 1 bus from O to Q\n(P,Q) can be travelled by 1 bus from P to Q\n(P,O) can be travelled by 1 bus from P to O\n(P,M) can be travelled by 1 bus from P to M\n(O,M) can be travelled by 1 bus from O to M\nHence, there are 24 ways to travel from M to Q\nANSWER:C\nCorrect Answer: C\n",
          "output_type": "stream"
        },
        {
          "name": "stderr",
          "text": "Setting `pad_token_id` to `eos_token_id`:11 for open-end generation.\n",
          "output_type": "stream"
        },
        {
          "name": "stdout",
          "text": "[Prompt:]\nQuestion: 20 marbles were pulled out of a bag of only white marbles, painted black, and then put back in. Then, another 20 marbles were pulled out, of which 1 was black, after which they were all returned to the bag. If the percentage of black marbles pulled out the second time represents their percentage in the bag, how many marbles in total Q does the bag currently hold?\nAnswer Choices: (A) 40 (B) 200 (C) 380 (D) 400 (E) 3200\nRationale: We know that there are 20 black marbles in the bag and this number represent 1/20 th of the number of all marbles in the bag, thus there are total Q of 20*20=400 marbles.\nAnswer: D.\nCorrect Answer: D\n\n\nQuestion: 20 marbles were pulled out of a bag of only white marbles, painted black, and then put back in. Then, another 20 marbles were pulled out, of which 1 was black, after which they were all returned to the bag. If the percentage of black marbles pulled out the second time represents their percentage in the bag, how many marbles in total Q does the bag currently hold?\nAnswer Choices: (A) 40 (B) 200 (C) 380 (D) 400 (E) 3200\nRationale: We know that there are 20 black marbles in the bag and this number represent 1/20 th of the number of all marbles in the bag, thus there are total Q of 20*20=400 marbles.\nAnswer: D.\nCorrect Answer: D\n\n\nQuestion: I have a money pouch containing Rs. 700. There are equal number of 25 paise coins, 50 paise coins and one rupee coins.\nHow many of each are there?\nAnswer Choices: (A) 453 (B) 651 (C) 400 (D) 487 (E) 286\nRationale: 25 paise + 50 paise + 100 paise = 175 paise and Rs. 700 = 70,000 paise\n70,000/175 = 400\nCorrect Answer: C\n\n\nQuestion: In how many ways can a teacher in a kindergarten school arrange a group of 3 children (Susan, Tim and Zen) on 3 identical chairs in a straight line so that Susan is on the left of Tim?\nAnswer Choices: (A) 7 (B) 3 (C) 2 (D) 1 (E) 6\nRationale: Total ways in which 3 children can be arranged on 3 chairs = 3*2*1 = 6\nBut in half cases Susan will be left of Tim and in other half of cases Tim will be on left of Susan\ni.e. Desired cases in which Susan is on the left of Tim = (1/2)*6 = 3\nB\nCorrect Answer: B\n\n\nQuestion: A trader sold an article at a profit of 20% for Rs.360. What is the cost price of the article?\nAnswer Choices: (A) 270 (B) 300 (C) 280 (D) 320 (E) 315\nRationale: Cost Price = Selling Price / (100+Profit%) × 100 => 360 / (100+20) × 100 => 360 / 120 × 100 = Rs.300\nOption B\nCorrect Answer: B\n\n\nQuestion: The greatest common factor of two positive integers is 11. The least common multiple of these two integers is 7700. If one of the integers is 350, what is the other?\nAnswer Choices: (A) 242 (B) 308 (C) 352 (D) 412 (E) 456\nRationale: GCF*LCM = product of 2 numbers\n11*7700 = product of 2 numbers\nother number = 11*7700/350 = 242\nAnswer is A\nCorrect Answer: A\n\n\nQuestion: Q is as much younger than R as he is older than T. If the sum of the ages of R and T is 50 years. What is definitely the difference between R and Q's age?\nAnswer Choices: (A) 22 (B) 27 (C) 29 (D) Cannot be determined (E) None of the above\nRationale: R - Q = R - T\nQ = T.\nAlso R + T = 50; R + Q = 50\nSo, (R - Q) cannot be determined.\nAnswer:D\nCorrect Answer: D\n\n\nQuestion: Exactly 2/5th of the children in a certain class are girls. If there are 100 boys in the class, how many girls are in the class?\nAnswer Choices: (A) 50 (B) 100 (C) 150 (D) 200 (E) 70\nRationale: This means 2/5 of the class are boys\n2x/5=100\nx=250\ntherefore, girls = 150\nAnswer is C\nCorrect Answer: C\n\n\nQuestion: If a man rows at the rate of 4 kmph in still water and his rate against the current is 2 kmph, then the man's rate along the current is:\nAnswer Choices: (A) 15 kmph (B) 6 kmph (C) 12 kmph (D) 14 kmph (E) 6 kmph\nRationale:\n================================================================================\n[Generated:]  If he rows at a rate of 4 kmph, his rate against the current is 0 kmph.\nTo move along with the current, he must add 2 to this.\n=6 kmph\nAnswer: A\n\n\nQuestion: How can 4.5 be divided by 5?\nAnswer Choices: (A) 2/3 (B) 1/3 (C) 1/4 (D) 1/6 (E) None of the above\nRationale: We know that 5 is divisible by 5.\nWe can make the denominator a multiple of 5.\nHence, the only answer that can divide 4.5 and give the remainder 1 is 2.\nSo, 4.5 can be divided by 5, so, the answer is A\nAnswer: A\n\n\nQuestion: The area of a square is 48 cm2. The area of a rectangle is 24 cm2 more than the area of the square. The area of the rectangle is\nAnswer Choices: (A) 12 cm2 (B) 30 cm2 (C) 16 cm2 (D) \n",
          "output_type": "stream"
        },
        {
          "name": "stderr",
          "text": "Setting `pad_token_id` to `eos_token_id`:11 for open-end generation.\n",
          "output_type": "stream"
        },
        {
          "name": "stdout",
          "text": "Stopping criteria triggered\n[Prompt:]\nQuestion: A shopkeeper in order to promote his new shop put a discount of 20% on all the items for one day. Now he must sell the items at original price the other day. By what percentage must he increase the price to original?\nAnswer Choices: (A) 21% (B) 20% (C) 25% (D) 33% (E) 18%\nRationale: Suppose every item is priced at $100. On 20% discount, the price will become $80. Now he must add $20 to each item for original price which is 25% of $80.\nCorrect Answer: C\n\n\nQuestion: Six pita breads contain the same amount of falafel as do two rolls. Three rolls contain the same amount of falafel as five baguettes do. Two baguettes contain the same amount of falafel as how many pita breads?\nAnswer Choices: (A) 12/25 (B) 3/2 (C) 3 (D) 2 (E) 25/3\nRationale: 6P = 2R\n3R = 5B\n2B = ?P\nThus, P : R : B = 18 : 6 : 12\nP : B = 18 : 12\n= 3 : 2\nThus P = 3\nAnswer : C\nCorrect Answer: C\n\n\nQuestion: Car ‘X’ covers a distance of 320 kms in 8 hours and car ‘Y’ covers a distance of 415 kms in 5 hrs. What is the difference in the speed of the two cars?\nAnswer Choices: (A) 42kms/hr (B) 41km/hr (C) 43kms/hr (D) 45kms/hr (E) None of these\nRationale: The speed of Car ’X’=320kms/8hr=40kms/hr\nThe speed of car ’Y’=415kms/5hr=83kms/hr\nthe difference is 43km/hr\nANSWER:C\nCorrect Answer: C\n\n\nQuestion: There is well of depth 30m and frog is at bottom of the well. He jumps 3m up one day and falls back 2m down the same day. How many days will it take for the frog to come out of the well?\nAnswer Choices: (A) 25 days (B) 26 days (C) 27 days (D) 28 days (E) 29 days\nRationale: frog jumps 3 m up day & falls back 2 m down at night\nso,frog will be 3-2=1 m up in a day.\nThus, in 27 days it will be 27 m up\non 28 th day it will be at top i.e 27+3 = 30 m & will not fall down.\nANSWER:D\nCorrect Answer: D\n\n\nQuestion: Two cars start at the same time from opposite ends of a highway that is 50 miles long. One car is riding at 12 mph and the second car is riding at 13 mph. How long after they begin will they meet?\nAnswer Choices: (A)  1 (B)  1.25 (C)  1.50 (D)  1.75 (E)  2\nRationale: Time they will meet = total distance/ relative speed= 50/12+13 = 50/25 = 2\nAnswer is E\nCorrect Answer: E\n\n\nQuestion: M men agree to purchase a gift for Rs. D. If 3 men drop out how much more will each have to contribute towards the purchase of the gift?\nAnswer Choices: (A) D/(M-3) (B) MD/3 (C) M/(D-3) (D) 3D/(M2-3M) (E) None of these\nRationale: Initial contribution = D/m\nAfter 3 men drop out, then the contribution = D/M-3\nthe extra amount to pay = (D/m-3)-D/m\n=D(m-m+3)/)(m^2-3*m)\n= 3D/(m^2-3*m)\nANSWER:D\nCorrect Answer: D\n\n\nQuestion: The ratio of the volumes of a cube to that of the sphere which will fit inside the cube is?\nAnswer Choices: (A) 2: π (B) 7:2 (C) 8:2 (D) 6: π (E) 8:3\nRationale: a3 : a3/8 * 4/3 π => 6: π\nAnswer: Option D\nCorrect Answer: D\n\n\nQuestion: A sporting goods store carries only yellow and white golf balls. At the beginning of the day it had 600 golf balls in stock, and by the end of the day it had sold 80% of its inventory of golf balls. If the store sold an equal number of yellow and white golf balls, and in doing so sold all of its white golf balls, how many yellow golf balls did the store have to begin the day?\nAnswer Choices: (A) 80 (B) 120 (C) 240 (D) 320 (E) 360\nRationale: Since the store sold an equal number of white and yellow balls, 80%/2 = 40% of the inventory at the start of the day was white balls. Then 60% of the inventory consisted of yellow balls.\n0.6(600) = 360\nThe answer is E.\nCorrect Answer: E\n\n\nQuestion: It takes a worker 9 minutes to drive from home to work at an average rate of 20 kilometers per hour. How many minutes will it take the worker to cycle from home to work along the same route at an average rate of 6 kilometers per hour?\nAnswer Choices: (A) 30 (B) 32 (C) 35 (D) 36 (E) 40\nRationale:\n================================================================================\n[Generated:]  Average rate = (travelling speed / journey time)\n= 6/9 = 6/9 = 6/9 = 20/9\n= 6\nAnswer is B.\nCorrect Answer: B\n",
          "output_type": "stream"
        },
        {
          "name": "stderr",
          "text": "Setting `pad_token_id` to `eos_token_id`:11 for open-end generation.\n",
          "output_type": "stream"
        },
        {
          "name": "stdout",
          "text": "[Prompt:]\nQuestion: At Daifu university, 24% of all students are members of both a chess club and a swim team. If 20% of members of the swim team are not members of the chess club, what percentage of all Daifu students are members of the swim team?\nAnswer Choices: (A) 20% (B) 30% (C) 40% (D) 50% (E) 60%\nRationale: Assume there are total of 100 students. 24 students are members of both clubs. We are told that:20% of members of the swim team are not members of the chess club, thus if S is a # of members of the swim team then 0.2S is # of members of only the swim teem:\n24+0.2S=S --> S=30.\nAnswer: B.\nCorrect Answer: B\n\n\nQuestion: If a subscription for 15 issues of a magazine costs $42.00 and represents a saving of 25 percent of the cover prices, what is the cover price per issue?\nAnswer Choices: (A) $7.73 (B) $6.73 (C) $5.73 (D) $4.73 (E) $3.73\nRationale: Let subscription per magazine = x\n15x = 42\n=> x= 2.8\nLet cover price per magazine = c\nSince there is a 25% saving on cover prices\n0.75c=x\n=> 0.75c = 2.8\n=>c= 3.73\nAnswer E\nCorrect Answer: E\n\n\nQuestion: By himself, Jack can clean a yacht in 12 hours. On a particular day, he happens to finish two-thirds of the work. The remaining portion of the work is done by Jill, whose rate of cleaning is just 5% of what Jack can do. How long does it take Jill to finish the remaining work?\nAnswer Choices: (A) 4 (B) 8 (C) 22 (D) 50 (E) 20\nRationale: Jack did 2/3 of the work, which is 8 hours. So if Jack would finish the job this would take him 4 extra hours. Jill's rate is 5% of what Jack would do in those 4 hours. That means it would take her ten times as much time as Jack put into the job. 5*4 equals 20, answer E.\nCorrect Answer: E\n\n\nQuestion: Two ants are standing side-by-side. One ant, which is 4 inches tall, casts a shadow that is 10 inches long. The other ant is 6 inches tall. Compute, in inches, the length of the shadow that the taller ant casts.\nAnswer Choices: (A) 36 (B) 28 (C) 42 (D) 15 (E) 20\nRationale: The ratio of shadow to height is constant, so if x is the length of the shadow, then\n4/10 = 6/x and x = 15 .\ncorrect answer D\nCorrect Answer: D\n\n\nQuestion: Six pita breads contain the same amount of falafel as do two rolls. Three rolls contain the same amount of falafel as five baguettes do. Two baguettes contain the same amount of falafel as how many pita breads?\nAnswer Choices: (A) 12/25 (B) 3/2 (C) 3 (D) 2 (E) 25/3\nRationale: 6P = 2R\n3R = 5B\n2B = ?P\nThus, P : R : B = 18 : 6 : 12\nP : B = 18 : 12\n= 3 : 2\nThus P = 3\nAnswer : C\nCorrect Answer: C\n\n\nQuestion: Two friends are eating a jar full of candies. Had P eaten alone, it would have taken him 10 minutes to finish the candies in the jar. Had Q eaten alone, it would have taken her 5 minutes to finish half the jar. Since both of them are eating simultaneously, how many minutes would it take them to empty the jar?\nAnswer Choices: (A) 4 (B) 5 (C) 6 (D) 7 (E) 8\nRationale: Together they eat 1/10 + 1/10 = 1/5 of the jar per minute.\nThe time to finish the jar is 5 minutes.\nThe answer is B.\nCorrect Answer: B\n\n\nQuestion: What will be the cost of gardening 1-metre – broad boundary around a rectangular plot having perimeter of 340 metres at the rate of 10 per square metre?\nAnswer Choices: (A) 3400 (B) 1700 (C) 3440 (D) Cannot be determined (E) None of these\nRationale: Let l and b be the length and breadth of rectangular plot respectively.\n∴ According to the question,we have\n2(l + b) = 340 ⇒ l + b = 170\nNow, (l + 2) and (b + 2) be the length and breadth of plot with boundary.\n∴ Required area = (l + 2) (b + 2) – lb\n= lb + 2l + 2b + 4 – lb\n= 2(l + b) + 4 = 344\n∴ Required cost = 344 × 10 = 3440\nAnswer C\nCorrect Answer: C\n\n\nQuestion: John would make the 3-letter codes with diffenrent 5 vowels and 20 consonants with the condition that the middle letter must be vowel and the first letter and the third letter must be different from each other and are both consonant. How many different codes can be made?\nAnswer Choices: (A) 1,980 (B) 2,020 (C) 2,100 (D) 2,200 (E) 1,900\nRationale: There should be a vowel in the middle of the 3-letter code, which means that 5 letters can be in the middle. Then, 20 letters can be placed in the first letter and 19 letters can be placed in the last letter as they should be different letters. Thus, 20*5*19=1,900.\nTherefore, the answer is E.\nCorrect Answer: E\n\n\nQuestion: If one third of 3/4 of a number is 21. Then, find the number?\nAnswer Choices: (A) 84 (B) 66 (C) 28 (D) 19 (E) 11\nRationale:\n================================================================================\n[Generated:]  3/4 × 3/4 × 21 = 12 × 21 = 252\nTo find the remaining part,\n= 21 × 3/4 = 21 × 3/8 = 63/2 = 31\nNow, we have\n(3/4 × 3/4 × 21) – (21 × 3/4 × 31) = 252 – 63 = 189\nWe know that 3/4 = 21/63\n189 = 21/63 × 3/4\n⇒ 189 = 21/63 × 1/3\n⇒ 189 = 21/63 * 31/3\n⇒ 189 = 63 * 31/3\n⇒ 189 = 63 × 31/3\n⇒ 189 = 63 × (31 + 3) / 3\n⇒ 189 = 63 × 34\n⇒ 189 = 63 × 3 × 34\n⇒ 189 =\n",
          "output_type": "stream"
        },
        {
          "name": "stderr",
          "text": "Setting `pad_token_id` to `eos_token_id`:11 for open-end generation.\n",
          "output_type": "stream"
        },
        {
          "name": "stdout",
          "text": "Stopping criteria triggered\n[Prompt:]\nQuestion: In a large forest, 300 deer were caught, tagged, and returned during 2001. During 2002, 500 deer were caught at random, of which only 20 had tags from the previous year. If the percent of deer in the forest that had tags during the second year and were caught in the 500 deer sample is representative of the percent of the total deer population in the forest with tags, what is the total deer population in the forest (assuming no change in population between 2001 and 2002)?\nAnswer Choices: (A) 300 (B) 500 (C) 5000 (D) 6000 (E) 7500\nRationale: Let N = the total number of deer in the forest.\nDuring the first year, the percent of deer in the entire population with tags was: 300/N\n20/500 is the percent of deer caught during the second year that had tags. Since this sample percent matches the percent for the entire population (i.e., the total number of tagged deer divided by the total number of deer), the two ratios are equal.\nEquating these two percents:\nSample = Population\n(20/500)=(300/N)\nN = (300/1)*(500/20)\nN=7500\nAnswer E\nCorrect Answer: E\n\n\nQuestion: Julie’s yard is rectangular. One side of the yard is 100 feet wide. The total area of the yard is 3,000 square feet. What is the length of the other side of the yard?\nAnswer Choices: (A) 30 feet (B) 20 feet (C) 10 feet (D) 50 feet (E) 60 feet\nRationale: Area = length x width. Divide area by width to find the missing side.\n3000 ÷100 = 30\nThe other side is 30 feet.\nCorrect answer A\nCorrect Answer: A\n\n\nQuestion: The value of log2 4 is:\nAnswer Choices: (A) 2 (B) 4 (C) 6 (D) 8 (E) 12\nRationale: Let log2 4 = n.\nlog2 4 = 2.\nAnswer: Option A\nCorrect Answer: A\n\n\nQuestion: A man walks at 5 kmph for 6 hrs and at 4 kmph for 12 hrs. His average speed is\nAnswer Choices: (A) 4 1/3 km/h (B) 7 2/3 km/h (C) 9 ½ km/h (D) 8 km/h (E) 81 km/h\nRationale: Avg speed = total distance/total time\n= 5*6 + 4*12 / 18\n=4 1/3 km/h\nCorrect Answer: A\n\n\nQuestion: My wall contains 8 red colour ties, 13 violet colour ties,10 blue colour ties, 5 pink colour ties, 4 green colour ties. If electricity is gone and I want at least two ties of same colour then how many ties I should take out from my rack?\nAnswer Choices: (A) 2 (B) 3 (C) 4 (D) 5 (E) 6\nRationale: 5 ties will get you one of different colored ties in the worst case. Thus, one more tie and you will have at least one pair. Thus, 6 is the correct answer.\nANSWER:E\nCorrect Answer: E\n\n\nQuestion: The average (arithmetic mean) of the weight of 10 vehicles is 12.2 tons. The average weight of the group of vehicles increased by 2.6 tons after a new heavy duty truck was added to the group? What is the weight in tons of the heavy duty truck?\nAnswer Choices: (A) 40.8 (B) 41.6 (C) 42.2 (D) 43.5 (E) 44.8\nRationale: The new average is 14.8 tons.\nOn average, the ten trucks are 2.6 tons below the average for a total weighting of 26 tons.\nTherefore, the added truck must be 14.8 + 26 = 40.8 tons\nThe answer is A.\nCorrect Answer: A\n\n\nQuestion: The sum of k consecutive integers is 51. If the least integer is -50, then k =\nAnswer Choices: (A) 40 (B) 62 (C) 82 (D) 92 (E) 102\nRationale: The difference is consistent with each integers , therefore the series can be A.P.\nSum of A.P. = A + (N-1) D\nA=First term\nD=Difference between each integer\nN=number of terms\nSum = A + (N - 1 ) D\n51= -50 + N - 1\nN = 102\nAnswer = E\nCorrect Answer: E\n\n\nQuestion: The capacity of a tank of dimensions (8 m × 6 m × 2.5 m) is\nAnswer Choices: (A) 120 litres (B) 1200 litres (C) 12000 litres (D) 120000 litres (E) None of these\nRationale: Capacity of the bank = Volume of the bank\n= (8x100x6x100x2.5x100/1000) =\nanswer D\nCorrect Answer: D\n\n\nQuestion: A company produces 420 units of a particular computer component every month, at a production cost to the company of $110 per component, and sells all of the components by the end of each month. What is the minimum selling price per component that will guarantee that the yearly profit (revenue from sales minus production costs) will be at least $626,400 ?\nAnswer Choices: (A) 226 (B) 230 (C) 240 (D) 260 (E) 280\nRationale:\n================================================================================\n[Generated:]  (A) The revenue of $626,400 is the total annual revenue of 420 units sold for $140 per unit.\nThe unit selling price is the cost of producing 1 unit minus the revenue per unit.\n(B) The revenue of $626,400 is the total annual revenue of 420 units sold for $140 per unit.\nThe unit selling price is the cost of producing 1 unit minus the revenue per unit.\n(C) This is the maximum profit.\n(D) This is the minimum profit.\n(E) This is the average profit.\nCorrect Answer: A\n",
          "output_type": "stream"
        },
        {
          "name": "stderr",
          "text": "Setting `pad_token_id` to `eos_token_id`:11 for open-end generation.\n",
          "output_type": "stream"
        },
        {
          "name": "stdout",
          "text": "Stopping criteria triggered\n[Prompt:]\nQuestion: A straight picket fence is composed of x pickets each of which is 1/2 inch wide. If there are 6 inches of space between each pair of pickets, which of the following represents the length of fence in feet?\nAnswer Choices: (A) 13x/2 (B) 13x/2 - 6 (C) 13x/24 (D) (13x+1)/24 (E) (13x-12)/24\nRationale: Number of pickets = x\nSize of pickets = 1/2\nlength of pickets = 1/2x\nIf there are x pickets, it implies that there are x -1 spaces between the picket\nLength of space = 6\ntotal number of length = 1/2 x + 6(x-1) in inches\ntotal length in feet =( 1/2 x + 6(x-1))/12\nSimplify to get (13X-12)/24\nANSWER:E\nCorrect Answer: E\n\n\nQuestion: The average weight of 10 oarsmen in a boat is increased by 1.8 kg when one of the crew, who weighs 53 kg is replaced by a new man. Find the weight of the new man.\nAnswer Choices: (A) 71 (B) 62 (C) 43 (D) 67 (E) 40\nRationale: Total weight increased = (1.8 x 10) kg =18 kg.\nWeight of the new man = (53 + 18) kg =71 kg.\nANSWER A\nCorrect Answer: A\n\n\nQuestion: Kevin drove from A to B at a constant speed of 70 mph. Once he reached B, he turned right around with pause, and returned to A at a constant speed of 90 mph. Exactly 3 hours before the end of his trip, he was still approaching B, only 70 miles away from it. What is the distance between A and B?\nAnswer Choices: (A) 180 (B) 90 (C) 270 (D) 360 (E) None of the above\nRationale: In the last 70 miles of his approach to B, Kevin was traveling at 70 mph, so he traveled that distance in 1 hr, or 60 minutes. That means, when he arrived at B, 60 minutes had elapsed, and he took (3 hr) – (1 hr) = 2 hr to drive the distance D at 90 mph.\nD = RT = (90 mph)[ (2 hr] = 180 mi\nAnswer = (A)\nCorrect Answer: A\n\n\nQuestion: A grocer makes a 25% profit on the selling price for each bag of flour it sells. If he sells each bag for $100 and makes $3,000 in profit, how many bags did he sell?\nAnswer Choices: (A) 12 (B) 16 (C) 24 (D) 30 (E) 40\nRationale: Profit on one bag: 100*1.25= 125\nNumber of bags sold = 3000/125 = 24\nAnswer is C.\nCorrect Answer: C\n\n\nQuestion: A number of friends decided to go on a picnic and planned to spend Rs. 96 on eatables. Four of them, however, did not turn up. As a consequence, the remaining ones had to contribute Rs. 4 extra, each. The number of those who attended the picnic was\nAnswer Choices: (A) 8 (B) 12 (C) 16 (D) 24 (E) 25\nRationale: Let the number of persons be x. Then,\n96/x-4-96/x=4 => x=12\nSo, required number =x-4=8.\nAnswer is A\nCorrect Answer: A\n\n\nQuestion: Q is as much younger than R as he is older than T. If the sum of the ages of R and T is 50 years. What is definitely the difference between R and Q's age?\nAnswer Choices: (A) 22 (B) 27 (C) 29 (D) Cannot be determined (E) None of the above\nRationale: R - Q = R - T\nQ = T.\nAlso R + T = 50; R + Q = 50\nSo, (R - Q) cannot be determined.\nAnswer:D\nCorrect Answer: D\n\n\nQuestion: The capacity of a tank of dimensions (8 m × 6 m × 2.5 m) is\nAnswer Choices: (A) 120 litres (B) 1200 litres (C) 12000 litres (D) 120000 litres (E) None of these\nRationale: Capacity of the bank = Volume of the bank\n= (8x100x6x100x2.5x100/1000) =\nanswer D\nCorrect Answer: D\n\n\nQuestion: A cyclist travels at 12 miles per hour. How many minutes will it take to travel 48 miles?\nAnswer Choices: (A) 1 (B) 240 (C) 30 (D) 60 (E) 120\nRationale: At 12 miles per hour, to cover 48 miles the cyclist will need 4 hours or 240 minutes.\nAnswer: B.\nCorrect Answer: B\n\n\nQuestion: Sharon works for 5 hours to earn enough tips to buy an ice cream cake, while Karen works for 4. After how many hours will they be able to buy the cake together?\nAnswer Choices: (A) 1 hour (B) 2 hours (C) 3 hours (D) 4 hours (E) 5 hours\nRationale:\n================================================================================\n[Generated:]  If Sharon earns enough in 5 hours, then he/she can afford to buy a 5-scoop ice cream cake.\nIf Karen works for 4 hours, then she can afford to buy a 4-scoop ice cream cake.\nTherefore, it will take 4 hours for the two of them to buy the cake.\nAnswer:C.\nCorrect Answer: C\n",
          "output_type": "stream"
        },
        {
          "name": "stderr",
          "text": "Setting `pad_token_id` to `eos_token_id`:11 for open-end generation.\n",
          "output_type": "stream"
        },
        {
          "name": "stdout",
          "text": "Stopping criteria triggered\n[Prompt:]\nQuestion: Jack buys 18 sharpeners (white and brown) for rs. 100. If he pays 1 rupee more for each white than brown sharpeners. How many of white and how many brown sharpeners did he buy?\nAnswer Choices: (A) 10,8 (B) 9,8 (C) 7,8 (D) 5,6 (E) 11,12\nRationale: Total cost=100\nnumber of sharp=18\ncost of white=cost of brown+1\n100/18=5.5...-(1)\nalso 100%18=10...-(2)\nas cost of white is 1 more than that of brown\nfrom 1 int. value will be 5\nnow remainder is 10 so 10 sharp. will be of cost (5+1)\n=> 10*(5+1)+8*5\n=>10*6+8*5\n=60+40\n100\nwhite=10\nbrown=8\nANSWER:A\nCorrect Answer: A\n\n\nQuestion: An express electric train takes exact three seconds to enter tunnel which is 1 mile long.\nIf train is traveling at 120 mile an hour, how long will it take to pass completely through the tunnel ?\nAnswer Choices: (A) 43 seconds (B) 39 seconds (C) 20 seconds (D) 33 seconds (E) 55 seconds\nRationale: The train takes 30 seconds to travel 1 mile, plus 3 seconds for the complete train to pass any point, making a total of 33 seconds.\nCorrect Answer: D\n\n\nQuestion: Winson runs from his home to his school at an average speed of 10 miles/hr, and then walks home along the same route at an average speed of 5 miles/hr. If the whole journey took one hour, how many miles is his home from his school?\nAnswer Choices: (A) 9 (B) 6 (C) 4 (D) 3 (E) 2\nRationale: Suppose x is the distance then\ngoing time + coming time = total time = 1 hour\nx/10 + x/5 = 1\nx = 1.5=2 miles\nAnswer E.\nCorrect Answer: E\n\n\nQuestion: In the coordinate plane, a triangle has vertices at (a,0), (b,0), and (x,y). If a>x>b>0>y, which of the following represents the area of that triangle?\nAnswer Choices: (A) (ay−by)/2 (B) (ab−ay)/2 (C) (by−ay)/2 (D) (ay+by)/x (E) (a−b)/2y\nRationale: We must plug in the three points that satisfy y<0<b<x<a.\nOnly C satisfies the area of a triangle.\nAnswer:\nC. (by−ay)/2\nCorrect Answer: C\n\n\nQuestion: I know a 5 digit number having a property that with a 1 after it, it is three times as large as it would be with a 1 before it.\nWhat is that number?\nAnswer Choices: (A) 42857 (B) 32456 (C) 76523 (D) 24567 (E) 43566\nRationale: Let the number be x\n10x +1 = 3(100,000 + x)\n=> x = 42857.\nCorrect Answer: A\n\n\nQuestion: Train A leaves a station every 16 minutes and Train B leaves every 17 minutes. If both trains just left the station simultaneously, how long until they do so again?\nAnswer Choices: (A) 272 minutes (B) 304 minutes (C) 190 minutes (D) 70 minutes (E) 35 minutes\nRationale: We have to find the LCM:\n17 is a prime number which means the LCM of 16 and 17 has to be 16*17=272\nCorrect answer is A.\nCorrect Answer: A\n\n\nQuestion: The sum of k consecutive integers is 51. If the least integer is -50, then k =\nAnswer Choices: (A) 40 (B) 62 (C) 82 (D) 92 (E) 102\nRationale: The difference is consistent with each integers , therefore the series can be A.P.\nSum of A.P. = A + (N-1) D\nA=First term\nD=Difference between each integer\nN=number of terms\nSum = A + (N - 1 ) D\n51= -50 + N - 1\nN = 102\nAnswer = E\nCorrect Answer: E\n\n\nQuestion: In a railway station, there are two trains going. One in the harbor line and one in the main line, each having a frequency of 10 minutes. The main line service starts at 5 o'clock and the harbor line starts at 5.02 A.M. A man goes to the station every day to catch the first train that comes. What is the probability of the man catching the first train?\nAnswer Choices: (A) 0.9 (B) 0.8 (C) 0.6 (D) 0.65 (E) 1.5\nRationale: For each 10 min interval, if man comes in first 2 min, he'll catch the 1st train, if he comes in next 8 min, he'll catch the 2nd train.\nHence, for harbor line = (2/10) = 0.2 and for main line 0.8.\nAnswer:B\nCorrect Answer: B\n\n\nQuestion: A certain phone manufacturer ships its products in crates. A crate consists of p pallets, and each pallet holds 1250 phones. If the manufacturer ships 4 crates, how many phones are shipped?\nAnswer Choices: (A) 1000p (B) 1500p (C) 2000p (D) 2500p (E) 30000\nRationale:\n================================================================================\n[Generated:]  p = pallets, p = 1250 phones.\n4 crates = 4 pallets\n1250p = 1250*1250\nHence, 1250p=150000\nCorrect answer is A.\nCorrect Answer: A\n",
          "output_type": "stream"
        },
        {
          "name": "stderr",
          "text": "Setting `pad_token_id` to `eos_token_id`:11 for open-end generation.\n",
          "output_type": "stream"
        },
        {
          "name": "stdout",
          "text": "[Prompt:]\nQuestion: A rectangular piece of 150 sq m has a length which is 1m more than the 4 times the breadth. What is the perimeter of the piece?\nAnswer Choices: (A) 60 m (B) 61 m (C) 62 m (D) 63 m (E) 64 m\nRationale: Let its breadth be = x m.\nSo length will be = (4x+1) m.\nNow,\nx * (4x+1) = 150\nor, 4x^2+x-150 = 0\nor, (4x+25)(x-6) = 0\nEither 4x = -25 or x = 6\nAs breadth can not take negetive value so x = 6\nSo its length is 4*6+1 = 25\nSo perimeter will be 2*(25+6)=62 mLet its breadth be = x m.\nSo length will be = (4x+1) m.\nNow,\nx * (4x+1) = 150\nor, 4x^2+x-150 = 0\nor, (4x+25)(x-6) = 0\nEither 4x = -25 or x = 6\nAs breadth can not take negetive value so x = 6\nSo its length is 4*6+1 = 25\nSo perimeter will be 2*(25+6)=62 m\nANSWER:C\nCorrect Answer: C\n\n\nQuestion: John likes to have lightly flavored tea every evening. In a 50% strong milk tea, he replaces 15% of it with milk twice. Then, he replaces 10 percent of the resultant solution with more milk.\nWhat is the final concentration of tea John drinks?\nAnswer Choices: (A) 15.38% (B) 42% (C) 39.86% (D) 22.35% (E) 32.51%\nRationale: Imagine starting out with 100 ml of 50% milk tea.\nIn step 1, 15% of the tea is replaced with milk. Thus, 85% of the original tea remains. Since this is done twice, we have a concentration of 50x0.85x0.85% (=36.125%) of tea solution.\nFinally, 10% of this solution is replaced with milk again. So, the final concentration of tea is 36.125*0.9%\nThis equals 32.51% of tea solution.\nAnswer: E\nCorrect Answer: E\n\n\nQuestion: A flagstaff 17.5 metre high casts a shadow of length 40.25 metre. The height of building, which casts a shadow of length 28.75 metre under similar conditions will be :\nAnswer Choices: (A) 12 metre (B) 12.5 metre (C) 13.5 metre (D) 14 metre (E) 15 metre\nRationale: Less shadow, Less Height (Direct Proportion)\nSo, let height of building be x metre\nthen,\n40.25:17.5::28.75:x\n=>x=17.5∗28.75/ 40.25\n=>x=12.5\nOption B\nCorrect Answer: B\n\n\nQuestion: The number of water lilies on a certain lake doubles every two days. If there is exactly one water lily on the lake, it takes 60 days for the lake to be fully covered with water lilies. In how many days will the lake be fully covered with lilies, if initially there were 64 water lilies on it?\nAnswer Choices: (A) 15 (B) 28 (C) 30 (D) 53 (E) 59\nRationale: Starting from 1 Water Lilly it takes 60 days.\nIf there are already two present, it can be taken as the first day is over.\nIt will take 59 more days.\nNotice that we are told thatthe number of water lilies on a certain lake doubles every two days, thus if initially there were 64 water lilies instead of one, we can consider that 7 days are over and therefore only 53 days are left.\nAnswer: D.\nCorrect Answer: D\n\n\nQuestion: A man spends 70% of his income. If his income increases by 20%, then what will be his new expenditure?\nAnswer Choices: (A) 58.3% (B) 62.5% (C) 63.5% (D) 64.5% (E) 65.5%\nRationale: Let Rs 100 be the income\nExpenditure=Rs70\nIncreased income=Rs120\nExpenditure in amount is same.\nSo, expenditure % =70/120 *100=58.3%\nANSWER:A\nCorrect Answer: A\n\n\nQuestion: A number is as much greater than 36 as is less than 86. Find the Number.\nAnswer Choices: (A) 60 (B) 56 (C) 51 (D) 61 (E) 41\nRationale: Let the number be x. Then, X-36 = 86-X\n2X = 86+36 = 122, x = 61.\nThe answer is option D) 61.\nCorrect Answer: D\n\n\nQuestion: In a bag of red and green sweets, the ratio of red sweets to green sweets is 3:4. If the bag contains 120 green sweets, how many red sweets are there?\nAnswer Choices: (A) 90 (B) 80 (C) 95 (D) 100 (E) 85\nRationale: Let x = red sweets\nWrite the items in the ratio as a fraction.\nred/green=3/4=x/120\n3 × 120 = 4 × x\n360 = 4x\nx=360/4=90\nAnswer:A\nCorrect Answer: A\n\n\nQuestion: At 6% per annum simple interest, Rahul borrowed Rs. 500. What amount will he pay to clear the debt after 4 years\nAnswer Choices: (A) 750 (B) 700 (C) 620 (D) 600 (E) None of these\nRationale: We need to calculate the total amount to be paid by him after 4 years, so it will be Principal + simple interest.\nSo,\n=>500+500∗6∗4 /100=>Rs.620\nOption C\nCorrect Answer: C\n\n\nQuestion: A man divides Rs 8600 among 5 sons, 4 daughters and 2 nephews. If each daughter receives four times as much as each nephew, and each son receives five as much as each nephew. How much does each daughter receive ?\nAnswer Choices: (A) Rs 400 (B) Rs 500 (C) Rs 600 (D) Rs 700 (E) Rs 800\nRationale:\n================================================================================\n[Generated:]  So, the daughter receives x.\nThe sum total received by the sons will be Rs 5x.\nThe sum total received by the daughters will be Rs 4x.\nAnd, it will be Rs 600.\nOption A\n\n\nQuestion: In the following table, in how many ways can 7 items be selected from 8 items if there are no restrictions on the order in which they are chosen?\nAnswer Choices: (A) 28 (B) 45 (C) 24 (D) 56 (E) 25\nRationale: It can be considered that a box containing 7 items has to be selected.\nIf 7 items are selected in a particular order, they will give 8 possibilities of order.\nNow, if we repeat this process for the 2nd box containing 7 items, we get the following combinations.\nNow,\nNo. of ways to select 7 items in a particular order in 1st box=8 ways\nNo. of ways to select 7 items in a particular order in 2nd box=4 ways\nSo, answer is 8×4 = 32\nANSWER:B\n\n\nQuestion:\n",
          "output_type": "stream"
        },
        {
          "name": "stderr",
          "text": "Setting `pad_token_id` to `eos_token_id`:11 for open-end generation.\n",
          "output_type": "stream"
        },
        {
          "name": "stdout",
          "text": "[Prompt:]\nQuestion: If one of the roots of the quadratic equation x^2 + mx + 22 = 0 is 1.5, then what is the value of m?\nAnswer Choices: (A) -23.5 (B) -17.5 (C) -10.5 (D) -16.2 (E) Cannot be determined\nRationale: Here x=1.5 must satisfy the equation\n=> 1.5^2 + 1.5m + 22 = 0\n=> m=-16.2\nANSWER:D\nCorrect Answer: D\n\n\nQuestion: Anna is able to buy 5 more articles for $300 after the price of each article decreased by 15%. What is the new selling price of each article?\nAnswer Choices: (A) $8 (B) $10 (C) $13.6 (D) $22.9 (E) $40\nRationale: p = old price.\nn = the number of items for $300 for p.\npn = (0.85p)(n + 5) --> n = 0.85(n + 5) --> n = 17.\nNew price = 300/(n + 5) = 13.6.\nAnswer: C.\nCorrect Answer: C\n\n\nQuestion: John would make the 3-letter codes with diffenrent 5 vowels and 20 consonants with the condition that the middle letter must be vowel and the first letter and the third letter must be different from each other and are both consonant. How many different codes can be made?\nAnswer Choices: (A) 1,980 (B) 2,020 (C) 2,100 (D) 2,200 (E) 1,900\nRationale: There should be a vowel in the middle of the 3-letter code, which means that 5 letters can be in the middle. Then, 20 letters can be placed in the first letter and 19 letters can be placed in the last letter as they should be different letters. Thus, 20*5*19=1,900.\nTherefore, the answer is E.\nCorrect Answer: E\n\n\nQuestion: A square piece of cloth is trimmed by 4 feet on one edge to form a rectangular piece, which is then cut diagonally in half to create two triangles. If the area of each of triangle is 70 square feet, what was the perimeter (in feet) of the original piece of square cloth?\nAnswer Choices: (A) 56 (B) 58 (C) 60 (D) 62 (E) 64\nRationale: Let x be the length of one side of the original square.\nThe area of the rectangle is x(x-4)=140.\nx=14.\nThe perimeter of the square was 4*14=56 feet.\nThe answer is A.\nCorrect Answer: A\n\n\nQuestion: A straight picket fence is composed of x pickets each of which is 1/2 inch wide. If there are 6 inches of space between each pair of pickets, which of the following represents the length of fence in feet?\nAnswer Choices: (A) 13x/2 (B) 13x/2 - 6 (C) 13x/24 (D) (13x+1)/24 (E) (13x-12)/24\nRationale: Number of pickets = x\nSize of pickets = 1/2\nlength of pickets = 1/2x\nIf there are x pickets, it implies that there are x -1 spaces between the picket\nLength of space = 6\ntotal number of length = 1/2 x + 6(x-1) in inches\ntotal length in feet =( 1/2 x + 6(x-1))/12\nSimplify to get (13X-12)/24\nANSWER:E\nCorrect Answer: E\n\n\nQuestion: 30 is subtracted from a number, it is reduced to its one third. What is the value of 50% of that number?\nAnswer Choices: (A) 22.5 (B) 84 (C) 21 (D) 24 (E) 25\nRationale: 2/3 x = 30 => x = 45\n45 * 1/2 = 22.5\nANSWER:A\nCorrect Answer: A\n\n\nQuestion: Silu and Meenu were walking on the road.\nSilu said, \"I weigh 51 Kgs. How much do you weigh?\"\nMeenu replied that she wouldn't reveal her weight directly as she is overweight.\nBut she said, \"I weigh 29 Kgs plus half of my weight. \"How much does Meenu weigh?\nAnswer Choices: (A) 12 (B) 28 (C) 27 (D) 58 (E) 91\nRationale: It is given that Meenu weighs 29 Kgs plus half of her own weight.\nIt means that 29 Kgs is the other half. So she weighs 58 Kgs.\nSolving mathematically, let's assume that her weight is A Kgs.\nA = 29 + A/2\n2 × A = 58 + A\nA = 58 Kgs.\nAnswer:D\nCorrect Answer: D\n\n\nQuestion: Roy was suffering from severe headaches. He went to see his doctor and the doctor gave him 5 tablets asking him to take one tablet every 15 minutes.\nHow much time will it take Roy to consume all the 5 tablets?\nAnswer Choices: (A) 45 Min (B) 75 Min (C) 90 Min (D) 120 Min (E) 60 Min\nRationale: Tablet 1 will be taken in 0 min.\nTablet 2 will be taken in 15 min.\nTablet 3 will be taken in 30 min.\nTablet 4 will be taken in 45 min.\nTablet 5 will be taken in 60 min.\nCorrect Answer: E\n\n\nQuestion: Calculate the percentage gain of a merchant who purchased 90 kg of oranges for Rs. 450 and sold the whole lot at the rate of Rs. 7.50 per kg.\nAnswer Choices: (A) 50 % (B) 60 % (C) 55 % (D) 70 % (E) 58%\nRationale:\n================================================================================\n[Generated:]  90 kg of oranges x 7.50 = Rs.6750\nSales = Rs.6750-450=2250\nSales=2250/90=25.55%\nANSWER:B\n\n\nQuestion: A man walks half of the distance to the railway station, and then takes a bus half of the remaining distance. Then he travels by bus for the remaining distance and walks the remaining distance. What is the total distance that he traveled?\nAnswer Choices: (A) 12 Km (B) 18 Km (C) 20 Km (D) 30 Km (E) 18 Km\nRationale: A half of the distance = 12 Km.\nThen the man walks for 12 Km by walking and takes a bus for the remaining 18 Km\nSo, he traveled a total of 30 Km.\nANSWER:B\n\n\nQuestion: A triangle has a perimeter of 24 and an area of 96 square meters. What is the height of the triangle?\nAnswer Choices: (A) 4 Meters (B) 6 Meters (C) 7 Meters (D) 10 Meters (E\n",
          "output_type": "stream"
        },
        {
          "name": "stderr",
          "text": "Setting `pad_token_id` to `eos_token_id`:11 for open-end generation.\n",
          "output_type": "stream"
        },
        {
          "name": "stdout",
          "text": "Stopping criteria triggered\n[Prompt:]\nQuestion: M men agree to purchase a gift for Rs. D. If 3 men drop out how much more will each have to contribute towards the purchase of the gift?\nAnswer Choices: (A) D/(M-3) (B) MD/3 (C) M/(D-3) (D) 3D/(M2-3M) (E) None of these\nRationale: Initial contribution = D/m\nAfter 3 men drop out, then the contribution = D/M-3\nthe extra amount to pay = (D/m-3)-D/m\n=D(m-m+3)/)(m^2-3*m)\n= 3D/(m^2-3*m)\nANSWER:D\nCorrect Answer: D\n\n\nQuestion: What is 60% of 30% of 1400 grams?\nAnswer Choices: (A) 450 gms (B) 100 gms (C) 252 gms (D) 240 gms (E) None of these\nRationale: 60/100 * 30/100 * 1400= 252\nAnswer: C\nCorrect Answer: C\n\n\nQuestion: A two digit number exceeds the sum of the digits of that number by 18. If the digit at the unit's place is double the digit in the ten's place, what is the number?\nAnswer Choices: (A) 12 (B) 24 (C) 42 (D) 48 (E) 49\nRationale: Let the ten's digit be x.\nThen, unit's digit = 2x.\nNumber = 10x + 2x = 12x;\nSum of digits = x + 2x = 3x.\nTherefore,  12x - 3x = 18\n‹=› 9x = 18\n‹=› x = 2.\nHence, required number = 12x = 24.\nAnswer B\nCorrect Answer: B\n\n\nQuestion: The average (arithmetic mean) of the weight of 10 vehicles is 12.2 tons. The average weight of the group of vehicles increased by 2.6 tons after a new heavy duty truck was added to the group? What is the weight in tons of the heavy duty truck?\nAnswer Choices: (A) 40.8 (B) 41.6 (C) 42.2 (D) 43.5 (E) 44.8\nRationale: The new average is 14.8 tons.\nOn average, the ten trucks are 2.6 tons below the average for a total weighting of 26 tons.\nTherefore, the added truck must be 14.8 + 26 = 40.8 tons\nThe answer is A.\nCorrect Answer: A\n\n\nQuestion: Five dozen toys are packed in a box and 98 boxes are kept in a tempo. How many tempos can lift 29400 toys in one round ?\nAnswer Choices: (A) 4 (B) 5 (C) 7 (D) 6 (E) 8\nRationale: Five dozen = 5 x 12 = 60\n⇒ No of toys can be kept in 1 box = 60\n∴ No of toys can be kept in 98 boxes = 60 x 98 = 5880\n∴ 29400 toys can be lifted by = 29400 / 5880 = 5 tempos\nOption: B\nCorrect Answer: B\n\n\nQuestion: If Raj was one-third as old as Rahim 5 years back and Raj is 17 years old now, How old is Rahim now?\nAnswer Choices: (A) 37 (B) 41 (C) 40 (D) 42 (E) 43\nRationale: Raj’s age today = 17 decades,\nHence, 5 decades back, he must be 12 years old.\nRahim must be 36 years old, Because (3×12).\n5 years back Rahim must be 41 years old today. Because (36+5).\nCorrect Answer: B\n\n\nQuestion: A straight picket fence is composed of x pickets each of which is 1/2 inch wide. If there are 6 inches of space between each pair of pickets, which of the following represents the length of fence in feet?\nAnswer Choices: (A) 13x/2 (B) 13x/2 - 6 (C) 13x/24 (D) (13x+1)/24 (E) (13x-12)/24\nRationale: Number of pickets = x\nSize of pickets = 1/2\nlength of pickets = 1/2x\nIf there are x pickets, it implies that there are x -1 spaces between the picket\nLength of space = 6\ntotal number of length = 1/2 x + 6(x-1) in inches\ntotal length in feet =( 1/2 x + 6(x-1))/12\nSimplify to get (13X-12)/24\nANSWER:E\nCorrect Answer: E\n\n\nQuestion: Roberts has a property worth of $1023.65. But in a record his property worth is written as greatest positive even integer less than or equal to his property worth and it is divisible by 100. Find the difference between actual property and recorded property worth?\nAnswer Choices: (A) 23.65 (B) 1000 (C) 35.62 (D) 2.65 (E) 1023.65\nRationale: Since Robert property worth is written as greatest positive even integer less than or equal to his property worth and it is divisible by 100 then it is =1000 (greatest positive even integer less than or equal to his property worth and it is divisible by 100 is 1000).\nHence the difference = 1023.65 - 1000 = 23.65\nAnswer: A.\nCorrect Answer: A\n\n\nQuestion: Shweta rides at the rate of 10 km per hour but stops for 10 minutes to take rest at the end of every 15 km. How many hours will she take to cover 100 km\nAnswer Choices: (A) 9 hours. (B) 10 hours. (C) 11 hours. (D) 12 hours. (E) 13 hours.\nRationale:\n================================================================================\n[Generated:]  Average speed = 10 km/hr; time taken = 10 × 60/1000 minutes = 6 hours\nNow, time left = 15/2 = 7.5 km. Therefore, distance covered = 100 × (7.5/6) = 100 × 6 = 600/6 = 100 km.\nThus, time taken = 15 + 6 = 21/2 hours.\n∴ Time taken by Shweta = 21/2 + 6/2 = 7 hours.\nAnswer: B\nCorrect Answer: B\n",
          "output_type": "stream"
        },
        {
          "name": "stderr",
          "text": "Setting `pad_token_id` to `eos_token_id`:11 for open-end generation.\n",
          "output_type": "stream"
        },
        {
          "name": "stdout",
          "text": "Stopping criteria triggered\n[Prompt:]\nQuestion: The price of a product is reduced by 30% . By what percentage should it be increased to make it 100%\nAnswer Choices: (A) 41.86% (B) 42.86% (C) 43.86% (D) 44.86% (E) 45.86%\nRationale: If initial price is Rs 100 and reduced price is Rs 70.\nThen, to make it 100 again, price should increase by 100*30/70= 300/7 % or 42.86% approx\nANSWER:B\nCorrect Answer: B\n\n\nQuestion: Two friends are eating a jar full of candies. Had P eaten alone, it would have taken him 10 minutes to finish the candies in the jar. Had Q eaten alone, it would have taken her 5 minutes to finish half the jar. Since both of them are eating simultaneously, how many minutes would it take them to empty the jar?\nAnswer Choices: (A) 4 (B) 5 (C) 6 (D) 7 (E) 8\nRationale: Together they eat 1/10 + 1/10 = 1/5 of the jar per minute.\nThe time to finish the jar is 5 minutes.\nThe answer is B.\nCorrect Answer: B\n\n\nQuestion: A man spends Rs. 3500 per month and saves 12 1/2% of his income. His monthly income is ?\nAnswer Choices: (A) Rs. 4400 (B) Rs. 4270 (C) Rs. 4000 (D) Rs. 3937.50 (E) None of these\nRationale: 87 1/2% of P = 3500\n⇒ {(175/2) x P} / 100 = 3500\n∵ P = (3500 x 2 x 100) / 175 = 4000\nCorrect Option: C\nCorrect Answer: C\n\n\nQuestion: If the population of a city increases by 5 % annually, what will be the population of the city in 2 years time if its current population is 78000?\nAnswer Choices: (A) 81900 (B) 85995 (C) 85800 (D) 90000 (E) None of these\nRationale: The % change in population of city in two years time is 1.05*1.05 = 1.1025 = 10.25%\nTherefore, after 2 years the population of the city will be 1.1025 * 78000 = 85995\nANSWER B\nCorrect Answer: B\n\n\nQuestion: You can rent DVDs at a local video store for $4.00 per movie without a membership. However, if you purchase a membership for $7.00 per month, you can rent DVDs for $2.00 each. What is the minimum amount of DVDs you would have to rent to make it worth it to purchase the membership?\nAnswer Choices: (A) 1 (B) 2 (C) 3 (D) 4 (E) 5\nRationale: Let's compare the cost to rent x CDs.\n4x > 2x+7\n2x > 7\nx > 3.5\nThe minimum number of CDs you would need to rent is 4.\nThe answer is D.\nCorrect Answer: D\n\n\nQuestion: In a row of children Neha is 12th from left end and Radha is 6th from right end. When Radha is shifted to left by 2 places and Neha is shifted to right by 2 places there 6 children between Radha and Neha. How many children are there in the row?\nAnswer Choices: (A) 23 (B) 27 (C) 26 (D) 28 (E) 29\nRationale: After moving 2 positions to the right Neha is 14 positions from the left, and after moving 2 positions to the left, Radha is on the 8th position from the right. If there are 6 children between them, the total number of children is  14+6+8 = 28\nANSWER:D\nCorrect Answer: D\n\n\nQuestion: A father wants to divide Rs. 5100 between his two sons, Mohan and Sohan who are 23 and 24 at present. He divides the amount in such a way that if their shares are invested at compound interest at 4% p.a. they will receive equal amount on attaining the age of 26 years. Find Mohan's share.\nAnswer Choices: (A) 2400 (B) 2500 (C) 2600 (D) 2700 (E) None of these\nRationale: Let, the amount Mohan and Sohan receive be Rs. m and Rs. n, respectively. The amount that they receive 3 years and 2 years after should be equal.\n⇒m(1+4/100)3=n(1+4/100)2\n⇒m(1+4/100)=n\n⇒m(26/25)=n\n⇒m/n=25/26\nTherefore, Rs.5100 must be distribued in the ratio 25 : 26\nSo Mohan's share = 5100×25/(25+26)=2500\nAnswer B\nCorrect Answer: B\n\n\nQuestion: There is a 90% chance that a registered voter in Burghtown voted in the last election. If five registered voters are chosen at random, what is the approximate likelihood that exactly four of them voted in the last election?\nAnswer Choices: (A) 26.2% (B) 32.8% (C) 43.7% (D) 59.0% (E) 65.6%\nRationale: The probability that four of five voted is :\nP(1st one voted) X ... X P(4th one voted) X (5th one NOT voted)\n= 0.9 x 0.9 x 0.9 x 0.9 x 0.1\n= 0.81 x 0.81 x 0.1 = 0.6561\nANSWER: E\nCorrect Answer: E\n\n\nQuestion: If 6 yrs are subtracted from the present age of Ajay and the remainder is divided by 18, then the present age of Rahul is obtained. If Rahul is 2 yrs younger to Denis whose age is 5 yrs, then what is Ajay's present age?\nAnswer Choices: (A) 40 (B) 60 (C) 70 (D) 80 (E) 90\nRationale:\n================================================================================\n[Generated:]  If Ajay's present age is 60 yrs, then the present age of Rahul is 58 yrs\nTo find the present age of Denis,\n6(60)-5=2(18)\n60-5=55\nTherefore, Denis is 2 yrs younger to Rahul, i.e. 2-1 = 1 yr.\nAjay's age = 60\nRahul's age = 58\nTherefore, Denis' age = 1 yr\nAnswer D\nCorrect Answer: D\n",
          "output_type": "stream"
        },
        {
          "name": "stderr",
          "text": "Setting `pad_token_id` to `eos_token_id`:11 for open-end generation.\n",
          "output_type": "stream"
        },
        {
          "name": "stdout",
          "text": "Stopping criteria triggered\n[Prompt:]\nQuestion: An astronaut weighing 211 pounds on Earth would weigh 182 pounds on Venus. The weight of the astronaut on Venus would be approximately what percent of the astronaut’s weight on Earth?\nAnswer Choices: (A) 50% (B) 60% (C) 70% (D) 86% (E) 90%\nRationale: Weight of astronaut on Earth = 211 pounds\nWeight of astronaut on Venus = 182 pounds\nWeight of astronaut on Venus as a percentage of Weight of astronaut on Earth = (182/211)*100 = 86%\nAnswer D\nCorrect Answer: D\n\n\nQuestion: A merchant receives an invoice for a motor boat for $20 000 with terms 4/30, n/100. What is the highest simple interest rate at which he can afford to borrow money in order to take advantage of the discount?\nAnswer Choices: (A) 247.67 (B) 237.67 (C) 227.67 (D) 215.67 (E) None of these\nRationale: Explanation:\nSuppose the merchant will take advantage of the cash discount of 4% of $20 000 = $800 by paying the bill within 30 days from the date of invoice. He needs to borrow $20 000 = $800 = $19 200. He would borrow this money on day 30 and repay it on day 100 (the day the original invoice is due) resulting in a 70-day loan. The interest he should be willing to pay on borrowed money should not exceed the cash discount $800.\nr=I/pt=21.73%\nThe highest simple interest rate at which the merchant can afford to borrow money is 21.73%. This is a break-even rate. If he can borrow money, say at a rate of 15%, he should do so. He would borrow $19 200 for 70 days at 15%. Maturity value of the loan is $19 200(1+0.15(70/365))=$19 752.33\nsavings would be $20 000 − $19 752.33 = $247.67\nAnswer: A\nCorrect Answer: A\n\n\nQuestion: A car is being driven, in a straight line and at a uniform speed, towards the base of a vertical tower. The top of the tower is observed from the car and, in the process, it takes 10 minutes for the angle of elevation to change from 45° to 60°. After how much more time will this car reach the base of the tower?\nAnswer Choices: (A) 5(√3 + 1) (B) 6(√3 + √2) (C) 7(√3 – 1) (D) 8(√3 – 2) (E) None of these\nRationale: Explanation :\nLet the height of the building be h. Initially, he was at an angle of 450. tan 45 = h/distance between car and tower. h = distance between car and tower (since tan 45 = 1).\nNow, after 10 minutes, it travelled a certain distance, and angle changed to 600.\ntan 60 = h/x x = h/√3\nSo, in 10 minutes, it has travelled a distance of h – x = h - h/√3.\n10 minutes = h *( 1 – 1√3)\nh can be travelled in 10 / (1 – 1√3).\nTo travel a distance of x, which is h/√3, it takes :\nh = 10 / (1 – 1/√3)\nh / √3 = 10/ √3 * (1 – 1/√3). Multiply numerator and denominator by 1 + √3 ( conjugate of 1 - √3). We get, x = h/√3 = 10 (1 + √3) / 2 = 5* (1 + √3)\nSo, it takes 5(1 + √3) minutes to reach the base of the tower.\nAnswer : A\nCorrect Answer: A\n\n\nQuestion: While selling a watch, a shopkeeper gives a discount of 5%. If he gives a discount of 7%, he earns Rs. 15 less as profit. The marked price of the watch is:\nAnswer Choices: (A) Rs. 697.50 (B) Rs. 712.50 (C) Rs. 787.50 (D) Rs. 750 (E) Rs. 780\nRationale: If he increases the discount by 2%, then his profit is 15 less. Let the marked price be X.\n.02x = 15\nx = 750 marked price\nANSWER:D\nCorrect Answer: D\n\n\nQuestion: X and Y are two alloys which were made by mixing zinc and copper in the ratio 6:9 and 7:11, respectively. If 40 grams of alloy X and 60 grams of alloy Y are melted and mixed to form alloy Z, what is the ratio of zinc and copper in the alloy Z ?\nAnswer Choices: (A) 69:91 (B) 59:91 (C) 59:90 (D) 59:91 (E) 69:101\nRationale: The ratio of zinc and copper in mixture 1 is 6/9 and in mixture 2 is 7/11.\n40 grams of mixture 1 contains 6*40/15=16 grams of zinc and 24 grams of copper\n60 grams of mixture 2 contains 7*60/18=77/3 grams of zinc and 110/3 grams of copper\nThus, ratio =(16+77/3)/(24+110/3) =59/91\nANSWER:B\nCorrect Answer: B\n\n\nQuestion: A club consists of members whose ages are in A.P. The common difference being 3 months. If the youngest member of the club is just 7 years old and the sum of the ages of all the members is 250, then number of members in the club are :\nAnswer Choices: (A) 18 (B) 20 (C) 25 (D) 26 (E) 27\nRationale: Let, n be the number of members in the club.Then,\n250 =(n x [2×7+(n+1)×3/12]) / 2.\nn =25.\nHence, the number of members in the club is 25.\nAnswer : C\nCorrect Answer: C\n\n\nQuestion: On a test the passing students had an average of 83, while the failing students had an average\nof 55. If the overall class average was 76, what percent of the class passed?\nAnswer Choices: (A) 44% (B) 66% (C) 68% (D) 72% (E) 75%\nRationale: Let p = proportion that passed. Then 83p + 55(1- p) = 76, so p = 21/28 = 75\ncorrect answer E\nCorrect Answer: E\n\n\nQuestion: Roberts has a property worth of $1023.65. But in a record his property worth is written as greatest positive even integer less than or equal to his property worth and it is divisible by 100. Find the difference between actual property and recorded property worth?\nAnswer Choices: (A) 23.65 (B) 1000 (C) 35.62 (D) 2.65 (E) 1023.65\nRationale: Since Robert property worth is written as greatest positive even integer less than or equal to his property worth and it is divisible by 100 then it is =1000 (greatest positive even integer less than or equal to his property worth and it is divisible by 100 is 1000).\nHence the difference = 1023.65 - 1000 = 23.65\nAnswer: A.\nCorrect Answer: A\n\n\nQuestion: A retailer sold an appliance for 40 percent above cost, which represented a gross profit of $20.00. For what price did the retailer sell the appliance?\nAnswer Choices: (A) $27.30 (B) $51.00 (C) $63.00 (D) $70.00 (E) $91.00\nRationale:\n================================================================================\n[Generated:]  If he had sold it at the cost, then he would have earned a gross profit of $20. If he sold it at 40% above cost then he would have earned a gross profit of 40% * $20 = $8.00. Thus, the selling price should be $40 - 8 = $32.00\nAnswer: D.\nCorrect Answer: D\n",
          "output_type": "stream"
        },
        {
          "name": "stderr",
          "text": "Setting `pad_token_id` to `eos_token_id`:11 for open-end generation.\n",
          "output_type": "stream"
        },
        {
          "name": "stdout",
          "text": "Stopping criteria triggered\n[Prompt:]\nQuestion: Three friends Alan, Roger and Peter attempt to answer a question on an exam. Alan randomly guesses the answer, giving him a 1/5 probability of guessing correctly. Roger cheats by looking at the paper of the student in front of him, giving him a 2/3 probability of answering correctly. And Peter dutifully performs the calculations, then marks the answer, giving him a 5/6 probability of a correct answer. What is the probability that the question is answered correctly, but not via cheating?\nAnswer Choices: (A) 1/18 (B) 1/9 (C) 23/90 (D) 5/18 (E) 13/45\nRationale: Prob(Alan) = 1/5\nProb(Roger) without cheating = 2/3-1 = 1/3\nProb(Peter) = 5/6\nTotal Probability = 1/5*1/3*/5/6 = 1/18\nAnswer is A\nCorrect Answer: A\n\n\nQuestion: Silu and Meenu were walking on the road.\nSilu said, \"I weigh 51 Kgs. How much do you weigh?\"\nMeenu replied that she wouldn't reveal her weight directly as she is overweight.\nBut she said, \"I weigh 29 Kgs plus half of my weight. \"How much does Meenu weigh?\nAnswer Choices: (A) 12 (B) 28 (C) 27 (D) 58 (E) 91\nRationale: It is given that Meenu weighs 29 Kgs plus half of her own weight.\nIt means that 29 Kgs is the other half. So she weighs 58 Kgs.\nSolving mathematically, let's assume that her weight is A Kgs.\nA = 29 + A/2\n2 × A = 58 + A\nA = 58 Kgs.\nAnswer:D\nCorrect Answer: D\n\n\nQuestion: A book was sold for Rs 27.50 with a profit of 10%. If it were sold for Rs. 25.75, then would have been percentage of profit and loss ?\nAnswer Choices: (A) 2% Profit (B) 3% Profit (C) 2% Loss (D) 3% Loss (E) 4% Loss\nRationale: S.P.=(100+gain%100∗C.P)\nSo, C.P. = (100/110∗25.75)\nWhen S.P. = 25.75 then\nProfit=25.75−25=Re.0.75\nProfit%=0.75/25∗100=3%\nAnswer is B\nCorrect Answer: B\n\n\nQuestion: Six pita breads contain the same amount of falafel as do two rolls. Three rolls contain the same amount of falafel as five baguettes do. Two baguettes contain the same amount of falafel as how many pita breads?\nAnswer Choices: (A) 12/25 (B) 3/2 (C) 3 (D) 2 (E) 25/3\nRationale: 6P = 2R\n3R = 5B\n2B = ?P\nThus, P : R : B = 18 : 6 : 12\nP : B = 18 : 12\n= 3 : 2\nThus P = 3\nAnswer : C\nCorrect Answer: C\n\n\nQuestion: A flagstaff 17.5 metre high casts a shadow of length 40.25 metre. The height of building, which casts a shadow of length 28.75 metre under similar conditions will be :\nAnswer Choices: (A) 12 metre (B) 12.5 metre (C) 13.5 metre (D) 14 metre (E) 15 metre\nRationale: Less shadow, Less Height (Direct Proportion)\nSo, let height of building be x metre\nthen,\n40.25:17.5::28.75:x\n=>x=17.5∗28.75/ 40.25\n=>x=12.5\nOption B\nCorrect Answer: B\n\n\nQuestion: In how many ways can a teacher in a kindergarten school arrange a group of 3 children (Susan, Tim and Zen) on 3 identical chairs in a straight line so that Susan is on the left of Tim?\nAnswer Choices: (A) 7 (B) 3 (C) 2 (D) 1 (E) 6\nRationale: Total ways in which 3 children can be arranged on 3 chairs = 3*2*1 = 6\nBut in half cases Susan will be left of Tim and in other half of cases Tim will be on left of Susan\ni.e. Desired cases in which Susan is on the left of Tim = (1/2)*6 = 3\nB\nCorrect Answer: B\n\n\nQuestion: The average (arithmetic mean) of the weight of 10 vehicles is 12.2 tons. The average weight of the group of vehicles increased by 2.6 tons after a new heavy duty truck was added to the group? What is the weight in tons of the heavy duty truck?\nAnswer Choices: (A) 40.8 (B) 41.6 (C) 42.2 (D) 43.5 (E) 44.8\nRationale: The new average is 14.8 tons.\nOn average, the ten trucks are 2.6 tons below the average for a total weighting of 26 tons.\nTherefore, the added truck must be 14.8 + 26 = 40.8 tons\nThe answer is A.\nCorrect Answer: A\n\n\nQuestion: When I was 2 years old, my brother was half my age. Now I am 60 years old, how old is my brother?\nAnswer Choices: (A) A)59 (B) B)69 (C) C)79 (D) D)89 (E) E)99\nRationale: Half of 2 is 1. =>2+58=60-> 1+58=59\nAnswer A\nCorrect Answer: A\n\n\nQuestion: there are more than 501 students in a school such that 20% of them exactly took physics and 28% of them exactly took math. What could be the least possible no of students in the school?\nAnswer Choices: (A) 550 (B) 570 (C) 600 (D) 700 (E) none of these\nRationale:\n================================================================================\n[Generated:]  550 is the answer because the numbers of students studying both the subjects is 20%. 20% is the least possible no. of students,\nCorrect Answer: E\n",
          "output_type": "stream"
        },
        {
          "name": "stderr",
          "text": "Setting `pad_token_id` to `eos_token_id`:11 for open-end generation.\n",
          "output_type": "stream"
        },
        {
          "name": "stdout",
          "text": "Stopping criteria triggered\n[Prompt:]\nQuestion: In a bag of red and green sweets, the ratio of red sweets to green sweets is 3:4. If the bag contains 120 green sweets, how many red sweets are there?\nAnswer Choices: (A) 90 (B) 80 (C) 95 (D) 100 (E) 85\nRationale: Let x = red sweets\nWrite the items in the ratio as a fraction.\nred/green=3/4=x/120\n3 × 120 = 4 × x\n360 = 4x\nx=360/4=90\nAnswer:A\nCorrect Answer: A\n\n\nQuestion: The number of water lilies on a certain lake doubles every two days. If there is exactly one water lily on the lake, it takes 60 days for the lake to be fully covered with water lilies. In how many days will the lake be fully covered with lilies, if initially there were 64 water lilies on it?\nAnswer Choices: (A) 15 (B) 28 (C) 30 (D) 53 (E) 59\nRationale: Starting from 1 Water Lilly it takes 60 days.\nIf there are already two present, it can be taken as the first day is over.\nIt will take 59 more days.\nNotice that we are told thatthe number of water lilies on a certain lake doubles every two days, thus if initially there were 64 water lilies instead of one, we can consider that 7 days are over and therefore only 53 days are left.\nAnswer: D.\nCorrect Answer: D\n\n\nQuestion: The events A and B are independent. The probability that event A occurs is 0.6, and the probability that at least one of the events A or B occurs is 0.96. What is the probability that event B occurs?\nAnswer Choices: (A) 0.5 (B) 0.6 (C) 0.7 (D) 0.8 (E) 0.9\nRationale: Let x be the probability that B does not occur.\nP(A and B do not occur) = 1 - 0.96 = 0.04\n0.4x = 0.04\nx=0.1\nP(B occurs) = 1 - x = 0.9\nThe answer is E.\nCorrect Answer: E\n\n\nQuestion: A jeep travels a certain distance taking 6 hours in the forward journey. During the return journey, it increased its speed by 12km/hr and took 4 hours. What is the distance travelled by the jeep?\nAnswer Choices: (A) 126km (B) 144km (C) 127km (D) 228km (E) 128km\nRationale: Let 'x' be the distance and 'y' be the speed of the forward journey. Then, we have 6v=d and 4(v+12)=d\n=> v=d/6 and v=d/4 - 12\n=> d/6 = d/4 - 12\n=> d/12 = 12\n=> d=144\nAnswer: B\nCorrect Answer: B\n\n\nQuestion: The ratio of the volumes of a cube to that of the sphere which will fit inside the cube is?\nAnswer Choices: (A) 2: π (B) 7:2 (C) 8:2 (D) 6: π (E) 8:3\nRationale: a3 : a3/8 * 4/3 π => 6: π\nAnswer: Option D\nCorrect Answer: D\n\n\nQuestion: A man wants to eat fruit for breakfast and vegetable for dinner. He has 6 different types of fruit and 8 different types of vegetables. He can only eat one type at a time. In how many ways can he eat breakfast and dinner.\nAnswer Choices: (A) 54 (B) 24 (C) 48 (D) 20 (E) 36\nRationale: Number of choices for fruit=6, number of choices for vegetable=8\nThe total number of combinations =8*6=48\nAnswer C\nCorrect Answer: C\n\n\nQuestion: Three friends Alan, Roger and Peter attempt to answer a question on an exam. Alan randomly guesses the answer, giving him a 1/5 probability of guessing correctly. Roger cheats by looking at the paper of the student in front of him, giving him a 2/3 probability of answering correctly. And Peter dutifully performs the calculations, then marks the answer, giving him a 5/6 probability of a correct answer. What is the probability that the question is answered correctly, but not via cheating?\nAnswer Choices: (A) 1/18 (B) 1/9 (C) 23/90 (D) 5/18 (E) 13/45\nRationale: Prob(Alan) = 1/5\nProb(Roger) without cheating = 2/3-1 = 1/3\nProb(Peter) = 5/6\nTotal Probability = 1/5*1/3*/5/6 = 1/18\nAnswer is A\nCorrect Answer: A\n\n\nQuestion: Anna has 4 books. If she decide to arrange the 4 books in every possible combination and moved just one book every minute, how long would it taken by her ?\nAnswer Choices: (A) 22 minutes (B) 30 minutes (C) 15 minutes (D) 24 minutes (E) 35 minutes\nRationale: Number of ways of arranging 4 books = 4 ! = 4 x 3 x 2 x 1 = 24.\nSo, total time taken = 24 minutes\nAnswer: D\nCorrect Answer: D\n\n\nQuestion: An exam is given in a certain class. The average (arithmetic mean) of the highest score and the lowest score is equal to x. If the average score for the entire class is equal to y and there are z students in the class, where z > 5, then in terms of x, y, and z, what is the average score for the class excluding the highest and lowest scorers?\nAnswer Choices: (A) (zy – 2x)/z (B) (zy – 2)/z (C) (zx – y)/(z – 2) (D) (zy – 2x)/(z -2) (E) (zy – x)/(z + 2)\nRationale:\n================================================================================\n[Generated:]  Average = (x + y + z)/3\nSo, average = x + y + z – 3x – 3y – 3z = x + y + z – 6x – 6y – 6z = x + y + z – 6x + 6y – 6z = 3xy – 2z\nIf z>5\n=> 3xy – 2z < 15 (x + y + z < 15) => (x + y + z) – (3xy – 2z) < 15\n=> xy – z < 8\nSo, xy < 32\nThus z > 4\nThus z > 5\nAnswer: A\nCorrect Answer: A\n",
          "output_type": "stream"
        },
        {
          "name": "stderr",
          "text": "Setting `pad_token_id` to `eos_token_id`:11 for open-end generation.\n",
          "output_type": "stream"
        },
        {
          "name": "stdout",
          "text": "[Prompt:]\nQuestion: An aeroplane flies along the four sides of a square at the speeds of 200, 400, 600 and 800km/hr. Find the average speed of the plane around the field?\nAnswer Choices: (A) 384 (B) 562 (C) 458 (D) 156 (E) 452\nRationale: Let the each side of the square is x km\naverage speed of plane is y km/hr\n(x/200)+(x/400)+(x/600)+(x/800) = 4x/y\n25x/2400 = 4x/y\ny= 384 km/hr\nAnswer is A\nCorrect Answer: A\n\n\nQuestion: A sporting goods store carries only yellow and white golf balls. At the beginning of the day it had 600 golf balls in stock, and by the end of the day it had sold 80% of its inventory of golf balls. If the store sold an equal number of yellow and white golf balls, and in doing so sold all of its white golf balls, how many yellow golf balls did the store have to begin the day?\nAnswer Choices: (A) 80 (B) 120 (C) 240 (D) 320 (E) 360\nRationale: Since the store sold an equal number of white and yellow balls, 80%/2 = 40% of the inventory at the start of the day was white balls. Then 60% of the inventory consisted of yellow balls.\n0.6(600) = 360\nThe answer is E.\nCorrect Answer: E\n\n\nQuestion: Tires of a certain brand, when purchased new, last for four years. A customer can choose to purchase the new tires at a cost of $180 per tire or can have his current tires repaired at a cost of $40 per tire, a repair that will make the current tires last for one additional year. The average cost per year of the new tires is what percent greater than the cost of repairing the current tires?\nAnswer Choices: (A) 8% (B) 10% (C) 12.5% (D) 16.7% (E) 25%\nRationale: Average cost of new tire = $45/tire\ncost of repairing the current tire = $40/tire\nnew tire is $5 more per tire.\ni e. 5/40=1/8=12.5%\nANSWER:C\nCorrect Answer: C\n\n\nQuestion: If 75 percent of the employees of a certain company take a winter vacation, 40 percent take a winter and a summer vacation, and 20 percent take neither a winter nor a summer vacation, what Q percent of the employees take a summer vacation but not a winter vacation?\nAnswer Choices: (A) 5% (B) 15% (C) 25% (D) 35% (E) 45%\nRationale: Winter = 75\nBoth = 40\nNeither = 20\nWinter + Summer - Both + Neither = 100\n75 + Summer - 40 + 20 = 100\nSummer = 45\nSummer but not winter Q= Summer only = Summer - Both(i.e. summer overlap with winter) = 45 - 40 = 5\nAnswer: A\nCorrect Answer: A\n\n\nQuestion: Jack buys 18 sharpeners (white and brown) for rs. 100. If he pays 1 rupee more for each white than brown sharpeners. How many of white and how many brown sharpeners did he buy?\nAnswer Choices: (A) 10,8 (B) 9,8 (C) 7,8 (D) 5,6 (E) 11,12\nRationale: Total cost=100\nnumber of sharp=18\ncost of white=cost of brown+1\n100/18=5.5...-(1)\nalso 100%18=10...-(2)\nas cost of white is 1 more than that of brown\nfrom 1 int. value will be 5\nnow remainder is 10 so 10 sharp. will be of cost (5+1)\n=> 10*(5+1)+8*5\n=>10*6+8*5\n=60+40\n100\nwhite=10\nbrown=8\nANSWER:A\nCorrect Answer: A\n\n\nQuestion: Last year, 34 percent of Ace Book Company's sales revenue came from the sale of novels. Of the remaining revenue, 1/3 was from the sale of biographies. The company's revenue from the sale of novels was approximately, how many times its revenue from the sale of biographies?\nAnswer Choices: (A) 1.3 (B) 1.5 (C) 2.1 (D) 2.5 (E) 3.1\nRationale: Percentage of revenue from novels = 34%\nRemaining revenue = 66%\nSale of biographies = 1/3 of 66% = 22%\nSale of novels / sale of biographies\n= 34/22\napprox 1.5\nAnswer B\nCorrect Answer: B\n\n\nQuestion: Mark told John \"If you give me half your money I will have Rs.75. John said, \"if you give me one third of your money, I will have Rs.75/-. How much money did John have ?\nAnswer Choices: (A) 22 (B) 60 (C) 28 (D) 26 (E) 18\nRationale: Let the money with Mark and John are M and J, respectively.\nNow\nM + J/2 = 75\nM/3 + J = 75\nSolving we get M = 45, and J = 60.\nAnswer:B\nCorrect Answer: B\n\n\nQuestion: A car is being driven, in a straight line and at a uniform speed, towards the base of a vertical tower. The top of the tower is observed from the car and, in the process, it takes 10 minutes for the angle of elevation to change from 45° to 60°. After how much more time will this car reach the base of the tower?\nAnswer Choices: (A) 5(√3 + 1) (B) 6(√3 + √2) (C) 7(√3 – 1) (D) 8(√3 – 2) (E) None of these\nRationale: Explanation :\nLet the height of the building be h. Initially, he was at an angle of 450. tan 45 = h/distance between car and tower. h = distance between car and tower (since tan 45 = 1).\nNow, after 10 minutes, it travelled a certain distance, and angle changed to 600.\ntan 60 = h/x x = h/√3\nSo, in 10 minutes, it has travelled a distance of h – x = h - h/√3.\n10 minutes = h *( 1 – 1√3)\nh can be travelled in 10 / (1 – 1√3).\nTo travel a distance of x, which is h/√3, it takes :\nh = 10 / (1 – 1/√3)\nh / √3 = 10/ √3 * (1 – 1/√3). Multiply numerator and denominator by 1 + √3 ( conjugate of 1 - √3). We get, x = h/√3 = 10 (1 + √3) / 2 = 5* (1 + √3)\nSo, it takes 5(1 + √3) minutes to reach the base of the tower.\nAnswer : A\nCorrect Answer: A\n\n\nQuestion: A ship went on a voyage. After it had traveled 180 miles a plane started with 10 times the speed of the ship. Find the distance when they meet from starting point.\nAnswer Choices: (A) 238 (B) 289 (C) 200 (D) 287 (E) 187\nRationale:\n================================================================================\n[Generated:]  Average speed of ship = 20\nAverage speed of plane = 200\nDistance in one hour = distance in one hour ( = 180).\nDistance in 2 hours = distance in two hours.\nDistance in 4 hours = distance in 4 hours.\nDistance in 5 hours = 180/2 = 90\nDistance in 6 hours = 90 + 90 = 180\nDistance in 8 hours = 180 + 180 + 180 = 450\nDistance in 10 hours = 180 + 180 + 180 + 180 + 180 = 900\nDistance in 12 hours = 900 + 900 = 1800\nDistance in 14 hours = 1800 + 1800 = 3600\nDistance in 16 hours = 3600 + 3600 = 7200\nDistance in 18 hours = 7200 + 7200 = 14400\nDistance in 20 hours = 14400 + 14400 = 28800\nDistance in 22\n",
          "output_type": "stream"
        },
        {
          "name": "stderr",
          "text": "Setting `pad_token_id` to `eos_token_id`:11 for open-end generation.\n",
          "output_type": "stream"
        },
        {
          "name": "stdout",
          "text": "Stopping criteria triggered\n[Prompt:]\nQuestion: Peter wants to find 10 additional people to form a scavenger hunt team with him. If he has 10 friends who would like to participate, how many choices does he have for forming his team?\nAnswer Choices: (A) 0 (B) 1 (C) 2 (D) 3 (E) 4\nRationale: Peter has 10 friends out of which he has to select 10 so 10C10= 1 Choice.\nANSWER:B\nCorrect Answer: B\n\n\nQuestion: By himself, Jack can clean a yacht in 12 hours. On a particular day, he happens to finish two-thirds of the work. The remaining portion of the work is done by Jill, whose rate of cleaning is just 5% of what Jack can do. How long does it take Jill to finish the remaining work?\nAnswer Choices: (A) 4 (B) 8 (C) 22 (D) 50 (E) 20\nRationale: Jack did 2/3 of the work, which is 8 hours. So if Jack would finish the job this would take him 4 extra hours. Jill's rate is 5% of what Jack would do in those 4 hours. That means it would take her ten times as much time as Jack put into the job. 5*4 equals 20, answer E.\nCorrect Answer: E\n\n\nQuestion: If the probability that Stock A will increase in value during the next month is 0.56, and the probability that Stock B will increase in value during the next month is 0.74. What is the greatest value for the probability that neither of these two events will occur?\nAnswer Choices: (A) 0.22 (B) 0.26 (C) 0.37 (D) 0.46 (E) 0.63\nRationale: The probability that stock A does not increase is 0.44, and the probability that stock B does not increase is 0.26. Now, how can the probability that both do not increase be more than individual probability of not increasing for each? So the probability that both do not increase can not be more than 0.26. Basically the probability that both do not increase is between 0 and 0.26.\nCorrect Answer: B\n\n\nQuestion: The greatest common factor of two positive integers is 11. The least common multiple of these two integers is 7700. If one of the integers is 350, what is the other?\nAnswer Choices: (A) 242 (B) 308 (C) 352 (D) 412 (E) 456\nRationale: GCF*LCM = product of 2 numbers\n11*7700 = product of 2 numbers\nother number = 11*7700/350 = 242\nAnswer is A\nCorrect Answer: A\n\n\nQuestion: In a chocolate store, all chocolates are either vanilla or cocoa flavored only. 10% of the chocolates are cocoa flavored, 90% of the rest are squashed. What percentage of the chocolates are both vanilla flavored and not squashed?\nAnswer Choices: (A) 1% (B) 2% (C) 5% (D) 9% (E) 10%\nRationale: If 10% of chocolates are cocoa flavored, then 90% are vanilla flavored.\n90% of 90% are squashed, i.e. 81% are squashed.\nVanilla flavored and non squashed= 90-81= 9%\nD is the answer\nCorrect Answer: D\n\n\nQuestion: In a class 1/16 of the students study math, 1/10 of the students study bio, 1/8 of the students study english. The total number of students is a 4 digit number. Find the diffrence between maximum number of students and minimum number of students.\nAnswer Choices: (A) 8880 (B) 8870 (C) 8890 (D) 7890 (E) 6780\nRationale: LCM of 16,10,8 = 80\nthe largest 4 digit number divisible by 80 = 9920\nThe smallest 4 digit number divisible by 80 = 1040\nSo, required difference = 9920-1040= 8880\nANSWER:A\nCorrect Answer: A\n\n\nQuestion: At the of his one-year investment, Charles received $54,080, including interest and principal from a certain investment. If the investment paid an annual interest of 8 percent compounded semi-annually, which of the following is the amount of money that Charles originally invested?\nAnswer Choices: (A) $45,000 (B) $50,000 (C) $54,000 (D) $59,000 (E) $62,000\nRationale: You are given that a certain investment gave you X $ after 1 year. So the original investment must be <X\nThus you can rule out options D-E as these options will make the original amount > the interest+principle amount\nOption C is very close to the amount after 1st year and 4% will definitely give you >80$ in interests.\nNow you only have 2 options left (A and B)\nPer the question, let x be the original amount invested ---> x(1.04)^2 = 54080 .@NL This clearly shows that answer must be B.\nANSWER:B\nCorrect Answer: B\n\n\nQuestion: The bus fare of one adult is Rs. 140 from Ranchi to Patna and bus fare of a child is half the fare of one adult between the same places. What is the total bus fare of 4 adults and 3 children between same places?\nAnswer Choices: (A) Rs. 666 (B) Rs. 670 (C) Rs. 700 (D) Rs. 570 (E) Rs. 770\nRationale: Fare for Adult = Rs. 140.\nFare of Child = Half of the Adult = Rs. 70.\nSo,\nTotal fare = 4 *140 + 3 *70 = 560 +210 = Rs. 770.\nANSWER : E\nCorrect Answer: E\n\n\nQuestion: Ram and Krishna start from A and B, respectively, at the same time and travel towards each other at constant speeds of 20m/s and 40m/s, respectively, along the same route. Ram meets Krishna at point C on the road after 10 seconds. Find the total distance between A to B.\nAnswer Choices: (A) 700 meters (B) 1000 meters (C) 700 kilometers (D) 555 meters (E) 600 meters\nRationale:\n================================================================================\n[Generated:]  So, the distance travelled by Ram = x = 10s = 10/20 m/s = 100 m\nand the distance travelled by Krishna = 2x = 20/40 m/s = 200 m\nTotal distance travelled by both Ram and Krishna = 100 + 200 = 300 m.\nANSWER: C\nCorrect Answer: C\n",
          "output_type": "stream"
        },
        {
          "name": "stderr",
          "text": "Setting `pad_token_id` to `eos_token_id`:11 for open-end generation.\n",
          "output_type": "stream"
        },
        {
          "name": "stdout",
          "text": "[Prompt:]\nQuestion: A man spend 810 in buying trouser at Rs 70 each and shirt at 30 each. What will be the ratio of trouser and shirt when the maximum number of trouser is purchased?\nAnswer Choices: (A) 9 Trousers (B) 8 Trousers (C) 10 Trousers (D) 7 Trousers (E) 11 Trousers\nRationale: Lets assume S as price of shirt and T as price of trousers, we have bellow equation:\n70 T + 30 S = 810\nSimplifying we get : 7T + 3S = 81\nT = ( 81 - 3*S )/7\nWe need to find the least value of S which will make (81 - 3*S) divisible by 7\nSimplifying by taking 3 as common factor 3*(27-S) / 7\nLooking at the above equation its not difficult to find out least value of S is 6 so that 27- 3S becomes divisible by S\nHence, T = (81-3*S)/7 = (81-3*6)/7 = 63/7 = 9\nANSWER:A\nCorrect Answer: A\n\n\nQuestion: Arjun and Sajal are friends, each has some money. If Arun gives $30 to Sajal, the Sajal will have twice the money left with Arjun. But, if Sajal gives $10 to Arjun, Arjun will have thrice as much as is left with Sajal. How much money does each have?\nAnswer Choices: (A) 62, 35 (B) 62, 34 (C) 34, 62 (D) 42, 62 (E) 62, 42\nRationale: Suppose Arun has $X and Sajal has $Y. then,\n2(x-30)= y+30 => 2x-y =90 …(i)\nand x +10 =3(y-10) => x-3y = - 40 …(ii)\nSolving (i) and (ii), we get x =62 and y =34.\nArun has $62 and Sajal has $34.\nAnswer B.\nCorrect Answer: B\n\n\nQuestion: The height of a room to its semi-perimeter is 2:5. It costs Rs.260 to paper the walls of the room with paper 50cm wide at Rs.2 per meter allowing an area of 15 sq.m for doors and windows. The height of the room is:\nAnswer Choices: (A) 2.6m (B) 3.9m (C) 4m (D) 4.2m (E) 4.4m\nRationale: Let, height= 2x metres & (length+ breadth)= 5x metres.\nLength of paper= (260/2)m= 130m.\nTherefore, area of paper= (130*50/100)= 65m2\nArea of 4 walls= (65+15)=80m2\n2(length+breadth)*height=80.\nTherefore, 2*5x*2x=80 or x2=4 or x=2\nTherefore, height of the room= 4m\nANSWER:C\nCorrect Answer: C\n\n\nQuestion: If 75 percent of the employees of a certain company take a winter vacation, 40 percent take a winter and a summer vacation, and 20 percent take neither a winter nor a summer vacation, what Q percent of the employees take a summer vacation but not a winter vacation?\nAnswer Choices: (A) 5% (B) 15% (C) 25% (D) 35% (E) 45%\nRationale: Winter = 75\nBoth = 40\nNeither = 20\nWinter + Summer - Both + Neither = 100\n75 + Summer - 40 + 20 = 100\nSummer = 45\nSummer but not winter Q= Summer only = Summer - Both(i.e. summer overlap with winter) = 45 - 40 = 5\nAnswer: A\nCorrect Answer: A\n\n\nQuestion: A starts a business with Rs.40,000. After 2 months, B joined him with Rs.60,000. C joined them after some more time with Rs.120,000. At the end of the year, out of a total profit of Rs.375,000, C gets Rs.150,000 as his share. How many months after B joined the business, did C join?\nAnswer Choices: (A) 2 months (B) 4 months (C) 23 months (D) 24 months (E) 84 months\nRationale: Assume that C was there in the business for x months\nA:B:C = 40000*12 : 60000*10 : 120000*x\n= 40*12 : 60*10 : 120x = 40 : 5*10 : 10x\n=8 : 10 : 2x\n= 4 : 5 : x\nC's share = 375000*x/(9+x) = 150000\n=> 375x/(9+x) = 150\n=> 15x = 6(9+x)\n=> 5x = 18 + 2x\n=> 3x = 18\n=> x = 18/3 = 6\nIt means C was there in the business for 6 months. Given that B joined the business\nafter 2 months. Hence C joined after 4 months after B joined\nAnswer is B\nCorrect Answer: B\n\n\nQuestion: The events A and B are independent. The probability that event A occurs is 0.6, and the probability that at least one of the events A or B occurs is 0.96. What is the probability that event B occurs?\nAnswer Choices: (A) 0.5 (B) 0.6 (C) 0.7 (D) 0.8 (E) 0.9\nRationale: Let x be the probability that B does not occur.\nP(A and B do not occur) = 1 - 0.96 = 0.04\n0.4x = 0.04\nx=0.1\nP(B occurs) = 1 - x = 0.9\nThe answer is E.\nCorrect Answer: E\n\n\nQuestion: If the probability that Stock A will increase in value during the next month is 0.56, and the probability that Stock B will increase in value during the next month is 0.74. What is the greatest value for the probability that neither of these two events will occur?\nAnswer Choices: (A) 0.22 (B) 0.26 (C) 0.37 (D) 0.46 (E) 0.63\nRationale: The probability that stock A does not increase is 0.44, and the probability that stock B does not increase is 0.26. Now, how can the probability that both do not increase be more than individual probability of not increasing for each? So the probability that both do not increase can not be more than 0.26. Basically the probability that both do not increase is between 0 and 0.26.\nCorrect Answer: B\n\n\nQuestion: When I was 2 years old, my brother was half my age. Now I am 60 years old, how old is my brother?\nAnswer Choices: (A) A)59 (B) B)69 (C) C)79 (D) D)89 (E) E)99\nRationale: Half of 2 is 1. =>2+58=60-> 1+58=59\nAnswer A\nCorrect Answer: A\n\n\nQuestion: An electric pole, 14 metres high, casts a shadow of 10 metres. Find the height of a tree that casts a shadow of 15 metres under similar conditions.\nAnswer Choices: (A) 21 (B) 22 (C) 20 (D) 23 (E) 24\nRationale:\n================================================================================\n[Generated:]  If 10 metres is the length of the shadow of the pole, then its height is 5 metres.\nThe height of the tree can be taken to be 1.5 times the height of the pole i.e. 8 metres.\nTherefore, its shadow will be 8 metres long.\nNow the total length of the shadow is 14 + 8 = 22 metres.\nAnswer A\n\n\nQuestion: An 8-year-old girl bought a 4-year-old brother a birthday present which cost her ₹30. The brother's present cost ₹90. She spent ₹45. What is the difference between the costs of the girl's and her brother's presents?\nAnswer Choices: (A) ₹50 (B) ₹75 (C) ₹70 (D) ₹80 (E) ₹90\nRationale: The cost of girl's present is ₹30 and that of the brother's present is ₹90. So, ₹30 - ₹90 = ₹30 + ₹50\nSo, the girl spent ₹50 on her brother's present\n",
          "output_type": "stream"
        },
        {
          "name": "stderr",
          "text": "Setting `pad_token_id` to `eos_token_id`:11 for open-end generation.\n",
          "output_type": "stream"
        },
        {
          "name": "stdout",
          "text": "Stopping criteria triggered\n[Prompt:]\nQuestion: Three bells ring at intervals of 36 seconds, 40 seconds and 48 seconds, respectively. They start ringing together at a particular time. When they will ring together again?\nAnswer Choices: (A) After 6 minutes (B) After 12 minutes (C) After 18 minutes (D) After 24 minutes (E) none\nRationale: LCM of 36,40,48 is 720\n720/60=12\nANSWER:B\nCorrect Answer: B\n\n\nQuestion: Amy is organizing her bookshelves and finds that she has 10 different types of books. She then codes each book with either a single letter or a pair of two different letters. If each type of book is uniquely represented by either a single letter or pair of letters, what is the smallest number of letters Amy will need to create the codes for all 10 types of books? (Assume the order of letters in a pair does not matter.)\nAnswer Choices: (A) 3 (B) 4 (C) 5 (D) 10 (E) 20\nRationale: The question asks for the smallest value of n, such that (n + nC2) = 10 (n represents the number of letters. In this equation, n by itself is for single-letter codes and nC2 is for two-letter codes).\nAt this point, you'd need to pick numbers, since there's really no easy way to solve nC2 = (10 – n) without a calculator.\nLooking at the answer choices, you can eliminate 10 and 20, so you can quickly narrow down the values you need to test. (i.e. (10 – n) suggests n can not be less than 10.)\nAs a general rule, whenever you're asked for the smallest value that satisfies a condition, start by testing the smallest number in the answers. Conversely, if you're asked for the largest value, start with the greatest answer.\nPlug-in n=4 to (n + nC2) = (4 + 4C2) = 4 + (4x3 /2) = (4 + 6) = 10 ANS:D\nCorrect Answer: D\n\n\nQuestion: A certain liquid passes through a drain at a rate of w/25 gallons every x seconds. At that rate, how many minutes will it take y gallons to pass through the drain?\nAnswer Choices: (A) y/(1200xy) (B) 20xy/w (C) 5xy/(12w) (D) w/(3xy) (E) 3y/(wx)\nRationale: Time needed for w/25 gallons of liquid to pass through a drain = x seconds\nTime needed for w gallons of liquid to pass through a drain = 25x seconds\nTime needed for y gallons of liquid to pass through a drain = (25x/w)*y = 25xy/w seconds\n= (25xy/w )/60 = 5xy/(12w) mins\nAnswer C\nCorrect Answer: C\n\n\nQuestion: Mr.Sam takes 17 hours to go by train to a certain city and return by car. He loses 4 hours if he goes both ways by train. How long would he have taken if he had traveled by car in both ways?\nAnswer Choices: (A) 22 hrs (B) 18 hrs (C) 16 hrs (D) 20 hrs (E) 13 hrs\nRationale: Going one way by train and one way by car, he takes 17 hours.\nGoing both ways by train, he takes 4 hours more => The train takes 4 hours more one way\nTherefore travelling both ways by car, he takes 4 hours less than 17\n=> He takes 17-4 = 13 hours.\nE)\nCorrect Answer: E\n\n\nQuestion: Assistants are needed to prepare for preparation. Each helper can make either 2 large cakes or 35 small cakes/hr. The kitchen is available for 3 hours and 20 large cakes & 700 small cakes are needed. How many helpers are required?\nAnswer Choices: (A) 8 (B) 10 (C) 12 (D) 15 (E) 19\nRationale: 20 large cakes will require the equivalent of 10 helpers working for one hour. 700 small cakes will require the equivalent of 20 helpers working for one hour. This means if only one hour were available we would need 30 helpers. But since three hours are available we can use 10 helpers.\nB\nCorrect Answer: B\n\n\nQuestion: [(272 - 32) (124 + 176)] / (17 x 15 - 15) = ?\nAnswer Choices: (A) 0 (B) 2.25 (C) 300 (D) 400 (E) None of these\nRationale: Given expression = [(272 - 32) (124 + 176)] / (17 x 15 - 15)\n= (240 x 300 ) / 240\n= 300\nCorrect Option: C\nCorrect Answer: C\n\n\nQuestion: Hoses A and B spout water at different constant rates, and hose A can fill a certain pool in 8 hours. Hose A filled the pool alone for the first 2 hours and the two hoses, working together, then finished filling the pool in another 3 hours. How many hours would it have taken hose B, working alone, to fill the entire pool?\nAnswer Choices: (A) 8 (B) 15 (C) 12 (D) 6 (E) 3\nRationale: Since hose A can fill the pool in 8 hours, then in 2 + 3 = 5 hours it will fill 5/8th of the pool. Thus the remaining 3/8th is filled by hose B in 3 hours. This means that hose B,working alone, to fill the entire pool will need 3*8/3 = 8 hours.\nAnswer: A.\nCorrect Answer: A\n\n\nQuestion: IF one gallon of soft drink is made of 40% orange juice and 60% water, how many additional gallons of orange juice must be mixed in order to make the orange juice 60% of the soft drink?\nAnswer Choices: (A) 0.5 (B) 1 (C) 1.25 (D) 1.5 (E) 2\nRationale: Let x be the quantity to be added\n(0.4+y) / 1+y = 60/100\n=> 4+10y = 6+6y\n=> y = 2/4 = 0.5\nAnswer is A\nCorrect Answer: A\n\n\nQuestion: Decipher the following multiplication table:\nM A D\nB E\n-------------\nM A D\nR A E\n-------------\nA M I D\nAnswer Choices: (A) 9 2 0 0 (B) 9 2 0 9 (C) 9 2 0 1 (D) 9 2 0 7 (E) 9 2 2 2\nRationale:\n================================================================================\n[Generated:]  (A) can be the answer\n= 9 * 2 / 0 = 18\nCorrect Answer: A\n",
          "output_type": "stream"
        },
        {
          "name": "stderr",
          "text": "Setting `pad_token_id` to `eos_token_id`:11 for open-end generation.\n",
          "output_type": "stream"
        },
        {
          "name": "stdout",
          "text": "[Prompt:]\nQuestion: Find out which of the following values is the multiple of X, if it is divisible by 9 and 12?\nAnswer Choices: (A) 36 (B) 15 (C) 17 (D) 5 (E) 7\nRationale: 9=3*3\n12=3*4\nThe number should definitely have these factors 3*3*4\n36 is the number that has these factors\nSo, 36 is the multiple of X\nAnswer is A\nCorrect Answer: A\n\n\nQuestion: The greatest common factor of two positive integers is 11. The least common multiple of these two integers is 7700. If one of the integers is 350, what is the other?\nAnswer Choices: (A) 242 (B) 308 (C) 352 (D) 412 (E) 456\nRationale: GCF*LCM = product of 2 numbers\n11*7700 = product of 2 numbers\nother number = 11*7700/350 = 242\nAnswer is A\nCorrect Answer: A\n\n\nQuestion: If 6x - y = 24 and y = 3x, what is the value of x?\nAnswer Choices: (A) 8 (B) 9 (C) 10 (D) 11 (E) 12\nRationale: 6x - 3x = 24\n3x = 24\nx = 8\nThe answer is A.\nCorrect Answer: A\n\n\nQuestion: What is the sum of three consecutive integers whose product can be expressed as 727+728+729.\nAnswer Choices: (A) 37 (B) 38 (C) 36 (D) 30 (E) 39\nRationale: The addition of any 3 consecutive numbers is always divisible by 3\nthat rules out options a,b,c\nNow focus on options 30 and 39\nIf we consider\n12, 13, 14 the sum is 39\nAnswer = E\nCorrect Answer: E\n\n\nQuestion: The cross-section of a canal is shaped like a trapezium. If the canal is 10 m wide at the top and 6 m wide at the bottom and the area of cross-section is 640 square meters, the depth of cannel is?\nAnswer Choices: (A) 26 (B) 28 (C) 21 (D) 80 (E) 23\nRationale: 1/2 * d (10 + 6)\n= 640\nd = 80\nAnswer: D\nCorrect Answer: D\n\n\nQuestion: At what price should the Karan mark a sewing machine that costs him Rs. 1200/- so that even after offering a 20% discount, he makes 20% profit?\nAnswer Choices: (A) 1,879 (B) 1,875 (C) 1,876 (D) 1,872 (E) 1,800\nRationale: Cost of a sewing machine = Rs. 1200/-\nBy giving 20% discount on the marked price of a sewing machine, the cost price is :\n100/80 * 1200 = Rs. 1500/- By making a profit of 20% on the cost price of a sewing machine, the marked price of the sewing machine is:\n120/100 Ã— 1500 = Rs. 1,800/-\nANSWER: 3\nCorrect Answer: E\n\n\nQuestion: Six pita breads contain the same amount of falafel as do two rolls. Three rolls contain the same amount of falafel as five baguettes do. Two baguettes contain the same amount of falafel as how many pita breads?\nAnswer Choices: (A) 12/25 (B) 3/2 (C) 3 (D) 2 (E) 25/3\nRationale: 6P = 2R\n3R = 5B\n2B = ?P\nThus, P : R : B = 18 : 6 : 12\nP : B = 18 : 12\n= 3 : 2\nThus P = 3\nAnswer : C\nCorrect Answer: C\n\n\nQuestion: A trader sold an article at a profit of 20% for Rs.360. What is the cost price of the article?\nAnswer Choices: (A) 270 (B) 300 (C) 280 (D) 320 (E) 315\nRationale: Cost Price = Selling Price / (100+Profit%) × 100 => 360 / (100+20) × 100 => 360 / 120 × 100 = Rs.300\nOption B\nCorrect Answer: B\n\n\nQuestion: At a conference, one team is made up of 4 men and 4 women. Four presenters are chosen to present the team's findings in front of the entire conference. How many different groups of presenters can be chosen from the team if a team cannot be composed of men only or women only? (Two groups of presenters are considered different if at least one presenter is different.)\nAnswer Choices: (A) 120 (B) 19 (C) 180 (D) 420 (E) 460\nRationale:\n================================================================================\n[Generated:]  4M + 4W\n= 2M + 2W + 2MW + 2WW\nNow, any 4 men and any 4 women will make up a team. Thus, 4M + 4W will be the number of teams.\nIf team cannot be composed of men only, there are 2M, so 2M = 4W\nTherefore, 2M = 2W\nIf team cannot be composed of women only, there are 2W, so 2W = 2M\nTherefore, 2W = 2M\nSince, 2M = 2W, 4M + 4W = 8\nSo, 4M + 4W will be 0,1,2,3...\nNow the remaining will be, 4M + 4W + 2WW + 2MW + 2WW\n= 4M + 4W + 4MW + 2WW\n= 4M + 4W + 4MW + 4WW\n[Prompt:]\nQuestion: Machine A puts out a yo-yo every 6 minutes. Machine B puts out a yo-yo every 9 minutes. After how many minutes will they have produced 10 yo-yos?\nAnswer Choices: (A) 24 minutes (B) 32 minutes (C) 36 minutes (D) 64 minutes (E) 72 minutes\nRationale: A's speed = 3 yo-yos every 18 minutes\nB's speed = 2 yo-yos every 18 minutes\nA + B's speed = 3 + 2 = 5 yo-yos every 18 minutes\nboth together will finish 10 yo-yos in 36 minutes\ncorrect option is C\nCorrect Answer: C\n\n\nQuestion: The monthly salary S of a shop assistant is the sum of a fixed salary of $500 plus 5% of all monthly sales. What should the monthly sales be so that her monthly salary reaches $1500?\nAnswer Choices: (A) $50000 (B) $40000 (C) $30000 (D) $20000 (E) None of these\nRationale: Let S be the total monthly salary and x be the monthly sales, hence\nS = 500 + 5% * x\nFind sales x so that S = 1500, hence\n1500 = 500 + 5% * x = 500 + 0.05 x\nSolve for x\nx = (1500 - 500) / 0.05 = $20000\nAnswer D\nCorrect Answer: D\n\n\nQuestion: If 6x - y = 24 and y = 3x, what is the value of x?\nAnswer Choices: (A) 8 (B) 9 (C) 10 (D) 11 (E) 12\nRationale: 6x - 3x = 24\n3x = 24\nx = 8\nThe answer is A.\nCorrect Answer: A\n\n\nQuestion: John likes to have lightly flavored tea every evening. In a 50% strong milk tea, he replaces 15% of it with milk twice. Then, he replaces 10 percent of the resultant solution with more milk.\nWhat is the final concentration of tea John drinks?\nAnswer Choices: (A) 15.38% (B) 42% (C) 39.86% (D) 22.35% (E) 32.51%\nRationale: Imagine starting out with 100 ml of 50% milk tea.\nIn step 1, 15% of the tea is replaced with milk. Thus, 85% of the original tea remains. Since this is done twice, we have a concentration of 50x0.85x0.85% (=36.125%) of tea solution.\nFinally, 10% of this solution is replaced with milk again. So, the final concentration of tea is 36.125*0.9%\nThis equals 32.51% of tea solution.\nAnswer: E\nCorrect Answer: E\n\n\nQuestion: A man spends 70% of his income. If his income increases by 20%, then what will be his new expenditure?\nAnswer Choices: (A) 58.3% (B) 62.5% (C) 63.5% (D) 64.5% (E) 65.5%\nRationale: Let Rs 100 be the income\nExpenditure=Rs70\nIncreased income=Rs120\nExpenditure in amount is same.\nSo, expenditure % =70/120 *100=58.3%\nANSWER:A\nCorrect Answer: A\n\n\nQuestion: A two digit number exceeds the sum of the digits of that number by 18. If the digit at the unit's place is double the digit in the ten's place, what is the number?\nAnswer Choices: (A) 12 (B) 24 (C) 42 (D) 48 (E) 49\nRationale: Let the ten's digit be x.\nThen, unit's digit = 2x.\nNumber = 10x + 2x = 12x;\nSum of digits = x + 2x = 3x.\nTherefore,  12x - 3x = 18\n‹=› 9x = 18\n‹=› x = 2.\nHence, required number = 12x = 24.\nAnswer B\nCorrect Answer: B\n\n\nQuestion: One gram of a certain health food contains 9 percent of the minimum daily requirement of vitamin E and 8 percent of the minimum daily requirement of vitamin A. If vitamins E and A are to be obtained from no other source, how many grams of the health food must be eaten daily to provide at least the minimum daily requirement of both vitamins?\nAnswer Choices: (A) 8.5 (B) 10.5 (C) 12.5 (D) 14.5 (E) 16.5\nRationale: 100% / 8% = 12.5\n12.5 grams of the health food provides 12.5(8%) = 100% of the vitamin A requirement and more than 100% of the vitamin E requirement.\nThe answer is C.\nCorrect Answer: C\n\n\nQuestion: Five dozen toys are packed in a box and 98 boxes are kept in a tempo. How many tempos can lift 29400 toys in one round ?\nAnswer Choices: (A) 4 (B) 5 (C) 7 (D) 6 (E) 8\nRationale: Five dozen = 5 x 12 = 60\n⇒ No of toys can be kept in 1 box = 60\n∴ No of toys can be kept in 98 boxes = 60 x 98 = 5880\n∴ 29400 toys can be lifted by = 29400 / 5880 = 5 tempos\nOption: B\nCorrect Answer: B\n\n\nQuestion: Fernando purchased a university meal plan that allows him to have a total of 3 lunches and 3 dinners per week. If the cafeteria is closed on weekends and Fernando always goes home for a dinner on Friday nights, how many options does he have to allocate his meals?\nAnswer Choices: (A) 5C3*4C3 (B) 5C4*4C2 (C) 5C2*4C4 (D) 5C6*4C5 (E) 4C3*4C3\nRationale:\n================================================================================\n[Generated:]  \nLet the number of lunches and dinners per week be X and Y respectively.\nThen, X + Y = 3\nNow, X = 3C5.\nY = 3C2.\n∴ 4C3X = 4C5Y\n⇒ 4C3 = 4C5 / 4C5 (∵ 4C5 = 4C3*4C5 = 4C15 = 4C25)\n⇒ 4C3 = 4C2\n∴ 4C3 = 4C2*4C2 = 4C6\n∴ No. of options = 4C3*4C2 = 4C6*4C4 = 4C12*4C6 = 4C36 = 36\nAnswer: C\n\n\nQuestion: A car and a train started from two cities respectively at the same time and they are moving toward each other. The car is running at the rate of 65 miles per hour and the train is running at the rate of 80 miles per hour.\n",
          "output_type": "stream"
        }
      ]
    },
    {
      "cell_type": "code",
      "source": [
        "# Теперь уменьшим число примеров\n",
        "n3 = 2\n",
        "\n",
        "NUM_SAMPLES_a2 = 0\n",
        "NUM_RESPONDED_a2 = 0\n",
        "NUM_CORRECT_a2 = 0\n",
        "\n",
        "for question in tqdm(questions):\n",
        "    NUM_SAMPLES_a2 += 1\n",
        "    few_shot = [few_shot_examples[num] for num in np.random.randint(0, len(few_shot_examples), size=n3)]\n",
        "    prompt = make_prompt(main_question=question, fewshot_examples=few_shot)\n",
        "    batch = tokenizer(prompt, return_tensors='pt', return_token_type_ids=False).to(device)\n",
        "    torch.manual_seed(1337)\n",
        "    output_tokens = model.generate(**batch, max_new_tokens=256, do_sample=True, top_p=0.9, stopping_criteria=stopping_criteria)\n",
        "    output = tokenizer.decode(output_tokens[0][batch['input_ids'].shape[1]:].cpu())\n",
        "    print(\"[Prompt:]\\n\" + prompt)\n",
        "    print(\"=\" * 80)\n",
        "    print(\"[Generated:]\", output)\n",
        "    if output[-17:-1] == 'Correct Answer: ':\n",
        "        NUM_RESPONDED_a2 += 1\n",
        "    if output[-1] == question['correct']:\n",
        "        NUM_CORRECT_a2 += 1"
      ],
      "metadata": {
        "execution": {
          "iopub.status.busy": "2023-12-03T17:56:17.627001Z",
          "iopub.execute_input": "2023-12-03T17:56:17.627766Z",
          "iopub.status.idle": "2023-12-03T18:06:35.643197Z",
          "shell.execute_reply.started": "2023-12-03T17:56:17.627731Z",
          "shell.execute_reply": "2023-12-03T18:06:35.642304Z"
        },
        "trusted": true,
        "id": "uDVHcebyF3AD",
        "outputId": "34cbdd2a-a05c-498e-eefa-09fb17282b8f",
        "colab": {
          "referenced_widgets": [
            "f645d0ca6b244ee5aa6972abf3cecac5"
          ]
        }
      },
      "execution_count": null,
      "outputs": [
        {
          "output_type": "display_data",
          "data": {
            "text/plain": "  0%|          | 0/44 [00:00<?, ?it/s]",
            "application/vnd.jupyter.widget-view+json": {
              "version_major": 2,
              "version_minor": 0,
              "model_id": "f645d0ca6b244ee5aa6972abf3cecac5"
            }
          },
          "metadata": {}
        },
        {
          "name": "stderr",
          "text": "Setting `pad_token_id` to `eos_token_id`:11 for open-end generation.\nSetting `pad_token_id` to `eos_token_id`:11 for open-end generation.\n",
          "output_type": "stream"
        },
        {
          "name": "stdout",
          "text": "[Prompt:]\nQuestion: A bag contains 11 candy bars: three cost 50 cents each, four cost $1 each and four cost $2\neach. How many ways can 3 candy bars be selected from the 11 candy bars so that the total cost is more than $4?\nAnswer Choices: (A) 8 (B) 28 (C) 46 (D) 66 (E) 70\nRationale: The ways of choosing 3 candy bars with a total cost over $4 include: choose 3 out of 4 (2 dollars each); choose 2 out of 4 (2 dollars each) and 1 from the other 7. So, the total number of ways is C4\n3 + (7 C4\n2 ) = 46. Incidentally, the total number ways of choosing 3 candy bars out of 11 is C11\n3 = 165. So the probability of them costing more than $4 if they are randomly chosen is\nC4\n3 + (7 C4\n2 )\nC11\n3\n=\n46/165\ncorrect answer C\nCorrect Answer: C\n\n\nQuestion: Sachin was twice as old as Ajay 10 years back. How old is Ajay today if Sachin will be 40 years old in 10 years\nAnswer Choices: (A) 18 (B) 25 (C) 15 (D) 20 (E) 21\nRationale: Explanation:\nSachin's age today = 30 years.\nSachin's age 10 years back = 20 years.\nAjay's age 10 years back = 10 years.\nAjay's age today = 20 years\nAnswer: Option D\nCorrect Answer: D\n\n\nQuestion: You can purchase one soda and two energy bars for 150 cents, or two sodas and three energy bars for 300\ncents. If the costs of the items do not change, compute the cost in cents of six sodas and seven bars.\nAnswer Choices: (A) 500 (B) 600 (C) 750 (D) 800 (E) 900\nRationale:\n================================================================================\n[Generated:]  The price of a can of soda is\ncents, and the price of an energy bar is\ncents. When buying one soda and two energy bars, the total price is\n. When buying two sodas and three energy bars, the total price is\n. The price of one soda, one energy bar, and one soda, one energy bar is\ncents. So the price of six sodas and seven bars is\ncents. (The price of one soda, one energy bar, and one soda, one energy bar is\ncents. So the price of six sodas and seven bars is\ncents. ) (The price of one soda, one energy bar, and one soda, one energy bar is\ncents. So the price of six sodas and seven bars is\ncents. ) (The price of one soda, one energy bar, and one soda, one energy bar is\ncents. So the price of six sodas and seven bars is\ncents. ) (The price of one soda, one energy bar, and one soda, one energy bar is\ncents. So the price of six sodas and seven bars is\ncents. )\n",
          "output_type": "stream"
        },
        {
          "name": "stderr",
          "text": "Setting `pad_token_id` to `eos_token_id`:11 for open-end generation.\n",
          "output_type": "stream"
        },
        {
          "name": "stdout",
          "text": "[Prompt:]\nQuestion: Arjun and Sajal are friends, each has some money. If Arun gives $30 to Sajal, the Sajal will have twice the money left with Arjun. But, if Sajal gives $10 to Arjun, Arjun will have thrice as much as is left with Sajal. How much money does each have?\nAnswer Choices: (A) 62, 35 (B) 62, 34 (C) 34, 62 (D) 42, 62 (E) 62, 42\nRationale: Suppose Arun has $X and Sajal has $Y. then,\n2(x-30)= y+30 => 2x-y =90 …(i)\nand x +10 =3(y-10) => x-3y = - 40 …(ii)\nSolving (i) and (ii), we get x =62 and y =34.\nArun has $62 and Sajal has $34.\nAnswer B.\nCorrect Answer: B\n\n\nQuestion: The events A and B are independent. The probability that event A occurs is 0.6, and the probability that at least one of the events A or B occurs is 0.96. What is the probability that event B occurs?\nAnswer Choices: (A) 0.5 (B) 0.6 (C) 0.7 (D) 0.8 (E) 0.9\nRationale: Let x be the probability that B does not occur.\nP(A and B do not occur) = 1 - 0.96 = 0.04\n0.4x = 0.04\nx=0.1\nP(B occurs) = 1 - x = 0.9\nThe answer is E.\nCorrect Answer: E\n\n\nQuestion: Find the total no. of distinct bike no.'s that can beformed using 2 letters followed by 2 no.'s. How many letters need to be distinct?\nAnswer Choices: (A) 74453 (B) 64543 (C) 74325 (D) 65000 (E) 97656\nRationale:\n================================================================================\n[Generated:]  If there are 2 letters followed by 2 no.'s we have 3 ways to get a bike no. i.e 3, 2, 1. Now if there are distinct letters, i.e. if all the letters are different then number of bike no's possible are 2P. And total bike no. is 2P.\nP = 2. Now number of bike no. formed with distinct letters will be (2P)-P = 2(2P)-P = 2(2)-P = 2*2P-P = 2*(2P-P) = 2*2(2P-P). Now number of bike no. formed with unique letters will be (2P)-P-P = 2*2P-P-P = 2*(2P-P)-P = 2*(2P-P)-P = 2*(2(2P-P)) = 2*(2(2P-P)) = 2*(2*2P-P) = 2*(4P-P).\nThe answer is E.\nCorrect\n",
          "output_type": "stream"
        },
        {
          "name": "stderr",
          "text": "Setting `pad_token_id` to `eos_token_id`:11 for open-end generation.\n",
          "output_type": "stream"
        },
        {
          "name": "stdout",
          "text": "Stopping criteria triggered\n[Prompt:]\nQuestion: In a survey of students, each student selected from a list of 10 songs the 2 songs that the student liked best. If each song was selected 5 times, how many students were surveyed?\nAnswer Choices: (A) 96 (B) 48 (C) 32 (D) 25 (E) 18\nRationale: Each out of 10 songs was selected 5 times --> the total number of selections = 10*5 = 50.\nEach student selected 2 songs --> the total number of students = 50/2 = 25.\nAnswer: D.\nCorrect Answer: D\n\n\nQuestion: Two numbers are said to be relatively prime if they share no common positive factors other than 1. Set S contains the set of integers from 1 to 1,000, inclusive. What is the probability that a number chosen from S is relatively prime to 1,000?\nAnswer Choices: (A) 5/7 (B) 3/5 (C) 4/7 (D) 2/5 (E) 2/7\nRationale: We need all numbers between 1 and 1000 that are co-prime.\nBetween 1 to 10 there are 4 : 1,3,7,9\nTake the period of 10's , we have 100 periods of 10's between 1 to 1000\nSo the total number of co-primes = 400\nNow, the simple part ...\nProbability = 400/1000 (i.e picking a co-prime from the first 1000 numbers )\nAns: 2/5 D\nCorrect Answer: D\n\n\nQuestion: Boomtown urban planners expect the city’s population to increase by 10% per year over the next two years. If that projection were to come true, the population two years from now would be exactly double the population of one year ago. Which of the following is closest to the percent population increase in Boomtown over the last year?\nAnswer Choices: (A) 20% (B) 40% (C) 50% (D) 65% (E) 75%\nRationale:\n================================================================================\n[Generated:]  10% of a population of 10 people = 10% of 10 = 1 people\nAns: D\nCorrect Answer: D\n",
          "output_type": "stream"
        },
        {
          "name": "stderr",
          "text": "Setting `pad_token_id` to `eos_token_id`:11 for open-end generation.\n",
          "output_type": "stream"
        },
        {
          "name": "stdout",
          "text": "[Prompt:]\nQuestion: 30 is subtracted from a number, it is reduced to its one third. What is the value of 50% of that number?\nAnswer Choices: (A) 22.5 (B) 84 (C) 21 (D) 24 (E) 25\nRationale: 2/3 x = 30 => x = 45\n45 * 1/2 = 22.5\nANSWER:A\nCorrect Answer: A\n\n\nQuestion: Train ‘A’ leaves Mumbai Central for Lucknow at 11 am, running at the speed of 40 kmph. Train ‘B’ leaves Mumbai Central for Lucknow by the same route at 2 pm on the same day, running at the speed of 72 kmph. At what time will the two trains meet each other?\nAnswer Choices: (A) 12 am on the next day (B) 5 am on the next day (C) 5 pm on the next day (D) 2 pm on the next day (E) None of these\nRationale: Distance covered by train A before the train B leaves\nMumbai Central = 40 × 3 = 120 km\nTime taken to cross each other = 120⁄12 = 10 hours\nRequired time = 2pm + 10 = 12 am on the next day\nAnswer A\nCorrect Answer: A\n\n\nQuestion: A coin made of alloy of aluminum and silver measures 2 x 15 mm (it is 2 mm thick and its diameter is 15 mm). If the weight of the coin is 30 grams and the volume of aluminum in the alloy equals that of silver, what will be the weight of a coin measuring 1 x 30 mm made of pure aluminum if silver is twice as heavy as aluminum?\nAnswer Choices: (A) 36 grams (B) 40 grams (C) 42 grams (D) 48 grams (E) 50 grams\nRationale:\n================================================================================\n[Generated:]  2 x 15 x 3/2 = 36 x 3/2 = 54\n1 x 15 x 3/2 = 54/2 = 27\nPure Aluminum Weight = 27 /2 = 13\nAnswer B\n\n\nQuestion: The time ratio between a 20 kmph train and a 30 kmph train is 3:2. When the speed of the first train increases by 30% and the speed of the second train decreases by 20%, then the ratio between their speeds is (A) 2:1 (B) 1:2 (C) 1:1 (D) 1:2 (E) 2:1\nRationale: The time taken by second train = 1/2 x 3 x (30/50) = 2 x 6 hours = 12 hours\nRequired ratio = 1:1\nAnswer B\n\n\nQuestion: If x/4 is added to 7 and x/5 is added to 5, the sum of 7x/15 and 5x/15 is (A) 6x\n",
          "output_type": "stream"
        },
        {
          "name": "stderr",
          "text": "Setting `pad_token_id` to `eos_token_id`:11 for open-end generation.\n",
          "output_type": "stream"
        },
        {
          "name": "stdout",
          "text": "Stopping criteria triggered\n[Prompt:]\nQuestion: The bus fare of one adult is Rs. 140 from Ranchi to Patna and bus fare of a child is half the fare of one adult between the same places. What is the total bus fare of 4 adults and 3 children between same places?\nAnswer Choices: (A) Rs. 666 (B) Rs. 670 (C) Rs. 700 (D) Rs. 570 (E) Rs. 770\nRationale: Fare for Adult = Rs. 140.\nFare of Child = Half of the Adult = Rs. 70.\nSo,\nTotal fare = 4 *140 + 3 *70 = 560 +210 = Rs. 770.\nANSWER : E\nCorrect Answer: E\n\n\nQuestion: A car is being driven, in a straight line and at a uniform speed, towards the base of a vertical tower. The top of the tower is observed from the car and, in the process, it takes 10 minutes for the angle of elevation to change from 45° to 60°. After how much more time will this car reach the base of the tower?\nAnswer Choices: (A) 5(√3 + 1) (B) 6(√3 + √2) (C) 7(√3 – 1) (D) 8(√3 – 2) (E) None of these\nRationale: Explanation :\nLet the height of the building be h. Initially, he was at an angle of 450. tan 45 = h/distance between car and tower. h = distance between car and tower (since tan 45 = 1).\nNow, after 10 minutes, it travelled a certain distance, and angle changed to 600.\ntan 60 = h/x x = h/√3\nSo, in 10 minutes, it has travelled a distance of h – x = h - h/√3.\n10 minutes = h *( 1 – 1√3)\nh can be travelled in 10 / (1 – 1√3).\nTo travel a distance of x, which is h/√3, it takes :\nh = 10 / (1 – 1/√3)\nh / √3 = 10/ √3 * (1 – 1/√3). Multiply numerator and denominator by 1 + √3 ( conjugate of 1 - √3). We get, x = h/√3 = 10 (1 + √3) / 2 = 5* (1 + √3)\nSo, it takes 5(1 + √3) minutes to reach the base of the tower.\nAnswer : A\nCorrect Answer: A\n\n\nQuestion: A paper is in a square form whose one side is 20 cm. Two semi circles are drawn on its opposites as diameters. If these semi circles are cut down what is the area of the remaining paper?\nAnswer Choices: (A) 8.75 (B) 8.79 (C) 8.75 (D) 8.71 (E) 8.72\nRationale:\n================================================================================\n[Generated:]  Explanation :\nNow,\nFirst circle = 20 = Area of Paper\nSecond circle = 20 – 20/2 = Area of paper.\n= 8.75\nSo, the area of the remaining paper = (20 – 20/2) = 8.75.\nAnswer : B\nCorrect Answer: B\n",
          "output_type": "stream"
        },
        {
          "name": "stderr",
          "text": "Setting `pad_token_id` to `eos_token_id`:11 for open-end generation.\n",
          "output_type": "stream"
        },
        {
          "name": "stdout",
          "text": "Stopping criteria triggered\n[Prompt:]\nQuestion: What should come in place of the question mark(?) in each of the following questions ?\na2 - b2/(a + b)2 (?)=(a - b)2\nAnswer Choices: (A) (a + b)(a - b) (B) (a - b)2 (C) (a + b)2 (D) a3 + b3 (E) None of these\nRationale: (a - b)2 x (a + b)2 / a2 - b2 = (a - b)2 x (a + b)2 / (a + b)(a - b) = (a + b) (a - b)\nAnswer : Option A\nCorrect Answer: A\n\n\nQuestion: A grocery sells a bag of ice for $1.25, and makes 20% profit. If it sells 500 bags of ice, how much total profit does it make?\nAnswer Choices: (A) 125 (B) 150 (C) 225 (D) 250 (E) 275\nRationale: Profit per bag = 1.25 * 0.20 = 0.25\nTotal profit = 500 * 0.25 = 125\nAnswer is A.\nCorrect Answer: A\n\n\nQuestion: A can construct a wall in 40 min and B can construct the wall in 45 min. How many hours is needed to contruct a wall if both the person working together.\nAnswer Choices: (A) 20 min (B) 22 min (C) 23 min (D) 21 min (E) 20 min\nRationale:\n================================================================================\n[Generated:]  (A) a x 20/60 = b\na = (b x 20)/60\nb = a - (a x 20)/60\nCorrect Answer: A\n",
          "output_type": "stream"
        },
        {
          "name": "stderr",
          "text": "Setting `pad_token_id` to `eos_token_id`:11 for open-end generation.\n",
          "output_type": "stream"
        },
        {
          "name": "stdout",
          "text": "Stopping criteria triggered\n[Prompt:]\nQuestion: A flagstaff 17.5 metre high casts a shadow of length 40.25 metre. The height of building, which casts a shadow of length 28.75 metre under similar conditions will be :\nAnswer Choices: (A) 12 metre (B) 12.5 metre (C) 13.5 metre (D) 14 metre (E) 15 metre\nRationale: Less shadow, Less Height (Direct Proportion)\nSo, let height of building be x metre\nthen,\n40.25:17.5::28.75:x\n=>x=17.5∗28.75/ 40.25\n=>x=12.5\nOption B\nCorrect Answer: B\n\n\nQuestion: Alex and Jacob works at a toy shop that make toys. Alex takes 7 hours to make a toy, and Jacob takes 9 hours to make a toy. During a month, both of them makes 35 toys in total. If both of them have worked for almost similar number of hours how many toys have been prepared by Jacob?\nAnswer Choices: (A) 15 (B) 16 (C) 17 (D) 18 (E) 19\nRationale: Lets say Alex has worked for x hrs., and Jacob has worked for y hrs. So, number of toys prepared by Alex is x/7, and Jacob is y/9. Since total number of toys prepared by both of them is 35.\n=> x/7 + y/9 = 35.\n=> 9x + 7y = (35)(63)\n=> 7y = (35)(63) - 9x\n=> y = (5)(63) - (9/7)x\n=> y = 315 - (9/7)x\n=> x is to be a multiple of 7. Also, we need to minimize the difference between x & y. Here are some possible values,\nx = 126, y = 315 - (9/7)126 = 153\nx = 133, y = 315 - (9/7)133 = 144\nx = 140, y = 315 - (9/7)140 = 135\nx = 147, y = 315 - (9/7)147 = 126\nAs we can see minimum difference between x and y is when x is 140 hrs. and y is 135 hrs. Thus total toys created by Jacob = y/9 = 135/9 = 15.\nAnswer: A\nCorrect Answer: A\n\n\nQuestion: All 250 files on Sam's hard drive are infected by either a virus or a worm or both. The number of files that are infected only by a worm is 2.5 times the number of files that are infected by both a virus and a worm. If 50% of the files were not infected by a virus, how many of Sam's files were NOT infected by a worm?\nAnswer Choices: (A) 50 (B) 70 (C) 75 (D) 100 (E) 125\nRationale:\n================================================================================\n[Generated:]  So, all infected files are of 3 types (virus, worm and both). 2.5x infected files are of type virus, 50% of files are non virus.\n=> 1000 infected files = virus + 2.5x (virus & worm).\n=>1000 - 100 = 900 infected files of type virus.\n=> (2.5 × 900) = 2250 infected files of type virus.\n=> 2250 - 1000 = 1500 files of type virus & worm.\n=> 50% of files = (1000 - 1500) / 2250 = 50%\nAnswer: B\nCorrect Answer: B\n",
          "output_type": "stream"
        },
        {
          "name": "stderr",
          "text": "Setting `pad_token_id` to `eos_token_id`:11 for open-end generation.\n",
          "output_type": "stream"
        },
        {
          "name": "stdout",
          "text": "Stopping criteria triggered\n[Prompt:]\nQuestion: Janice bikes at 10 miles per hour, while Jennie bikes at 20. How long until they have collectively biked 1 mile?\nAnswer Choices: (A) 1 minute (B) 2 minutes (C) 3 minutes (D) 4 minutes (E) 5 minutes\nRationale: Janice's speed = 1/6 miles per minute\nJennie's speed = 1/3 miles per minute\nJanice + Jennie's speed= (1/6 + 1/3) = 1/2 miles per minute\nBoth together will finish the mile in 2 minutes\ncorrect option is B\nCorrect Answer: B\n\n\nQuestion: 10kg of a mixture contains 30% sand and 70% clay. In order to make the mixture contain equal quantities of clay and sand how much of the mixture is to be removed and replaced with pure sand?\nAnswer Choices: (A) 10/7 (B) 20/7 (C) 30/7 (D) 40/7 (E) 50/7\nRationale: The mixture contains 3kg sand and 7 kg clay.\nFor the mixture to be in equal quantities, there should be 2 kg of clay removed.\nClay and sand are in the ratio 7:3\nSo part of sand to be removed = 2*3/7 = 6/7\nSo total mixture to be removed = 2 + 6/7 = 20/7\nANSWER:B\nCorrect Answer: B\n\n\nQuestion: Two ants are moving from their farms towards each other. Ant A is moving at a speed of 9 cm per hour and ant B is moving at a speed of 6 cm per hour. If the farms are 75 cm away from each other, what will be the distance (in cm) that ant A travels until meeting ant B?\nAnswer Choices: (A) 45 (B) 48 (C) 51 (D) 54 (E) 57\nRationale:\n================================================================================\n[Generated:]  If ant A moves a distance of 3 cm in 3 hours, its total distance = 3 x 3 = 9 cm\nIf ant B moves a distance of 2 cm in 2 hours, its total distance = 2 x 2 = 4 cm\nThe distance ant B travels = 9 - 4 = 5 cm\nSo ant A will be able to meet Ant B in 3/4 hour\nANSWER:E\nCorrect Answer: E\n",
          "output_type": "stream"
        },
        {
          "name": "stderr",
          "text": "Setting `pad_token_id` to `eos_token_id`:11 for open-end generation.\n",
          "output_type": "stream"
        },
        {
          "name": "stdout",
          "text": "Stopping criteria triggered\n[Prompt:]\nQuestion: A company contracts to paint 3 houses. Mr.Brown can paint a house in 6 days while Mr.Black would take 8 days and Mr.Blue 12 days. After 8 days Mr.Brown goes on vacation and Mr. Black begins to work for a period of 6 days. How many days will it take Mr.Blue to complete the contract?\nAnswer Choices: (A) 7 (B) 8 (C) 10 (D) 11 (E) 12\nRationale: let x is amount of work to be done to paint one house.\nSo Brown's one day work is x/6, black's can do x/8 work in\none day and blue is x/12.\nTotal houses is 3, so tatal work to be done is 3x.\n3x= 8*(x/6) + 6*(x/8) + y*(x/12)\nfinally y = 11.\nblue will complete the remaining work in 11 days.\nANSWER:D\nCorrect Answer: D\n\n\nQuestion: When folded into two equal halves a rectangular sheet had a perimeter of 48cm for each part folded along one set of sides and the same is 66cm when folded along the other set of sides. Find the area of the sheet.\nAnswer Choices: (A) 1584 (B) 1120 (C) 792 (D) 1320 (E) 1200\nRationale: Let the sheet be folded along its breadth and its perimeter = 48cm\nTherefore, (l/2 + b) = 48 ... (i)\nNow, let the sheet be folded along its length, and the perimeter = 66cm\n(l + b/2)= 66 …... (ii)\nSolving (i) and (ii), we get,\nl = 56cm, b = 20cm\nArea = l*b\nArea = 1120 cm2\nANSWER IS B\nCorrect Answer: B\n\n\nQuestion: A sales person gets a 10% commission on each sale he makes. How many sales of $250 each must he make in order to reach a salary of at least $1000?\nAnswer Choices: (A) 15 (B) 24 (C) 25 (D) 40 (E) 52\nRationale:\n================================================================================\n[Generated:]  So he earns 10% of $250 = $25. If he has to make 25 sales then his total earning would be = 25*$25 = $625.\nTo get a salary of $1000 he has to add the $625 and the salary of the 26th sale.\n26th sale's earning = $50, therefore total earning = $1000 + $50 = $1050\nANSWER:B\nCorrect Answer: B\n",
          "output_type": "stream"
        },
        {
          "name": "stderr",
          "text": "Setting `pad_token_id` to `eos_token_id`:11 for open-end generation.\n",
          "output_type": "stream"
        },
        {
          "name": "stdout",
          "text": "[Prompt:]\nQuestion: Alex and Jacob works at a toy shop that make toys. Alex takes 7 hours to make a toy, and Jacob takes 9 hours to make a toy. During a month, both of them makes 35 toys in total. If both of them have worked for almost similar number of hours how many toys have been prepared by Jacob?\nAnswer Choices: (A) 15 (B) 16 (C) 17 (D) 18 (E) 19\nRationale: Lets say Alex has worked for x hrs., and Jacob has worked for y hrs. So, number of toys prepared by Alex is x/7, and Jacob is y/9. Since total number of toys prepared by both of them is 35.\n=> x/7 + y/9 = 35.\n=> 9x + 7y = (35)(63)\n=> 7y = (35)(63) - 9x\n=> y = (5)(63) - (9/7)x\n=> y = 315 - (9/7)x\n=> x is to be a multiple of 7. Also, we need to minimize the difference between x & y. Here are some possible values,\nx = 126, y = 315 - (9/7)126 = 153\nx = 133, y = 315 - (9/7)133 = 144\nx = 140, y = 315 - (9/7)140 = 135\nx = 147, y = 315 - (9/7)147 = 126\nAs we can see minimum difference between x and y is when x is 140 hrs. and y is 135 hrs. Thus total toys created by Jacob = y/9 = 135/9 = 15.\nAnswer: A\nCorrect Answer: A\n\n\nQuestion: Two balls A and B rotate along a circular track. Ball A makes 2 full rotations in 26 minutes. Ball B makes 5 full rotation in 35 minutes. If they start rotating now from the same point, when will they be at the same starting point again?\nAnswer Choices: (A) 1 hour and 31 minutes (B) 2 hour and 31 minutes (C) 3 hour and 31 minutes (D) 4 hour and 31 minutes (E) 5 hour and 31 minutes\nRationale: If ball A makes 2 rotations in 26 minutes, it makes 1 rotation in 13 minutes. If ball B makes 5 rotations in 35 minutes, it makes 1 rotation in 7 minutes.\nThe two balls start rotating now and makes several rotations before they are at the SAME starting points. Ball A would have done a WHOLE number X of rotations and ball B would have done a WHOLE number Y of rotations. Also they would have rotated during the same period of time T. Hence\nT = 13 X = 7 Y\nHence 13 X = 7 Y\nSolve the above for X\nX = 7 Y / 13\nWe want the time when they are FIRST at the same starting point. Therefore X and Y are the smallest whole numbers of the equation X = 7 Y / 13. The smallest value of Y that gives X as a whole number is 13. Hence\nX = 7 (13) / 13 = 7\nTime T is given by\nT = 13 X = 13 * 7 = 91 minutes = 1 hour and 31 minutes\ncorrect answer A\nCorrect Answer: A\n\n\nQuestion: The original retail price of an appliance was 60 percent more than its wholesale cost. If the appliance was actually sold for 20 percent less than the original retail price, then it was sold for what percent more than its wholesale cost?\nAnswer Choices: (A) 20% (B) 28% (C) 36% (D) 40% (E) 42%\nRationale:\n================================================================================\n[Generated:]  So original retail price is x. Since it was sold for 20% less than original retail price, it was sold for y. Original retail price = x * 0.8 = 0.8x. Thus the amount by which it was sold for less than the original retail price is x - 0.8x = y.\n=> x - 0.8x = y => (0.2x) - 0.8x = y => 0.2x = y + 0.8x => x = (y + 0.8x) / 0.2 => (y + 0.8x) / 0.2 = 0.8x\nHence y = (x + 0.8x) / 0.2 = 0.8x + 0.8x / 0.2 = 1.4x\nThus original retail price = 60 * 1.4 = 88\ncorrect answer A\n\n\nQuestion: Two lines are in the ratio of \n",
          "output_type": "stream"
        },
        {
          "name": "stderr",
          "text": "Setting `pad_token_id` to `eos_token_id`:11 for open-end generation.\n",
          "output_type": "stream"
        },
        {
          "name": "stdout",
          "text": "Stopping criteria triggered\n[Prompt:]\nQuestion: In a sale, a discount of 20% was available on all the articles. If Vinit purchased an article for Rs.4578 in the sale. What was the actual selling price of the article?\nAnswer Choices: (A) s.5050 (B) s.5723 (C) s.5040 (D) s.4950 (E) s.4870\nRationale: Rs.4578 = 20% of SP\n:. SP = 4578 x 100/80 = Rs.5723\nAnswer: Option B\nCorrect Answer: B\n\n\nQuestion: [(272 - 32) (124 + 176)] / (17 x 15 - 15) = ?\nAnswer Choices: (A) 0 (B) 2.25 (C) 300 (D) 400 (E) None of these\nRationale: Given expression = [(272 - 32) (124 + 176)] / (17 x 15 - 15)\n= (240 x 300 ) / 240\n= 300\nCorrect Option: C\nCorrect Answer: C\n\n\nQuestion: A bee bypasses 0.05% of flowers it flies by because it can sense they don't have any nectar in them. How many flowers will the bee fly by to bypass 8 flowers?\nAnswer Choices: (A) 2000 (B) 4000 (C) 8000 (D) 16000 (E) 32000\nRationale:\n================================================================================\n[Generated:]  0.05% x 8000 = 40\n8000 = 0.05 x 16000\n= 0.05 x 16000/40\n= 4000\nCorrect Answer: A\n",
          "output_type": "stream"
        },
        {
          "name": "stderr",
          "text": "Setting `pad_token_id` to `eos_token_id`:11 for open-end generation.\n",
          "output_type": "stream"
        },
        {
          "name": "stdout",
          "text": "Stopping criteria triggered\n[Prompt:]\nQuestion: When folded into two equal halves a rectangular sheet had a perimeter of 48cm for each part folded along one set of sides and the same is 66cm when folded along the other set of sides. Find the area of the sheet.\nAnswer Choices: (A) 1584 (B) 1120 (C) 792 (D) 1320 (E) 1200\nRationale: Let the sheet be folded along its breadth and its perimeter = 48cm\nTherefore, (l/2 + b) = 48 ... (i)\nNow, let the sheet be folded along its length, and the perimeter = 66cm\n(l + b/2)= 66 …... (ii)\nSolving (i) and (ii), we get,\nl = 56cm, b = 20cm\nArea = l*b\nArea = 1120 cm2\nANSWER IS B\nCorrect Answer: B\n\n\nQuestion: In a bag of red and green sweets, the ratio of red sweets to green sweets is 3:4. If the bag contains 120 green sweets, how many red sweets are there?\nAnswer Choices: (A) 90 (B) 80 (C) 95 (D) 100 (E) 85\nRationale: Let x = red sweets\nWrite the items in the ratio as a fraction.\nred/green=3/4=x/120\n3 × 120 = 4 × x\n360 = 4x\nx=360/4=90\nAnswer:A\nCorrect Answer: A\n\n\nQuestion: Two numbers are in the ratio 3:5. If 9 is subtracted from each, the new numbers are in the ratio 12:23. The smaller number is?\nAnswer Choices: (A) 21 (B) 33 (C) 35 (D) 42 (E) 58\nRationale:\n================================================================================\n[Generated:]  If 12 is subtracted from 3, the new number is 5. Similarly, if 23 is subtracted from 5, the new number is 23-5=18\nThe smaller number is 35.\nAnswer:B\nCorrect Answer: B\n",
          "output_type": "stream"
        },
        {
          "name": "stderr",
          "text": "Setting `pad_token_id` to `eos_token_id`:11 for open-end generation.\n",
          "output_type": "stream"
        },
        {
          "name": "stdout",
          "text": "[Prompt:]\nQuestion: Calculate the maximum distance you can travel with $8.50 on a cab which charges $3.50 for the first quarter-mile and 10 cents for each additional quarter mile.\nAnswer Choices: (A) 11.75 miles (B) 12.75 miles (C) 17.75 miles (D) 14.75 miles (E) 10.75 miles\nRationale: Subtract the fee for te first quarter mile $8.50 - $3.50 = $5\nCalculate how many extra additional quarter miles---$5/10 cents => 50 quarter miles => 12.5 miles\nTotal distance is 12.5 miles + 1/4 (first quarter mile)\n12.75 miles\nAnswer: B\nCorrect Answer: B\n\n\nQuestion: When folded into two equal halves a rectangular sheet had a perimeter of 48cm for each part folded along one set of sides and the same is 66cm when folded along the other set of sides. Find the area of the sheet.\nAnswer Choices: (A) 1584 (B) 1120 (C) 792 (D) 1320 (E) 1200\nRationale: Let the sheet be folded along its breadth and its perimeter = 48cm\nTherefore, (l/2 + b) = 48 ... (i)\nNow, let the sheet be folded along its length, and the perimeter = 66cm\n(l + b/2)= 66 …... (ii)\nSolving (i) and (ii), we get,\nl = 56cm, b = 20cm\nArea = l*b\nArea = 1120 cm2\nANSWER IS B\nCorrect Answer: B\n\n\nQuestion: If Q, a positive integer, has 5 factors, which of the following must be true about Q?\nI. Q is the square of a prime number.\nII. Q is the fourth power of a prime number.\nIII. Q is the product of two prime numbers.\nAnswer Choices: (A) I only (B) III only (C) II only (D) I and II only (E) I and III only\nRationale:\n================================================================================\n[Generated:]  If Q has 5 factors, then\n(1/5) x (1/5) x (1/5) x (1/5) x (1/5) = 1/25\n(Q = 25)\n(i) If Q is the square of a prime number, then Q = 25 and Q = 125. Since Q has 5 factors, it must be the square of a prime number.\n(ii) If Q is the square of a prime number, then Q = 25, Q = 5, Q = 3 and Q = 1. But Q = 1 has only one factor and Q = 3 has two factors, so Q must be prime.\n(iii) If Q is the square of a prime number, then Q = 25, Q = 5, Q = 3, Q = 1. Since Q = 25 has four factors, Q must be the product of two prime numbers.\n(iv) If Q is the square of a prime number, then Q = 25, Q = 5, Q = 3\n",
          "output_type": "stream"
        },
        {
          "name": "stderr",
          "text": "Setting `pad_token_id` to `eos_token_id`:11 for open-end generation.\n",
          "output_type": "stream"
        },
        {
          "name": "stdout",
          "text": "Stopping criteria triggered\n[Prompt:]\nQuestion: In IPL season, Sachin current batting average is 51. In the finals, he scores 78 runs, then is batting average will be 54. Find out the total number of matches played by Sachin in this season.\nAnswer Choices: (A) 6 (B) 8 (C) 9 (D) 10 (E) 11\nRationale: Let total number of matches = x\nthen, total runs 54*x\ntotal runs before final = 51*(x-1)\nruns in the final match\n54*x - 51*(x-1) = 78\nx= 9\nANSWER:C\nCorrect Answer: C\n\n\nQuestion: If the probability that Stock A will increase in value during the next month is 0.56, and the probability that Stock B will increase in value during the next month is 0.74. What is the greatest value for the probability that neither of these two events will occur?\nAnswer Choices: (A) 0.22 (B) 0.26 (C) 0.37 (D) 0.46 (E) 0.63\nRationale: The probability that stock A does not increase is 0.44, and the probability that stock B does not increase is 0.26. Now, how can the probability that both do not increase be more than individual probability of not increasing for each? So the probability that both do not increase can not be more than 0.26. Basically the probability that both do not increase is between 0 and 0.26.\nCorrect Answer: B\n\n\nQuestion: 5 horses are in a race. Mr.Jain selects two of horses at random and bets on them. The probability that he selected the winning horse is\nAnswer Choices: (A) 1/5 (B) 2/5 (C) 3/5 (D) 4/5 (E) 6/5\nRationale:\n================================================================================\n[Generated:]  Probability of selecting a winning horse = 1/5*1/5= 1/25.\nProbability of selecting two winning horses= 2/5*2/5= 4/25.\nTherefore, the probability of selecting two winning horses is 4/25.\nCorrect Answer: D\n",
          "output_type": "stream"
        },
        {
          "name": "stderr",
          "text": "Setting `pad_token_id` to `eos_token_id`:11 for open-end generation.\n",
          "output_type": "stream"
        },
        {
          "name": "stdout",
          "text": "[Prompt:]\nQuestion: A rectangular parking space is marked out by painting three of its sides. If the length of the unpainted side is 9 feet, and the sum of the lengths of the painted sides is 37 feet, then what is the area of the parking space in square feet?\nAnswer Choices: (A) 46 (B) 81 (C) 126 (D) 252 (E) None\nRationale: We have l=9 and l+2b=37\nArea = (l x b)\n=(9 x 14) sq.ft\n= 126 sq.ft.\nAnswer C\nCorrect Answer: C\n\n\nQuestion: Arjun and Sajal are friends, each has some money. If Arun gives $30 to Sajal, the Sajal will have twice the money left with Arjun. But, if Sajal gives $10 to Arjun, Arjun will have thrice as much as is left with Sajal. How much money does each have?\nAnswer Choices: (A) 62, 35 (B) 62, 34 (C) 34, 62 (D) 42, 62 (E) 62, 42\nRationale: Suppose Arun has $X and Sajal has $Y. then,\n2(x-30)= y+30 => 2x-y =90 …(i)\nand x +10 =3(y-10) => x-3y = - 40 …(ii)\nSolving (i) and (ii), we get x =62 and y =34.\nArun has $62 and Sajal has $34.\nAnswer B.\nCorrect Answer: B\n\n\nQuestion: For bringing each copper coin from the bottom of a river, a coin-diver gets 20 cents, and for each brass coin she gets 25 cents. If after one dive, she got $3.40. What is the minimum number of copper coins that she brought?\nAnswer Choices: (A) 4 (B) 3 (C) 2 (D) 1 (E) 0\nRationale:\n================================================================================\n[Generated:]  If she had got copper coins, then\n= 2 cents\nand\n=25 cents.\nFor the brass coins,\n= 3 cents\nand\n=20 cents.\nso, we get\n= 2.4 cents + 2 cents =4.4 cents.\nSince she got $3.40 after a single dive, so for the minimum number of dives, we get\n= $4.40/(4.4 cents) = 10.8 dives.\nAnswer C\n\n\nQuestion: A certain number of buses depart from a terminal at the same time every day. If a bus leaves the terminal at 9 a.m., then it will arrive at 10 a.m. and if it leaves at 8 a.m., then it will arrive at 9 a.m. Find the time the first bus departs the terminal.\nAnswer Choices: (A) 8 a.m. (B) 9 a.m. (C) 10 a.m. (D) 11 a.m. (E) None\nRationale:\n1 bus leaves at 9 a.m.\nIf first bus\n",
          "output_type": "stream"
        },
        {
          "name": "stderr",
          "text": "Setting `pad_token_id` to `eos_token_id`:11 for open-end generation.\n",
          "output_type": "stream"
        },
        {
          "name": "stdout",
          "text": "[Prompt:]\nQuestion: At a certain factory, 10 percent of the staplers produced on Monday were defective and 2 percent of the non-defective staplers were rejected by mistake. If 72 of the non-defective staplers were rejected, what was the number of staplers produced that day?\nAnswer Choices: (A) 4,000 (B) 4,200 (C) 4,500 (D) 4,800 (E) 5,000\nRationale: We're told that 10% of staplers in a factory are defective.\nX = Total staplers\n0.1X = defective staplers\n0.9X = normal staplers\nNext, we're told that 2% of the normal staplers were rejected by mistake and that this = 72 staplers.\n0.9X(0.02) = 72\n0.018X = 72\n18X = 72,000\nX = 4,000\nFinal Answer:\nA\nCorrect Answer: A\n\n\nQuestion: Machine A puts out a yo-yo every 6 minutes. Machine B puts out a yo-yo every 9 minutes. After how many minutes will they have produced 10 yo-yos?\nAnswer Choices: (A) 24 minutes (B) 32 minutes (C) 36 minutes (D) 64 minutes (E) 72 minutes\nRationale: A's speed = 3 yo-yos every 18 minutes\nB's speed = 2 yo-yos every 18 minutes\nA + B's speed = 3 + 2 = 5 yo-yos every 18 minutes\nboth together will finish 10 yo-yos in 36 minutes\ncorrect option is C\nCorrect Answer: C\n\n\nQuestion: R, S, T, and U are points on a line, and U is the midpoint of line segment ST. If the lengths of line segments RS, RT, and ST are 5, 17, and 22, respectively. What is the length of line segment RU?\nAnswer Choices: (A) 6 (B) 7 (C) 8 (D) 9 (E) 10\nRationale:\n================================================================================\n[Generated:]  If U is the midpoint of line segment ST, then it is halfway between R and S.\nLength of RS is 5\nLength of RT is 17\nLength of ST is 22\nIf length of line segment RS = 5, then length of line segment RT = 5/2\nIf length of line segment RT = 17, then length of line segment ST = 17/2\nlength of line segment RS = 5 + 5/2 + 17/2\nlength of line segment RS = 25/2 = 12 1/2\nlength of line segment RT = 5/2\nlength of line segment RT = 2 1/2\nlength of line segment ST = 2 1/2\nlength of line segment ST = 11/2\nLength of line segment RU = 6 + 2 + 11/2\nLength of line segment RU = 21\nFinal Answer:\nD\n\n\nQuestion: The length of a rectangle is twice its width. If its area is 40, what are its dimensions?\nAnswer Choices: (A) 6 inches\n",
          "output_type": "stream"
        },
        {
          "name": "stderr",
          "text": "Setting `pad_token_id` to `eos_token_id`:11 for open-end generation.\n",
          "output_type": "stream"
        },
        {
          "name": "stdout",
          "text": "[Prompt:]\nQuestion: In a survey of students, each student selected from a list of 10 songs the 2 songs that the student liked best. If each song was selected 5 times, how many students were surveyed?\nAnswer Choices: (A) 96 (B) 48 (C) 32 (D) 25 (E) 18\nRationale: Each out of 10 songs was selected 5 times --> the total number of selections = 10*5 = 50.\nEach student selected 2 songs --> the total number of students = 50/2 = 25.\nAnswer: D.\nCorrect Answer: D\n\n\nQuestion: In a class 1/16 of the students study math, 1/10 of the students study bio, 1/8 of the students study english. The total number of students is a 4 digit number. Find the diffrence between maximum number of students and minimum number of students.\nAnswer Choices: (A) 8880 (B) 8870 (C) 8890 (D) 7890 (E) 6780\nRationale: LCM of 16,10,8 = 80\nthe largest 4 digit number divisible by 80 = 9920\nThe smallest 4 digit number divisible by 80 = 1040\nSo, required difference = 9920-1040= 8880\nANSWER:A\nCorrect Answer: A\n\n\nQuestion: A car finishes a journey in 20 hours at the speed of 60 km/hr. If the same distance is to be covered in 10 hours, how much speed does the car gain?\nAnswer Choices: (A) 80 kmph (B) 50 kmph (C) 120 kmph (D) 70 kmph (E) 80 kmph\nRationale:\n================================================================================\n[Generated:]  60/20 = 3\n60/10 = 6\n60 = 6 x 10\nSo, total distance = 6 x 10 x 60/20 = 600km.\nNow, we know speed = (20 x 60)/600 = 40 kmph.\nWe know speed gain = (40 - 30)/600 = 10 kmph.\nANSWER:B\n\n\nQuestion: A can do a certain work in 16 days, B can do the same work in 12 days. The work done by A in 12 days is equal to B’s work in 24 days. Find the work done by A in 24 days.\nAnswer Choices: (A) 100 (B) 50 (C) 70 (D) 40 (E) 80\nRationale: (A*12)/16 = 100\n(B*12)/12 = 50\n(A*24)/12 = 80\nSo, total work done by A = 80 + 100 = 180\nANSWER:B\n\n\nQuestion:\n",
          "output_type": "stream"
        },
        {
          "name": "stderr",
          "text": "Setting `pad_token_id` to `eos_token_id`:11 for open-end generation.\n",
          "output_type": "stream"
        },
        {
          "name": "stdout",
          "text": "Stopping criteria triggered\n[Prompt:]\nQuestion: A rectangular piece of 150 sq m has a length which is 1m more than the 4 times the breadth. What is the perimeter of the piece?\nAnswer Choices: (A) 60 m (B) 61 m (C) 62 m (D) 63 m (E) 64 m\nRationale: Let its breadth be = x m.\nSo length will be = (4x+1) m.\nNow,\nx * (4x+1) = 150\nor, 4x^2+x-150 = 0\nor, (4x+25)(x-6) = 0\nEither 4x = -25 or x = 6\nAs breadth can not take negetive value so x = 6\nSo its length is 4*6+1 = 25\nSo perimeter will be 2*(25+6)=62 mLet its breadth be = x m.\nSo length will be = (4x+1) m.\nNow,\nx * (4x+1) = 150\nor, 4x^2+x-150 = 0\nor, (4x+25)(x-6) = 0\nEither 4x = -25 or x = 6\nAs breadth can not take negetive value so x = 6\nSo its length is 4*6+1 = 25\nSo perimeter will be 2*(25+6)=62 m\nANSWER:C\nCorrect Answer: C\n\n\nQuestion: My wall contains 8 red colour ties, 13 violet colour ties,10 blue colour ties, 5 pink colour ties, 4 green colour ties. If electricity is gone and I want at least two ties of same colour then how many ties I should take out from my rack?\nAnswer Choices: (A) 2 (B) 3 (C) 4 (D) 5 (E) 6\nRationale: 5 ties will get you one of different colored ties in the worst case. Thus, one more tie and you will have at least one pair. Thus, 6 is the correct answer.\nANSWER:E\nCorrect Answer: E\n\n\nQuestion: Let A and B be independent events with P (A) = 0.2 and P(B) = 0.8. Find P(A/B)?\nAnswer Choices: (A) 0.2 (B) 0.4 (C) 0.6 (D) 1.2 (E) 1.5\nRationale:\n================================================================================\n[Generated:]  Probability of B can be given as\n= (0.8) / (0.2 + 0.8)\n= (0.8/1.2) = 0.6\nANSWER:C\nCorrect Answer: C\n",
          "output_type": "stream"
        },
        {
          "name": "stderr",
          "text": "Setting `pad_token_id` to `eos_token_id`:11 for open-end generation.\n",
          "output_type": "stream"
        },
        {
          "name": "stdout",
          "text": "[Prompt:]\nQuestion: At its maximum speed, a space shuttle can travel 700m high in 40 seconds. It will also take 5 seconds to pass a point. What then is the length of the space shuttle?\nAnswer Choices: (A) 50 m (B) 75 m (C) 100 m (D) 125 m (E) 150 m\nRationale: Let the length of the space shuttle be x metres and its speed be y m/sec. Then, x / y = 1 ⇒ y = x / 5\n∴ (x + 700) / 40 = x / 5 ⇔ x = 100 m. Answer C\nCorrect Answer: C\n\n\nQuestion: A father wants to divide Rs. 5100 between his two sons, Mohan and Sohan who are 23 and 24 at present. He divides the amount in such a way that if their shares are invested at compound interest at 4% p.a. they will receive equal amount on attaining the age of 26 years. Find Mohan's share.\nAnswer Choices: (A) 2400 (B) 2500 (C) 2600 (D) 2700 (E) None of these\nRationale: Let, the amount Mohan and Sohan receive be Rs. m and Rs. n, respectively. The amount that they receive 3 years and 2 years after should be equal.\n⇒m(1+4/100)3=n(1+4/100)2\n⇒m(1+4/100)=n\n⇒m(26/25)=n\n⇒m/n=25/26\nTherefore, Rs.5100 must be distribued in the ratio 25 : 26\nSo Mohan's share = 5100×25/(25+26)=2500\nAnswer B\nCorrect Answer: B\n\n\nQuestion: A wire in the shape of rectangle of length 27 cm and breadth 17 cm is rebent to form a square. What will be the measure of each side?\nAnswer Choices: (A) 9 (B) 11 (C) 22 (D) 25 (E) 31\nRationale:\n================================================================================\n[Generated:]  If it is a rectangle, the perimeter of which is 27x17cm = 485 cm.\n⇒(27x17)2=(49x27+49x17)cm2\n⇒486x2 = 980 cm2\n⇒484 = 984\n⇒484/984 = 27/17\nSo each side must be 27/17 × 17/9 = 22 cm.\nAnswer C\n\n\nQuestion: An article was sold for Rs. 1500 and Rs. 1000 in losses. If the articles are sold together for Rs. 1500, the gain is 15% of cost. What was the cost price?\nAnswer Choices: (A) Rs. 3000 (B) Rs. 4000 (C) Rs. 4500 (D) Rs. 6000 (E) Rs. 9000\nRationale: Let the cost price be Rs. x.\n⇒(Rs. 1000 + Rs. 1500) × 100 = x\n⇒2000 = x × 100\n⇒\n",
          "output_type": "stream"
        },
        {
          "name": "stderr",
          "text": "Setting `pad_token_id` to `eos_token_id`:11 for open-end generation.\n",
          "output_type": "stream"
        },
        {
          "name": "stdout",
          "text": "Stopping criteria triggered\n[Prompt:]\nQuestion: On dividing 2272 and 875 by a 3-digit number N, we get the same remainder. The sum of the digits of N is:\nAnswer Choices: (A) 10 (B) 11 (C) 12 (D) 13 (E) 14\nRationale: (2272 - 875) = 1397, is exactly divisible by N.\nNow, 1397 = 11 * 127\nThe required 3-digit number is 127, the sum of whose digit is 10.\nANSWER:A\nCorrect Answer: A\n\n\nQuestion: How many ways A boy can reach the top of stairs which contain 10 steps, when he can take either one or two steps every time?\nAnswer Choices: (A) 88 (B) 89 (C) 90 (D) 91 (E) 92\nRationale: case 1:1 1 1 1 1 1 1 1 1 1 > 1!\ncase 2:1 1 1 1 1 1 1 1 2 > 9!/8!\ncase 3:1 1 1 1 1 1 2 2 > 8!/6!*2!\ncase 4:1 1 1 1 2 2 2 > 7!/4!*3!\ncase 5:1 1 2 2 2 2 > 6!/4!*2!\ncase 6:2 2 2 2 2 > 1!\nadd answers of all cases => 1+9+28+35+15+1= 89\nANSWER:B\nCorrect Answer: B\n\n\nQuestion: On a normal day Bill usually averages about 15 mph when riding his bicycle. On a windy day, his speed is reduced by 4 mph. How far can Bill travel on a windy day in 21 minutes? Round to the nearest hundredth.\nAnswer Choices: (A) 2 miles (B) 2.25 miles (C) 3.25 miles (D) 3.85 miles (E) 2.85 miles\nRationale:\n================================================================================\n[Generated:]  15 + 4 = 19 = 19 mph\nLet wind = v\nspeed = distance/time\nNow\n(v - v/wind) = 15\nv/wind = 15 - (v/wind)\nv = 15\nspeed = 19\nanswer = 3.85 miles\nANSWER:C\nCorrect Answer: C\n",
          "output_type": "stream"
        },
        {
          "name": "stderr",
          "text": "Setting `pad_token_id` to `eos_token_id`:11 for open-end generation.\n",
          "output_type": "stream"
        },
        {
          "name": "stdout",
          "text": "Stopping criteria triggered\n[Prompt:]\nQuestion: The original price of an item is discounted 22%. A customer buys the item at this discounted price using a $20-off coupon. There is no tax on the item, and this was the only item the customer bought. If the customer paid $1.90 more than half the original price of the item, what was the original price of the item?\nAnswer Choices: (A) $61 (B) $65 (C) $67.40 (D) $70 (E) $78.20\nRationale: Let x be the original price of the item\nDiscounted price = 0.78x\nPayment made by the customer after using the $20 coupon = 0.78x - 20\n0.78x - 20 = x/2 + 1.9\nx = 78.20\nAnswer: E\nCorrect Answer: E\n\n\nQuestion: Two numbers are said to be relatively prime if they share no common positive factors other than 1. Set S contains the set of integers from 1 to 1,000, inclusive. What is the probability that a number chosen from S is relatively prime to 1,000?\nAnswer Choices: (A) 5/7 (B) 3/5 (C) 4/7 (D) 2/5 (E) 2/7\nRationale: We need all numbers between 1 and 1000 that are co-prime.\nBetween 1 to 10 there are 4 : 1,3,7,9\nTake the period of 10's , we have 100 periods of 10's between 1 to 1000\nSo the total number of co-primes = 400\nNow, the simple part ...\nProbability = 400/1000 (i.e picking a co-prime from the first 1000 numbers )\nAns: 2/5 D\nCorrect Answer: D\n\n\nQuestion: Professors borrowed Rs. 5000 from the university at simple interest. After 3 years, the university got Rs. 300 on interest. What was the rate of interest per annum?\nAnswer Choices: (A) 2% (B) 8% (C) 5% (D) 10% (E) None of these\nRationale:\n================================================================================\n[Generated:]  If it is 2% the sum of principal and interest at the end of 3 years will be 5100 and that is 500 more than what the professor borrowed.\nIf it is 8%, the sum of principal and interest at the end of 3 years will be 5400 and that is 100 less than what the professor borrowed.\nIf it is 5%, the sum of principal and interest at the end of 3 years will be 5500 and that is 50 more than what the professor borrowed.\nIf it is 10%, the sum of principal and interest at the end of 3 years will be 5800 and that is 100 more than what the professor borrowed.\nThe interest must be 2% or less.\nThe rate of interest per annum can not be more than 8% (as interest will be Rs. 30 at the end of 3 years)\nAns: 2% D\nCorrect Answer: D\n",
          "output_type": "stream"
        },
        {
          "name": "stderr",
          "text": "Setting `pad_token_id` to `eos_token_id`:11 for open-end generation.\n",
          "output_type": "stream"
        },
        {
          "name": "stdout",
          "text": "Stopping criteria triggered\n[Prompt:]\nQuestion: In how many ways can the letters of the word \"PROBLEC\" be rearranged to make 7 letter words such that none of the letters repeat?\nAnswer Choices: (A) 2! (B) 3! (C) 7! (D) 8! (E) 9!\nRationale: There are seven positions to be filled.\nThe first position can be filled using any of the 7 letters contained in PROBLEM.\nThe second position can be filled by the remaining 6 letters as the letters should not repeat.\nThe third position can be filled by the remaining 5 letters only and so on.\n758\nTherefore, the total number of ways of rearranging the 7 letter word = 7*6*5*4*3*2*1 = 7! Ways.\nC\nCorrect Answer: C\n\n\nQuestion: Winson runs from his home to his school at an average speed of 10 miles/hr, and then walks home along the same route at an average speed of 5 miles/hr. If the whole journey took one hour, how many miles is his home from his school?\nAnswer Choices: (A) 9 (B) 6 (C) 4 (D) 3 (E) 2\nRationale: Suppose x is the distance then\ngoing time + coming time = total time = 1 hour\nx/10 + x/5 = 1\nx = 1.5=2 miles\nAnswer E.\nCorrect Answer: E\n\n\nQuestion: [5 + ? × 19 - 15 - 7]/[13 × 13 - 156] = 6\nAnswer Choices: (A) 4 (B) 4.5 (C) 5 (D) 5.5 (E) 6.5\nRationale:\n================================================================================\n[Generated:]  [5 + 19 - 15 - 7] × 13 × 13 = 156\n= (15 × 13 × 13 - 19) + (13 × 13 + 7 × 13)\n= (5 × 13 - 7) + (13 × 13 + 15)\n= 4 × 13 + 15 - 7 + 15\n= [4 + 13 × 13 - 15 + 15] + 7\n= 4 + 169 - 15 - 15 + 15 = 6\nAnswer E.\nCorrect Answer: E\n",
          "output_type": "stream"
        },
        {
          "name": "stderr",
          "text": "Setting `pad_token_id` to `eos_token_id`:11 for open-end generation.\n",
          "output_type": "stream"
        },
        {
          "name": "stdout",
          "text": "Stopping criteria triggered\n[Prompt:]\nQuestion: The cross-section of a canal is shaped like a trapezium. If the canal is 10 m wide at the top and 6 m wide at the bottom and the area of cross-section is 640 square meters, the depth of cannel is?\nAnswer Choices: (A) 26 (B) 28 (C) 21 (D) 80 (E) 23\nRationale: 1/2 * d (10 + 6)\n= 640\nd = 80\nAnswer: D\nCorrect Answer: D\n\n\nQuestion: Alex and Jacob works at a toy shop that make toys. Alex takes 7 hours to make a toy, and Jacob takes 9 hours to make a toy. During a month, both of them makes 35 toys in total. If both of them have worked for almost similar number of hours how many toys have been prepared by Jacob?\nAnswer Choices: (A) 15 (B) 16 (C) 17 (D) 18 (E) 19\nRationale: Lets say Alex has worked for x hrs., and Jacob has worked for y hrs. So, number of toys prepared by Alex is x/7, and Jacob is y/9. Since total number of toys prepared by both of them is 35.\n=> x/7 + y/9 = 35.\n=> 9x + 7y = (35)(63)\n=> 7y = (35)(63) - 9x\n=> y = (5)(63) - (9/7)x\n=> y = 315 - (9/7)x\n=> x is to be a multiple of 7. Also, we need to minimize the difference between x & y. Here are some possible values,\nx = 126, y = 315 - (9/7)126 = 153\nx = 133, y = 315 - (9/7)133 = 144\nx = 140, y = 315 - (9/7)140 = 135\nx = 147, y = 315 - (9/7)147 = 126\nAs we can see minimum difference between x and y is when x is 140 hrs. and y is 135 hrs. Thus total toys created by Jacob = y/9 = 135/9 = 15.\nAnswer: A\nCorrect Answer: A\n\n\nQuestion: 64 boys and 40 girls form a group for social work. During their membership drive, the same number of boys and girls joined the group. How many members does the group have now, if the ratio of boys to girls is 4:3?\nAnswer Choices: (A) 277 (B) 288 (C) 200 (D) 277 (E) 168\nRationale:\n================================================================================\n[Generated:]  200 (A) + 108 (B) + 32 (C) + 4 (D) = 480\n200 + 108 + 32 + 4 = 480\n2(200 + 108) + 4 = 480\n402 + 4 = 480\n402 = 480\n2 = 192\nThus, total number of members = 192.\nAnswer: B\nCorrect Answer: B\n",
          "output_type": "stream"
        },
        {
          "name": "stderr",
          "text": "Setting `pad_token_id` to `eos_token_id`:11 for open-end generation.\n",
          "output_type": "stream"
        },
        {
          "name": "stdout",
          "text": "Stopping criteria triggered\n[Prompt:]\nQuestion: If 6x - y = 24 and y = 3x, what is the value of x?\nAnswer Choices: (A) 8 (B) 9 (C) 10 (D) 11 (E) 12\nRationale: 6x - 3x = 24\n3x = 24\nx = 8\nThe answer is A.\nCorrect Answer: A\n\n\nQuestion: Alice wants to put up fencing around three sides of her rectangular yard and leave one side of 10 meters unfenced. If the yard has an area of 240 square meters, how many meters of fencing does she need?\nAnswer Choices: (A) 58 (B) 62 (C) 66 (D) 70 (E) 74\nRationale: The sides of the rectangle have a length of 10 and L.\nThe area is 10*L=240 so L=24.\nShe needs fencing with a length of 10+2*24=58 meters.\nThe answer is A.\nCorrect Answer: A\n\n\nQuestion: If Jill needed to buy 10 bottles of soda for a party in which 8 people attended, how many bottles of soda will she need to buy for a party in which 12 people are attending?\nAnswer Choices: (A) 6 (B) 8 (C) 10 (D) 12 (E) 14\nRationale:\n================================================================================\n[Generated:]  10/8 = 1.25\n12/8 = 1.5\n0.25 is larger than 0.5 so the answer is A.\nCorrect Answer: A\n",
          "output_type": "stream"
        },
        {
          "name": "stderr",
          "text": "Setting `pad_token_id` to `eos_token_id`:11 for open-end generation.\n",
          "output_type": "stream"
        },
        {
          "name": "stdout",
          "text": "[Prompt:]\nQuestion: The number of water lilies on a certain lake doubles every two days. If there is exactly one water lily on the lake, it takes 60 days for the lake to be fully covered with water lilies. In how many days will the lake be fully covered with lilies, if initially there were 64 water lilies on it?\nAnswer Choices: (A) 15 (B) 28 (C) 30 (D) 53 (E) 59\nRationale: Starting from 1 Water Lilly it takes 60 days.\nIf there are already two present, it can be taken as the first day is over.\nIt will take 59 more days.\nNotice that we are told thatthe number of water lilies on a certain lake doubles every two days, thus if initially there were 64 water lilies instead of one, we can consider that 7 days are over and therefore only 53 days are left.\nAnswer: D.\nCorrect Answer: D\n\n\nQuestion: A man spend 810 in buying trouser at Rs 70 each and shirt at 30 each. What will be the ratio of trouser and shirt when the maximum number of trouser is purchased?\nAnswer Choices: (A) 9 Trousers (B) 8 Trousers (C) 10 Trousers (D) 7 Trousers (E) 11 Trousers\nRationale: Lets assume S as price of shirt and T as price of trousers, we have bellow equation:\n70 T + 30 S = 810\nSimplifying we get : 7T + 3S = 81\nT = ( 81 - 3*S )/7\nWe need to find the least value of S which will make (81 - 3*S) divisible by 7\nSimplifying by taking 3 as common factor 3*(27-S) / 7\nLooking at the above equation its not difficult to find out least value of S is 6 so that 27- 3S becomes divisible by S\nHence, T = (81-3*S)/7 = (81-3*6)/7 = 63/7 = 9\nANSWER:A\nCorrect Answer: A\n\n\nQuestion: Suppose you can travel from a place M to a place N by 3 buses, from place N to place O by 4 buses, from place O to place P by 1 buses and from place P to place Q by 3 buses. In how many ways can you travel from M to Q ?\nAnswer Choices: (A) 24 (B) 36 (C) 72 (D) 84 (E) None\nRationale:\n================================================================================\n[Generated:]  So there are three cases in the question\nCase 1: From M to O, 4 buses are used\nCase 2: From O to P, 1 bus is used.\nCase 3: From P to Q, 3 buses are used.\nThese are the three possible cases.\nNow the total ways to travel from M to Q are\nSum of the first 3 numbers in the permutations = 3 + 4 + 1\nSum of the second 3 numbers in the permutations = 4 + 3 + 2\nSum of the last 3 numbers in the permutations = 1 + 2 + 3\nHence, the answer is 3 + 4 + 1 + 2 + 3 + 1 + 2 + 3 = 24.\nANSWER:E\n\n\nQuestion: An athlete ran a mile in 4 minutes and a second and walked one mile in 8 minutes. How many minutes does it take to walk the mile if the athlete runs only half of it?\nAnswer Choices: (A) 4 (B) 6 \n",
          "output_type": "stream"
        },
        {
          "name": "stderr",
          "text": "Setting `pad_token_id` to `eos_token_id`:11 for open-end generation.\n",
          "output_type": "stream"
        },
        {
          "name": "stdout",
          "text": "Stopping criteria triggered\n[Prompt:]\nQuestion: A two digit number exceeds the sum of the digits of that number by 18. If the digit at the unit's place is double the digit in the ten's place, what is the number?\nAnswer Choices: (A) 12 (B) 24 (C) 42 (D) 48 (E) 49\nRationale: Let the ten's digit be x.\nThen, unit's digit = 2x.\nNumber = 10x + 2x = 12x;\nSum of digits = x + 2x = 3x.\nTherefore,  12x - 3x = 18\n‹=› 9x = 18\n‹=› x = 2.\nHence, required number = 12x = 24.\nAnswer B\nCorrect Answer: B\n\n\nQuestion: A rectangular piece of 150 sq m has a length which is 1m more than the 4 times the breadth. What is the perimeter of the piece?\nAnswer Choices: (A) 60 m (B) 61 m (C) 62 m (D) 63 m (E) 64 m\nRationale: Let its breadth be = x m.\nSo length will be = (4x+1) m.\nNow,\nx * (4x+1) = 150\nor, 4x^2+x-150 = 0\nor, (4x+25)(x-6) = 0\nEither 4x = -25 or x = 6\nAs breadth can not take negetive value so x = 6\nSo its length is 4*6+1 = 25\nSo perimeter will be 2*(25+6)=62 mLet its breadth be = x m.\nSo length will be = (4x+1) m.\nNow,\nx * (4x+1) = 150\nor, 4x^2+x-150 = 0\nor, (4x+25)(x-6) = 0\nEither 4x = -25 or x = 6\nAs breadth can not take negetive value so x = 6\nSo its length is 4*6+1 = 25\nSo perimeter will be 2*(25+6)=62 m\nANSWER:C\nCorrect Answer: C\n\n\nQuestion: If a man rows at the rate of 4 kmph in still water and his rate against the current is 2 kmph, then the man's rate along the current is:\nAnswer Choices: (A) 15 kmph (B) 6 kmph (C) 12 kmph (D) 14 kmph (E) 6 kmph\nRationale:\n================================================================================\n[Generated:]  If he rows at a rate of 4 kmph, then the distance he rowed = 4 x 60 m = 240 m\nNow, if his rate against the current is 2 kmph, then the distance covered against the current = 2 x 240 m = 480 m\nTherefore, his total distance = 240 + 480 = 720 m\nAs the current's rate = 4 kmph,\nhence, the man's rate along the current = (2 - 4) kmph = -2 kmph\nHence, the required speed is 12 kmph.\nANSWER:E\nCorrect Answer: E\n",
          "output_type": "stream"
        },
        {
          "name": "stderr",
          "text": "Setting `pad_token_id` to `eos_token_id`:11 for open-end generation.\n",
          "output_type": "stream"
        },
        {
          "name": "stdout",
          "text": "Stopping criteria triggered\n[Prompt:]\nQuestion: Three bells ring at intervals of 36 seconds, 40 seconds and 48 seconds, respectively. They start ringing together at a particular time. When they will ring together again?\nAnswer Choices: (A) After 6 minutes (B) After 12 minutes (C) After 18 minutes (D) After 24 minutes (E) none\nRationale: LCM of 36,40,48 is 720\n720/60=12\nANSWER:B\nCorrect Answer: B\n\n\nQuestion: If 27 bottles of soda cost A cents, how much will B bottles cost in dollars?\nAnswer Choices: (A) AB/2700 (B) 27/AB (C) AB/270 (D) 2700/AB (E) 100AB/27\nRationale: 27 bottles cost A cents or A/100 dollars\n1 bottle will cost = A/100/27 = A/2700\nB bottles in dollars = B*A/2700 = AB/2700\nHence, answer will be A.\nCorrect Answer: A\n\n\nQuestion: It takes a worker 9 minutes to drive from home to work at an average rate of 20 kilometers per hour. How many minutes will it take the worker to cycle from home to work along the same route at an average rate of 6 kilometers per hour?\nAnswer Choices: (A) 30 (B) 32 (C) 35 (D) 36 (E) 40\nRationale:\n================================================================================\n[Generated:]  Average rate = (travelled distance)/(total time)\nHere, 20 is travelled distance\nHere, 60 is total time\n9/60 is the distance covered per minute\n=6 km/h\n6*60 = 360/60= 6 km per minute\n6 km per minute = 360/60 = 60/6 = 10 minutes\nHence, answer will be C.\nCorrect Answer: C\n",
          "output_type": "stream"
        },
        {
          "name": "stderr",
          "text": "Setting `pad_token_id` to `eos_token_id`:11 for open-end generation.\n",
          "output_type": "stream"
        },
        {
          "name": "stdout",
          "text": "Stopping criteria triggered\n[Prompt:]\nQuestion: An organization decided to raise Rs. 6 lakh by collecting equal contribution from each of its employees. If each of them had contributed Rs. 60 extra, the contribution would have been Rs. 6.24 lakh. How many employees are there in that organization?\nAnswer Choices: (A) 300 (B) 200 (C) 400 (D) 100 (E) 500\nRationale: Required number of employees = (624000 - 600000)/60=24000/60=400\nAnswer is C.\nCorrect Answer: C\n\n\nQuestion: What is the sum of three consecutive integers whose product can be expressed as 727+728+729.\nAnswer Choices: (A) 37 (B) 38 (C) 36 (D) 30 (E) 39\nRationale: The addition of any 3 consecutive numbers is always divisible by 3\nthat rules out options a,b,c\nNow focus on options 30 and 39\nIf we consider\n12, 13, 14 the sum is 39\nAnswer = E\nCorrect Answer: E\n\n\nQuestion: If one third of 3/4 of a number is 21. Then, find the number?\nAnswer Choices: (A) 84 (B) 66 (C) 28 (D) 19 (E) 11\nRationale:\n================================================================================\n[Generated:]  (A^2)3/4= 2a/4\nA^2=84\nA=42\nSo 3/4=42/4=21/2\n=9\n\nAnswer is B.\nCorrect Answer: B\n",
          "output_type": "stream"
        },
        {
          "name": "stderr",
          "text": "Setting `pad_token_id` to `eos_token_id`:11 for open-end generation.\n",
          "output_type": "stream"
        },
        {
          "name": "stdout",
          "text": "Stopping criteria triggered\n[Prompt:]\nQuestion: What is 60% of 30% of 1400 grams?\nAnswer Choices: (A) 450 gms (B) 100 gms (C) 252 gms (D) 240 gms (E) None of these\nRationale: 60/100 * 30/100 * 1400= 252\nAnswer: C\nCorrect Answer: C\n\n\nQuestion: Anna has 4 books. If she decide to arrange the 4 books in every possible combination and moved just one book every minute, how long would it taken by her ?\nAnswer Choices: (A) 22 minutes (B) 30 minutes (C) 15 minutes (D) 24 minutes (E) 35 minutes\nRationale: Number of ways of arranging 4 books = 4 ! = 4 x 3 x 2 x 1 = 24.\nSo, total time taken = 24 minutes\nAnswer: D\nCorrect Answer: D\n\n\nQuestion: A company produces 420 units of a particular computer component every month, at a production cost to the company of $110 per component, and sells all of the components by the end of each month. What is the minimum selling price per component that will guarantee that the yearly profit (revenue from sales minus production costs) will be at least $626,400 ?\nAnswer Choices: (A) 226 (B) 230 (C) 240 (D) 260 (E) 280\nRationale:\n================================================================================\n[Generated:]  $626,400= $110 x 420.\nMinimum Selling Price per component = 260\nAnswer: D\nCorrect Answer: D\n",
          "output_type": "stream"
        },
        {
          "name": "stderr",
          "text": "Setting `pad_token_id` to `eos_token_id`:11 for open-end generation.\n",
          "output_type": "stream"
        },
        {
          "name": "stdout",
          "text": "Stopping criteria triggered\n[Prompt:]\nQuestion: If the population of a city increases by 5 % annually, what will be the population of the city in 2 years time if its current population is 78000?\nAnswer Choices: (A) 81900 (B) 85995 (C) 85800 (D) 90000 (E) None of these\nRationale: The % change in population of city in two years time is 1.05*1.05 = 1.1025 = 10.25%\nTherefore, after 2 years the population of the city will be 1.1025 * 78000 = 85995\nANSWER B\nCorrect Answer: B\n\n\nQuestion: During one season, a tennis team won 20 matches and lost 30% of their matches. What was the number of matches that the team lost?\nAnswer Choices: (A) 70 (B) 30 (C) 3 (D) 7 (E) 5\nRationale: Knowing that the team lost 30 % of their matches, it has won 70 % of their matches\nTotal matches = 20 / (70/ 100) = 14\nHence number of matches that the team lost = 20 x 14/100 = 3=C\nCorrect Answer: C\n\n\nQuestion: Sharon works for 5 hours to earn enough tips to buy an ice cream cake, while Karen works for 4. After how many hours will they be able to buy the cake together?\nAnswer Choices: (A) 1 hour (B) 2 hours (C) 3 hours (D) 4 hours (E) 5 hours\nRationale:\n================================================================================\n[Generated:]  If Sharon earns enough tips in 5 hours, she can buy the ice cream cake in 5 hours. Karen can buy it in 4 hours\nCorrect Answer: E\n",
          "output_type": "stream"
        },
        {
          "name": "stderr",
          "text": "Setting `pad_token_id` to `eos_token_id`:11 for open-end generation.\n",
          "output_type": "stream"
        },
        {
          "name": "stdout",
          "text": "[Prompt:]\nQuestion: A shopkeeper employed a servant at a monthly salary of 1500. In addition to it, he agreed to pay him a commission of 15% on the monthly sale. How much sale in Rupees should the servant do if he wants his monthly income as 6000?\nAnswer Choices: (A) 30000 (B) 415000 (C) 31500 (D) 50000 (E) None of these\nRationale: Servant’s commission amount\n= 6000 – 1500 = 4500\ni.e.,15% = 4500\nor,100% = 4500⁄15 × 100 = 30000\nAnswer A\nCorrect Answer: A\n\n\nQuestion: Calculate the maximum distance you can travel with $8.50 on a cab which charges $3.50 for the first quarter-mile and 10 cents for each additional quarter mile.\nAnswer Choices: (A) 11.75 miles (B) 12.75 miles (C) 17.75 miles (D) 14.75 miles (E) 10.75 miles\nRationale: Subtract the fee for te first quarter mile $8.50 - $3.50 = $5\nCalculate how many extra additional quarter miles---$5/10 cents => 50 quarter miles => 12.5 miles\nTotal distance is 12.5 miles + 1/4 (first quarter mile)\n12.75 miles\nAnswer: B\nCorrect Answer: B\n\n\nQuestion: A certain phone manufacturer ships its products in crates. A crate consists of p pallets, and each pallet holds 1250 phones. If the manufacturer ships 4 crates, how many phones are shipped?\nAnswer Choices: (A) 1000p (B) 1500p (C) 2000p (D) 2500p (E) 30000\nRationale:\n================================================================================\n[Generated:]  p = pallets, p = p = crates\n1000 × p = 1250\n1250 × p = 1000\n1/p = 1000 => 1250 p = 1000\np = 1000\nNow, crates = 1250 phones\nCrates × 1250 = 1000p\n1250 × 1000 = 1000p\n1000p = 1000\n1p = 1000/p => p = 1000/1000\np = 1\nso, 4 crates = 4000\nAnswer: B\n\n\nQuestion: A man gives $1000 to his son on his birthday. On the son's 18th birthday, he gives him another $1000, and on the son's 21st birthday, he gives him another $500. If the man's birthday is 2 months before his son's 18th birthday, how many months are there between their birthdays?\nAnswer Choices: (A) 1 month (B) 4 months (C) 7\n",
          "output_type": "stream"
        },
        {
          "name": "stderr",
          "text": "Setting `pad_token_id` to `eos_token_id`:11 for open-end generation.\n",
          "output_type": "stream"
        },
        {
          "name": "stdout",
          "text": "[Prompt:]\nQuestion: Printer A and Printer B can each print 1⁄2 page per second. How long will it take both printers working together to print 100 pages?\nAnswer Choices: (A) 25 seconds (B) 50 seconds (C) 100 seconds (D) 200 seconds (E) 400 seconds\nRationale: Total work = Printer A + Printer B = 2 Printer A\n100= 2 * 1/2 * T => T=100 seconds\nAnswer: C\nCorrect Answer: C\n\n\nQuestion: When folded into two equal halves a rectangular sheet had a perimeter of 48cm for each part folded along one set of sides and the same is 66cm when folded along the other set of sides. Find the area of the sheet.\nAnswer Choices: (A) 1584 (B) 1120 (C) 792 (D) 1320 (E) 1200\nRationale: Let the sheet be folded along its breadth and its perimeter = 48cm\nTherefore, (l/2 + b) = 48 ... (i)\nNow, let the sheet be folded along its length, and the perimeter = 66cm\n(l + b/2)= 66 …... (ii)\nSolving (i) and (ii), we get,\nl = 56cm, b = 20cm\nArea = l*b\nArea = 1120 cm2\nANSWER IS B\nCorrect Answer: B\n\n\nQuestion: A man divides Rs 8600 among 5 sons, 4 daughters and 2 nephews. If each daughter receives four times as much as each nephew, and each son receives five as much as each nephew. How much does each daughter receive ?\nAnswer Choices: (A) Rs 400 (B) Rs 500 (C) Rs 600 (D) Rs 700 (E) Rs 800\nRationale:\n================================================================================\n[Generated:]  (A) Rs 8600\n= 2 sons*10000 = 5 daughters*4000 = 3 sons*2000\n= 5 daughters*4000 = 6 sons*3000\n(B) Rs 8600 = 4 daughters*2000 + 2 sons*10000 = 3 sons*3000\n(C) Rs 8600 = 4 daughters*2000 + 6 sons*3000\n(D) Rs 8600 = 2 daughters*3000 + 5 sons*2000\n(E) Rs 8600 = 4 daughters*2000 + 6 sons*3000\nANSWER IS A\n\n\nQuestion: Which of the following sets of numbers when increased by 50, 100 and 200, form an arithmetic series?\nAnswer Choices: (A) 4, 8, 12, 16, 20, 24 (B) 6, 12, 18, 24, 30, 36 (C) 4, 9, 16, 25, 35, 45 (D) \n",
          "output_type": "stream"
        },
        {
          "name": "stderr",
          "text": "Setting `pad_token_id` to `eos_token_id`:11 for open-end generation.\n",
          "output_type": "stream"
        },
        {
          "name": "stdout",
          "text": "Stopping criteria triggered\n[Prompt:]\nQuestion: Suppose you want to arrange your English, Hindi, Mathematics, History, Geography and Science books on a shelf. In how many ways can you do it ?\nAnswer Choices: (A) 520 (B) 720 (C) 920 (D) None (E) Cannot be determined\nRationale: We have to arrange 6 books. The number of permutations is 6*5*4*3*2*1= 720\nAnswer : B\nCorrect Answer: B\n\n\nQuestion: An organization decided to raise Rs. 6 lakh by collecting equal contribution from each of its employees. If each of them had contributed Rs. 60 extra, the contribution would have been Rs. 6.24 lakh. How many employees are there in that organization?\nAnswer Choices: (A) 300 (B) 200 (C) 400 (D) 100 (E) 500\nRationale: Required number of employees = (624000 - 600000)/60=24000/60=400\nAnswer is C.\nCorrect Answer: C\n\n\nQuestion: Calculate the percentage gain of a merchant who purchased 90 kg of oranges for Rs. 450 and sold the whole lot at the rate of Rs. 7.50 per kg.\nAnswer Choices: (A) 50 % (B) 60 % (C) 55 % (D) 70 % (E) 58%\nRationale:\n================================================================================\n[Generated:]  Required percentage gain = ((90-90)/450)x100 = (0.5-0)/450= 0.125=12.5%\nAnswer is E.\nCorrect Answer: E\n",
          "output_type": "stream"
        },
        {
          "name": "stderr",
          "text": "Setting `pad_token_id` to `eos_token_id`:11 for open-end generation.\n",
          "output_type": "stream"
        },
        {
          "name": "stdout",
          "text": "Stopping criteria triggered\n[Prompt:]\nQuestion: The difference between simple interest and C.I. at the same rate for Rs.5000 for 2 years in Rs.72. The rate of interest is?\nAnswer Choices: (A) 10% (B) 12% (C) 6% (D) 8% (E) 4%\nRationale: 5000 = 72(100/R)2\n5 R2 = 720 => R = 12\nAnswer: Option B\nCorrect Answer: B\n\n\nQuestion: A man spends 70% of his income. If his income increases by 20%, then what will be his new expenditure?\nAnswer Choices: (A) 58.3% (B) 62.5% (C) 63.5% (D) 64.5% (E) 65.5%\nRationale: Let Rs 100 be the income\nExpenditure=Rs70\nIncreased income=Rs120\nExpenditure in amount is same.\nSo, expenditure % =70/120 *100=58.3%\nANSWER:A\nCorrect Answer: A\n\n\nQuestion: Shweta rides at the rate of 10 km per hour but stops for 10 minutes to take rest at the end of every 15 km. How many hours will she take to cover 100 km\nAnswer Choices: (A) 9 hours. (B) 10 hours. (C) 11 hours. (D) 12 hours. (E) 13 hours.\nRationale:\n================================================================================\n[Generated:]  15/10=1.5\n1.5 X 100 = 150\nAnswer: Option D\n\n\nQuestion: A, B, C, D are four numbers. C<B and D<A. Then the number which is greater than B and less than C is:\nAnswer Choices: (A) C (B) B (C) C (D) D (E) A\nRationale: Let C<B and D<A\nC <B & D <A\nSo, A is greater than B\nB <A & D <A\nSo, B is greater than A\nC >B & D <A\nSo, C is greater than B\nSo, C is greater than D\nAnswer: Option D\nCorrect Answer: D\n",
          "output_type": "stream"
        },
        {
          "name": "stderr",
          "text": "Setting `pad_token_id` to `eos_token_id`:11 for open-end generation.\n",
          "output_type": "stream"
        },
        {
          "name": "stdout",
          "text": "Stopping criteria triggered\n[Prompt:]\nQuestion: Julie’s yard is rectangular. One side of the yard is 100 feet wide. The total area of the yard is 3,000 square feet. What is the length of the other side of the yard?\nAnswer Choices: (A) 30 feet (B) 20 feet (C) 10 feet (D) 50 feet (E) 60 feet\nRationale: Area = length x width. Divide area by width to find the missing side.\n3000 ÷100 = 30\nThe other side is 30 feet.\nCorrect answer A\nCorrect Answer: A\n\n\nQuestion: During one season, a tennis team won 20 matches and lost 30% of their matches. What was the number of matches that the team lost?\nAnswer Choices: (A) 70 (B) 30 (C) 3 (D) 7 (E) 5\nRationale: Knowing that the team lost 30 % of their matches, it has won 70 % of their matches\nTotal matches = 20 / (70/ 100) = 14\nHence number of matches that the team lost = 20 x 14/100 = 3=C\nCorrect Answer: C\n\n\nQuestion: If 6 yrs are subtracted from the present age of Ajay and the remainder is divided by 18, then the present age of Rahul is obtained. If Rahul is 2 yrs younger to Denis whose age is 5 yrs, then what is Ajay's present age?\nAnswer Choices: (A) 40 (B) 60 (C) 70 (D) 80 (E) 90\nRationale:\n================================================================================\n[Generated:]  If Ajay's present age is obtained by 6 yrs subtracted from the present age. Then present age of Rahul is 2 yrs\nIf present age of Rahul is 2 yrs, then present age of Denis is (60 – 2) = 58 yrs.\nSince Rahul is 2 yrs younger to Denis, then\nAge of Rahul = Denis - 2 = 58 - 2 = 56 yrs\nHence, Ajay's present age is 56 yrs.\nCorrect Answer: B\n",
          "output_type": "stream"
        },
        {
          "name": "stderr",
          "text": "Setting `pad_token_id` to `eos_token_id`:11 for open-end generation.\n",
          "output_type": "stream"
        },
        {
          "name": "stdout",
          "text": "Stopping criteria triggered\n[Prompt:]\nQuestion: A flagstaff 17.5 metre high casts a shadow of length 40.25 metre. The height of building, which casts a shadow of length 28.75 metre under similar conditions will be :\nAnswer Choices: (A) 12 metre (B) 12.5 metre (C) 13.5 metre (D) 14 metre (E) 15 metre\nRationale: Less shadow, Less Height (Direct Proportion)\nSo, let height of building be x metre\nthen,\n40.25:17.5::28.75:x\n=>x=17.5∗28.75/ 40.25\n=>x=12.5\nOption B\nCorrect Answer: B\n\n\nQuestion: At what price should the Karan mark a sewing machine that costs him Rs. 1200/- so that even after offering a 20% discount, he makes 20% profit?\nAnswer Choices: (A) 1,879 (B) 1,875 (C) 1,876 (D) 1,872 (E) 1,800\nRationale: Cost of a sewing machine = Rs. 1200/-\nBy giving 20% discount on the marked price of a sewing machine, the cost price is :\n100/80 * 1200 = Rs. 1500/- By making a profit of 20% on the cost price of a sewing machine, the marked price of the sewing machine is:\n120/100 Ã— 1500 = Rs. 1,800/-\nANSWER: 3\nCorrect Answer: E\n\n\nQuestion: A retailer sold an appliance for 40 percent above cost, which represented a gross profit of $20.00. For what price did the retailer sell the appliance?\nAnswer Choices: (A) $27.30 (B) $51.00 (C) $63.00 (D) $70.00 (E) $91.00\nRationale:\n================================================================================\n[Generated:]  40% profit margin= 20\n=> Cost price = 40 × 20 = 80\n=> Price = (80 + 20) × 1.4 = (80 + 20) × 2 = (20 + 20) × 2 = 40 × 2 = 80\nSo, the price should be $40 × 1.4 = $56 (Option C)\nCorrect Answer: C\n",
          "output_type": "stream"
        },
        {
          "name": "stderr",
          "text": "Setting `pad_token_id` to `eos_token_id`:11 for open-end generation.\n",
          "output_type": "stream"
        },
        {
          "name": "stdout",
          "text": "Stopping criteria triggered\n[Prompt:]\nQuestion: If the probability that Stock A will increase in value during the next month is 0.56, and the probability that Stock B will increase in value during the next month is 0.74. What is the greatest value for the probability that neither of these two events will occur?\nAnswer Choices: (A) 0.22 (B) 0.26 (C) 0.37 (D) 0.46 (E) 0.63\nRationale: The probability that stock A does not increase is 0.44, and the probability that stock B does not increase is 0.26. Now, how can the probability that both do not increase be more than individual probability of not increasing for each? So the probability that both do not increase can not be more than 0.26. Basically the probability that both do not increase is between 0 and 0.26.\nCorrect Answer: B\n\n\nQuestion: Five dozen toys are packed in a box and 98 boxes are kept in a tempo. How many tempos can lift 29400 toys in one round ?\nAnswer Choices: (A) 4 (B) 5 (C) 7 (D) 6 (E) 8\nRationale: Five dozen = 5 x 12 = 60\n⇒ No of toys can be kept in 1 box = 60\n∴ No of toys can be kept in 98 boxes = 60 x 98 = 5880\n∴ 29400 toys can be lifted by = 29400 / 5880 = 5 tempos\nOption: B\nCorrect Answer: B\n\n\nQuestion: there are more than 501 students in a school such that 20% of them exactly took physics and 28% of them exactly took math. What could be the least possible no of students in the school?\nAnswer Choices: (A) 550 (B) 570 (C) 600 (D) 700 (E) none of these\nRationale:\n================================================================================\n[Generated:]  550 = 50% of total students = 500 x 50% = 25%\n∴ Total no of students = 550 + 25% = 687\n∴ Minimum no of students = 687 – 20% = 545\nOption: B\nCorrect Answer: B\n",
          "output_type": "stream"
        },
        {
          "name": "stderr",
          "text": "Setting `pad_token_id` to `eos_token_id`:11 for open-end generation.\n",
          "output_type": "stream"
        },
        {
          "name": "stdout",
          "text": "[Prompt:]\nQuestion: An aeroplane flies along the four sides of a square at the speeds of 200, 400, 600 and 800km/hr. Find the average speed of the plane around the field?\nAnswer Choices: (A) 384 (B) 562 (C) 458 (D) 156 (E) 452\nRationale: Let the each side of the square is x km\naverage speed of plane is y km/hr\n(x/200)+(x/400)+(x/600)+(x/800) = 4x/y\n25x/2400 = 4x/y\ny= 384 km/hr\nAnswer is A\nCorrect Answer: A\n\n\nQuestion: At the of his one-year investment, Charles received $54,080, including interest and principal from a certain investment. If the investment paid an annual interest of 8 percent compounded semi-annually, which of the following is the amount of money that Charles originally invested?\nAnswer Choices: (A) $45,000 (B) $50,000 (C) $54,000 (D) $59,000 (E) $62,000\nRationale: You are given that a certain investment gave you X $ after 1 year. So the original investment must be <X\nThus you can rule out options D-E as these options will make the original amount > the interest+principle amount\nOption C is very close to the amount after 1st year and 4% will definitely give you >80$ in interests.\nNow you only have 2 options left (A and B)\nPer the question, let x be the original amount invested ---> x(1.04)^2 = 54080 .@NL This clearly shows that answer must be B.\nANSWER:B\nCorrect Answer: B\n\n\nQuestion: An exam is given in a certain class. The average (arithmetic mean) of the highest score and the lowest score is equal to x. If the average score for the entire class is equal to y and there are z students in the class, where z > 5, then in terms of x, y, and z, what is the average score for the class excluding the highest and lowest scorers?\nAnswer Choices: (A) (zy – 2x)/z (B) (zy – 2)/z (C) (zx – y)/(z – 2) (D) (zy – 2x)/(z -2) (E) (zy – x)/(z + 2)\nRationale:\n================================================================================\n[Generated:]  You need to find the x. Since the score of highest scorer is x and the score of lowest scorer is zy-2x --->\nx(zy-2x)=x(z+2y)\nSo you can easily find x by solving for z.\nANSWER:B\n\n\nQuestion: The total area of a rectangle is 24 square feet and the length is twice the width. If the perimeter is 72 feet, what are the dimensions of the rectangle in inches?\nAnswer Choices: (A) 8x (B) 12x (C) 9x (D) 6x (E) 7x\nRationale: Let width be x and length be y, then you need to find the total area, which can be done using A = x (x+y)\nSo we need to find x(x+y)\nANSWER:E\n\n\nQuestion: An object weighs 30kg when it is pulled by a force of 45N to the right. It then returns to its starting position and is released. What is the force exerted on the object by the pulling force?\nAnswer Choices: (A) 60N\n",
          "output_type": "stream"
        },
        {
          "name": "stderr",
          "text": "Setting `pad_token_id` to `eos_token_id`:11 for open-end generation.\n",
          "output_type": "stream"
        },
        {
          "name": "stdout",
          "text": "Stopping criteria triggered\n[Prompt:]\nQuestion: If the population of a city increases by 5 % annually, what will be the population of the city in 2 years time if its current population is 78000?\nAnswer Choices: (A) 81900 (B) 85995 (C) 85800 (D) 90000 (E) None of these\nRationale: The % change in population of city in two years time is 1.05*1.05 = 1.1025 = 10.25%\nTherefore, after 2 years the population of the city will be 1.1025 * 78000 = 85995\nANSWER B\nCorrect Answer: B\n\n\nQuestion: The number of water lilies on a certain lake doubles every two days. If there is exactly one water lily on the lake, it takes 60 days for the lake to be fully covered with water lilies. In how many days will the lake be fully covered with lilies, if initially there were 64 water lilies on it?\nAnswer Choices: (A) 15 (B) 28 (C) 30 (D) 53 (E) 59\nRationale: Starting from 1 Water Lilly it takes 60 days.\nIf there are already two present, it can be taken as the first day is over.\nIt will take 59 more days.\nNotice that we are told thatthe number of water lilies on a certain lake doubles every two days, thus if initially there were 64 water lilies instead of one, we can consider that 7 days are over and therefore only 53 days are left.\nAnswer: D.\nCorrect Answer: D\n\n\nQuestion: A ship went on a voyage. After it had traveled 180 miles a plane started with 10 times the speed of the ship. Find the distance when they meet from starting point.\nAnswer Choices: (A) 238 (B) 289 (C) 200 (D) 287 (E) 187\nRationale:\n================================================================================\n[Generated:]  If it had traveled 200 miles with the plane’s help we could say that it would have covered 400 miles in total.\nAnswer: A\nCorrect Answer: A\n",
          "output_type": "stream"
        },
        {
          "name": "stderr",
          "text": "Setting `pad_token_id` to `eos_token_id`:11 for open-end generation.\n",
          "output_type": "stream"
        },
        {
          "name": "stdout",
          "text": "Stopping criteria triggered\n[Prompt:]\nQuestion: Kevin drove from A to B at a constant speed of 70 mph. Once he reached B, he turned right around with pause, and returned to A at a constant speed of 90 mph. Exactly 3 hours before the end of his trip, he was still approaching B, only 70 miles away from it. What is the distance between A and B?\nAnswer Choices: (A) 180 (B) 90 (C) 270 (D) 360 (E) None of the above\nRationale: In the last 70 miles of his approach to B, Kevin was traveling at 70 mph, so he traveled that distance in 1 hr, or 60 minutes. That means, when he arrived at B, 60 minutes had elapsed, and he took (3 hr) – (1 hr) = 2 hr to drive the distance D at 90 mph.\nD = RT = (90 mph)[ (2 hr] = 180 mi\nAnswer = (A)\nCorrect Answer: A\n\n\nQuestion: Kevin drove from A to B at a constant speed of 70 mph. Once he reached B, he turned right around with pause, and returned to A at a constant speed of 90 mph. Exactly 3 hours before the end of his trip, he was still approaching B, only 70 miles away from it. What is the distance between A and B?\nAnswer Choices: (A) 180 (B) 90 (C) 270 (D) 360 (E) None of the above\nRationale: In the last 70 miles of his approach to B, Kevin was traveling at 70 mph, so he traveled that distance in 1 hr, or 60 minutes. That means, when he arrived at B, 60 minutes had elapsed, and he took (3 hr) – (1 hr) = 2 hr to drive the distance D at 90 mph.\nD = RT = (90 mph)[ (2 hr] = 180 mi\nAnswer = (A)\nCorrect Answer: A\n\n\nQuestion: Ram and Krishna start from A and B, respectively, at the same time and travel towards each other at constant speeds of 20m/s and 40m/s, respectively, along the same route. Ram meets Krishna at point C on the road after 10 seconds. Find the total distance between A to B.\nAnswer Choices: (A) 700 meters (B) 1000 meters (C) 700 kilometers (D) 555 meters (E) 600 meters\nRationale:\n================================================================================\n[Generated:]  At time 0, Ram started with an initial velocity of 20m/s and he traveled a distance of 10 seconds. Then Krishna, with an initial velocity of 40m/s, traveled for another 10 seconds. At the end of this time, they meet each other at point C.\n(C) = 1000/2 = 500 m\nNow, they traveled a total distance of 500 meters in 20 seconds. That means, Ram’s velocity was (1/2)(20) = 10 m/s, whereas Krishna’s velocity was (2/5)(40) = 40m/s.\n(1/2) = 10 m/s\nAnswer = (A)\nCorrect Answer: A\n",
          "output_type": "stream"
        },
        {
          "name": "stderr",
          "text": "Setting `pad_token_id` to `eos_token_id`:11 for open-end generation.\n",
          "output_type": "stream"
        },
        {
          "name": "stdout",
          "text": "Stopping criteria triggered\n[Prompt:]\nQuestion: The capacity of a tank of dimensions (8 m × 6 m × 2.5 m) is\nAnswer Choices: (A) 120 litres (B) 1200 litres (C) 12000 litres (D) 120000 litres (E) None of these\nRationale: Capacity of the bank = Volume of the bank\n= (8x100x6x100x2.5x100/1000) =\nanswer D\nCorrect Answer: D\n\n\nQuestion: An organization decided to raise Rs. 6 lakh by collecting equal contribution from each of its employees. If each of them had contributed Rs. 60 extra, the contribution would have been Rs. 6.24 lakh. How many employees are there in that organization?\nAnswer Choices: (A) 300 (B) 200 (C) 400 (D) 100 (E) 500\nRationale: Required number of employees = (624000 - 600000)/60=24000/60=400\nAnswer is C.\nCorrect Answer: C\n\n\nQuestion: An electric pole, 14 metres high, casts a shadow of 10 metres. Find the height of a tree that casts a shadow of 15 metres under similar conditions.\nAnswer Choices: (A) 21 (B) 22 (C) 20 (D) 23 (E) 24\nRationale:\n================================================================================\n[Generated:]  If 10 metres is covered by shadow, height of tree = 14 - 10=4 metres\nAnswer is D.\nCorrect Answer: D\n",
          "output_type": "stream"
        },
        {
          "name": "stderr",
          "text": "Setting `pad_token_id` to `eos_token_id`:11 for open-end generation.\n",
          "output_type": "stream"
        },
        {
          "name": "stdout",
          "text": "Stopping criteria triggered\n[Prompt:]\nQuestion: Jack buys 18 sharpeners (white and brown) for rs. 100. If he pays 1 rupee more for each white than brown sharpeners. How many of white and how many brown sharpeners did he buy?\nAnswer Choices: (A) 10,8 (B) 9,8 (C) 7,8 (D) 5,6 (E) 11,12\nRationale: Total cost=100\nnumber of sharp=18\ncost of white=cost of brown+1\n100/18=5.5...-(1)\nalso 100%18=10...-(2)\nas cost of white is 1 more than that of brown\nfrom 1 int. value will be 5\nnow remainder is 10 so 10 sharp. will be of cost (5+1)\n=> 10*(5+1)+8*5\n=>10*6+8*5\n=60+40\n100\nwhite=10\nbrown=8\nANSWER:A\nCorrect Answer: A\n\n\nQuestion: Julie’s yard is rectangular. One side of the yard is 100 feet wide. The total area of the yard is 3,000 square feet. What is the length of the other side of the yard?\nAnswer Choices: (A) 30 feet (B) 20 feet (C) 10 feet (D) 50 feet (E) 60 feet\nRationale: Area = length x width. Divide area by width to find the missing side.\n3000 ÷100 = 30\nThe other side is 30 feet.\nCorrect answer A\nCorrect Answer: A\n\n\nQuestion: Decipher the following multiplication table:\nM A D\nB E\n-------------\nM A D\nR A E\n-------------\nA M I D\nAnswer Choices: (A) 9 2 0 0 (B) 9 2 0 9 (C) 9 2 0 1 (D) 9 2 0 7 (E) 9 2 2 2\nRationale:\n================================================================================\n[Generated:]  9 x 2 x 0\n= 9 x 0\n= 0\n= 0\n= 0\n= 9\n9 (0+0+0+9)\nCorrect Answer: A\n",
          "output_type": "stream"
        },
        {
          "name": "stderr",
          "text": "Setting `pad_token_id` to `eos_token_id`:11 for open-end generation.\n",
          "output_type": "stream"
        },
        {
          "name": "stdout",
          "text": "[Prompt:]\nQuestion: A special cereal mixture contains rice, wheat and corn in the ratio of 2:3:5. If a bag of the mixture contains 3 pounds of rice, how much corn does it contain?\nAnswer Choices: (A) 6.5 (B) 7.5 (C) 7 (D) 6 (E) None of the above\nRationale: Let x = amount of corn\nrice/corn=2/5=3/x\n2 × x = 3 × 5\n2x = 15\nx=7.5\nAnswer:B\nCorrect Answer: B\n\n\nQuestion: A starts a business with Rs.40,000. After 2 months, B joined him with Rs.60,000. C joined them after some more time with Rs.120,000. At the end of the year, out of a total profit of Rs.375,000, C gets Rs.150,000 as his share. How many months after B joined the business, did C join?\nAnswer Choices: (A) 2 months (B) 4 months (C) 23 months (D) 24 months (E) 84 months\nRationale: Assume that C was there in the business for x months\nA:B:C = 40000*12 : 60000*10 : 120000*x\n= 40*12 : 60*10 : 120x = 40 : 5*10 : 10x\n=8 : 10 : 2x\n= 4 : 5 : x\nC's share = 375000*x/(9+x) = 150000\n=> 375x/(9+x) = 150\n=> 15x = 6(9+x)\n=> 5x = 18 + 2x\n=> 3x = 18\n=> x = 18/3 = 6\nIt means C was there in the business for 6 months. Given that B joined the business\nafter 2 months. Hence C joined after 4 months after B joined\nAnswer is B\nCorrect Answer: B\n\n\nQuestion: At a conference, one team is made up of 4 men and 4 women. Four presenters are chosen to present the team's findings in front of the entire conference. How many different groups of presenters can be chosen from the team if a team cannot be composed of men only or women only? (Two groups of presenters are considered different if at least one presenter is different.)\nAnswer Choices: (A) 120 (B) 19 (C) 180 (D) 420 (E) 460\nRationale:\n================================================================================\n[Generated:]  4 men and 4 women = 16\n4*16 = 64\n4*3 = 12\n4*4 = 16\nHence, there are 4 ways of choosing the team.\nAnswer: A\n\n\nQuestion: The average temperature in a town is 40C, 40C, 34C, 48C, 30C. In which month did the temperature in the town fall below 32C? (Month 4)\nAnswer Choices: (A) July (B) August (C) September (D) October (E) November\nRationale: Temperature for the months\n= 40+30 = 70\n= 34+40 = 74\n= 48+30 = 78\nHence, in July, temperature fell below 32C\nAnswer: B\n\n\nQuestion: A triangle has a perimeter of 24 and an area of 96 square centimeters. What is the height of the triangle?\nAnswer Choices: (A) 4 centimeters (B) 4.5 centimeters (C) 5 centimeters (D) 5.5 centimeters (E\n[Prompt:]\nQuestion: Exactly 2/5th of the children in a certain class are girls. If there are 100 boys in the class, how many girls are in the class?\nAnswer Choices: (A) 50 (B) 100 (C) 150 (D) 200 (E) 70\nRationale: This means 2/5 of the class are boys\n2x/5=100\nx=250\ntherefore, girls = 150\nAnswer is C\nCorrect Answer: C\n\n\nQuestion: What should come in place of the question mark(?) in each of the following questions ?\na2 - b2/(a + b)2 (?)=(a - b)2\nAnswer Choices: (A) (a + b)(a - b) (B) (a - b)2 (C) (a + b)2 (D) a3 + b3 (E) None of these\nRationale: (a - b)2 x (a + b)2 / a2 - b2 = (a - b)2 x (a + b)2 / (a + b)(a - b) = (a + b) (a - b)\nAnswer : Option A\nCorrect Answer: A\n\n\nQuestion: Fernando purchased a university meal plan that allows him to have a total of 3 lunches and 3 dinners per week. If the cafeteria is closed on weekends and Fernando always goes home for a dinner on Friday nights, how many options does he have to allocate his meals?\nAnswer Choices: (A) 5C3*4C3 (B) 5C4*4C2 (C) 5C2*4C4 (D) 5C6*4C5 (E) 4C3*4C3\nRationale:\n================================================================================\n[Generated:]  (A) can be proved with an algebra equation\nAnswer is B\n\n\nQuestion: A is older than B and C is older than B. B is 1/3 older than C. How old is A?\nAnswer Choices: (A) 4 (B) 5 (C) 3 (D) 2 (E) 6\nRationale: This means 3/4 of 3/4 of C = 3/4 of 1/3 of A\nA/3 = 1/3 of A/3 of 3/4 of C = 1/9 of 1/9 of 1/3 of A/3\nAnswer is C\n\n\nQuestion: Which of the following sets can NOT be used to solve the equation 0.4 x + 0.5 x + 0.4 x = 0.9?\nAnswer Choices: (A) x = 0.6 and x = 0.3 (B) x = 0.5 and x = 0.4 (C) x = 0.5 and x =\n",
          "output_type": "stream"
        }
      ]
    },
    {
      "cell_type": "markdown",
      "source": [
        "## Пункт b)"
      ],
      "metadata": {
        "id": "hmnKdCefF3AD"
      }
    },
    {
      "cell_type": "code",
      "source": [
        "QUESTION_PREFIX = \"Question: \"\n",
        "OPTIONS_PREFIX = \"Answer Choices: \"\n",
        "CHAIN_OF_THOUGHT_PREFIX = \"Rationale: \"\n",
        "ANSWER_PREFIX = \"Correct Answer: \"\n",
        "FEWSHOT_SEPARATOR = \"\\n\\n\\n\"\n",
        "\n",
        "def make_prompt(*, main_question, custom_prompt):\n",
        "    def transform_options(data):\n",
        "        transformed_options = ''\n",
        "        for i, option in enumerate(data['options']):\n",
        "            transformed_options += '(' + option[:2] + ' ' + option[2:]\n",
        "            if i != len(data['options']) - 1:\n",
        "                transformed_options += ' '\n",
        "        return transformed_options\n",
        "\n",
        "    out = custom_prompt + '\\n' + QUESTION_PREFIX + main_question['question'] + '\\n' + OPTIONS_PREFIX + \\\n",
        "        transform_options(main_question) + '\\n' + ANSWER_PREFIX\n",
        "    return out.strip()"
      ],
      "metadata": {
        "execution": {
          "iopub.status.busy": "2023-12-03T18:27:28.137098Z",
          "iopub.execute_input": "2023-12-03T18:27:28.138010Z",
          "iopub.status.idle": "2023-12-03T18:27:28.145056Z",
          "shell.execute_reply.started": "2023-12-03T18:27:28.137971Z",
          "shell.execute_reply": "2023-12-03T18:27:28.144083Z"
        },
        "trusted": true,
        "id": "M5-PLSW_F3AD"
      },
      "execution_count": null,
      "outputs": []
    },
    {
      "cell_type": "code",
      "source": [
        "# теперь будем генерировать ответы без правильных примеров\n",
        "# custom_prompt = 'Solve a mathematical task. Write a short solution at the end and choose the correct answer from the suggested ones. Write at the very end: \"Correct Answer: \" and letter without brackets'\n",
        "\n",
        "custom_prompt = 'Solve a mathematical task. Write only Correct Answer: and only one letter from Answer options without brackets'\n",
        "\n",
        "NUM_SAMPLES_a3 = 0\n",
        "NUM_RESPONDED_a3 = 0\n",
        "NUM_CORRECT_a3 = 0\n",
        "\n",
        "for question in tqdm(questions):\n",
        "    NUM_SAMPLES_a3 += 1\n",
        "    prompt = make_prompt(main_question=question, custom_prompt=custom_prompt)\n",
        "    batch = tokenizer(prompt, return_tensors='pt', return_token_type_ids=False).to(device)\n",
        "    torch.manual_seed(1337)\n",
        "    output_tokens = model.generate(**batch, max_new_tokens=256, do_sample=True, top_p=0.9, stopping_criteria=stopping_criteria)\n",
        "    output = tokenizer.decode(output_tokens[0][batch['input_ids'].shape[1]:].cpu())\n",
        "    print(\"[Prompt:]\\n\" + prompt)\n",
        "    print(\"=\" * 80)\n",
        "    print(\"[Generated:]\", output)\n",
        "    if output[-17:-1] == 'Correct Answer: ':\n",
        "        NUM_RESPONDED_a3 += 1\n",
        "    if output[-1] == question['correct']:\n",
        "        NUM_CORRECT_a3 += 1"
      ],
      "metadata": {
        "execution": {
          "iopub.status.busy": "2023-12-03T18:43:39.816100Z",
          "iopub.execute_input": "2023-12-03T18:43:39.817087Z",
          "iopub.status.idle": "2023-12-03T18:49:22.096348Z",
          "shell.execute_reply.started": "2023-12-03T18:43:39.817048Z",
          "shell.execute_reply": "2023-12-03T18:49:22.095482Z"
        },
        "trusted": true,
        "id": "od5piXjWF3AD",
        "outputId": "888a1a4f-3e3c-416f-ac1a-b817cbe8b9f7",
        "colab": {
          "referenced_widgets": [
            "b1f203c04c06457dbff294bdb54ac964"
          ]
        }
      },
      "execution_count": null,
      "outputs": [
        {
          "output_type": "display_data",
          "data": {
            "text/plain": "  0%|          | 0/44 [00:00<?, ?it/s]",
            "application/vnd.jupyter.widget-view+json": {
              "version_major": 2,
              "version_minor": 0,
              "model_id": "b1f203c04c06457dbff294bdb54ac964"
            }
          },
          "metadata": {}
        },
        {
          "name": "stderr",
          "text": "Setting `pad_token_id` to `eos_token_id`:11 for open-end generation.\nSetting `pad_token_id` to `eos_token_id`:11 for open-end generation.\n",
          "output_type": "stream"
        },
        {
          "name": "stdout",
          "text": "[Prompt:]\nSolve a mathematical task. Write only Correct Answer: and only one letter from Answer options without brackets\nQuestion: You can purchase one soda and two energy bars for 150 cents, or two sodas and three energy bars for 300\ncents. If the costs of the items do not change, compute the cost in cents of six sodas and seven bars.\nAnswer Choices: (A) 500 (B) 600 (C) 750 (D) 800 (E) 900\nCorrect Answer:\n================================================================================\n[Generated:]  (A) 500<|endoftext|>\n",
          "output_type": "stream"
        },
        {
          "name": "stderr",
          "text": "Setting `pad_token_id` to `eos_token_id`:11 for open-end generation.\n",
          "output_type": "stream"
        },
        {
          "name": "stdout",
          "text": "[Prompt:]\nSolve a mathematical task. Write only Correct Answer: and only one letter from Answer options without brackets\nQuestion: Find the total no. of distinct bike no.'s that can beformed using 2 letters followed by 2 no.'s. How many letters need to be distinct?\nAnswer Choices: (A) 74453 (B) 64543 (C) 74325 (D) 65000 (E) 97656\nCorrect Answer:\n================================================================================\n[Generated:]  97656\nSolution: Let's start with counting the total no. of ways we can form bike no's using 2 letters followed by 2 no's.\nExplanation:\nTo write a bike no. using 2 letters followed by 2 no's, we have to write 2 letters - a & b, followed by 2 no.'s - x & y, then we have to write another 2 letters - c & d, then 2 no.'s - 1 & 2, then 2 letters - e & f, then 2 no.'s - 3 & 4, then 2 letters - g & h, then 2 no.'s - 5 & 6, then 2 letters - i & j, then 2 no.'s - 7 & 8, then 2 letters - k & l, then 2 no.'s - 9 & 10, then 2 letters - m & n, then 2 no.'s - 11 & 12, then 2 letters - o\n",
          "output_type": "stream"
        },
        {
          "name": "stderr",
          "text": "Setting `pad_token_id` to `eos_token_id`:11 for open-end generation.\n",
          "output_type": "stream"
        },
        {
          "name": "stdout",
          "text": "[Prompt:]\nSolve a mathematical task. Write only Correct Answer: and only one letter from Answer options without brackets\nQuestion: Boomtown urban planners expect the city’s population to increase by 10% per year over the next two years. If that projection were to come true, the population two years from now would be exactly double the population of one year ago. Which of the following is closest to the percent population increase in Boomtown over the last year?\nAnswer Choices: (A) 20% (B) 40% (C) 50% (D) 65% (E) 75%\nCorrect Answer:\n================================================================================\n[Generated:]  (A) 20%\nThis post was created with our nice and easy submission form. Create your post!<|endoftext|>\n",
          "output_type": "stream"
        },
        {
          "name": "stderr",
          "text": "Setting `pad_token_id` to `eos_token_id`:11 for open-end generation.\n",
          "output_type": "stream"
        },
        {
          "name": "stdout",
          "text": "[Prompt:]\nSolve a mathematical task. Write only Correct Answer: and only one letter from Answer options without brackets\nQuestion: A coin made of alloy of aluminum and silver measures 2 x 15 mm (it is 2 mm thick and its diameter is 15 mm). If the weight of the coin is 30 grams and the volume of aluminum in the alloy equals that of silver, what will be the weight of a coin measuring 1 x 30 mm made of pure aluminum if silver is twice as heavy as aluminum?\nAnswer Choices: (A) 36 grams (B) 40 grams (C) 42 grams (D) 48 grams (E) 50 grams\nCorrect Answer:\n================================================================================\n[Generated:]  (A) 36 grams\nThe volume of a coin is V = π * r2 * h\nWhere π = 3.1416… and r = 2 mm\nV = π * 0.2 * (2 x 15)\nV = 30 grams\nThe weight of a pure aluminum coin is w = V * m\nm = (w / V)\nm = 30 / 0.2\nm = 150 grams\nThe weight of the aluminum coin is (30 + 150) = 180 grams.\nTherefore, the answer is (A) 36 grams.\n<|endoftext|>\n",
          "output_type": "stream"
        },
        {
          "name": "stderr",
          "text": "Setting `pad_token_id` to `eos_token_id`:11 for open-end generation.\n",
          "output_type": "stream"
        },
        {
          "name": "stdout",
          "text": "[Prompt:]\nSolve a mathematical task. Write only Correct Answer: and only one letter from Answer options without brackets\nQuestion: A paper is in a square form whose one side is 20 cm. Two semi circles are drawn on its opposites as diameters. If these semi circles are cut down what is the area of the remaining paper?\nAnswer Choices: (A) 8.75 (B) 8.79 (C) 8.75 (D) 8.71 (E) 8.72\nCorrect Answer:\n================================================================================\n[Generated:]  (A) 8.75\nExplanation:\nHere, side of a square = 20 cm and diameter of a circle = 10 cm. Then, circumference of a circle = (20 cm × 2) = 40 cm.\nHence, area of the circle = 40 cm × (10 cm/2) = 200 cm.\nThus, area of a square = 200 cm × (20 cm/200 cm) = 8.75 sq.cm.\nHere, Answer is (A) 8.75<|endoftext|>\n",
          "output_type": "stream"
        },
        {
          "name": "stderr",
          "text": "Setting `pad_token_id` to `eos_token_id`:11 for open-end generation.\n",
          "output_type": "stream"
        },
        {
          "name": "stdout",
          "text": "[Prompt:]\nSolve a mathematical task. Write only Correct Answer: and only one letter from Answer options without brackets\nQuestion: A can construct a wall in 40 min and B can construct the wall in 45 min. How many hours is needed to contruct a wall if both the person working together.\nAnswer Choices: (A) 20 min (B) 22 min (C) 23 min (D) 21 min (E) 20 min\nCorrect Answer:\n================================================================================\n[Generated:]  (A) 20 min\nThe correct answer is (A) 20 min.<|endoftext|>\n",
          "output_type": "stream"
        },
        {
          "name": "stderr",
          "text": "Setting `pad_token_id` to `eos_token_id`:11 for open-end generation.\n",
          "output_type": "stream"
        },
        {
          "name": "stdout",
          "text": "[Prompt:]\nSolve a mathematical task. Write only Correct Answer: and only one letter from Answer options without brackets\nQuestion: All 250 files on Sam's hard drive are infected by either a virus or a worm or both. The number of files that are infected only by a worm is 2.5 times the number of files that are infected by both a virus and a worm. If 50% of the files were not infected by a virus, how many of Sam's files were NOT infected by a worm?\nAnswer Choices: (A) 50 (B) 70 (C) 75 (D) 100 (E) 125\nCorrect Answer:\n================================================================================\n[Generated:]  (A) 50<|endoftext|>\n",
          "output_type": "stream"
        },
        {
          "name": "stderr",
          "text": "Setting `pad_token_id` to `eos_token_id`:11 for open-end generation.\n",
          "output_type": "stream"
        },
        {
          "name": "stdout",
          "text": "[Prompt:]\nSolve a mathematical task. Write only Correct Answer: and only one letter from Answer options without brackets\nQuestion: Two ants are moving from their farms towards each other. Ant A is moving at a speed of 9 cm per hour and ant B is moving at a speed of 6 cm per hour. If the farms are 75 cm away from each other, what will be the distance (in cm) that ant A travels until meeting ant B?\nAnswer Choices: (A) 45 (B) 48 (C) 51 (D) 54 (E) 57\nCorrect Answer:\n================================================================================\n[Generated:]  54\n<|endoftext|>\n",
          "output_type": "stream"
        },
        {
          "name": "stderr",
          "text": "Setting `pad_token_id` to `eos_token_id`:11 for open-end generation.\n",
          "output_type": "stream"
        },
        {
          "name": "stdout",
          "text": "[Prompt:]\nSolve a mathematical task. Write only Correct Answer: and only one letter from Answer options without brackets\nQuestion: A sales person gets a 10% commission on each sale he makes. How many sales of $250 each must he make in order to reach a salary of at least $1000?\nAnswer Choices: (A) 15 (B) 24 (C) 25 (D) 40 (E) 52\nCorrect Answer:\n================================================================================\n[Generated:]  (A) 15<|endoftext|>\n",
          "output_type": "stream"
        },
        {
          "name": "stderr",
          "text": "Setting `pad_token_id` to `eos_token_id`:11 for open-end generation.\n",
          "output_type": "stream"
        },
        {
          "name": "stdout",
          "text": "[Prompt:]\nSolve a mathematical task. Write only Correct Answer: and only one letter from Answer options without brackets\nQuestion: The original retail price of an appliance was 60 percent more than its wholesale cost. If the appliance was actually sold for 20 percent less than the original retail price, then it was sold for what percent more than its wholesale cost?\nAnswer Choices: (A) 20% (B) 28% (C) 36% (D) 40% (E) 42%\nCorrect Answer:\n================================================================================\n[Generated:]  (A) 20%\nThe correct answer is (A) 20%. We know that the original retail price was 60% more than the wholesale cost. Now if it was sold for 20% less than the original retail price then it was sold for 20% less than its wholesale cost.\nIn order to arrive at the correct answer, you have to know the formula for finding the percent difference. When we have two prices (p1) and (p2), we find the percent difference between them as follows:\n(p1 – p2) / p1 x 100\n(In percent)\nExample: Original Retail Price is 60% More Than Wholesale Price = (60 – 40) / 60 x 100\nAnswer choices: (B), (C), (D), and (E) are incorrect, because they do not give the correct percentage difference of 60% and the correct percent difference is 20%. Only answer choice (A) is correct.\nThis is a tricky problem and it is an essential test for algebra. Students often get this question wrong.<|endoftext|>\n",
          "output_type": "stream"
        },
        {
          "name": "stderr",
          "text": "Setting `pad_token_id` to `eos_token_id`:11 for open-end generation.\n",
          "output_type": "stream"
        },
        {
          "name": "stdout",
          "text": "[Prompt:]\nSolve a mathematical task. Write only Correct Answer: and only one letter from Answer options without brackets\nQuestion: A bee bypasses 0.05% of flowers it flies by because it can sense they don't have any nectar in them. How many flowers will the bee fly by to bypass 8 flowers?\nAnswer Choices: (A) 2000 (B) 4000 (C) 8000 (D) 16000 (E) 32000\nCorrect Answer:\n================================================================================\n[Generated:]  (A) 2000\nThis post has been moved to our new site,.<|endoftext|>\n",
          "output_type": "stream"
        },
        {
          "name": "stderr",
          "text": "Setting `pad_token_id` to `eos_token_id`:11 for open-end generation.\n",
          "output_type": "stream"
        },
        {
          "name": "stdout",
          "text": "[Prompt:]\nSolve a mathematical task. Write only Correct Answer: and only one letter from Answer options without brackets\nQuestion: Two numbers are in the ratio 3:5. If 9 is subtracted from each, the new numbers are in the ratio 12:23. The smaller number is?\nAnswer Choices: (A) 21 (B) 33 (C) 35 (D) 42 (E) 58\nCorrect Answer:\n================================================================================\n[Generated:]  (A) 21<|endoftext|>\n",
          "output_type": "stream"
        },
        {
          "name": "stderr",
          "text": "Setting `pad_token_id` to `eos_token_id`:11 for open-end generation.\n",
          "output_type": "stream"
        },
        {
          "name": "stdout",
          "text": "[Prompt:]\nSolve a mathematical task. Write only Correct Answer: and only one letter from Answer options without brackets\nQuestion: If Q, a positive integer, has 5 factors, which of the following must be true about Q?\nI. Q is the square of a prime number.\nII. Q is the fourth power of a prime number.\nIII. Q is the product of two prime numbers.\nAnswer Choices: (A) I only (B) III only (C) II only (D) I and II only (E) I and III only\nCorrect Answer:\n================================================================================\n[Generated:]  (A) I only<|endoftext|>\n",
          "output_type": "stream"
        },
        {
          "name": "stderr",
          "text": "Setting `pad_token_id` to `eos_token_id`:11 for open-end generation.\n",
          "output_type": "stream"
        },
        {
          "name": "stdout",
          "text": "[Prompt:]\nSolve a mathematical task. Write only Correct Answer: and only one letter from Answer options without brackets\nQuestion: 5 horses are in a race. Mr.Jain selects two of horses at random and bets on them. The probability that he selected the winning horse is\nAnswer Choices: (A) 1/5 (B) 2/5 (C) 3/5 (D) 4/5 (E) 6/5\nCorrect Answer:\n================================================================================\n[Generated:]  (A) 1/5\nExplanation:\nHere, number of ways = 5C2=50\nNo of ways = 2C1C2=40\nNo of ways = 2C2C1=20\nNo of ways = 3C2C1=12\nNo of ways = 3C1C2C1=8\nNo of ways = 4C2C1C2=6\nNo of ways = 4C2C1C3=6\nNo of ways = 5C2C1C3=12\nHence, probability is 1/5<|endoftext|>\n",
          "output_type": "stream"
        },
        {
          "name": "stderr",
          "text": "Setting `pad_token_id` to `eos_token_id`:11 for open-end generation.\n",
          "output_type": "stream"
        },
        {
          "name": "stdout",
          "text": "[Prompt:]\nSolve a mathematical task. Write only Correct Answer: and only one letter from Answer options without brackets\nQuestion: For bringing each copper coin from the bottom of a river, a coin-diver gets 20 cents, and for each brass coin she gets 25 cents. If after one dive, she got $3.40. What is the minimum number of copper coins that she brought?\nAnswer Choices: (A) 4 (B) 3 (C) 2 (D) 1 (E) 0\nCorrect Answer:\n================================================================================\n[Generated:]  (A) 4<|endoftext|>\n",
          "output_type": "stream"
        },
        {
          "name": "stderr",
          "text": "Setting `pad_token_id` to `eos_token_id`:11 for open-end generation.\n",
          "output_type": "stream"
        },
        {
          "name": "stdout",
          "text": "[Prompt:]\nSolve a mathematical task. Write only Correct Answer: and only one letter from Answer options without brackets\nQuestion: R, S, T, and U are points on a line, and U is the midpoint of line segment ST. If the lengths of line segments RS, RT, and ST are 5, 17, and 22, respectively. What is the length of line segment RU?\nAnswer Choices: (A) 6 (B) 7 (C) 8 (D) 9 (E) 10\nCorrect Answer:\n================================================================================\n[Generated:]  (A) 6<|endoftext|>\n",
          "output_type": "stream"
        },
        {
          "name": "stderr",
          "text": "Setting `pad_token_id` to `eos_token_id`:11 for open-end generation.\n",
          "output_type": "stream"
        },
        {
          "name": "stdout",
          "text": "[Prompt:]\nSolve a mathematical task. Write only Correct Answer: and only one letter from Answer options without brackets\nQuestion: A car finishes a journey in 20 hours at the speed of 60 km/hr. If the same distance is to be covered in 10 hours, how much speed does the car gain?\nAnswer Choices: (A) 80 kmph (B) 50 kmph (C) 120 kmph (D) 70 kmph (E) 80 kmph\nCorrect Answer:\n================================================================================\n[Generated:]  (A) 80 kmph\nExplanation:\nHere, the answer of 80kmph is the correct answer.\nExplanation\nIf a distance is to be covered in 10 hours,\n60 km/hr (speed) x 10 hr (time) = 600 km\nIn 20 hr (time), 60 km/hr (speed) x 20 hr (time) = 1200 km\nNow,\nSpeed in 10 hr = 1200 km ÷ 600 km = 2 km/hr.\nFor 2 km/hr, 60 km/hr becomes 120 km/hr.\nThe correct option is (A) 80 kmph.\nAnswered by: rishabh singh | Last updated:<|endoftext|>\n",
          "output_type": "stream"
        },
        {
          "name": "stderr",
          "text": "Setting `pad_token_id` to `eos_token_id`:11 for open-end generation.\n",
          "output_type": "stream"
        },
        {
          "name": "stdout",
          "text": "[Prompt:]\nSolve a mathematical task. Write only Correct Answer: and only one letter from Answer options without brackets\nQuestion: Let A and B be independent events with P (A) = 0.2 and P(B) = 0.8. Find P(A/B)?\nAnswer Choices: (A) 0.2 (B) 0.4 (C) 0.6 (D) 1.2 (E) 1.5\nCorrect Answer:\n================================================================================\n[Generated:]  (A) 0.2\nExplanation:\nHere, A represents event “X is not a winner of the race” and B represents event “Y is a winner of the race”.\nTo find P(A/B), we can use the following formula\nNow, we can write out the possible ways:\nThere are three possible outcomes.\nP(A/B) = P(X \\ B) = P(X - Y) = P(X) - P(X \\ Y) = 0.2 - 0.2 = 0.0\nThus, the correct answer is 0.2.\nHope this helps.\nAdvertisements<|endoftext|>\n",
          "output_type": "stream"
        },
        {
          "name": "stderr",
          "text": "Setting `pad_token_id` to `eos_token_id`:11 for open-end generation.\n",
          "output_type": "stream"
        },
        {
          "name": "stdout",
          "text": "[Prompt:]\nSolve a mathematical task. Write only Correct Answer: and only one letter from Answer options without brackets\nQuestion: A wire in the shape of rectangle of length 27 cm and breadth 17 cm is rebent to form a square. What will be the measure of each side?\nAnswer Choices: (A) 9 (B) 11 (C) 22 (D) 25 (E) 31\nCorrect Answer:\n================================================================================\n[Generated:]  (A) 9\nA wire in the shape of rectangle of length 27 cm and breadth 17 cm is rebent to form a square. What will be the measure of each side?\nYou must login to reply<|endoftext|>\n",
          "output_type": "stream"
        },
        {
          "name": "stderr",
          "text": "Setting `pad_token_id` to `eos_token_id`:11 for open-end generation.\n",
          "output_type": "stream"
        },
        {
          "name": "stdout",
          "text": "[Prompt:]\nSolve a mathematical task. Write only Correct Answer: and only one letter from Answer options without brackets\nQuestion: On a normal day Bill usually averages about 15 mph when riding his bicycle. On a windy day, his speed is reduced by 4 mph. How far can Bill travel on a windy day in 21 minutes? Round to the nearest hundredth.\nAnswer Choices: (A) 2 miles (B) 2.25 miles (C) 3.25 miles (D) 3.85 miles (E) 2.85 miles\nCorrect Answer:\n================================================================================\n[Generated:]  (A) 2 miles\nThis is the first example we've seen of \"round to the nearest hundredth.\" We know from the Answer Options that the final answer has at least one hundredth of a mile. Therefore, we know we need to round it to the nearest hundredth, or two hundredths, whichever way is better. Since we are rounding up, the nearest hundredth is the number we want, so we choose answer (A).<|endoftext|>\n",
          "output_type": "stream"
        },
        {
          "name": "stderr",
          "text": "Setting `pad_token_id` to `eos_token_id`:11 for open-end generation.\n",
          "output_type": "stream"
        },
        {
          "name": "stdout",
          "text": "[Prompt:]\nSolve a mathematical task. Write only Correct Answer: and only one letter from Answer options without brackets\nQuestion: Professors borrowed Rs. 5000 from the university at simple interest. After 3 years, the university got Rs. 300 on interest. What was the rate of interest per annum?\nAnswer Choices: (A) 2% (B) 8% (C) 5% (D) 10% (E) None of these\nCorrect Answer:\n================================================================================\n[Generated:]  (A) 2%\nThe Rate of Interest was 2% per annum.<|endoftext|>\n",
          "output_type": "stream"
        },
        {
          "name": "stderr",
          "text": "Setting `pad_token_id` to `eos_token_id`:11 for open-end generation.\n",
          "output_type": "stream"
        },
        {
          "name": "stdout",
          "text": "[Prompt:]\nSolve a mathematical task. Write only Correct Answer: and only one letter from Answer options without brackets\nQuestion: [5 + ? × 19 - 15 - 7]/[13 × 13 - 156] = 6\nAnswer Choices: (A) 4 (B) 4.5 (C) 5 (D) 5.5 (E) 6.5\nCorrect Answer:\n================================================================================\n[Generated:]  (A) 4.5\nExplanation:\nHere, we have a pair of parentheses and a division operation. We know,\n[a (b+c) = a+(b+c)], so, (4+?) × (19-15-7) = (4+?)(19-15-7)\n= (4+?)(2-7) = (4+?)(-5) = (4+?)(-2) = -4 × (-2)\n= -4 = (4-2)\n(13 × 13 - 156) = 4.5\n<|endoftext|>\n",
          "output_type": "stream"
        },
        {
          "name": "stderr",
          "text": "Setting `pad_token_id` to `eos_token_id`:11 for open-end generation.\n",
          "output_type": "stream"
        },
        {
          "name": "stdout",
          "text": "[Prompt:]\nSolve a mathematical task. Write only Correct Answer: and only one letter from Answer options without brackets\nQuestion: 64 boys and 40 girls form a group for social work. During their membership drive, the same number of boys and girls joined the group. How many members does the group have now, if the ratio of boys to girls is 4:3?\nAnswer Choices: (A) 277 (B) 288 (C) 200 (D) 277 (E) 168\nCorrect Answer:\n================================================================================\n[Generated:]  200\n<|endoftext|>\n",
          "output_type": "stream"
        },
        {
          "name": "stderr",
          "text": "Setting `pad_token_id` to `eos_token_id`:11 for open-end generation.\n",
          "output_type": "stream"
        },
        {
          "name": "stdout",
          "text": "[Prompt:]\nSolve a mathematical task. Write only Correct Answer: and only one letter from Answer options without brackets\nQuestion: If Jill needed to buy 10 bottles of soda for a party in which 8 people attended, how many bottles of soda will she need to buy for a party in which 12 people are attending?\nAnswer Choices: (A) 6 (B) 8 (C) 10 (D) 12 (E) 14\nCorrect Answer:\n================================================================================\n[Generated:]  (A) 6<|endoftext|>\n",
          "output_type": "stream"
        },
        {
          "name": "stderr",
          "text": "Setting `pad_token_id` to `eos_token_id`:11 for open-end generation.\n",
          "output_type": "stream"
        },
        {
          "name": "stdout",
          "text": "[Prompt:]\nSolve a mathematical task. Write only Correct Answer: and only one letter from Answer options without brackets\nQuestion: Suppose you can travel from a place M to a place N by 3 buses, from place N to place O by 4 buses, from place O to place P by 1 buses and from place P to place Q by 3 buses. In how many ways can you travel from M to Q ?\nAnswer Choices: (A) 24 (B) 36 (C) 72 (D) 84 (E) None\nCorrect Answer:\n================================================================================\n[Generated:]  (A) 24<|endoftext|>\n",
          "output_type": "stream"
        },
        {
          "name": "stderr",
          "text": "Setting `pad_token_id` to `eos_token_id`:11 for open-end generation.\n",
          "output_type": "stream"
        },
        {
          "name": "stdout",
          "text": "[Prompt:]\nSolve a mathematical task. Write only Correct Answer: and only one letter from Answer options without brackets\nQuestion: If a man rows at the rate of 4 kmph in still water and his rate against the current is 2 kmph, then the man's rate along the current is:\nAnswer Choices: (A) 15 kmph (B) 6 kmph (C) 12 kmph (D) 14 kmph (E) 6 kmph\nCorrect Answer:\n================================================================================\n[Generated:]  (A) 15 kmph\nExplanation:\nHere, the man's rate is given as 4 kmph and the rate against the current is 2 kmph.\nThe rate against the current is 50% of the man's rate i.e. 2 kmph.\nIf the current is moving with the same speed as the man, the man's speed relative to the current will be 4 kmph i.e. his speed will be 4 + 2 = 6 kmph.\nSo, his rate along the current will be 6 kmph and the correct answer is (A).<|endoftext|>\n",
          "output_type": "stream"
        },
        {
          "name": "stderr",
          "text": "Setting `pad_token_id` to `eos_token_id`:11 for open-end generation.\n",
          "output_type": "stream"
        },
        {
          "name": "stdout",
          "text": "[Prompt:]\nSolve a mathematical task. Write only Correct Answer: and only one letter from Answer options without brackets\nQuestion: It takes a worker 9 minutes to drive from home to work at an average rate of 20 kilometers per hour. How many minutes will it take the worker to cycle from home to work along the same route at an average rate of 6 kilometers per hour?\nAnswer Choices: (A) 30 (B) 32 (C) 35 (D) 36 (E) 40\nCorrect Answer:\n================================================================================\n[Generated:]  (A) 30<|endoftext|>\n",
          "output_type": "stream"
        },
        {
          "name": "stderr",
          "text": "Setting `pad_token_id` to `eos_token_id`:11 for open-end generation.\n",
          "output_type": "stream"
        },
        {
          "name": "stdout",
          "text": "[Prompt:]\nSolve a mathematical task. Write only Correct Answer: and only one letter from Answer options without brackets\nQuestion: If one third of 3/4 of a number is 21. Then, find the number?\nAnswer Choices: (A) 84 (B) 66 (C) 28 (D) 19 (E) 11\nCorrect Answer:\n================================================================================\n[Generated:]  (A) 84\nA\nAnswer Choice: (B) 66\nB\nAnswer Choice: (C) 28\nC\nAnswer Choice: (D) 19\nD\nAnswer Choice: (E) 11\nE<|endoftext|>\n",
          "output_type": "stream"
        },
        {
          "name": "stderr",
          "text": "Setting `pad_token_id` to `eos_token_id`:11 for open-end generation.\n",
          "output_type": "stream"
        },
        {
          "name": "stdout",
          "text": "[Prompt:]\nSolve a mathematical task. Write only Correct Answer: and only one letter from Answer options without brackets\nQuestion: A company produces 420 units of a particular computer component every month, at a production cost to the company of $110 per component, and sells all of the components by the end of each month. What is the minimum selling price per component that will guarantee that the yearly profit (revenue from sales minus production costs) will be at least $626,400 ?\nAnswer Choices: (A) 226 (B) 230 (C) 240 (D) 260 (E) 280\nCorrect Answer:\n================================================================================\n[Generated:]  (A) 226<|endoftext|>\n",
          "output_type": "stream"
        },
        {
          "name": "stderr",
          "text": "Setting `pad_token_id` to `eos_token_id`:11 for open-end generation.\n",
          "output_type": "stream"
        },
        {
          "name": "stdout",
          "text": "[Prompt:]\nSolve a mathematical task. Write only Correct Answer: and only one letter from Answer options without brackets\nQuestion: Sharon works for 5 hours to earn enough tips to buy an ice cream cake, while Karen works for 4. After how many hours will they be able to buy the cake together?\nAnswer Choices: (A) 1 hour (B) 2 hours (C) 3 hours (D) 4 hours (E) 5 hours\nCorrect Answer:\n================================================================================\n[Generated:]  (A) 1 hour\nThis post was created with our nice and easy submission form. Create your post!<|endoftext|>\n",
          "output_type": "stream"
        },
        {
          "name": "stderr",
          "text": "Setting `pad_token_id` to `eos_token_id`:11 for open-end generation.\n",
          "output_type": "stream"
        },
        {
          "name": "stdout",
          "text": "[Prompt:]\nSolve a mathematical task. Write only Correct Answer: and only one letter from Answer options without brackets\nQuestion: A certain phone manufacturer ships its products in crates. A crate consists of p pallets, and each pallet holds 1250 phones. If the manufacturer ships 4 crates, how many phones are shipped?\nAnswer Choices: (A) 1000p (B) 1500p (C) 2000p (D) 2500p (E) 30000\nCorrect Answer:\n================================================================================\n[Generated:]  (A) 1000p\nExplanation:\nHere is the answer of 5th Class Solved MCQs English Chapter 9<|endoftext|>\n",
          "output_type": "stream"
        },
        {
          "name": "stderr",
          "text": "Setting `pad_token_id` to `eos_token_id`:11 for open-end generation.\n",
          "output_type": "stream"
        },
        {
          "name": "stdout",
          "text": "[Prompt:]\nSolve a mathematical task. Write only Correct Answer: and only one letter from Answer options without brackets\nQuestion: A man divides Rs 8600 among 5 sons, 4 daughters and 2 nephews. If each daughter receives four times as much as each nephew, and each son receives five as much as each nephew. How much does each daughter receive ?\nAnswer Choices: (A) Rs 400 (B) Rs 500 (C) Rs 600 (D) Rs 700 (E) Rs 800\nCorrect Answer:\n================================================================================\n[Generated:]  (A) Rs 400\nThe correct answer is (A) Rs 400.<|endoftext|>\n",
          "output_type": "stream"
        },
        {
          "name": "stderr",
          "text": "Setting `pad_token_id` to `eos_token_id`:11 for open-end generation.\n",
          "output_type": "stream"
        },
        {
          "name": "stdout",
          "text": "[Prompt:]\nSolve a mathematical task. Write only Correct Answer: and only one letter from Answer options without brackets\nQuestion: Calculate the percentage gain of a merchant who purchased 90 kg of oranges for Rs. 450 and sold the whole lot at the rate of Rs. 7.50 per kg.\nAnswer Choices: (A) 50 % (B) 60 % (C) 55 % (D) 70 % (E) 58%\nCorrect Answer:\n================================================================================\n[Generated:]  70 %<|endoftext|>\n",
          "output_type": "stream"
        },
        {
          "name": "stderr",
          "text": "Setting `pad_token_id` to `eos_token_id`:11 for open-end generation.\n",
          "output_type": "stream"
        },
        {
          "name": "stdout",
          "text": "[Prompt:]\nSolve a mathematical task. Write only Correct Answer: and only one letter from Answer options without brackets\nQuestion: Shweta rides at the rate of 10 km per hour but stops for 10 minutes to take rest at the end of every 15 km. How many hours will she take to cover 100 km\nAnswer Choices: (A) 9 hours. (B) 10 hours. (C) 11 hours. (D) 12 hours. (E) 13 hours.\nCorrect Answer:\n================================================================================\n[Generated:]  (A) 9 hours.\nExplanation:\nHere, Shweta has to travel 100 km in 15 x 10 = 150 minutes. But if she takes rest for 10 minutes at the end of 15 km, then she has to travel 100 km in 15 x 9 = 135 minutes. Hence, her total journey will be 150 + 135 = 285 minutes. 100/285 = 9/35 hours.\nRelated posts:\n- What is the next number in the series: (1, 2, 3, 4, 5) (A) 6 (B) 7 (C) 8 (D) 9 (E) 10\n- What is the length of the ladder, if its foot is 3 feet from the ground and the top of the ladder is 14 feet above the ground?\n- Solve the following quadratic equation: (2x^2-4x-6)/(3x^2-4x-6)=0\n- There are 12 boys in a class. What is the ratio of boys to girls in the class?\n\n",
          "output_type": "stream"
        },
        {
          "name": "stderr",
          "text": "Setting `pad_token_id` to `eos_token_id`:11 for open-end generation.\n",
          "output_type": "stream"
        },
        {
          "name": "stdout",
          "text": "[Prompt:]\nSolve a mathematical task. Write only Correct Answer: and only one letter from Answer options without brackets\nQuestion: If 6 yrs are subtracted from the present age of Ajay and the remainder is divided by 18, then the present age of Rahul is obtained. If Rahul is 2 yrs younger to Denis whose age is 5 yrs, then what is Ajay's present age?\nAnswer Choices: (A) 40 (B) 60 (C) 70 (D) 80 (E) 90\nCorrect Answer:\n================================================================================\n[Generated:]  70\n<|endoftext|>\n",
          "output_type": "stream"
        },
        {
          "name": "stderr",
          "text": "Setting `pad_token_id` to `eos_token_id`:11 for open-end generation.\n",
          "output_type": "stream"
        },
        {
          "name": "stdout",
          "text": "[Prompt:]\nSolve a mathematical task. Write only Correct Answer: and only one letter from Answer options without brackets\nQuestion: A retailer sold an appliance for 40 percent above cost, which represented a gross profit of $20.00. For what price did the retailer sell the appliance?\nAnswer Choices: (A) $27.30 (B) $51.00 (C) $63.00 (D) $70.00 (E) $91.00\nCorrect Answer:\n================================================================================\n[Generated:]  (A) $27.30\nThe first step is to figure out which answer has a cost that is greater than the cost of the item:\nA: $27.30\nB: $51.00\nC: $63.00\nD: $70.00\nE: $91.00\nC is the answer.\nFor all the other choices, we are multiplying $27.30 by a percent:\nA: $27.30 x 0.4 = $10.96\nB: $51.00 x 0.4 = $20.40\nC: $63.00 x 0.4 = $25.20\nD: $70.00 x 0.4 = $28.00\nE: $91.00 x 0.4 = $35.40\nYou can see that C has the cost greater than the percent given by the question.<|endoftext|>\n",
          "output_type": "stream"
        },
        {
          "name": "stderr",
          "text": "Setting `pad_token_id` to `eos_token_id`:11 for open-end generation.\n",
          "output_type": "stream"
        },
        {
          "name": "stdout",
          "text": "[Prompt:]\nSolve a mathematical task. Write only Correct Answer: and only one letter from Answer options without brackets\nQuestion: there are more than 501 students in a school such that 20% of them exactly took physics and 28% of them exactly took math. What could be the least possible no of students in the school?\nAnswer Choices: (A) 550 (B) 570 (C) 600 (D) 700 (E) none of these\nCorrect Answer:\n================================================================================\n[Generated:]  (A) 550\nA school having 501 students. The number of students taking physics is 20% i.e 100,\nand the number of students taking mathematics is 28% i.e 142.\n(B) 570\nLet the total number of students be x.\n(B) 570\nLet the total number of students be x.\n(C) 600\nLet the total number of students be x.\n(D) None of the above\n(D) None of the above\nLet the total number of students be x.\n(E) 700\nLet the total number of students be x.\n(E) 700\nLet the total number of students be x.\n(E) 700\nLet the total number of students be x.\n(D) None of the above<|endoftext|>\n",
          "output_type": "stream"
        },
        {
          "name": "stderr",
          "text": "Setting `pad_token_id` to `eos_token_id`:11 for open-end generation.\n",
          "output_type": "stream"
        },
        {
          "name": "stdout",
          "text": "[Prompt:]\nSolve a mathematical task. Write only Correct Answer: and only one letter from Answer options without brackets\nQuestion: An exam is given in a certain class. The average (arithmetic mean) of the highest score and the lowest score is equal to x. If the average score for the entire class is equal to y and there are z students in the class, where z > 5, then in terms of x, y, and z, what is the average score for the class excluding the highest and lowest scorers?\nAnswer Choices: (A) (zy – 2x)/z (B) (zy – 2)/z (C) (zx – y)/(z – 2) (D) (zy – 2x)/(z -2) (E) (zy – x)/(z + 2)\nCorrect Answer:\n================================================================================\n[Generated:]  (A) (zy – 2x)/z<|endoftext|>\n",
          "output_type": "stream"
        },
        {
          "name": "stderr",
          "text": "Setting `pad_token_id` to `eos_token_id`:11 for open-end generation.\n",
          "output_type": "stream"
        },
        {
          "name": "stdout",
          "text": "[Prompt:]\nSolve a mathematical task. Write only Correct Answer: and only one letter from Answer options without brackets\nQuestion: A ship went on a voyage. After it had traveled 180 miles a plane started with 10 times the speed of the ship. Find the distance when they meet from starting point.\nAnswer Choices: (A) 238 (B) 289 (C) 200 (D) 287 (E) 187\nCorrect Answer:\n================================================================================\n[Generated:]  (A) 238<|endoftext|>\n",
          "output_type": "stream"
        },
        {
          "name": "stderr",
          "text": "Setting `pad_token_id` to `eos_token_id`:11 for open-end generation.\n",
          "output_type": "stream"
        },
        {
          "name": "stdout",
          "text": "[Prompt:]\nSolve a mathematical task. Write only Correct Answer: and only one letter from Answer options without brackets\nQuestion: Ram and Krishna start from A and B, respectively, at the same time and travel towards each other at constant speeds of 20m/s and 40m/s, respectively, along the same route. Ram meets Krishna at point C on the road after 10 seconds. Find the total distance between A to B.\nAnswer Choices: (A) 700 meters (B) 1000 meters (C) 700 kilometers (D) 555 meters (E) 600 meters\nCorrect Answer:\n================================================================================\n[Generated:]  (A) 700 meters\nThe speed of Ram was double that of Krishna, 20m/s and 40m/s, respectively, then distance covered by Ram in 10 seconds will be\n(20 × 10) + (40 × 10) = 2000 m\nKrishna covered 10 seconds distance = 2000 m\nTotal distance traveled by Ram = 2000m + (Ram met Krishna in 10 seconds) = 700m\nIncorrect Answers:\n(A) 1000 kilometers\n(B) 555 meters\n(C) 700 kilometers\n(D) 600 meters\nThis question was asked in:<|endoftext|>\n",
          "output_type": "stream"
        },
        {
          "name": "stderr",
          "text": "Setting `pad_token_id` to `eos_token_id`:11 for open-end generation.\n",
          "output_type": "stream"
        },
        {
          "name": "stdout",
          "text": "[Prompt:]\nSolve a mathematical task. Write only Correct Answer: and only one letter from Answer options without brackets\nQuestion: An electric pole, 14 metres high, casts a shadow of 10 metres. Find the height of a tree that casts a shadow of 15 metres under similar conditions.\nAnswer Choices: (A) 21 (B) 22 (C) 20 (D) 23 (E) 24\nCorrect Answer:\n================================================================================\n[Generated:]  (A) 21\nA pole casts a shadow of 10 metres. So, in a tree that casts a shadow of 15 metres, there must be a difference of 5 metres.\nAnd, for the same height of the pole (in other words, the same angle of elevation), the angle between the two trees is 90º (in the same case, so the distance between the two trees must be the same).\nSo, the answer is 21\nIf you have other questions regarding the same topic, click here.\nCheck other questions:\n- Solve a mathematical task\n- Solve a mathematical task. Write only Correct Answer: and only one letter from Answer options without brackets\n- Solve a mathematical task. Write only Correct Answer: and only one letter from Answer options without brackets\n- Solve a mathematical task. Write only Correct Answer: and only one letter from Answer options without brackets\n- Solve a mathematical task. Write only Correct Answer: and only one letter from Answer options without brackets\n- Solve a mathematical task. Write only Correct Answer: and only one letter from Answer options without brackets\n- Solve a mathematical task. Write only Correct Answer: and only one letter from Answer options\n",
          "output_type": "stream"
        },
        {
          "name": "stderr",
          "text": "Setting `pad_token_id` to `eos_token_id`:11 for open-end generation.\n",
          "output_type": "stream"
        },
        {
          "name": "stdout",
          "text": "[Prompt:]\nSolve a mathematical task. Write only Correct Answer: and only one letter from Answer options without brackets\nQuestion: Decipher the following multiplication table:\nM A D\nB E\n-------------\nM A D\nR A E\n-------------\nA M I D\nAnswer Choices: (A) 9 2 0 0 (B) 9 2 0 9 (C) 9 2 0 1 (D) 9 2 0 7 (E) 9 2 2 2\nCorrect Answer:\n================================================================================\n[Generated:]  (A) 9 2 0 0\nCorrect Explanation: 0 is a digit from the right Answer choices.\nThe multiplication table has been drawn to help you better understand the question and should not be included in your answer.\nSolve the following addition problem. Write only the Answer without the brackets\nQuestion: (3 + 6) + (5 + 2) + (9 + 4) + (11 + 1) =\n------------------\n(24 + 17 + 10 + 14) + (18 + 13 + 8 + 9) + (10 + 5 + 6 + 3) + (16 + 7 + 8 + 4)\n--------------------\n= 72\n--------------------\n= 72\nCorrect Answer: (C) 72\nSolve the following addition problem. Write only the Answer without the brackets\nQuestion: (3 + 6) + (5 + 2) + (9 + 4) + \n",
          "output_type": "stream"
        },
        {
          "name": "stderr",
          "text": "Setting `pad_token_id` to `eos_token_id`:11 for open-end generation.\n",
          "output_type": "stream"
        },
        {
          "name": "stdout",
          "text": "[Prompt:]\nSolve a mathematical task. Write only Correct Answer: and only one letter from Answer options without brackets\nQuestion: At a conference, one team is made up of 4 men and 4 women. Four presenters are chosen to present the team's findings in front of the entire conference. How many different groups of presenters can be chosen from the team if a team cannot be composed of men only or women only? (Two groups of presenters are considered different if at least one presenter is different.)\nAnswer Choices: (A) 120 (B) 19 (C) 180 (D) 420 (E) 460\nCorrect Answer:\n================================================================================\n[Generated:]  (A) 120\nWhen solving a mathematical task it is very important to choose only one answer among the multiple options that are usually provided, because if you write more than the correct answer, it will negatively affect your score. Therefore, you should look carefully at the options.\nIn this question, the first thing to look at is the problem statement: \"A team is made up of 4 men and 4 women. Four presenters are chosen to present the team's findings in front of the entire conference.\" What is being asked for? The question is being asked how many different groups of presenters can be chosen from a team. Therefore, the question is clearly referring to a group of people that have a relationship to each other and to the people they are replacing. What is the relationship? The team can only choose presenters who are not men or women. Therefore, the question should be read to determine which statement should be used.\nWhen reading the problem statement, you might be confused and think about the difference between women and men or between teams and presenters. The confusion comes from the fact that teams have more than two team members. When you add team members you must also subtract members. Therefore, if you choose four members, you must choose two presenters\n[Prompt:]\nSolve a mathematical task. Write only Correct Answer: and only one letter from Answer options without brackets\nQuestion: Fernando purchased a university meal plan that allows him to have a total of 3 lunches and 3 dinners per week. If the cafeteria is closed on weekends and Fernando always goes home for a dinner on Friday nights, how many options does he have to allocate his meals?\nAnswer Choices: (A) 5C3*4C3 (B) 5C4*4C2 (C) 5C2*4C4 (D) 5C6*4C5 (E) 4C3*4C3\nCorrect Answer:\n================================================================================\n[Generated:]  (A) 5C3*4C3\nHere is the answer and explanation:<|endoftext|>\n",
          "output_type": "stream"
        }
      ]
    },
    {
      "cell_type": "markdown",
      "source": [
        "Для сравнения метрик сделаем датасет"
      ],
      "metadata": {
        "id": "OGPFjxQZF3AE"
      }
    },
    {
      "cell_type": "code",
      "source": [
        "import pandas as pd\n",
        "\n",
        "df_metrics = pd.DataFrame([{\"Few shot num\": 5, \"Responded\": NUM_RESPONDED / NUM_SAMPLES,\n",
        "                            \"Accuracy (when responded)\": NUM_CORRECT / NUM_RESPONDED, \"Accuracy (overall)\": NUM_CORRECT / NUM_SAMPLES}])\n",
        "\n",
        "df_metrics = pd.concat([df_metrics, pd.DataFrame([{\"Few shot num\": 8, \"Responded\": NUM_RESPONDED_a / NUM_SAMPLES_a,\n",
        "                                      \"Accuracy (when responded)\": NUM_CORRECT_a / NUM_RESPONDED_a,\n",
        "                                      \"Accuracy (overall)\": NUM_CORRECT_a / NUM_SAMPLES_a}])])\n",
        "\n",
        "df_metrics = pd.concat([df_metrics, pd.DataFrame([{\"Few shot num\": 2, \"Responded\": NUM_RESPONDED_a2 / NUM_SAMPLES_a2,\n",
        "                                      \"Accuracy (when responded)\": NUM_CORRECT_a2 / NUM_RESPONDED_a2,\n",
        "                                      \"Accuracy (overall)\": NUM_CORRECT_a2 / NUM_SAMPLES_a2}])])\n",
        "\n",
        "df_metrics = df_metrics.reset_index(drop=True)"
      ],
      "metadata": {
        "execution": {
          "iopub.status.busy": "2023-12-03T18:52:01.040996Z",
          "iopub.execute_input": "2023-12-03T18:52:01.041389Z",
          "iopub.status.idle": "2023-12-03T18:52:01.052680Z",
          "shell.execute_reply.started": "2023-12-03T18:52:01.041356Z",
          "shell.execute_reply": "2023-12-03T18:52:01.051475Z"
        },
        "trusted": true,
        "id": "NGcC-stTF3AE"
      },
      "execution_count": null,
      "outputs": []
    },
    {
      "cell_type": "code",
      "source": [
        "df_metrics"
      ],
      "metadata": {
        "execution": {
          "iopub.status.busy": "2023-12-03T18:52:03.735344Z",
          "iopub.execute_input": "2023-12-03T18:52:03.735772Z",
          "iopub.status.idle": "2023-12-03T18:52:03.748023Z",
          "shell.execute_reply.started": "2023-12-03T18:52:03.735737Z",
          "shell.execute_reply": "2023-12-03T18:52:03.746889Z"
        },
        "trusted": true,
        "id": "hzAQ10qoF3AE",
        "outputId": "e46e2727-26f2-4b76-b74d-54b8a8e52b70"
      },
      "execution_count": null,
      "outputs": [
        {
          "execution_count": 275,
          "output_type": "execute_result",
          "data": {
            "text/plain": "   Few shot num  Responded  Accuracy (when responded)  Accuracy (overall)\n0             5   0.704545                   0.096774            0.068182\n1             8   0.522727                   0.260870            0.136364\n2             2   0.659091                   0.137931            0.090909",
            "text/html": "<div>\n<style scoped>\n    .dataframe tbody tr th:only-of-type {\n        vertical-align: middle;\n    }\n\n    .dataframe tbody tr th {\n        vertical-align: top;\n    }\n\n    .dataframe thead th {\n        text-align: right;\n    }\n</style>\n<table border=\"1\" class=\"dataframe\">\n  <thead>\n    <tr style=\"text-align: right;\">\n      <th></th>\n      <th>Few shot num</th>\n      <th>Responded</th>\n      <th>Accuracy (when responded)</th>\n      <th>Accuracy (overall)</th>\n    </tr>\n  </thead>\n  <tbody>\n    <tr>\n      <th>0</th>\n      <td>5</td>\n      <td>0.704545</td>\n      <td>0.096774</td>\n      <td>0.068182</td>\n    </tr>\n    <tr>\n      <th>1</th>\n      <td>8</td>\n      <td>0.522727</td>\n      <td>0.260870</td>\n      <td>0.136364</td>\n    </tr>\n    <tr>\n      <th>2</th>\n      <td>2</td>\n      <td>0.659091</td>\n      <td>0.137931</td>\n      <td>0.090909</td>\n    </tr>\n  </tbody>\n</table>\n</div>"
          },
          "metadata": {}
        }
      ]
    },
    {
      "cell_type": "markdown",
      "source": [
        "В моем случае при увеличении количества примеров до 8 упал Responded и выросли Accuracy по сравнению с 5, значит стало меньше ответов вида \"Correct Answer: {letter}\", но количество ответов с угаданной буквой увеличилось. В ответах модели было заметно, что часто она дает ответ не в строгом виде \"Correct Answer: {letter}\", а просто \"Answer: {letter}\" и такие ответы не учитывались. По смыслу это совсем небольшая разница и возможно она давала верные ответы, но они не учитывались. Кроме этого глядя, на решение задачи от модели и на ее ответ, появилось ощущение, что она рандомит и очень плохо понимает числа, потому что она посчитала, например, 500 и это ответ А, она отвечает В\n",
        "\n",
        "При уменьшении количества примеров до двух модель показала более высокую точность, что для меня оказалось неожиданным.\n",
        "\n",
        "P.S. Скорее всего на результат также сильно влият выбранная модель. Я начинал делать дз в колабе и использовал там модель Llama-7b от TheBlock, но потом колаб ограничил мне GPU и я перешел на Kaggle. И здесь эта модель уже почему-то не влезала по объему и я выбрал модель от другого автора. Я заметил, что у них отличается vocab_size чуть ли не вдвое и это может сильно влиять на генерацию слов"
      ],
      "metadata": {
        "id": "DPd55AkFF3AE"
      }
    },
    {
      "cell_type": "code",
      "source": [
        "NUM_SAMPLES_a3"
      ],
      "metadata": {
        "execution": {
          "iopub.status.busy": "2023-12-03T18:52:22.134412Z",
          "iopub.execute_input": "2023-12-03T18:52:22.134826Z",
          "iopub.status.idle": "2023-12-03T18:52:22.141152Z",
          "shell.execute_reply.started": "2023-12-03T18:52:22.134793Z",
          "shell.execute_reply": "2023-12-03T18:52:22.140125Z"
        },
        "trusted": true,
        "id": "dKE_qDzZF3AE",
        "outputId": "f1b9c518-688f-44ef-f2cb-dfc4d20b9bc3"
      },
      "execution_count": null,
      "outputs": [
        {
          "execution_count": 277,
          "output_type": "execute_result",
          "data": {
            "text/plain": "44"
          },
          "metadata": {}
        }
      ]
    },
    {
      "cell_type": "code",
      "source": [
        "NUM_RESPONDED_a3"
      ],
      "metadata": {
        "execution": {
          "iopub.status.busy": "2023-12-03T18:52:24.497602Z",
          "iopub.execute_input": "2023-12-03T18:52:24.498006Z",
          "iopub.status.idle": "2023-12-03T18:52:24.504466Z",
          "shell.execute_reply.started": "2023-12-03T18:52:24.497973Z",
          "shell.execute_reply": "2023-12-03T18:52:24.503482Z"
        },
        "trusted": true,
        "id": "PnJLOGhjF3AE",
        "outputId": "30194d4c-b109-40c3-b732-a8355042b73b"
      },
      "execution_count": null,
      "outputs": [
        {
          "execution_count": 278,
          "output_type": "execute_result",
          "data": {
            "text/plain": "0"
          },
          "metadata": {}
        }
      ]
    },
    {
      "cell_type": "code",
      "source": [
        "NUM_CORRECT_a3"
      ],
      "metadata": {
        "execution": {
          "iopub.status.busy": "2023-12-03T18:52:25.064536Z",
          "iopub.execute_input": "2023-12-03T18:52:25.064923Z",
          "iopub.status.idle": "2023-12-03T18:52:25.071665Z",
          "shell.execute_reply.started": "2023-12-03T18:52:25.064895Z",
          "shell.execute_reply": "2023-12-03T18:52:25.070509Z"
        },
        "trusted": true,
        "id": "ouCJST4-F3AE",
        "outputId": "478f2fb8-be8e-48db-a08e-ec68551ec674"
      },
      "execution_count": null,
      "outputs": [
        {
          "execution_count": 279,
          "output_type": "execute_result",
          "data": {
            "text/plain": "0"
          },
          "metadata": {}
        }
      ]
    },
    {
      "cell_type": "markdown",
      "source": [
        "При удалении каких-либо обучающих примеров из промпта модель вообще не дает ответ нужного формата. Я пробовал использовать несколько промптов и явно указывать ей писать ответ в нужном формате, но она все равно не ставит \"Correct Answer: {letter}\" и ответ пишет со скобками  "
      ],
      "metadata": {
        "id": "T4i9J2efF3AE"
      }
    },
    {
      "cell_type": "code",
      "source": [],
      "metadata": {
        "id": "KdDz_fQKF3AE"
      },
      "execution_count": null,
      "outputs": []
    }
  ]
}